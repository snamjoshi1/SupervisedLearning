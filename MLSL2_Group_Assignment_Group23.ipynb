{
  "cells": [
    {
      "cell_type": "markdown",
      "source": [
        "MLSL2 Group Assignment\n",
        "\n",
        "Team #23\n",
        "\n",
        "Team Members:\n",
        "\n",
        "Neeharika Poduri - 12110036\n",
        "\n",
        "Ronil Bhan       - 12110079\n",
        "\n",
        "Sourav Abhishek  - 12110112\n",
        "\n",
        "Shreyas Namjoshi - 12110103"
      ],
      "metadata": {
        "id": "fX-bLb3V0DRJ"
      }
    },
    {
      "cell_type": "markdown",
      "source": [
        "***Problem Statement***\n",
        "\n",
        "IMPROVING LEAD GENERATION AT EUREKA FORBES USING MACHINE LEARNING ALGORITHMS\n",
        "\n",
        "***Variables Selected***\n",
        "\n",
        "['DemoReqPg_CallClicks_evt_count',\n",
        " 'fired_DemoReqPg_CallClicks_evt',\n",
        " 'goal4Completions',\n",
        " 'demo_page_top',\n",
        " 'successbookdemo_top',\n",
        " 'sourceMedium',\n",
        " 'newUser',\n",
        " 'visited_successbookdemo',\n",
        " 'visited_demo_page',\n",
        " 'sessions',\n",
        " 'sessionDuration',\n",
        " 'region',\n",
        " 'pageviews',\n",
        " 'bounces',\n",
        " 'paid']\n",
        "\n",
        "\n",
        " Assumption: This file has been run entirely on colab and then the IPYNB file is generated."
      ],
      "metadata": {
        "id": "OWOD3qjM1AJA"
      }
    },
    {
      "cell_type": "markdown",
      "source": [
        "***Data Exploration***"
      ],
      "metadata": {
        "id": "MIyauVRq0Ex5"
      }
    },
    {
      "cell_type": "code",
      "source": [
        "import numpy as np\n",
        "import pandas as pd\n",
        "import seaborn as sns\n",
        "import matplotlib.pyplot as plt\n",
        "%matplotlib inline"
      ],
      "metadata": {
        "id": "9b0dM59LwX1Z"
      },
      "execution_count": 300,
      "outputs": []
    },
    {
      "cell_type": "code",
      "source": [
        "#Loading the data\n",
        "data=pd.read_excel(\"/content/eureka_train_data.xlsx\")\n",
        "data.head()"
      ],
      "metadata": {
        "colab": {
          "base_uri": "https://localhost:8080/",
          "height": 299
        },
        "id": "SnjYmg2VwaI0",
        "outputId": "fb069415-4f90-4069-9acc-c2615c05ff9a"
      },
      "execution_count": 302,
      "outputs": [
        {
          "output_type": "execute_result",
          "data": {
            "text/plain": [
              "    index  DemoReqPg_CallClicks_evt_count  air_purifier_page_top  \\\n",
              "0  574305                               0                      0   \n",
              "1  283735                               0                      0   \n",
              "2  377029                               0                      0   \n",
              "3   75833                               1                      0   \n",
              "4  703487                               0                      0   \n",
              "\n",
              "   bookdemo_in_7days  bounces  checkout_page_top  contactus_top country  \\\n",
              "0                  0        0                  0              0       d   \n",
              "1                  0        8                  0              0       i   \n",
              "2                  0        0                  0              0       d   \n",
              "3                  0        0                  0            532       d   \n",
              "4                  0        1                  0              0       d   \n",
              "\n",
              "   customer_service_amc_login_top  customer_service_request_login_top  ...  \\\n",
              "0                               0                                   0  ...   \n",
              "1                               0                                   0  ...   \n",
              "2                               0                                   0  ...   \n",
              "3                               0                                   0  ...   \n",
              "4                               0                                   0  ...   \n",
              "\n",
              "   visited_demo_page visited_offer_page  visited_security_solutions_page  \\\n",
              "0                  1                  0                                0   \n",
              "1                  1                  0                                0   \n",
              "2                  1                  0                                0   \n",
              "3                  1                  0                                0   \n",
              "4                  1                  0                                0   \n",
              "\n",
              "   visited_storelocator  visited_successbookdemo  visited_vacuum_cleaner_page  \\\n",
              "0                     0                        0                            0   \n",
              "1                     0                        0                            0   \n",
              "2                     0                        0                            0   \n",
              "3                     0                        0                            0   \n",
              "4                     0                        0                            0   \n",
              "\n",
              "   visited_water_purifier_page  water_purifier_page_top  callclick_in_7days  \\\n",
              "0                            0                        0                   0   \n",
              "1                            0                        0                   0   \n",
              "2                            0                        0                   0   \n",
              "3                            0                        0                   0   \n",
              "4                            0                        0                   0   \n",
              "\n",
              "   converted  \n",
              "0          0  \n",
              "1          0  \n",
              "2          0  \n",
              "3          0  \n",
              "4          0  \n",
              "\n",
              "[5 rows x 48 columns]"
            ],
            "text/html": [
              "\n",
              "  <div id=\"df-3efba4e0-99c6-4dd0-a199-4d4507440bc7\">\n",
              "    <div class=\"colab-df-container\">\n",
              "      <div>\n",
              "<style scoped>\n",
              "    .dataframe tbody tr th:only-of-type {\n",
              "        vertical-align: middle;\n",
              "    }\n",
              "\n",
              "    .dataframe tbody tr th {\n",
              "        vertical-align: top;\n",
              "    }\n",
              "\n",
              "    .dataframe thead th {\n",
              "        text-align: right;\n",
              "    }\n",
              "</style>\n",
              "<table border=\"1\" class=\"dataframe\">\n",
              "  <thead>\n",
              "    <tr style=\"text-align: right;\">\n",
              "      <th></th>\n",
              "      <th>index</th>\n",
              "      <th>DemoReqPg_CallClicks_evt_count</th>\n",
              "      <th>air_purifier_page_top</th>\n",
              "      <th>bookdemo_in_7days</th>\n",
              "      <th>bounces</th>\n",
              "      <th>checkout_page_top</th>\n",
              "      <th>contactus_top</th>\n",
              "      <th>country</th>\n",
              "      <th>customer_service_amc_login_top</th>\n",
              "      <th>customer_service_request_login_top</th>\n",
              "      <th>...</th>\n",
              "      <th>visited_demo_page</th>\n",
              "      <th>visited_offer_page</th>\n",
              "      <th>visited_security_solutions_page</th>\n",
              "      <th>visited_storelocator</th>\n",
              "      <th>visited_successbookdemo</th>\n",
              "      <th>visited_vacuum_cleaner_page</th>\n",
              "      <th>visited_water_purifier_page</th>\n",
              "      <th>water_purifier_page_top</th>\n",
              "      <th>callclick_in_7days</th>\n",
              "      <th>converted</th>\n",
              "    </tr>\n",
              "  </thead>\n",
              "  <tbody>\n",
              "    <tr>\n",
              "      <th>0</th>\n",
              "      <td>574305</td>\n",
              "      <td>0</td>\n",
              "      <td>0</td>\n",
              "      <td>0</td>\n",
              "      <td>0</td>\n",
              "      <td>0</td>\n",
              "      <td>0</td>\n",
              "      <td>d</td>\n",
              "      <td>0</td>\n",
              "      <td>0</td>\n",
              "      <td>...</td>\n",
              "      <td>1</td>\n",
              "      <td>0</td>\n",
              "      <td>0</td>\n",
              "      <td>0</td>\n",
              "      <td>0</td>\n",
              "      <td>0</td>\n",
              "      <td>0</td>\n",
              "      <td>0</td>\n",
              "      <td>0</td>\n",
              "      <td>0</td>\n",
              "    </tr>\n",
              "    <tr>\n",
              "      <th>1</th>\n",
              "      <td>283735</td>\n",
              "      <td>0</td>\n",
              "      <td>0</td>\n",
              "      <td>0</td>\n",
              "      <td>8</td>\n",
              "      <td>0</td>\n",
              "      <td>0</td>\n",
              "      <td>i</td>\n",
              "      <td>0</td>\n",
              "      <td>0</td>\n",
              "      <td>...</td>\n",
              "      <td>1</td>\n",
              "      <td>0</td>\n",
              "      <td>0</td>\n",
              "      <td>0</td>\n",
              "      <td>0</td>\n",
              "      <td>0</td>\n",
              "      <td>0</td>\n",
              "      <td>0</td>\n",
              "      <td>0</td>\n",
              "      <td>0</td>\n",
              "    </tr>\n",
              "    <tr>\n",
              "      <th>2</th>\n",
              "      <td>377029</td>\n",
              "      <td>0</td>\n",
              "      <td>0</td>\n",
              "      <td>0</td>\n",
              "      <td>0</td>\n",
              "      <td>0</td>\n",
              "      <td>0</td>\n",
              "      <td>d</td>\n",
              "      <td>0</td>\n",
              "      <td>0</td>\n",
              "      <td>...</td>\n",
              "      <td>1</td>\n",
              "      <td>0</td>\n",
              "      <td>0</td>\n",
              "      <td>0</td>\n",
              "      <td>0</td>\n",
              "      <td>0</td>\n",
              "      <td>0</td>\n",
              "      <td>0</td>\n",
              "      <td>0</td>\n",
              "      <td>0</td>\n",
              "    </tr>\n",
              "    <tr>\n",
              "      <th>3</th>\n",
              "      <td>75833</td>\n",
              "      <td>1</td>\n",
              "      <td>0</td>\n",
              "      <td>0</td>\n",
              "      <td>0</td>\n",
              "      <td>0</td>\n",
              "      <td>532</td>\n",
              "      <td>d</td>\n",
              "      <td>0</td>\n",
              "      <td>0</td>\n",
              "      <td>...</td>\n",
              "      <td>1</td>\n",
              "      <td>0</td>\n",
              "      <td>0</td>\n",
              "      <td>0</td>\n",
              "      <td>0</td>\n",
              "      <td>0</td>\n",
              "      <td>0</td>\n",
              "      <td>0</td>\n",
              "      <td>0</td>\n",
              "      <td>0</td>\n",
              "    </tr>\n",
              "    <tr>\n",
              "      <th>4</th>\n",
              "      <td>703487</td>\n",
              "      <td>0</td>\n",
              "      <td>0</td>\n",
              "      <td>0</td>\n",
              "      <td>1</td>\n",
              "      <td>0</td>\n",
              "      <td>0</td>\n",
              "      <td>d</td>\n",
              "      <td>0</td>\n",
              "      <td>0</td>\n",
              "      <td>...</td>\n",
              "      <td>1</td>\n",
              "      <td>0</td>\n",
              "      <td>0</td>\n",
              "      <td>0</td>\n",
              "      <td>0</td>\n",
              "      <td>0</td>\n",
              "      <td>0</td>\n",
              "      <td>0</td>\n",
              "      <td>0</td>\n",
              "      <td>0</td>\n",
              "    </tr>\n",
              "  </tbody>\n",
              "</table>\n",
              "<p>5 rows × 48 columns</p>\n",
              "</div>\n",
              "      <button class=\"colab-df-convert\" onclick=\"convertToInteractive('df-3efba4e0-99c6-4dd0-a199-4d4507440bc7')\"\n",
              "              title=\"Convert this dataframe to an interactive table.\"\n",
              "              style=\"display:none;\">\n",
              "        \n",
              "  <svg xmlns=\"http://www.w3.org/2000/svg\" height=\"24px\"viewBox=\"0 0 24 24\"\n",
              "       width=\"24px\">\n",
              "    <path d=\"M0 0h24v24H0V0z\" fill=\"none\"/>\n",
              "    <path d=\"M18.56 5.44l.94 2.06.94-2.06 2.06-.94-2.06-.94-.94-2.06-.94 2.06-2.06.94zm-11 1L8.5 8.5l.94-2.06 2.06-.94-2.06-.94L8.5 2.5l-.94 2.06-2.06.94zm10 10l.94 2.06.94-2.06 2.06-.94-2.06-.94-.94-2.06-.94 2.06-2.06.94z\"/><path d=\"M17.41 7.96l-1.37-1.37c-.4-.4-.92-.59-1.43-.59-.52 0-1.04.2-1.43.59L10.3 9.45l-7.72 7.72c-.78.78-.78 2.05 0 2.83L4 21.41c.39.39.9.59 1.41.59.51 0 1.02-.2 1.41-.59l7.78-7.78 2.81-2.81c.8-.78.8-2.07 0-2.86zM5.41 20L4 18.59l7.72-7.72 1.47 1.35L5.41 20z\"/>\n",
              "  </svg>\n",
              "      </button>\n",
              "      \n",
              "  <style>\n",
              "    .colab-df-container {\n",
              "      display:flex;\n",
              "      flex-wrap:wrap;\n",
              "      gap: 12px;\n",
              "    }\n",
              "\n",
              "    .colab-df-convert {\n",
              "      background-color: #E8F0FE;\n",
              "      border: none;\n",
              "      border-radius: 50%;\n",
              "      cursor: pointer;\n",
              "      display: none;\n",
              "      fill: #1967D2;\n",
              "      height: 32px;\n",
              "      padding: 0 0 0 0;\n",
              "      width: 32px;\n",
              "    }\n",
              "\n",
              "    .colab-df-convert:hover {\n",
              "      background-color: #E2EBFA;\n",
              "      box-shadow: 0px 1px 2px rgba(60, 64, 67, 0.3), 0px 1px 3px 1px rgba(60, 64, 67, 0.15);\n",
              "      fill: #174EA6;\n",
              "    }\n",
              "\n",
              "    [theme=dark] .colab-df-convert {\n",
              "      background-color: #3B4455;\n",
              "      fill: #D2E3FC;\n",
              "    }\n",
              "\n",
              "    [theme=dark] .colab-df-convert:hover {\n",
              "      background-color: #434B5C;\n",
              "      box-shadow: 0px 1px 3px 1px rgba(0, 0, 0, 0.15);\n",
              "      filter: drop-shadow(0px 1px 2px rgba(0, 0, 0, 0.3));\n",
              "      fill: #FFFFFF;\n",
              "    }\n",
              "  </style>\n",
              "\n",
              "      <script>\n",
              "        const buttonEl =\n",
              "          document.querySelector('#df-3efba4e0-99c6-4dd0-a199-4d4507440bc7 button.colab-df-convert');\n",
              "        buttonEl.style.display =\n",
              "          google.colab.kernel.accessAllowed ? 'block' : 'none';\n",
              "\n",
              "        async function convertToInteractive(key) {\n",
              "          const element = document.querySelector('#df-3efba4e0-99c6-4dd0-a199-4d4507440bc7');\n",
              "          const dataTable =\n",
              "            await google.colab.kernel.invokeFunction('convertToInteractive',\n",
              "                                                     [key], {});\n",
              "          if (!dataTable) return;\n",
              "\n",
              "          const docLinkHtml = 'Like what you see? Visit the ' +\n",
              "            '<a target=\"_blank\" href=https://colab.research.google.com/notebooks/data_table.ipynb>data table notebook</a>'\n",
              "            + ' to learn more about interactive tables.';\n",
              "          element.innerHTML = '';\n",
              "          dataTable['output_type'] = 'display_data';\n",
              "          await google.colab.output.renderOutput(dataTable, element);\n",
              "          const docLink = document.createElement('div');\n",
              "          docLink.innerHTML = docLinkHtml;\n",
              "          element.appendChild(docLink);\n",
              "        }\n",
              "      </script>\n",
              "    </div>\n",
              "  </div>\n",
              "  "
            ]
          },
          "metadata": {},
          "execution_count": 302
        }
      ]
    },
    {
      "cell_type": "markdown",
      "source": [
        "Q1. \tWhat is the difference in percentage of conversion by domestic compared to international clients?"
      ],
      "metadata": {
        "id": "JFDPqh2nw54E"
      }
    },
    {
      "cell_type": "code",
      "source": [
        "tpp = data.loc[data['converted'] > 0] \n",
        "tpp3 = tpp['country'].value_counts(ascending=False)\n",
        "total = ((tpp3['d']-tpp3['i'])/tpp3['d'])*100\n",
        "total"
      ],
      "metadata": {
        "colab": {
          "base_uri": "https://localhost:8080/"
        },
        "id": "mHayIXeLwaS8",
        "outputId": "3614aebd-9f2e-4941-c6e2-7256f7d9ca22"
      },
      "execution_count": 303,
      "outputs": [
        {
          "output_type": "execute_result",
          "data": {
            "text/plain": [
              "95.95588235294117"
            ]
          },
          "metadata": {},
          "execution_count": 303
        }
      ]
    },
    {
      "cell_type": "markdown",
      "source": [
        "The conversion rate of domestic clients is 95.9% greater than that of international clients."
      ],
      "metadata": {
        "id": "n6a4eEYkw_so"
      }
    },
    {
      "cell_type": "markdown",
      "source": [
        "Q2.\tWhat are the top 10 source mediums of users visiting the site?"
      ],
      "metadata": {
        "id": "lTc4P-qaxIzT"
      }
    },
    {
      "cell_type": "code",
      "source": [
        "top10 = data['sourceMedium'].value_counts(ascending=False)\n",
        "top10.head(10)"
      ],
      "metadata": {
        "colab": {
          "base_uri": "https://localhost:8080/"
        },
        "id": "pZZkuZPywacl",
        "outputId": "9ea43d8d-a72a-4208-97b7-cd9b41e46edd"
      },
      "execution_count": 304,
      "outputs": [
        {
          "output_type": "execute_result",
          "data": {
            "text/plain": [
              "google / cpc                      30428\n",
              "google / organic                   8276\n",
              "(direct) / (none)                  2734\n",
              "facebook / social                   329\n",
              "bing / organic                      143\n",
              "Quora / (not set)                    48\n",
              "gaintheory / amc_sms                 37\n",
              "draquaguard.co.in / referral         28\n",
              "in.search.yahoo.com / referral       27\n",
              "yahoo / organic                      27\n",
              "Name: sourceMedium, dtype: int64"
            ]
          },
          "metadata": {},
          "execution_count": 304
        }
      ]
    },
    {
      "cell_type": "markdown",
      "source": [
        "Q3.\tIs there any difference in time spent on the water purifier page between users who converted and users who did not convert?"
      ],
      "metadata": {
        "id": "d5_WzaUixabI"
      }
    },
    {
      "cell_type": "code",
      "source": [
        "tpp = data.loc[data['converted'] > 0] \n",
        "total = tpp['water_purifier_page_top'].sum()\n",
        "tpp2 = data.loc[data['converted'] < 1] \n",
        "total2 = tpp2['water_purifier_page_top'].sum()\n",
        "if total/len(tpp) != total2/len(tpp2):\n",
        "    print(\"TIME IS NOT THE SAME\")"
      ],
      "metadata": {
        "colab": {
          "base_uri": "https://localhost:8080/"
        },
        "id": "1J6AFaZswanA",
        "outputId": "52d7fa60-396f-4456-daf0-0d21e79129ce"
      },
      "execution_count": 305,
      "outputs": [
        {
          "output_type": "stream",
          "name": "stdout",
          "text": [
            "TIME IS NOT THE SAME\n"
          ]
        }
      ]
    },
    {
      "cell_type": "markdown",
      "source": [
        "From the above we output we can clearly see that there is difference in time spent on the water purifier page between users who converted and users who did not convert."
      ],
      "metadata": {
        "id": "2fBz2Rovx-UN"
      }
    },
    {
      "cell_type": "markdown",
      "source": [
        "Q4. Kashif has the following claims from this business understanding. How do you test his claims and make necessary conclusions?\n",
        "\n",
        "a.\tCustomers using mobile, desktop, and tablet are equally distributed.\n"
      ],
      "metadata": {
        "id": "kJ8fyKSXyCIE"
      }
    },
    {
      "cell_type": "code",
      "source": [
        "data.device.value_counts(normalize=False).plot.bar()\n",
        "plt.show()"
      ],
      "metadata": {
        "colab": {
          "base_uri": "https://localhost:8080/",
          "height": 295
        },
        "id": "zXIibP0Qwayl",
        "outputId": "ab6a8f5d-53cd-40fa-b694-08e37305bc31"
      },
      "execution_count": 306,
      "outputs": [
        {
          "output_type": "display_data",
          "data": {
            "text/plain": [
              "<Figure size 432x288 with 1 Axes>"
            ],
            "image/png": "[encoded data removed]"
          },
          "metadata": {
            "needs_background": "light"
          }
        }
      ]
    },
    {
      "cell_type": "markdown",
      "source": [
        "From the above plot we can clearly conclude that Kashif's claim is wrong that customers using mobile, desktop and tablet are equally distributed. They are clearly not equally distributed as seen from the plot. People who use mobile are far more than desktop than tablet."
      ],
      "metadata": {
        "id": "HmZcgdikyMdy"
      }
    },
    {
      "cell_type": "code",
      "source": [
        "#To confirm our claim we will perform the Chi Square test.\n",
        "import scipy\n",
        "data_crosstab= pd.crosstab(data['converted'],data['device'],margins= False)\n",
        "print(data_crosstab)\n",
        "# Null Hypothesis: Devices are equally distributed\n",
        "# Alternate Hypothesis: Devices are not equaly distributed\n",
        "\n",
        "stat, p, dof, expected = scipy.stats.chi2_contingency(data_crosstab)\n",
        "print('P-Value',p)\n",
        "if (p<0.05):\n",
        "    print(\"We reject null hypothesis\")"
      ],
      "metadata": {
        "colab": {
          "base_uri": "https://localhost:8080/"
        },
        "id": "Fi3CX80ZyiKa",
        "outputId": "06658e7f-a5a0-456f-a6ef-0a398467d490"
      },
      "execution_count": 308,
      "outputs": [
        {
          "output_type": "stream",
          "name": "stdout",
          "text": [
            "device     desktop  mobile  tablet\n",
            "converted                         \n",
            "0             5440   34219     341\n",
            "1              105    2151       8\n",
            "P-Value 1.8663969076314545e-35\n",
            "We reject null hypothesis\n"
          ]
        }
      ]
    },
    {
      "cell_type": "markdown",
      "source": [
        "As the p value is less than 0.05, we reject the Null Hypothesis, Thus Devices are not equally distributes"
      ],
      "metadata": {
        "id": "flyPiG1HzDR7"
      }
    },
    {
      "cell_type": "markdown",
      "source": [
        "4b.\tCustomers who convert spend more time on the website."
      ],
      "metadata": {
        "id": "xkbUyFuVzI48"
      }
    },
    {
      "cell_type": "code",
      "source": [
        "#Here we are adding all the time spent on each page for each user\n",
        "data['time'] = data['air_purifier_page_top']+data['checkout_page_top']+data['contactus_top']+data['customer_service_amc_login_top']+data['customer_service_request_login_top']+data['demo_page_top']+data['offer_page_top']+data['security_solutions_page_top']+data['storelocator_top']+data[\"successbookdemo_top\"]+data['vacuum_cleaner_page_top']+data['water_purifier_page_top']\n",
        "data.plot.scatter(x=\"converted\",y=\"time\")\n",
        "plt.show()"
      ],
      "metadata": {
        "colab": {
          "base_uri": "https://localhost:8080/",
          "height": 280
        },
        "id": "vobXTqxVyifj",
        "outputId": "35b7569b-89e5-469b-ecd3-e6d94190d015"
      },
      "execution_count": 309,
      "outputs": [
        {
          "output_type": "display_data",
          "data": {
            "text/plain": [
              "<Figure size 432x288 with 1 Axes>"
            ],
            "image/png": "[encoded data removed]"
          },
          "metadata": {
            "needs_background": "light"
          }
        }
      ]
    },
    {
      "cell_type": "markdown",
      "source": [
        "From the plot above we can claim that Kashif's claim on time spent on website by clients who convert is more than who do not is wrong. Clients who do not convert spend more time on the website combining all the sections of the webpage than clients who convert."
      ],
      "metadata": {
        "id": "JxMfzX5-zpvm"
      }
    },
    {
      "cell_type": "code",
      "source": [
        "# Hypothesis t-test to check if Kashif's claim is correct or not about time spent by people who have converted\n",
        "\n",
        "# Null Hypothesis : Customers who convert spend more time on the website as compared customers who dont convert\n",
        "# Alternate Hypothesis : Customers who convert spend equal time on website as Customers who dont convert\n",
        "\n",
        "# alpha = 0.05(assumed)\n",
        "\n",
        "from scipy.stats import ttest_ind\n",
        "ttest,pval =ttest_ind(data['time'],data['converted'], equal_var=False)\n",
        "print(\"p-value\",pval)\n",
        "if (pval<0.05):\n",
        "    print(\"We reject null hypothesis\")"
      ],
      "metadata": {
        "colab": {
          "base_uri": "https://localhost:8080/"
        },
        "id": "o7fL11pyyiv8",
        "outputId": "ac8e3e45-7eb8-4a4d-bdda-a9d69c5e60b6"
      },
      "execution_count": 310,
      "outputs": [
        {
          "output_type": "stream",
          "name": "stdout",
          "text": [
            "p-value 0.0\n",
            "We reject null hypothesis\n"
          ]
        }
      ]
    },
    {
      "cell_type": "markdown",
      "source": [
        "Additionally, from the two-sided hypothesis test where the two group variances are not equal, it is clear that both the variables considered are significantly different from each other. Further, from the scatter plot above, people who have not converted spent more time on the website which is against Kashif's claim. ( The major issue is the imbalance in the dataset, converted clients are way less than non-converted clients)."
      ],
      "metadata": {
        "id": "ZRBL9wvDz5LU"
      }
    },
    {
      "cell_type": "markdown",
      "source": [
        "***Classification Modelling***\n",
        "\n"
      ],
      "metadata": {
        "id": "3iF6Ohzuz-FE"
      }
    },
    {
      "cell_type": "markdown",
      "source": [
        "A. Design minimum of 8 experiments should have been attempted for finding the best model.\n",
        "\n",
        "1. At least two different approaches to deal with data imbalance problems\n",
        "2. At least two different data encoding techniques\n",
        "3. At least four different models (with combination of above encodings and data augmentation techniques)\n",
        "4. The model’s hyperparameters should have been selected through grid search mechanisms\n",
        "\n",
        "B. All the modelling experiment should be done using ML pipelines (The sampling process can be excluded from the pipeline)\n",
        "\n",
        "C. The model should be optimized for the best PRECISION score.\n",
        "\n",
        "D. How many features can be eliminated from the modelling process without reducing the precision by more than 2% from the final model?\n",
        "\n",
        "E. Save the model into pickle format with all appropriate details for production deployment. The pickle file should contain the pipeline.\n"
      ],
      "metadata": {
        "id": "zNuIdvi1bdTj"
      }
    },
    {
      "cell_type": "code",
      "execution_count": 56,
      "metadata": {
        "id": "10DvA13f_bPV"
      },
      "outputs": [],
      "source": [
        "#Loading the required libraries\n",
        "import pandas as pd\n",
        "import numpy as np\n",
        "import matplotlib.pyplot as plt\n",
        "import seaborn as sn\n",
        "import imblearn"
      ]
    },
    {
      "cell_type": "code",
      "execution_count": 57,
      "metadata": {
        "colab": {
          "base_uri": "https://localhost:8080/",
          "height": 488
        },
        "id": "7_PTZ-KkAFNM",
        "outputId": "4c335bb9-c2e1-4bf1-a270-87d9abcdd306"
      },
      "outputs": [
        {
          "output_type": "execute_result",
          "data": {
            "text/plain": [
              "        index  DemoReqPg_CallClicks_evt_count  air_purifier_page_top  \\\n",
              "0      574305                               0                      0   \n",
              "1      283735                               0                      0   \n",
              "2      377029                               0                      0   \n",
              "3       75833                               1                      0   \n",
              "4      703487                               0                      0   \n",
              "...       ...                             ...                    ...   \n",
              "42259  271107                               0                      0   \n",
              "42260  253122                               0                      0   \n",
              "42261  118803                               0                      0   \n",
              "42262  289454                               0                      0   \n",
              "42263   27362                               0                      0   \n",
              "\n",
              "       bookdemo_in_7days  bounces  checkout_page_top  contactus_top country  \\\n",
              "0                      0        0                  0              0       d   \n",
              "1                      0        8                  0              0       i   \n",
              "2                      0        0                  0              0       d   \n",
              "3                      0        0                  0            532       d   \n",
              "4                      0        1                  0              0       d   \n",
              "...                  ...      ...                ...            ...     ...   \n",
              "42259                  0        0                  0              0       d   \n",
              "42260                  0        0                  0             39       d   \n",
              "42261                  0        0                  0              0       d   \n",
              "42262                  0        1                  0              0       d   \n",
              "42263                  0        0                  0              0       d   \n",
              "\n",
              "       customer_service_amc_login_top  customer_service_request_login_top  \\\n",
              "0                                   0                                   0   \n",
              "1                                   0                                   0   \n",
              "2                                   0                                   0   \n",
              "3                                   0                                   0   \n",
              "4                                   0                                   0   \n",
              "...                               ...                                 ...   \n",
              "42259                               0                                   0   \n",
              "42260                              11                                   0   \n",
              "42261                               0                                   0   \n",
              "42262                               0                                   0   \n",
              "42263                              18                                   0   \n",
              "\n",
              "       ...  visited_demo_page visited_offer_page  \\\n",
              "0      ...                  1                  0   \n",
              "1      ...                  1                  0   \n",
              "2      ...                  1                  0   \n",
              "3      ...                  1                  0   \n",
              "4      ...                  1                  0   \n",
              "...    ...                ...                ...   \n",
              "42259  ...                  0                  0   \n",
              "42260  ...                  0                  0   \n",
              "42261  ...                  1                  0   \n",
              "42262  ...                  1                  0   \n",
              "42263  ...                  0                  0   \n",
              "\n",
              "       visited_security_solutions_page  visited_storelocator  \\\n",
              "0                                    0                     0   \n",
              "1                                    0                     0   \n",
              "2                                    0                     0   \n",
              "3                                    0                     0   \n",
              "4                                    0                     0   \n",
              "...                                ...                   ...   \n",
              "42259                                0                     0   \n",
              "42260                                0                     0   \n",
              "42261                                0                     0   \n",
              "42262                                0                     0   \n",
              "42263                                0                     0   \n",
              "\n",
              "       visited_successbookdemo  visited_vacuum_cleaner_page  \\\n",
              "0                            0                            0   \n",
              "1                            0                            0   \n",
              "2                            0                            0   \n",
              "3                            0                            0   \n",
              "4                            0                            0   \n",
              "...                        ...                          ...   \n",
              "42259                        0                            1   \n",
              "42260                        0                            0   \n",
              "42261                        0                            0   \n",
              "42262                        0                            0   \n",
              "42263                        0                            0   \n",
              "\n",
              "       visited_water_purifier_page  water_purifier_page_top  \\\n",
              "0                                0                        0   \n",
              "1                                0                        0   \n",
              "2                                0                        0   \n",
              "3                                0                        0   \n",
              "4                                0                        0   \n",
              "...                            ...                      ...   \n",
              "42259                            0                        0   \n",
              "42260                            1                      365   \n",
              "42261                            0                        0   \n",
              "42262                            0                        0   \n",
              "42263                            1                        8   \n",
              "\n",
              "       callclick_in_7days  converted  \n",
              "0                       0          0  \n",
              "1                       0          0  \n",
              "2                       0          0  \n",
              "3                       0          0  \n",
              "4                       0          0  \n",
              "...                   ...        ...  \n",
              "42259                   0          0  \n",
              "42260                   0          0  \n",
              "42261                   0          0  \n",
              "42262                   0          1  \n",
              "42263                   0          0  \n",
              "\n",
              "[42264 rows x 48 columns]"
            ],
            "text/html": [
              "\n",
              "  <div id=\"df-f4ce8fe7-4514-4f9b-af3f-ff0246abac57\">\n",
              "    <div class=\"colab-df-container\">\n",
              "      <div>\n",
              "<style scoped>\n",
              "    .dataframe tbody tr th:only-of-type {\n",
              "        vertical-align: middle;\n",
              "    }\n",
              "\n",
              "    .dataframe tbody tr th {\n",
              "        vertical-align: top;\n",
              "    }\n",
              "\n",
              "    .dataframe thead th {\n",
              "        text-align: right;\n",
              "    }\n",
              "</style>\n",
              "<table border=\"1\" class=\"dataframe\">\n",
              "  <thead>\n",
              "    <tr style=\"text-align: right;\">\n",
              "      <th></th>\n",
              "      <th>index</th>\n",
              "      <th>DemoReqPg_CallClicks_evt_count</th>\n",
              "      <th>air_purifier_page_top</th>\n",
              "      <th>bookdemo_in_7days</th>\n",
              "      <th>bounces</th>\n",
              "      <th>checkout_page_top</th>\n",
              "      <th>contactus_top</th>\n",
              "      <th>country</th>\n",
              "      <th>customer_service_amc_login_top</th>\n",
              "      <th>customer_service_request_login_top</th>\n",
              "      <th>...</th>\n",
              "      <th>visited_demo_page</th>\n",
              "      <th>visited_offer_page</th>\n",
              "      <th>visited_security_solutions_page</th>\n",
              "      <th>visited_storelocator</th>\n",
              "      <th>visited_successbookdemo</th>\n",
              "      <th>visited_vacuum_cleaner_page</th>\n",
              "      <th>visited_water_purifier_page</th>\n",
              "      <th>water_purifier_page_top</th>\n",
              "      <th>callclick_in_7days</th>\n",
              "      <th>converted</th>\n",
              "    </tr>\n",
              "  </thead>\n",
              "  <tbody>\n",
              "    <tr>\n",
              "      <th>0</th>\n",
              "      <td>574305</td>\n",
              "      <td>0</td>\n",
              "      <td>0</td>\n",
              "      <td>0</td>\n",
              "      <td>0</td>\n",
              "      <td>0</td>\n",
              "      <td>0</td>\n",
              "      <td>d</td>\n",
              "      <td>0</td>\n",
              "      <td>0</td>\n",
              "      <td>...</td>\n",
              "      <td>1</td>\n",
              "      <td>0</td>\n",
              "      <td>0</td>\n",
              "      <td>0</td>\n",
              "      <td>0</td>\n",
              "      <td>0</td>\n",
              "      <td>0</td>\n",
              "      <td>0</td>\n",
              "      <td>0</td>\n",
              "      <td>0</td>\n",
              "    </tr>\n",
              "    <tr>\n",
              "      <th>1</th>\n",
              "      <td>283735</td>\n",
              "      <td>0</td>\n",
              "      <td>0</td>\n",
              "      <td>0</td>\n",
              "      <td>8</td>\n",
              "      <td>0</td>\n",
              "      <td>0</td>\n",
              "      <td>i</td>\n",
              "      <td>0</td>\n",
              "      <td>0</td>\n",
              "      <td>...</td>\n",
              "      <td>1</td>\n",
              "      <td>0</td>\n",
              "      <td>0</td>\n",
              "      <td>0</td>\n",
              "      <td>0</td>\n",
              "      <td>0</td>\n",
              "      <td>0</td>\n",
              "      <td>0</td>\n",
              "      <td>0</td>\n",
              "      <td>0</td>\n",
              "    </tr>\n",
              "    <tr>\n",
              "      <th>2</th>\n",
              "      <td>377029</td>\n",
              "      <td>0</td>\n",
              "      <td>0</td>\n",
              "      <td>0</td>\n",
              "      <td>0</td>\n",
              "      <td>0</td>\n",
              "      <td>0</td>\n",
              "      <td>d</td>\n",
              "      <td>0</td>\n",
              "      <td>0</td>\n",
              "      <td>...</td>\n",
              "      <td>1</td>\n",
              "      <td>0</td>\n",
              "      <td>0</td>\n",
              "      <td>0</td>\n",
              "      <td>0</td>\n",
              "      <td>0</td>\n",
              "      <td>0</td>\n",
              "      <td>0</td>\n",
              "      <td>0</td>\n",
              "      <td>0</td>\n",
              "    </tr>\n",
              "    <tr>\n",
              "      <th>3</th>\n",
              "      <td>75833</td>\n",
              "      <td>1</td>\n",
              "      <td>0</td>\n",
              "      <td>0</td>\n",
              "      <td>0</td>\n",
              "      <td>0</td>\n",
              "      <td>532</td>\n",
              "      <td>d</td>\n",
              "      <td>0</td>\n",
              "      <td>0</td>\n",
              "      <td>...</td>\n",
              "      <td>1</td>\n",
              "      <td>0</td>\n",
              "      <td>0</td>\n",
              "      <td>0</td>\n",
              "      <td>0</td>\n",
              "      <td>0</td>\n",
              "      <td>0</td>\n",
              "      <td>0</td>\n",
              "      <td>0</td>\n",
              "      <td>0</td>\n",
              "    </tr>\n",
              "    <tr>\n",
              "      <th>4</th>\n",
              "      <td>703487</td>\n",
              "      <td>0</td>\n",
              "      <td>0</td>\n",
              "      <td>0</td>\n",
              "      <td>1</td>\n",
              "      <td>0</td>\n",
              "      <td>0</td>\n",
              "      <td>d</td>\n",
              "      <td>0</td>\n",
              "      <td>0</td>\n",
              "      <td>...</td>\n",
              "      <td>1</td>\n",
              "      <td>0</td>\n",
              "      <td>0</td>\n",
              "      <td>0</td>\n",
              "      <td>0</td>\n",
              "      <td>0</td>\n",
              "      <td>0</td>\n",
              "      <td>0</td>\n",
              "      <td>0</td>\n",
              "      <td>0</td>\n",
              "    </tr>\n",
              "    <tr>\n",
              "      <th>...</th>\n",
              "      <td>...</td>\n",
              "      <td>...</td>\n",
              "      <td>...</td>\n",
              "      <td>...</td>\n",
              "      <td>...</td>\n",
              "      <td>...</td>\n",
              "      <td>...</td>\n",
              "      <td>...</td>\n",
              "      <td>...</td>\n",
              "      <td>...</td>\n",
              "      <td>...</td>\n",
              "      <td>...</td>\n",
              "      <td>...</td>\n",
              "      <td>...</td>\n",
              "      <td>...</td>\n",
              "      <td>...</td>\n",
              "      <td>...</td>\n",
              "      <td>...</td>\n",
              "      <td>...</td>\n",
              "      <td>...</td>\n",
              "      <td>...</td>\n",
              "    </tr>\n",
              "    <tr>\n",
              "      <th>42259</th>\n",
              "      <td>271107</td>\n",
              "      <td>0</td>\n",
              "      <td>0</td>\n",
              "      <td>0</td>\n",
              "      <td>0</td>\n",
              "      <td>0</td>\n",
              "      <td>0</td>\n",
              "      <td>d</td>\n",
              "      <td>0</td>\n",
              "      <td>0</td>\n",
              "      <td>...</td>\n",
              "      <td>0</td>\n",
              "      <td>0</td>\n",
              "      <td>0</td>\n",
              "      <td>0</td>\n",
              "      <td>0</td>\n",
              "      <td>1</td>\n",
              "      <td>0</td>\n",
              "      <td>0</td>\n",
              "      <td>0</td>\n",
              "      <td>0</td>\n",
              "    </tr>\n",
              "    <tr>\n",
              "      <th>42260</th>\n",
              "      <td>253122</td>\n",
              "      <td>0</td>\n",
              "      <td>0</td>\n",
              "      <td>0</td>\n",
              "      <td>0</td>\n",
              "      <td>0</td>\n",
              "      <td>39</td>\n",
              "      <td>d</td>\n",
              "      <td>11</td>\n",
              "      <td>0</td>\n",
              "      <td>...</td>\n",
              "      <td>0</td>\n",
              "      <td>0</td>\n",
              "      <td>0</td>\n",
              "      <td>0</td>\n",
              "      <td>0</td>\n",
              "      <td>0</td>\n",
              "      <td>1</td>\n",
              "      <td>365</td>\n",
              "      <td>0</td>\n",
              "      <td>0</td>\n",
              "    </tr>\n",
              "    <tr>\n",
              "      <th>42261</th>\n",
              "      <td>118803</td>\n",
              "      <td>0</td>\n",
              "      <td>0</td>\n",
              "      <td>0</td>\n",
              "      <td>0</td>\n",
              "      <td>0</td>\n",
              "      <td>0</td>\n",
              "      <td>d</td>\n",
              "      <td>0</td>\n",
              "      <td>0</td>\n",
              "      <td>...</td>\n",
              "      <td>1</td>\n",
              "      <td>0</td>\n",
              "      <td>0</td>\n",
              "      <td>0</td>\n",
              "      <td>0</td>\n",
              "      <td>0</td>\n",
              "      <td>0</td>\n",
              "      <td>0</td>\n",
              "      <td>0</td>\n",
              "      <td>0</td>\n",
              "    </tr>\n",
              "    <tr>\n",
              "      <th>42262</th>\n",
              "      <td>289454</td>\n",
              "      <td>0</td>\n",
              "      <td>0</td>\n",
              "      <td>0</td>\n",
              "      <td>1</td>\n",
              "      <td>0</td>\n",
              "      <td>0</td>\n",
              "      <td>d</td>\n",
              "      <td>0</td>\n",
              "      <td>0</td>\n",
              "      <td>...</td>\n",
              "      <td>1</td>\n",
              "      <td>0</td>\n",
              "      <td>0</td>\n",
              "      <td>0</td>\n",
              "      <td>0</td>\n",
              "      <td>0</td>\n",
              "      <td>0</td>\n",
              "      <td>0</td>\n",
              "      <td>0</td>\n",
              "      <td>1</td>\n",
              "    </tr>\n",
              "    <tr>\n",
              "      <th>42263</th>\n",
              "      <td>27362</td>\n",
              "      <td>0</td>\n",
              "      <td>0</td>\n",
              "      <td>0</td>\n",
              "      <td>0</td>\n",
              "      <td>0</td>\n",
              "      <td>0</td>\n",
              "      <td>d</td>\n",
              "      <td>18</td>\n",
              "      <td>0</td>\n",
              "      <td>...</td>\n",
              "      <td>0</td>\n",
              "      <td>0</td>\n",
              "      <td>0</td>\n",
              "      <td>0</td>\n",
              "      <td>0</td>\n",
              "      <td>0</td>\n",
              "      <td>1</td>\n",
              "      <td>8</td>\n",
              "      <td>0</td>\n",
              "      <td>0</td>\n",
              "    </tr>\n",
              "  </tbody>\n",
              "</table>\n",
              "<p>42264 rows × 48 columns</p>\n",
              "</div>\n",
              "      <button class=\"colab-df-convert\" onclick=\"convertToInteractive('df-f4ce8fe7-4514-4f9b-af3f-ff0246abac57')\"\n",
              "              title=\"Convert this dataframe to an interactive table.\"\n",
              "              style=\"display:none;\">\n",
              "        \n",
              "  <svg xmlns=\"http://www.w3.org/2000/svg\" height=\"24px\"viewBox=\"0 0 24 24\"\n",
              "       width=\"24px\">\n",
              "    <path d=\"M0 0h24v24H0V0z\" fill=\"none\"/>\n",
              "    <path d=\"M18.56 5.44l.94 2.06.94-2.06 2.06-.94-2.06-.94-.94-2.06-.94 2.06-2.06.94zm-11 1L8.5 8.5l.94-2.06 2.06-.94-2.06-.94L8.5 2.5l-.94 2.06-2.06.94zm10 10l.94 2.06.94-2.06 2.06-.94-2.06-.94-.94-2.06-.94 2.06-2.06.94z\"/><path d=\"M17.41 7.96l-1.37-1.37c-.4-.4-.92-.59-1.43-.59-.52 0-1.04.2-1.43.59L10.3 9.45l-7.72 7.72c-.78.78-.78 2.05 0 2.83L4 21.41c.39.39.9.59 1.41.59.51 0 1.02-.2 1.41-.59l7.78-7.78 2.81-2.81c.8-.78.8-2.07 0-2.86zM5.41 20L4 18.59l7.72-7.72 1.47 1.35L5.41 20z\"/>\n",
              "  </svg>\n",
              "      </button>\n",
              "      \n",
              "  <style>\n",
              "    .colab-df-container {\n",
              "      display:flex;\n",
              "      flex-wrap:wrap;\n",
              "      gap: 12px;\n",
              "    }\n",
              "\n",
              "    .colab-df-convert {\n",
              "      background-color: #E8F0FE;\n",
              "      border: none;\n",
              "      border-radius: 50%;\n",
              "      cursor: pointer;\n",
              "      display: none;\n",
              "      fill: #1967D2;\n",
              "      height: 32px;\n",
              "      padding: 0 0 0 0;\n",
              "      width: 32px;\n",
              "    }\n",
              "\n",
              "    .colab-df-convert:hover {\n",
              "      background-color: #E2EBFA;\n",
              "      box-shadow: 0px 1px 2px rgba(60, 64, 67, 0.3), 0px 1px 3px 1px rgba(60, 64, 67, 0.15);\n",
              "      fill: #174EA6;\n",
              "    }\n",
              "\n",
              "    [theme=dark] .colab-df-convert {\n",
              "      background-color: #3B4455;\n",
              "      fill: #D2E3FC;\n",
              "    }\n",
              "\n",
              "    [theme=dark] .colab-df-convert:hover {\n",
              "      background-color: #434B5C;\n",
              "      box-shadow: 0px 1px 3px 1px rgba(0, 0, 0, 0.15);\n",
              "      filter: drop-shadow(0px 1px 2px rgba(0, 0, 0, 0.3));\n",
              "      fill: #FFFFFF;\n",
              "    }\n",
              "  </style>\n",
              "\n",
              "      <script>\n",
              "        const buttonEl =\n",
              "          document.querySelector('#df-f4ce8fe7-4514-4f9b-af3f-ff0246abac57 button.colab-df-convert');\n",
              "        buttonEl.style.display =\n",
              "          google.colab.kernel.accessAllowed ? 'block' : 'none';\n",
              "\n",
              "        async function convertToInteractive(key) {\n",
              "          const element = document.querySelector('#df-f4ce8fe7-4514-4f9b-af3f-ff0246abac57');\n",
              "          const dataTable =\n",
              "            await google.colab.kernel.invokeFunction('convertToInteractive',\n",
              "                                                     [key], {});\n",
              "          if (!dataTable) return;\n",
              "\n",
              "          const docLinkHtml = 'Like what you see? Visit the ' +\n",
              "            '<a target=\"_blank\" href=https://colab.research.google.com/notebooks/data_table.ipynb>data table notebook</a>'\n",
              "            + ' to learn more about interactive tables.';\n",
              "          element.innerHTML = '';\n",
              "          dataTable['output_type'] = 'display_data';\n",
              "          await google.colab.output.renderOutput(dataTable, element);\n",
              "          const docLink = document.createElement('div');\n",
              "          docLink.innerHTML = docLinkHtml;\n",
              "          element.appendChild(docLink);\n",
              "        }\n",
              "      </script>\n",
              "    </div>\n",
              "  </div>\n",
              "  "
            ]
          },
          "metadata": {},
          "execution_count": 57
        }
      ],
      "source": [
        "#Loading the data\n",
        "eureka=pd.read_excel(\"/content/eureka_train_data.xlsx\")\n",
        "eureka"
      ]
    },
    {
      "cell_type": "code",
      "execution_count": 58,
      "metadata": {
        "id": "e1BQY6R0APzV"
      },
      "outputs": [],
      "source": [
        "#Creating a list of all columns and removing Y variable,columns which contain all 0 values and index from the list\n",
        "x_features = list(eureka.columns)\n",
        "x_features.remove('callclick_in_7days')\n",
        "x_features.remove('goal3Completions')\n",
        "x_features.remove('goal7Completions')\n",
        "x_features.remove('bookdemo_in_7days')\n",
        "x_features.remove('index')\n",
        "x_features.remove('converted')"
      ]
    },
    {
      "cell_type": "code",
      "execution_count": 59,
      "metadata": {
        "id": "wfsITxIZAZmK"
      },
      "outputs": [],
      "source": [
        "#Creating X and y data frame. Here X contains all the attributes except response variable and y contains response variable\n",
        "X = eureka[x_features]\n",
        "y = eureka['converted']"
      ]
    },
    {
      "cell_type": "markdown",
      "source": [
        "Dividing Data in Train and Test"
      ],
      "metadata": {
        "id": "f6p7Y8OgdIro"
      }
    },
    {
      "cell_type": "code",
      "execution_count": 60,
      "metadata": {
        "id": "MnjbHW-hAj3H"
      },
      "outputs": [],
      "source": [
        "#Importing the test train split function\n",
        "from sklearn.model_selection import train_test_split"
      ]
    },
    {
      "cell_type": "code",
      "execution_count": 61,
      "metadata": {
        "id": "G8-yCB7vAmT1"
      },
      "outputs": [],
      "source": [
        "#Dividing the data into test and train\n",
        "X_train, X_test, Y_train, Y_test = train_test_split(X,\n",
        "                                                    y,\n",
        "                                                    train_size = 0.75,\n",
        "                                                    random_state = 255)"
      ]
    },
    {
      "cell_type": "markdown",
      "source": [
        "Data Balancing Using OverSampling and Under Sampling"
      ],
      "metadata": {
        "id": "qHzch8qQdTu2"
      }
    },
    {
      "cell_type": "code",
      "execution_count": 62,
      "metadata": {
        "id": "JDaRhAHxICvN"
      },
      "outputs": [],
      "source": [
        "#Importing Resample for Data Balancing\n",
        "from sklearn.utils import resample"
      ]
    },
    {
      "cell_type": "code",
      "execution_count": 63,
      "metadata": {
        "colab": {
          "base_uri": "https://localhost:8080/"
        },
        "id": "i4KwBptvIDA1",
        "outputId": "19a863f8-d064-495c-c9fa-c180a1ebf839"
      },
      "outputs": [
        {
          "output_type": "stream",
          "name": "stderr",
          "text": [
            "/usr/local/lib/python3.7/dist-packages/ipykernel_launcher.py:1: UserWarning: Boolean Series key will be reindexed to match DataFrame index.\n",
            "  \"\"\"Entry point for launching an IPython kernel.\n",
            "/usr/local/lib/python3.7/dist-packages/ipykernel_launcher.py:2: UserWarning: Boolean Series key will be reindexed to match DataFrame index.\n",
            "  \n"
          ]
        }
      ],
      "source": [
        "eureka_converted = X_train[eureka['converted'] == 1]\n",
        "eureka_not_converted = X_train[eureka['converted'] == 0]"
      ]
    },
    {
      "cell_type": "code",
      "execution_count": 64,
      "metadata": {
        "colab": {
          "base_uri": "https://localhost:8080/"
        },
        "id": "NyYqFtLLIDbz",
        "outputId": "559066e9-5274-450e-d9a9-2e5529765cd3"
      },
      "outputs": [
        {
          "output_type": "execute_result",
          "data": {
            "text/plain": [
              "(1700, 42)"
            ]
          },
          "metadata": {},
          "execution_count": 64
        }
      ],
      "source": [
        "eureka_converted.shape"
      ]
    },
    {
      "cell_type": "code",
      "execution_count": 65,
      "metadata": {
        "colab": {
          "base_uri": "https://localhost:8080/"
        },
        "id": "puZKdrcFIyUh",
        "outputId": "6b639caf-f397-446c-f067-15c5a2051f55"
      },
      "outputs": [
        {
          "output_type": "execute_result",
          "data": {
            "text/plain": [
              "(29998, 42)"
            ]
          },
          "metadata": {},
          "execution_count": 65
        }
      ],
      "source": [
        "eureka_not_converted.shape"
      ]
    },
    {
      "cell_type": "code",
      "execution_count": 66,
      "metadata": {
        "id": "8ewm4xkZI3KL"
      },
      "outputs": [],
      "source": [
        "##Upsample the yes-subscribed cases.\n",
        "eureka_converted_upsampled = resample(eureka_converted, \n",
        "                                replace=True,     # sample with replacement\n",
        "                                n_samples=12000) \n",
        "\n",
        "##Upsample the yes-subscribed cases.\n",
        "eureka_not_converted_downsampled = resample(eureka_not_converted, \n",
        "                                  replace=False,     # sample without replacement\n",
        "                                  n_samples=12000) \n",
        "\n",
        "# Combine majority class with upsampled minority class\n",
        "X_train_sampled_1 = pd.concat([eureka_converted_upsampled, eureka_not_converted_downsampled])"
      ]
    },
    {
      "cell_type": "code",
      "execution_count": 67,
      "metadata": {
        "id": "M3SYCKkAJU9y"
      },
      "outputs": [],
      "source": [
        "y_labels = [1] * 12000 + [0] * 12000"
      ]
    },
    {
      "cell_type": "code",
      "execution_count": 68,
      "metadata": {
        "id": "QN2ayA1gJVHc"
      },
      "outputs": [],
      "source": [
        "X_train_sampled_1['converted'] = y_labels"
      ]
    },
    {
      "cell_type": "code",
      "execution_count": 69,
      "metadata": {
        "id": "IVJqKVhZJVK9"
      },
      "outputs": [],
      "source": [
        "from sklearn.utils import shuffle\n",
        "X_train_sampled_1 = shuffle(X_train_sampled_1)"
      ]
    },
    {
      "cell_type": "code",
      "execution_count": 311,
      "metadata": {
        "id": "3vOF2hryA5_I"
      },
      "outputs": [],
      "source": [
        "#Keeping this set of numerical variables as this might be needed down.\n",
        "numerical_variable=['DemoReqPg_CallClicks_evt_count','air_purifier_page_top','bounces','checkout_page_top','contactus_top','customer_service_amc_login_top','customer_service_request_login_top','demo_page_top','dsls','goal4Completions',\n",
        "         'help_me_buy_evt_count','offer_page_top','pageviews','phone_clicks_evt_count','security_solutions_page_top','sessionDuration','sessions','storelocator_top','successbookdemo_top','vacuum_cleaner_page_top','water_purifier_page_top']"
      ]
    },
    {
      "cell_type": "markdown",
      "source": [
        "Feature Selection Using Random Forest"
      ],
      "metadata": {
        "id": "Y7E425LfeGDc"
      }
    },
    {
      "cell_type": "code",
      "source": [
        "from sklearn.ensemble import RandomForestClassifier\n",
        "!pip install category_encoders\n",
        "from category_encoders import TargetEncoder\n",
        "rf_reg = RandomForestClassifier(max_depth = 5, criterion = 'gini')\n",
        "target_encoder = TargetEncoder()\n",
        "\n",
        "encoded=target_encoder.fit_transform(X_train[x_features],Y_train)\n",
        "encoded\n",
        "rf_reg.fit(encoded[x_features], Y_train)\n",
        "features_rf_imp = pd.DataFrame({\"features\": list(X),\n",
        "                                \"importance\": rf_reg.feature_importances_})\n",
        "imp_features=features_rf_imp.sort_values(\"importance\", ascending=False).reset_index()\n",
        "imp_features"
      ],
      "metadata": {
        "colab": {
          "base_uri": "https://localhost:8080/",
          "height": 1000
        },
        "id": "1kSvWokLLmOZ",
        "outputId": "78dd40f9-1e74-44db-d6a3-1526b10828d3"
      },
      "execution_count": 72,
      "outputs": [
        {
          "output_type": "stream",
          "name": "stdout",
          "text": [
            "Requirement already satisfied: category_encoders in /usr/local/lib/python3.7/dist-packages (2.4.0)\n",
            "Requirement already satisfied: pandas>=0.21.1 in /usr/local/lib/python3.7/dist-packages (from category_encoders) (1.3.5)\n",
            "Requirement already satisfied: statsmodels>=0.9.0 in /usr/local/lib/python3.7/dist-packages (from category_encoders) (0.10.2)\n",
            "Requirement already satisfied: numpy>=1.14.0 in /usr/local/lib/python3.7/dist-packages (from category_encoders) (1.21.5)\n",
            "Requirement already satisfied: scikit-learn>=0.20.0 in /usr/local/lib/python3.7/dist-packages (from category_encoders) (1.0.2)\n",
            "Requirement already satisfied: patsy>=0.5.1 in /usr/local/lib/python3.7/dist-packages (from category_encoders) (0.5.2)\n",
            "Requirement already satisfied: scipy>=1.0.0 in /usr/local/lib/python3.7/dist-packages (from category_encoders) (1.4.1)\n",
            "Requirement already satisfied: pytz>=2017.3 in /usr/local/lib/python3.7/dist-packages (from pandas>=0.21.1->category_encoders) (2018.9)\n",
            "Requirement already satisfied: python-dateutil>=2.7.3 in /usr/local/lib/python3.7/dist-packages (from pandas>=0.21.1->category_encoders) (2.8.2)\n",
            "Requirement already satisfied: six in /usr/local/lib/python3.7/dist-packages (from patsy>=0.5.1->category_encoders) (1.15.0)\n",
            "Requirement already satisfied: joblib>=0.11 in /usr/local/lib/python3.7/dist-packages (from scikit-learn>=0.20.0->category_encoders) (1.1.0)\n",
            "Requirement already satisfied: threadpoolctl>=2.0.0 in /usr/local/lib/python3.7/dist-packages (from scikit-learn>=0.20.0->category_encoders) (3.1.0)\n"
          ]
        },
        {
          "output_type": "execute_result",
          "data": {
            "text/plain": [
              "    index                                features  importance\n",
              "0       0          DemoReqPg_CallClicks_evt_count    0.123477\n",
              "1      11          fired_DemoReqPg_CallClicks_evt    0.123022\n",
              "2      14                        goal4Completions    0.091460\n",
              "3       8                           demo_page_top    0.080069\n",
              "4      27                     successbookdemo_top    0.063192\n",
              "5      25                            sourceMedium    0.061760\n",
              "6      16                                 newUser    0.059726\n",
              "7      38                 visited_successbookdemo    0.045965\n",
              "8      34                       visited_demo_page    0.045349\n",
              "9      24                                sessions    0.042337\n",
              "10     23                         sessionDuration    0.031163\n",
              "11     21                                  region    0.029976\n",
              "12     18                               pageviews    0.029760\n",
              "13      2                                 bounces    0.024079\n",
              "14     19                                    paid    0.021318\n",
              "15     10                                    dsls    0.017323\n",
              "16     20                  phone_clicks_evt_count    0.014944\n",
              "17     41                 water_purifier_page_top    0.014371\n",
              "18     13                  fired_phone_clicks_evt    0.011896\n",
              "19      9                                  device    0.010586\n",
              "20     28                 vacuum_cleaner_page_top    0.008435\n",
              "21     17                          offer_page_top    0.005457\n",
              "22      6          customer_service_amc_login_top    0.005263\n",
              "23      7      customer_service_request_login_top    0.003555\n",
              "24     26                        storelocator_top    0.003482\n",
              "25      1                   air_purifier_page_top    0.003400\n",
              "26     15                   help_me_buy_evt_count    0.003382\n",
              "27      5                                 country    0.002784\n",
              "28     40             visited_water_purifier_page    0.002774\n",
              "29     32      visited_customer_service_amc_login    0.002671\n",
              "30     22             security_solutions_page_top    0.002508\n",
              "31      3                       checkout_page_top    0.002453\n",
              "32     35                      visited_offer_page    0.002408\n",
              "33     39             visited_vacuum_cleaner_page    0.001814\n",
              "34     29               visited_air_purifier_page    0.001317\n",
              "35     12                   fired_help_me_buy_evt    0.001301\n",
              "36     33  visited_customer_service_request_login    0.001282\n",
              "37     36         visited_security_solutions_page    0.001222\n",
              "38      4                           contactus_top    0.000960\n",
              "39     31                       visited_contactus    0.000884\n",
              "40     30                   visited_checkout_page    0.000875\n",
              "41     37                    visited_storelocator    0.000000"
            ],
            "text/html": [
              "\n",
              "  <div id=\"df-629b4f29-5b0a-4fc0-b0a7-55def95c95d1\">\n",
              "    <div class=\"colab-df-container\">\n",
              "      <div>\n",
              "<style scoped>\n",
              "    .dataframe tbody tr th:only-of-type {\n",
              "        vertical-align: middle;\n",
              "    }\n",
              "\n",
              "    .dataframe tbody tr th {\n",
              "        vertical-align: top;\n",
              "    }\n",
              "\n",
              "    .dataframe thead th {\n",
              "        text-align: right;\n",
              "    }\n",
              "</style>\n",
              "<table border=\"1\" class=\"dataframe\">\n",
              "  <thead>\n",
              "    <tr style=\"text-align: right;\">\n",
              "      <th></th>\n",
              "      <th>index</th>\n",
              "      <th>features</th>\n",
              "      <th>importance</th>\n",
              "    </tr>\n",
              "  </thead>\n",
              "  <tbody>\n",
              "    <tr>\n",
              "      <th>0</th>\n",
              "      <td>0</td>\n",
              "      <td>DemoReqPg_CallClicks_evt_count</td>\n",
              "      <td>0.123477</td>\n",
              "    </tr>\n",
              "    <tr>\n",
              "      <th>1</th>\n",
              "      <td>11</td>\n",
              "      <td>fired_DemoReqPg_CallClicks_evt</td>\n",
              "      <td>0.123022</td>\n",
              "    </tr>\n",
              "    <tr>\n",
              "      <th>2</th>\n",
              "      <td>14</td>\n",
              "      <td>goal4Completions</td>\n",
              "      <td>0.091460</td>\n",
              "    </tr>\n",
              "    <tr>\n",
              "      <th>3</th>\n",
              "      <td>8</td>\n",
              "      <td>demo_page_top</td>\n",
              "      <td>0.080069</td>\n",
              "    </tr>\n",
              "    <tr>\n",
              "      <th>4</th>\n",
              "      <td>27</td>\n",
              "      <td>successbookdemo_top</td>\n",
              "      <td>0.063192</td>\n",
              "    </tr>\n",
              "    <tr>\n",
              "      <th>5</th>\n",
              "      <td>25</td>\n",
              "      <td>sourceMedium</td>\n",
              "      <td>0.061760</td>\n",
              "    </tr>\n",
              "    <tr>\n",
              "      <th>6</th>\n",
              "      <td>16</td>\n",
              "      <td>newUser</td>\n",
              "      <td>0.059726</td>\n",
              "    </tr>\n",
              "    <tr>\n",
              "      <th>7</th>\n",
              "      <td>38</td>\n",
              "      <td>visited_successbookdemo</td>\n",
              "      <td>0.045965</td>\n",
              "    </tr>\n",
              "    <tr>\n",
              "      <th>8</th>\n",
              "      <td>34</td>\n",
              "      <td>visited_demo_page</td>\n",
              "      <td>0.045349</td>\n",
              "    </tr>\n",
              "    <tr>\n",
              "      <th>9</th>\n",
              "      <td>24</td>\n",
              "      <td>sessions</td>\n",
              "      <td>0.042337</td>\n",
              "    </tr>\n",
              "    <tr>\n",
              "      <th>10</th>\n",
              "      <td>23</td>\n",
              "      <td>sessionDuration</td>\n",
              "      <td>0.031163</td>\n",
              "    </tr>\n",
              "    <tr>\n",
              "      <th>11</th>\n",
              "      <td>21</td>\n",
              "      <td>region</td>\n",
              "      <td>0.029976</td>\n",
              "    </tr>\n",
              "    <tr>\n",
              "      <th>12</th>\n",
              "      <td>18</td>\n",
              "      <td>pageviews</td>\n",
              "      <td>0.029760</td>\n",
              "    </tr>\n",
              "    <tr>\n",
              "      <th>13</th>\n",
              "      <td>2</td>\n",
              "      <td>bounces</td>\n",
              "      <td>0.024079</td>\n",
              "    </tr>\n",
              "    <tr>\n",
              "      <th>14</th>\n",
              "      <td>19</td>\n",
              "      <td>paid</td>\n",
              "      <td>0.021318</td>\n",
              "    </tr>\n",
              "    <tr>\n",
              "      <th>15</th>\n",
              "      <td>10</td>\n",
              "      <td>dsls</td>\n",
              "      <td>0.017323</td>\n",
              "    </tr>\n",
              "    <tr>\n",
              "      <th>16</th>\n",
              "      <td>20</td>\n",
              "      <td>phone_clicks_evt_count</td>\n",
              "      <td>0.014944</td>\n",
              "    </tr>\n",
              "    <tr>\n",
              "      <th>17</th>\n",
              "      <td>41</td>\n",
              "      <td>water_purifier_page_top</td>\n",
              "      <td>0.014371</td>\n",
              "    </tr>\n",
              "    <tr>\n",
              "      <th>18</th>\n",
              "      <td>13</td>\n",
              "      <td>fired_phone_clicks_evt</td>\n",
              "      <td>0.011896</td>\n",
              "    </tr>\n",
              "    <tr>\n",
              "      <th>19</th>\n",
              "      <td>9</td>\n",
              "      <td>device</td>\n",
              "      <td>0.010586</td>\n",
              "    </tr>\n",
              "    <tr>\n",
              "      <th>20</th>\n",
              "      <td>28</td>\n",
              "      <td>vacuum_cleaner_page_top</td>\n",
              "      <td>0.008435</td>\n",
              "    </tr>\n",
              "    <tr>\n",
              "      <th>21</th>\n",
              "      <td>17</td>\n",
              "      <td>offer_page_top</td>\n",
              "      <td>0.005457</td>\n",
              "    </tr>\n",
              "    <tr>\n",
              "      <th>22</th>\n",
              "      <td>6</td>\n",
              "      <td>customer_service_amc_login_top</td>\n",
              "      <td>0.005263</td>\n",
              "    </tr>\n",
              "    <tr>\n",
              "      <th>23</th>\n",
              "      <td>7</td>\n",
              "      <td>customer_service_request_login_top</td>\n",
              "      <td>0.003555</td>\n",
              "    </tr>\n",
              "    <tr>\n",
              "      <th>24</th>\n",
              "      <td>26</td>\n",
              "      <td>storelocator_top</td>\n",
              "      <td>0.003482</td>\n",
              "    </tr>\n",
              "    <tr>\n",
              "      <th>25</th>\n",
              "      <td>1</td>\n",
              "      <td>air_purifier_page_top</td>\n",
              "      <td>0.003400</td>\n",
              "    </tr>\n",
              "    <tr>\n",
              "      <th>26</th>\n",
              "      <td>15</td>\n",
              "      <td>help_me_buy_evt_count</td>\n",
              "      <td>0.003382</td>\n",
              "    </tr>\n",
              "    <tr>\n",
              "      <th>27</th>\n",
              "      <td>5</td>\n",
              "      <td>country</td>\n",
              "      <td>0.002784</td>\n",
              "    </tr>\n",
              "    <tr>\n",
              "      <th>28</th>\n",
              "      <td>40</td>\n",
              "      <td>visited_water_purifier_page</td>\n",
              "      <td>0.002774</td>\n",
              "    </tr>\n",
              "    <tr>\n",
              "      <th>29</th>\n",
              "      <td>32</td>\n",
              "      <td>visited_customer_service_amc_login</td>\n",
              "      <td>0.002671</td>\n",
              "    </tr>\n",
              "    <tr>\n",
              "      <th>30</th>\n",
              "      <td>22</td>\n",
              "      <td>security_solutions_page_top</td>\n",
              "      <td>0.002508</td>\n",
              "    </tr>\n",
              "    <tr>\n",
              "      <th>31</th>\n",
              "      <td>3</td>\n",
              "      <td>checkout_page_top</td>\n",
              "      <td>0.002453</td>\n",
              "    </tr>\n",
              "    <tr>\n",
              "      <th>32</th>\n",
              "      <td>35</td>\n",
              "      <td>visited_offer_page</td>\n",
              "      <td>0.002408</td>\n",
              "    </tr>\n",
              "    <tr>\n",
              "      <th>33</th>\n",
              "      <td>39</td>\n",
              "      <td>visited_vacuum_cleaner_page</td>\n",
              "      <td>0.001814</td>\n",
              "    </tr>\n",
              "    <tr>\n",
              "      <th>34</th>\n",
              "      <td>29</td>\n",
              "      <td>visited_air_purifier_page</td>\n",
              "      <td>0.001317</td>\n",
              "    </tr>\n",
              "    <tr>\n",
              "      <th>35</th>\n",
              "      <td>12</td>\n",
              "      <td>fired_help_me_buy_evt</td>\n",
              "      <td>0.001301</td>\n",
              "    </tr>\n",
              "    <tr>\n",
              "      <th>36</th>\n",
              "      <td>33</td>\n",
              "      <td>visited_customer_service_request_login</td>\n",
              "      <td>0.001282</td>\n",
              "    </tr>\n",
              "    <tr>\n",
              "      <th>37</th>\n",
              "      <td>36</td>\n",
              "      <td>visited_security_solutions_page</td>\n",
              "      <td>0.001222</td>\n",
              "    </tr>\n",
              "    <tr>\n",
              "      <th>38</th>\n",
              "      <td>4</td>\n",
              "      <td>contactus_top</td>\n",
              "      <td>0.000960</td>\n",
              "    </tr>\n",
              "    <tr>\n",
              "      <th>39</th>\n",
              "      <td>31</td>\n",
              "      <td>visited_contactus</td>\n",
              "      <td>0.000884</td>\n",
              "    </tr>\n",
              "    <tr>\n",
              "      <th>40</th>\n",
              "      <td>30</td>\n",
              "      <td>visited_checkout_page</td>\n",
              "      <td>0.000875</td>\n",
              "    </tr>\n",
              "    <tr>\n",
              "      <th>41</th>\n",
              "      <td>37</td>\n",
              "      <td>visited_storelocator</td>\n",
              "      <td>0.000000</td>\n",
              "    </tr>\n",
              "  </tbody>\n",
              "</table>\n",
              "</div>\n",
              "      <button class=\"colab-df-convert\" onclick=\"convertToInteractive('df-629b4f29-5b0a-4fc0-b0a7-55def95c95d1')\"\n",
              "              title=\"Convert this dataframe to an interactive table.\"\n",
              "              style=\"display:none;\">\n",
              "        \n",
              "  <svg xmlns=\"http://www.w3.org/2000/svg\" height=\"24px\"viewBox=\"0 0 24 24\"\n",
              "       width=\"24px\">\n",
              "    <path d=\"M0 0h24v24H0V0z\" fill=\"none\"/>\n",
              "    <path d=\"M18.56 5.44l.94 2.06.94-2.06 2.06-.94-2.06-.94-.94-2.06-.94 2.06-2.06.94zm-11 1L8.5 8.5l.94-2.06 2.06-.94-2.06-.94L8.5 2.5l-.94 2.06-2.06.94zm10 10l.94 2.06.94-2.06 2.06-.94-2.06-.94-.94-2.06-.94 2.06-2.06.94z\"/><path d=\"M17.41 7.96l-1.37-1.37c-.4-.4-.92-.59-1.43-.59-.52 0-1.04.2-1.43.59L10.3 9.45l-7.72 7.72c-.78.78-.78 2.05 0 2.83L4 21.41c.39.39.9.59 1.41.59.51 0 1.02-.2 1.41-.59l7.78-7.78 2.81-2.81c.8-.78.8-2.07 0-2.86zM5.41 20L4 18.59l7.72-7.72 1.47 1.35L5.41 20z\"/>\n",
              "  </svg>\n",
              "      </button>\n",
              "      \n",
              "  <style>\n",
              "    .colab-df-container {\n",
              "      display:flex;\n",
              "      flex-wrap:wrap;\n",
              "      gap: 12px;\n",
              "    }\n",
              "\n",
              "    .colab-df-convert {\n",
              "      background-color: #E8F0FE;\n",
              "      border: none;\n",
              "      border-radius: 50%;\n",
              "      cursor: pointer;\n",
              "      display: none;\n",
              "      fill: #1967D2;\n",
              "      height: 32px;\n",
              "      padding: 0 0 0 0;\n",
              "      width: 32px;\n",
              "    }\n",
              "\n",
              "    .colab-df-convert:hover {\n",
              "      background-color: #E2EBFA;\n",
              "      box-shadow: 0px 1px 2px rgba(60, 64, 67, 0.3), 0px 1px 3px 1px rgba(60, 64, 67, 0.15);\n",
              "      fill: #174EA6;\n",
              "    }\n",
              "\n",
              "    [theme=dark] .colab-df-convert {\n",
              "      background-color: #3B4455;\n",
              "      fill: #D2E3FC;\n",
              "    }\n",
              "\n",
              "    [theme=dark] .colab-df-convert:hover {\n",
              "      background-color: #434B5C;\n",
              "      box-shadow: 0px 1px 3px 1px rgba(0, 0, 0, 0.15);\n",
              "      filter: drop-shadow(0px 1px 2px rgba(0, 0, 0, 0.3));\n",
              "      fill: #FFFFFF;\n",
              "    }\n",
              "  </style>\n",
              "\n",
              "      <script>\n",
              "        const buttonEl =\n",
              "          document.querySelector('#df-629b4f29-5b0a-4fc0-b0a7-55def95c95d1 button.colab-df-convert');\n",
              "        buttonEl.style.display =\n",
              "          google.colab.kernel.accessAllowed ? 'block' : 'none';\n",
              "\n",
              "        async function convertToInteractive(key) {\n",
              "          const element = document.querySelector('#df-629b4f29-5b0a-4fc0-b0a7-55def95c95d1');\n",
              "          const dataTable =\n",
              "            await google.colab.kernel.invokeFunction('convertToInteractive',\n",
              "                                                     [key], {});\n",
              "          if (!dataTable) return;\n",
              "\n",
              "          const docLinkHtml = 'Like what you see? Visit the ' +\n",
              "            '<a target=\"_blank\" href=https://colab.research.google.com/notebooks/data_table.ipynb>data table notebook</a>'\n",
              "            + ' to learn more about interactive tables.';\n",
              "          element.innerHTML = '';\n",
              "          dataTable['output_type'] = 'display_data';\n",
              "          await google.colab.output.renderOutput(dataTable, element);\n",
              "          const docLink = document.createElement('div');\n",
              "          docLink.innerHTML = docLinkHtml;\n",
              "          element.appendChild(docLink);\n",
              "        }\n",
              "      </script>\n",
              "    </div>\n",
              "  </div>\n",
              "  "
            ]
          },
          "metadata": {},
          "execution_count": 72
        }
      ]
    },
    {
      "cell_type": "code",
      "source": [
        "#Selecting top 15 features\n",
        "features = features_rf_imp.sort_values(\"importance\", ascending=False).reset_index()['features']\n",
        "feature_selected=[]\n",
        "for i in range(0,15):\n",
        "  feature_selected.append(features[i]\n",
        "                  )\n",
        "  \n",
        "feature_selected"
      ],
      "metadata": {
        "colab": {
          "base_uri": "https://localhost:8080/"
        },
        "id": "fGhFtMCSSNYP",
        "outputId": "285c1ce9-ac5b-444a-9b4f-743ecc3f85d1"
      },
      "execution_count": 73,
      "outputs": [
        {
          "output_type": "execute_result",
          "data": {
            "text/plain": [
              "['DemoReqPg_CallClicks_evt_count',\n",
              " 'fired_DemoReqPg_CallClicks_evt',\n",
              " 'goal4Completions',\n",
              " 'demo_page_top',\n",
              " 'successbookdemo_top',\n",
              " 'sourceMedium',\n",
              " 'newUser',\n",
              " 'visited_successbookdemo',\n",
              " 'visited_demo_page',\n",
              " 'sessions',\n",
              " 'sessionDuration',\n",
              " 'region',\n",
              " 'pageviews',\n",
              " 'bounces',\n",
              " 'paid']"
            ]
          },
          "metadata": {},
          "execution_count": 73
        }
      ]
    },
    {
      "cell_type": "markdown",
      "source": [
        "Creating features sets for categorical and numerical attributes from features selected"
      ],
      "metadata": {
        "id": "MsCMWkbJffkr"
      }
    },
    {
      "cell_type": "code",
      "source": [
        "feature_selected_num_variable=list(set(feature_selected) - set(['region', 'sourceMedium']))\n",
        "feature_selected_categorical_variable=list(set(feature_selected) - set(feature_selected_num_variable))"
      ],
      "metadata": {
        "id": "3VFI7WdqVIU9"
      },
      "execution_count": 74,
      "outputs": []
    },
    {
      "cell_type": "code",
      "source": [
        "feature_selected_num_variable"
      ],
      "metadata": {
        "colab": {
          "base_uri": "https://localhost:8080/"
        },
        "id": "eN9GrU5gVoaj",
        "outputId": "7ad313f7-9a0c-40ba-a880-993d5dfa3afa"
      },
      "execution_count": 76,
      "outputs": [
        {
          "output_type": "execute_result",
          "data": {
            "text/plain": [
              "['visited_successbookdemo',\n",
              " 'demo_page_top',\n",
              " 'newUser',\n",
              " 'goal4Completions',\n",
              " 'fired_DemoReqPg_CallClicks_evt',\n",
              " 'sessionDuration',\n",
              " 'pageviews',\n",
              " 'DemoReqPg_CallClicks_evt_count',\n",
              " 'paid',\n",
              " 'successbookdemo_top',\n",
              " 'sessions',\n",
              " 'visited_demo_page',\n",
              " 'bounces']"
            ]
          },
          "metadata": {},
          "execution_count": 76
        }
      ]
    },
    {
      "cell_type": "code",
      "source": [
        "feature_selected_categorical_variable"
      ],
      "metadata": {
        "colab": {
          "base_uri": "https://localhost:8080/"
        },
        "id": "-_sclJZLVJDa",
        "outputId": "0b94be75-fd07-4bab-85ab-2a23bdb85cd8"
      },
      "execution_count": 77,
      "outputs": [
        {
          "output_type": "execute_result",
          "data": {
            "text/plain": [
              "['region', 'sourceMedium']"
            ]
          },
          "metadata": {},
          "execution_count": 77
        }
      ]
    },
    {
      "cell_type": "markdown",
      "source": [
        "Sampling Using SMOTENC"
      ],
      "metadata": {
        "id": "mSh60ZIbgnIj"
      }
    },
    {
      "cell_type": "code",
      "source": [
        "categorical_variable=list(set(x_features) - set(numerical_variable))"
      ],
      "metadata": {
        "id": "vBuUB1QZgVW4"
      },
      "execution_count": 78,
      "outputs": []
    },
    {
      "cell_type": "code",
      "execution_count": 79,
      "metadata": {
        "id": "35jgszenZQdU"
      },
      "outputs": [],
      "source": [
        "index_cat=[]\n",
        "for i in categorical_variable:\n",
        "  index_no = X_train.columns.get_loc(i)\n",
        "  index_cat.append(index_no)\n"
      ]
    },
    {
      "cell_type": "code",
      "execution_count": 80,
      "metadata": {
        "id": "6rSSnn12Ykfg"
      },
      "outputs": [],
      "source": [
        "from imblearn.over_sampling import SMOTENC\n",
        "sm = SMOTENC(categorical_features=index_cat,random_state=2,sampling_strategy='auto') \n",
        "X_train_smotenc, Y_train_smotenc = sm.fit_resample(X_train, Y_train)"
      ]
    },
    {
      "cell_type": "markdown",
      "source": [
        "Defining Steps and Creating Pipelines"
      ],
      "metadata": {
        "id": "pwJtumMug-E7"
      }
    },
    {
      "cell_type": "code",
      "execution_count": 81,
      "metadata": {
        "id": "U8qMt-GuCKYU"
      },
      "outputs": [],
      "source": [
        "from sklearn.preprocessing import StandardScaler\n",
        "from imblearn.pipeline import Pipeline as imbpipeline\n",
        "from imblearn.pipeline import Pipeline\n",
        "from sklearn.compose import ColumnTransformer\n"
      ]
    },
    {
      "cell_type": "code",
      "execution_count": 82,
      "metadata": {
        "id": "TVSqRYlUFSR1"
      },
      "outputs": [],
      "source": [
        "#Weight of evidence encoding\n",
        "from category_encoders import WOEEncoder"
      ]
    },
    {
      "cell_type": "code",
      "execution_count": 83,
      "metadata": {
        "id": "wOAK80HeFSeS"
      },
      "outputs": [],
      "source": [
        "woe_encoder= WOEEncoder()"
      ]
    },
    {
      "cell_type": "code",
      "execution_count": 84,
      "metadata": {
        "id": "iFAmMot5BowA"
      },
      "outputs": [],
      "source": [
        "#target Encoding\n",
        "target_encoder=TargetEncoder()"
      ]
    },
    {
      "cell_type": "code",
      "execution_count": 85,
      "metadata": {
        "id": "W6Tu-yjkCxYO"
      },
      "outputs": [],
      "source": [
        "#Scaler Transformation\n",
        "scaler = StandardScaler()"
      ]
    },
    {
      "cell_type": "code",
      "execution_count": 86,
      "metadata": {
        "id": "R5xLP-ePCr4k"
      },
      "outputs": [],
      "source": [
        "#Pipeline for Scaler\n",
        "numerical_transformer = Pipeline( steps = [  \n",
        "       ('scaler', scaler)])"
      ]
    },
    {
      "cell_type": "code",
      "execution_count": 87,
      "metadata": {
        "id": "BL3lMdXqC4S6"
      },
      "outputs": [],
      "source": [
        "#Pipeline for Target Encoder\n",
        "categorical_transformer = Pipeline( steps = [('target', target_encoder)])"
      ]
    },
    {
      "cell_type": "code",
      "execution_count": 88,
      "metadata": {
        "id": "8LOJtuQNIvBj"
      },
      "outputs": [],
      "source": [
        "#Pipeline for Weights of Evidence Encoding\n",
        "woe_transformer=Pipeline(steps=[('woe', woe_encoder)])"
      ]
    },
    {
      "cell_type": "markdown",
      "source": [
        "Creating Preprocessors"
      ],
      "metadata": {
        "id": "MC6FkkpEhtaf"
      }
    },
    {
      "cell_type": "code",
      "execution_count": 89,
      "metadata": {
        "id": "c-Mo0MBLDAmJ"
      },
      "outputs": [],
      "source": [
        "#Scaler + Target\n",
        "preprocessor = ColumnTransformer(\n",
        "    transformers=[          \n",
        "        ('num_transformer', numerical_transformer, feature_selected_num_variable),\n",
        "        ('cat_transformer', categorical_transformer, feature_selected_categorical_variable)])"
      ]
    },
    {
      "cell_type": "code",
      "execution_count": 90,
      "metadata": {
        "id": "NDzCCpUKIpNw"
      },
      "outputs": [],
      "source": [
        "#Scaler + Weights of Evidence\n",
        "preprocessor2 = ColumnTransformer(\n",
        "    transformers=[          \n",
        "        ('num_transformer', numerical_transformer, feature_selected_num_variable),\n",
        "        ('woe_transformer', woe_transformer, feature_selected_categorical_variable)])"
      ]
    },
    {
      "cell_type": "markdown",
      "source": [
        "Experiment 1:\n",
        "\n",
        "KNN with Over Sampling and Under Sampling\n",
        "\n",
        "Attributes of Experiments: \n",
        "1. Over Sampling and UnderSampling\n",
        "2. Scaler Transformation\n",
        "3. Target Encoding\n"
      ],
      "metadata": {
        "id": "TEGDmOqPh6eP"
      }
    },
    {
      "cell_type": "code",
      "execution_count": 91,
      "metadata": {
        "id": "mY0h4hnzDxTJ"
      },
      "outputs": [],
      "source": [
        "from sklearn.neighbors import KNeighborsClassifier\n",
        "from sklearn.model_selection import GridSearchCV"
      ]
    },
    {
      "cell_type": "code",
      "execution_count": 171,
      "metadata": {
        "id": "UZMxwIP0D2LS"
      },
      "outputs": [],
      "source": [
        "knn_params = { \"knn__n_neighbors\": [5, 10, 15, 20, 25],\n",
        "               \"knn__weights\": ['uniform', 'distance'],\n",
        "              \"knn__metric\": ['minkowski', 'euclidean']\n",
        "              }"
      ]
    },
    {
      "cell_type": "code",
      "execution_count": 172,
      "metadata": {
        "id": "qenPBCldD7-K"
      },
      "outputs": [],
      "source": [
        "knn=KNeighborsClassifier()"
      ]
    },
    {
      "cell_type": "code",
      "execution_count": 173,
      "metadata": {
        "id": "KbnwD8zAD5-j"
      },
      "outputs": [],
      "source": [
        "knn_v1 = Pipeline(steps=[ \n",
        "                         ('preprocessor', preprocessor),\n",
        "                          ('knn', knn)])"
      ]
    },
    {
      "cell_type": "code",
      "execution_count": 174,
      "metadata": {
        "id": "arNp5VAZD_1g"
      },
      "outputs": [],
      "source": [
        "knn_grid_v1 = GridSearchCV(knn_v1,\n",
        "                           param_grid=knn_params,\n",
        "                           cv = 10,\n",
        "                           scoring = 'precision')"
      ]
    },
    {
      "cell_type": "code",
      "execution_count": 175,
      "metadata": {
        "id": "i3wuhPSKEb_v"
      },
      "outputs": [],
      "source": [
        "from sklearn import set_config\n",
        "set_config(display='diagram') "
      ]
    },
    {
      "cell_type": "code",
      "execution_count": 176,
      "metadata": {
        "colab": {
          "base_uri": "https://localhost:8080/",
          "height": 193
        },
        "id": "HG8zpTt6EEey",
        "outputId": "c31e0a57-769e-4fa4-f96e-40579b3bc11f"
      },
      "outputs": [
        {
          "output_type": "execute_result",
          "data": {
            "text/plain": [
              "GridSearchCV(cv=10,\n",
              "             estimator=Pipeline(steps=[('preprocessor',\n",
              "                                        ColumnTransformer(transformers=[('num_transformer',\n",
              "                                                                         Pipeline(steps=[('scaler',\n",
              "                                                                                          StandardScaler())]),\n",
              "                                                                         ['visited_successbookdemo',\n",
              "                                                                          'demo_page_top',\n",
              "                                                                          'newUser',\n",
              "                                                                          'goal4Completions',\n",
              "                                                                          'fired_DemoReqPg_CallClicks_evt',\n",
              "                                                                          'sessionDuration',\n",
              "                                                                          'pageviews',\n",
              "                                                                          'DemoReqPg_CallClicks_evt_count',\n",
              "                                                                          'paid',\n",
              "                                                                          'successbookdemo_top',\n",
              "                                                                          'sessions',\n",
              "                                                                          'visited_demo_page',\n",
              "                                                                          'bounces']),\n",
              "                                                                        ('cat_transformer',\n",
              "                                                                         Pipeline(steps=[('target',\n",
              "                                                                                          TargetEncoder())]),\n",
              "                                                                         ['region',\n",
              "                                                                          'sourceMedium'])])),\n",
              "                                       ('knn', KNeighborsClassifier())]),\n",
              "             param_grid={'knn__metric': ['minkowski', 'euclidean'],\n",
              "                         'knn__n_neighbors': [5, 10, 15, 20, 25],\n",
              "                         'knn__weights': ['uniform', 'distance']},\n",
              "             scoring='precision')"
            ],
            "text/html": [
              "<style>#sk-bc06948f-7f1c-4442-9d08-bfb1d9b02f8b {color: black;background-color: white;}#sk-bc06948f-7f1c-4442-9d08-bfb1d9b02f8b pre{padding: 0;}#sk-bc06948f-7f1c-4442-9d08-bfb1d9b02f8b div.sk-toggleable {background-color: white;}#sk-bc06948f-7f1c-4442-9d08-bfb1d9b02f8b label.sk-toggleable__label {cursor: pointer;display: block;width: 100%;margin-bottom: 0;padding: 0.3em;box-sizing: border-box;text-align: center;}#sk-bc06948f-7f1c-4442-9d08-bfb1d9b02f8b label.sk-toggleable__label-arrow:before {content: \"▸\";float: left;margin-right: 0.25em;color: #696969;}#sk-bc06948f-7f1c-4442-9d08-bfb1d9b02f8b label.sk-toggleable__label-arrow:hover:before {color: black;}#sk-bc06948f-7f1c-4442-9d08-bfb1d9b02f8b div.sk-estimator:hover label.sk-toggleable__label-arrow:before {color: black;}#sk-bc06948f-7f1c-4442-9d08-bfb1d9b02f8b div.sk-toggleable__content {max-height: 0;max-width: 0;overflow: hidden;text-align: left;background-color: #f0f8ff;}#sk-bc06948f-7f1c-4442-9d08-bfb1d9b02f8b div.sk-toggleable__content pre {margin: 0.2em;color: black;border-radius: 0.25em;background-color: #f0f8ff;}#sk-bc06948f-7f1c-4442-9d08-bfb1d9b02f8b input.sk-toggleable__control:checked~div.sk-toggleable__content {max-height: 200px;max-width: 100%;overflow: auto;}#sk-bc06948f-7f1c-4442-9d08-bfb1d9b02f8b input.sk-toggleable__control:checked~label.sk-toggleable__label-arrow:before {content: \"▾\";}#sk-bc06948f-7f1c-4442-9d08-bfb1d9b02f8b div.sk-estimator input.sk-toggleable__control:checked~label.sk-toggleable__label {background-color: #d4ebff;}#sk-bc06948f-7f1c-4442-9d08-bfb1d9b02f8b div.sk-label input.sk-toggleable__control:checked~label.sk-toggleable__label {background-color: #d4ebff;}#sk-bc06948f-7f1c-4442-9d08-bfb1d9b02f8b input.sk-hidden--visually {border: 0;clip: rect(1px 1px 1px 1px);clip: rect(1px, 1px, 1px, 1px);height: 1px;margin: -1px;overflow: hidden;padding: 0;position: absolute;width: 1px;}#sk-bc06948f-7f1c-4442-9d08-bfb1d9b02f8b div.sk-estimator {font-family: monospace;background-color: #f0f8ff;border: 1px dotted black;border-radius: 0.25em;box-sizing: border-box;margin-bottom: 0.5em;}#sk-bc06948f-7f1c-4442-9d08-bfb1d9b02f8b div.sk-estimator:hover {background-color: #d4ebff;}#sk-bc06948f-7f1c-4442-9d08-bfb1d9b02f8b div.sk-parallel-item::after {content: \"\";width: 100%;border-bottom: 1px solid gray;flex-grow: 1;}#sk-bc06948f-7f1c-4442-9d08-bfb1d9b02f8b div.sk-label:hover label.sk-toggleable__label {background-color: #d4ebff;}#sk-bc06948f-7f1c-4442-9d08-bfb1d9b02f8b div.sk-serial::before {content: \"\";position: absolute;border-left: 1px solid gray;box-sizing: border-box;top: 2em;bottom: 0;left: 50%;}#sk-bc06948f-7f1c-4442-9d08-bfb1d9b02f8b div.sk-serial {display: flex;flex-direction: column;align-items: center;background-color: white;padding-right: 0.2em;padding-left: 0.2em;}#sk-bc06948f-7f1c-4442-9d08-bfb1d9b02f8b div.sk-item {z-index: 1;}#sk-bc06948f-7f1c-4442-9d08-bfb1d9b02f8b div.sk-parallel {display: flex;align-items: stretch;justify-content: center;background-color: white;}#sk-bc06948f-7f1c-4442-9d08-bfb1d9b02f8b div.sk-parallel::before {content: \"\";position: absolute;border-left: 1px solid gray;box-sizing: border-box;top: 2em;bottom: 0;left: 50%;}#sk-bc06948f-7f1c-4442-9d08-bfb1d9b02f8b div.sk-parallel-item {display: flex;flex-direction: column;position: relative;background-color: white;}#sk-bc06948f-7f1c-4442-9d08-bfb1d9b02f8b div.sk-parallel-item:first-child::after {align-self: flex-end;width: 50%;}#sk-bc06948f-7f1c-4442-9d08-bfb1d9b02f8b div.sk-parallel-item:last-child::after {align-self: flex-start;width: 50%;}#sk-bc06948f-7f1c-4442-9d08-bfb1d9b02f8b div.sk-parallel-item:only-child::after {width: 0;}#sk-bc06948f-7f1c-4442-9d08-bfb1d9b02f8b div.sk-dashed-wrapped {border: 1px dashed gray;margin: 0 0.4em 0.5em 0.4em;box-sizing: border-box;padding-bottom: 0.4em;background-color: white;position: relative;}#sk-bc06948f-7f1c-4442-9d08-bfb1d9b02f8b div.sk-label label {font-family: monospace;font-weight: bold;background-color: white;display: inline-block;line-height: 1.2em;}#sk-bc06948f-7f1c-4442-9d08-bfb1d9b02f8b div.sk-label-container {position: relative;z-index: 2;text-align: center;}#sk-bc06948f-7f1c-4442-9d08-bfb1d9b02f8b div.sk-container {/* jupyter's `normalize.less` sets `[hidden] { display: none; }` but bootstrap.min.css set `[hidden] { display: none !important; }` so we also need the `!important` here to be able to override the default hidden behavior on the sphinx rendered scikit-learn.org. See: https://github.com/scikit-learn/scikit-learn/issues/21755 */display: inline-block !important;position: relative;}#sk-bc06948f-7f1c-4442-9d08-bfb1d9b02f8b div.sk-text-repr-fallback {display: none;}</style><div id=\"sk-bc06948f-7f1c-4442-9d08-bfb1d9b02f8b\" class=\"sk-top-container\"><div class=\"sk-text-repr-fallback\"><pre>GridSearchCV(cv=10,\n",
              "             estimator=Pipeline(steps=[(&#x27;preprocessor&#x27;,\n",
              "                                        ColumnTransformer(transformers=[(&#x27;num_transformer&#x27;,\n",
              "                                                                         Pipeline(steps=[(&#x27;scaler&#x27;,\n",
              "                                                                                          StandardScaler())]),\n",
              "                                                                         [&#x27;visited_successbookdemo&#x27;,\n",
              "                                                                          &#x27;demo_page_top&#x27;,\n",
              "                                                                          &#x27;newUser&#x27;,\n",
              "                                                                          &#x27;goal4Completions&#x27;,\n",
              "                                                                          &#x27;fired_DemoReqPg_CallClicks_evt&#x27;,\n",
              "                                                                          &#x27;sessionDuration&#x27;,\n",
              "                                                                          &#x27;pageviews&#x27;,\n",
              "                                                                          &#x27;DemoReqPg_CallClicks_evt_count&#x27;,\n",
              "                                                                          &#x27;paid&#x27;,\n",
              "                                                                          &#x27;successbookdemo_top&#x27;,\n",
              "                                                                          &#x27;sessions&#x27;,\n",
              "                                                                          &#x27;visited_demo_page&#x27;,\n",
              "                                                                          &#x27;bounces&#x27;]),\n",
              "                                                                        (&#x27;cat_transformer&#x27;,\n",
              "                                                                         Pipeline(steps=[(&#x27;target&#x27;,\n",
              "                                                                                          TargetEncoder())]),\n",
              "                                                                         [&#x27;region&#x27;,\n",
              "                                                                          &#x27;sourceMedium&#x27;])])),\n",
              "                                       (&#x27;knn&#x27;, KNeighborsClassifier())]),\n",
              "             param_grid={&#x27;knn__metric&#x27;: [&#x27;minkowski&#x27;, &#x27;euclidean&#x27;],\n",
              "                         &#x27;knn__n_neighbors&#x27;: [5, 10, 15, 20, 25],\n",
              "                         &#x27;knn__weights&#x27;: [&#x27;uniform&#x27;, &#x27;distance&#x27;]},\n",
              "             scoring=&#x27;precision&#x27;)</pre><b>Please rerun this cell to show the HTML repr or trust the notebook.</b></div><div class=\"sk-container\" hidden><div class=\"sk-item sk-dashed-wrapped\"><div class=\"sk-label-container\"><div class=\"sk-label sk-toggleable\"><input class=\"sk-toggleable__control sk-hidden--visually\" id=\"c7b0fe63-7f1b-47e9-b567-7e60d995a1a7\" type=\"checkbox\" ><label for=\"c7b0fe63-7f1b-47e9-b567-7e60d995a1a7\" class=\"sk-toggleable__label sk-toggleable__label-arrow\">GridSearchCV</label><div class=\"sk-toggleable__content\"><pre>GridSearchCV(cv=10,\n",
              "             estimator=Pipeline(steps=[(&#x27;preprocessor&#x27;,\n",
              "                                        ColumnTransformer(transformers=[(&#x27;num_transformer&#x27;,\n",
              "                                                                         Pipeline(steps=[(&#x27;scaler&#x27;,\n",
              "                                                                                          StandardScaler())]),\n",
              "                                                                         [&#x27;visited_successbookdemo&#x27;,\n",
              "                                                                          &#x27;demo_page_top&#x27;,\n",
              "                                                                          &#x27;newUser&#x27;,\n",
              "                                                                          &#x27;goal4Completions&#x27;,\n",
              "                                                                          &#x27;fired_DemoReqPg_CallClicks_evt&#x27;,\n",
              "                                                                          &#x27;sessionDuration&#x27;,\n",
              "                                                                          &#x27;pageviews&#x27;,\n",
              "                                                                          &#x27;DemoReqPg_CallClicks_evt_count&#x27;,\n",
              "                                                                          &#x27;paid&#x27;,\n",
              "                                                                          &#x27;successbookdemo_top&#x27;,\n",
              "                                                                          &#x27;sessions&#x27;,\n",
              "                                                                          &#x27;visited_demo_page&#x27;,\n",
              "                                                                          &#x27;bounces&#x27;]),\n",
              "                                                                        (&#x27;cat_transformer&#x27;,\n",
              "                                                                         Pipeline(steps=[(&#x27;target&#x27;,\n",
              "                                                                                          TargetEncoder())]),\n",
              "                                                                         [&#x27;region&#x27;,\n",
              "                                                                          &#x27;sourceMedium&#x27;])])),\n",
              "                                       (&#x27;knn&#x27;, KNeighborsClassifier())]),\n",
              "             param_grid={&#x27;knn__metric&#x27;: [&#x27;minkowski&#x27;, &#x27;euclidean&#x27;],\n",
              "                         &#x27;knn__n_neighbors&#x27;: [5, 10, 15, 20, 25],\n",
              "                         &#x27;knn__weights&#x27;: [&#x27;uniform&#x27;, &#x27;distance&#x27;]},\n",
              "             scoring=&#x27;precision&#x27;)</pre></div></div></div><div class=\"sk-parallel\"><div class=\"sk-parallel-item\"><div class=\"sk-item\"><div class=\"sk-serial\"><div class=\"sk-item\"><div class=\"sk-serial\"><div class=\"sk-item sk-dashed-wrapped\"><div class=\"sk-label-container\"><div class=\"sk-label sk-toggleable\"><input class=\"sk-toggleable__control sk-hidden--visually\" id=\"a9104e8b-4a95-4640-85d6-cb9115050bc5\" type=\"checkbox\" ><label for=\"a9104e8b-4a95-4640-85d6-cb9115050bc5\" class=\"sk-toggleable__label sk-toggleable__label-arrow\">preprocessor: ColumnTransformer</label><div class=\"sk-toggleable__content\"><pre>ColumnTransformer(transformers=[(&#x27;num_transformer&#x27;,\n",
              "                                 Pipeline(steps=[(&#x27;scaler&#x27;, StandardScaler())]),\n",
              "                                 [&#x27;visited_successbookdemo&#x27;, &#x27;demo_page_top&#x27;,\n",
              "                                  &#x27;newUser&#x27;, &#x27;goal4Completions&#x27;,\n",
              "                                  &#x27;fired_DemoReqPg_CallClicks_evt&#x27;,\n",
              "                                  &#x27;sessionDuration&#x27;, &#x27;pageviews&#x27;,\n",
              "                                  &#x27;DemoReqPg_CallClicks_evt_count&#x27;, &#x27;paid&#x27;,\n",
              "                                  &#x27;successbookdemo_top&#x27;, &#x27;sessions&#x27;,\n",
              "                                  &#x27;visited_demo_page&#x27;, &#x27;bounces&#x27;]),\n",
              "                                (&#x27;cat_transformer&#x27;,\n",
              "                                 Pipeline(steps=[(&#x27;target&#x27;, TargetEncoder())]),\n",
              "                                 [&#x27;region&#x27;, &#x27;sourceMedium&#x27;])])</pre></div></div></div><div class=\"sk-parallel\"><div class=\"sk-parallel-item\"><div class=\"sk-item\"><div class=\"sk-label-container\"><div class=\"sk-label sk-toggleable\"><input class=\"sk-toggleable__control sk-hidden--visually\" id=\"fee1252a-51b8-4b35-ac6c-6f345dff6ca4\" type=\"checkbox\" ><label for=\"fee1252a-51b8-4b35-ac6c-6f345dff6ca4\" class=\"sk-toggleable__label sk-toggleable__label-arrow\">num_transformer</label><div class=\"sk-toggleable__content\"><pre>[&#x27;visited_successbookdemo&#x27;, &#x27;demo_page_top&#x27;, &#x27;newUser&#x27;, &#x27;goal4Completions&#x27;, &#x27;fired_DemoReqPg_CallClicks_evt&#x27;, &#x27;sessionDuration&#x27;, &#x27;pageviews&#x27;, &#x27;DemoReqPg_CallClicks_evt_count&#x27;, &#x27;paid&#x27;, &#x27;successbookdemo_top&#x27;, &#x27;sessions&#x27;, &#x27;visited_demo_page&#x27;, &#x27;bounces&#x27;]</pre></div></div></div><div class=\"sk-serial\"><div class=\"sk-item\"><div class=\"sk-serial\"><div class=\"sk-item\"><div class=\"sk-estimator sk-toggleable\"><input class=\"sk-toggleable__control sk-hidden--visually\" id=\"7e78fb8a-b259-4d05-9579-a4d4e5b9bea0\" type=\"checkbox\" ><label for=\"7e78fb8a-b259-4d05-9579-a4d4e5b9bea0\" class=\"sk-toggleable__label sk-toggleable__label-arrow\">StandardScaler</label><div class=\"sk-toggleable__content\"><pre>StandardScaler()</pre></div></div></div></div></div></div></div></div><div class=\"sk-parallel-item\"><div class=\"sk-item\"><div class=\"sk-label-container\"><div class=\"sk-label sk-toggleable\"><input class=\"sk-toggleable__control sk-hidden--visually\" id=\"cee38579-d902-484c-9fa8-9e5de70f1ee8\" type=\"checkbox\" ><label for=\"cee38579-d902-484c-9fa8-9e5de70f1ee8\" class=\"sk-toggleable__label sk-toggleable__label-arrow\">cat_transformer</label><div class=\"sk-toggleable__content\"><pre>[&#x27;region&#x27;, &#x27;sourceMedium&#x27;]</pre></div></div></div><div class=\"sk-serial\"><div class=\"sk-item\"><div class=\"sk-serial\"><div class=\"sk-item\"><div class=\"sk-estimator sk-toggleable\"><input class=\"sk-toggleable__control sk-hidden--visually\" id=\"70a253c5-7abe-41da-ba66-d16f2af5b000\" type=\"checkbox\" ><label for=\"70a253c5-7abe-41da-ba66-d16f2af5b000\" class=\"sk-toggleable__label sk-toggleable__label-arrow\">TargetEncoder</label><div class=\"sk-toggleable__content\"><pre>TargetEncoder()</pre></div></div></div></div></div></div></div></div></div></div><div class=\"sk-item\"><div class=\"sk-estimator sk-toggleable\"><input class=\"sk-toggleable__control sk-hidden--visually\" id=\"0b42e2cd-e1d0-4e29-b2b0-bc52bccc7a39\" type=\"checkbox\" ><label for=\"0b42e2cd-e1d0-4e29-b2b0-bc52bccc7a39\" class=\"sk-toggleable__label sk-toggleable__label-arrow\">KNeighborsClassifier</label><div class=\"sk-toggleable__content\"><pre>KNeighborsClassifier()</pre></div></div></div></div></div></div></div></div></div></div></div></div>"
            ]
          },
          "metadata": {},
          "execution_count": 176
        }
      ],
      "source": [
        "knn_grid_v1.fit(X_train_sampled_1[feature_selected],X_train_sampled_1['converted'])"
      ]
    },
    {
      "cell_type": "code",
      "execution_count": 177,
      "metadata": {
        "colab": {
          "base_uri": "https://localhost:8080/"
        },
        "id": "xehHSr6nJvhW",
        "outputId": "1026f744-04b7-45c8-c025-a4af29ca8668"
      },
      "outputs": [
        {
          "output_type": "execute_result",
          "data": {
            "text/plain": [
              "0.8053446481674525"
            ]
          },
          "metadata": {},
          "execution_count": 177
        }
      ],
      "source": [
        "knn_grid_v1.best_score_"
      ]
    },
    {
      "cell_type": "code",
      "execution_count": 178,
      "metadata": {
        "colab": {
          "base_uri": "https://localhost:8080/"
        },
        "id": "PBsYMER7G3dl",
        "outputId": "28f0d05c-276e-498d-8cd4-1c47f83234f0"
      },
      "outputs": [
        {
          "output_type": "execute_result",
          "data": {
            "text/plain": [
              "{'knn__metric': 'minkowski', 'knn__n_neighbors': 5, 'knn__weights': 'distance'}"
            ]
          },
          "metadata": {},
          "execution_count": 178
        }
      ],
      "source": [
        "knn_grid_v1.best_params_"
      ]
    },
    {
      "cell_type": "code",
      "source": [
        "knn_predict_v1=knn_grid_v1.predict(X_test[feature_selected])"
      ],
      "metadata": {
        "id": "8WFQ2btGHCNZ"
      },
      "execution_count": 179,
      "outputs": []
    },
    {
      "cell_type": "code",
      "source": [
        "from sklearn.metrics import classification_report\n",
        "print(classification_report(knn_predict_v1,Y_test))"
      ],
      "metadata": {
        "colab": {
          "base_uri": "https://localhost:8080/"
        },
        "id": "iVj9qscYHTQu",
        "outputId": "da1ff31f-8f5d-4daa-9f18-f862ee9de489"
      },
      "execution_count": 189,
      "outputs": [
        {
          "output_type": "stream",
          "name": "stdout",
          "text": [
            "              precision    recall  f1-score   support\n",
            "\n",
            "           0       0.78      0.96      0.86      8089\n",
            "           1       0.42      0.10      0.16      2477\n",
            "\n",
            "    accuracy                           0.76     10566\n",
            "   macro avg       0.60      0.53      0.51     10566\n",
            "weighted avg       0.69      0.76      0.69     10566\n",
            "\n"
          ]
        }
      ]
    },
    {
      "cell_type": "markdown",
      "source": [
        "Experiment 2:\n",
        "\n",
        "KNN with Smote\n",
        "\n",
        "Attributes of Experiments: \n",
        "1. Smote\n",
        "2. Scaler Transformation\n",
        "3. Target Encoding\n"
      ],
      "metadata": {
        "id": "e56S-7tVjDSu"
      }
    },
    {
      "cell_type": "code",
      "source": [
        "knn_grid_smote = GridSearchCV(knn_v1,\n",
        "                           param_grid=knn_params,\n",
        "                           cv = 10,\n",
        "                           scoring = 'precision')"
      ],
      "metadata": {
        "id": "ndWekc_dZusd"
      },
      "execution_count": 181,
      "outputs": []
    },
    {
      "cell_type": "code",
      "execution_count": 182,
      "metadata": {
        "colab": {
          "base_uri": "https://localhost:8080/",
          "height": 193
        },
        "id": "JGvsA6VUKCnu",
        "outputId": "8ab40d87-7198-42e0-cba1-81cc967c6021"
      },
      "outputs": [
        {
          "output_type": "execute_result",
          "data": {
            "text/plain": [
              "GridSearchCV(cv=10,\n",
              "             estimator=Pipeline(steps=[('preprocessor',\n",
              "                                        ColumnTransformer(transformers=[('num_transformer',\n",
              "                                                                         Pipeline(steps=[('scaler',\n",
              "                                                                                          StandardScaler())]),\n",
              "                                                                         ['visited_successbookdemo',\n",
              "                                                                          'demo_page_top',\n",
              "                                                                          'newUser',\n",
              "                                                                          'goal4Completions',\n",
              "                                                                          'fired_DemoReqPg_CallClicks_evt',\n",
              "                                                                          'sessionDuration',\n",
              "                                                                          'pageviews',\n",
              "                                                                          'DemoReqPg_CallClicks_evt_count',\n",
              "                                                                          'paid',\n",
              "                                                                          'successbookdemo_top',\n",
              "                                                                          'sessions',\n",
              "                                                                          'visited_demo_page',\n",
              "                                                                          'bounces']),\n",
              "                                                                        ('cat_transformer',\n",
              "                                                                         Pipeline(steps=[('target',\n",
              "                                                                                          TargetEncoder())]),\n",
              "                                                                         ['region',\n",
              "                                                                          'sourceMedium'])])),\n",
              "                                       ('knn', KNeighborsClassifier())]),\n",
              "             param_grid={'knn__metric': ['minkowski', 'euclidean'],\n",
              "                         'knn__n_neighbors': [5, 10, 15, 20, 25],\n",
              "                         'knn__weights': ['uniform', 'distance']},\n",
              "             scoring='precision')"
            ],
            "text/html": [
              "<style>#sk-2ba5d854-c4a0-4f24-a2ed-2bf39fd96e5f {color: black;background-color: white;}#sk-2ba5d854-c4a0-4f24-a2ed-2bf39fd96e5f pre{padding: 0;}#sk-2ba5d854-c4a0-4f24-a2ed-2bf39fd96e5f div.sk-toggleable {background-color: white;}#sk-2ba5d854-c4a0-4f24-a2ed-2bf39fd96e5f label.sk-toggleable__label {cursor: pointer;display: block;width: 100%;margin-bottom: 0;padding: 0.3em;box-sizing: border-box;text-align: center;}#sk-2ba5d854-c4a0-4f24-a2ed-2bf39fd96e5f label.sk-toggleable__label-arrow:before {content: \"▸\";float: left;margin-right: 0.25em;color: #696969;}#sk-2ba5d854-c4a0-4f24-a2ed-2bf39fd96e5f label.sk-toggleable__label-arrow:hover:before {color: black;}#sk-2ba5d854-c4a0-4f24-a2ed-2bf39fd96e5f div.sk-estimator:hover label.sk-toggleable__label-arrow:before {color: black;}#sk-2ba5d854-c4a0-4f24-a2ed-2bf39fd96e5f div.sk-toggleable__content {max-height: 0;max-width: 0;overflow: hidden;text-align: left;background-color: #f0f8ff;}#sk-2ba5d854-c4a0-4f24-a2ed-2bf39fd96e5f div.sk-toggleable__content pre {margin: 0.2em;color: black;border-radius: 0.25em;background-color: #f0f8ff;}#sk-2ba5d854-c4a0-4f24-a2ed-2bf39fd96e5f input.sk-toggleable__control:checked~div.sk-toggleable__content {max-height: 200px;max-width: 100%;overflow: auto;}#sk-2ba5d854-c4a0-4f24-a2ed-2bf39fd96e5f input.sk-toggleable__control:checked~label.sk-toggleable__label-arrow:before {content: \"▾\";}#sk-2ba5d854-c4a0-4f24-a2ed-2bf39fd96e5f div.sk-estimator input.sk-toggleable__control:checked~label.sk-toggleable__label {background-color: #d4ebff;}#sk-2ba5d854-c4a0-4f24-a2ed-2bf39fd96e5f div.sk-label input.sk-toggleable__control:checked~label.sk-toggleable__label {background-color: #d4ebff;}#sk-2ba5d854-c4a0-4f24-a2ed-2bf39fd96e5f input.sk-hidden--visually {border: 0;clip: rect(1px 1px 1px 1px);clip: rect(1px, 1px, 1px, 1px);height: 1px;margin: -1px;overflow: hidden;padding: 0;position: absolute;width: 1px;}#sk-2ba5d854-c4a0-4f24-a2ed-2bf39fd96e5f div.sk-estimator {font-family: monospace;background-color: #f0f8ff;border: 1px dotted black;border-radius: 0.25em;box-sizing: border-box;margin-bottom: 0.5em;}#sk-2ba5d854-c4a0-4f24-a2ed-2bf39fd96e5f div.sk-estimator:hover {background-color: #d4ebff;}#sk-2ba5d854-c4a0-4f24-a2ed-2bf39fd96e5f div.sk-parallel-item::after {content: \"\";width: 100%;border-bottom: 1px solid gray;flex-grow: 1;}#sk-2ba5d854-c4a0-4f24-a2ed-2bf39fd96e5f div.sk-label:hover label.sk-toggleable__label {background-color: #d4ebff;}#sk-2ba5d854-c4a0-4f24-a2ed-2bf39fd96e5f div.sk-serial::before {content: \"\";position: absolute;border-left: 1px solid gray;box-sizing: border-box;top: 2em;bottom: 0;left: 50%;}#sk-2ba5d854-c4a0-4f24-a2ed-2bf39fd96e5f div.sk-serial {display: flex;flex-direction: column;align-items: center;background-color: white;padding-right: 0.2em;padding-left: 0.2em;}#sk-2ba5d854-c4a0-4f24-a2ed-2bf39fd96e5f div.sk-item {z-index: 1;}#sk-2ba5d854-c4a0-4f24-a2ed-2bf39fd96e5f div.sk-parallel {display: flex;align-items: stretch;justify-content: center;background-color: white;}#sk-2ba5d854-c4a0-4f24-a2ed-2bf39fd96e5f div.sk-parallel::before {content: \"\";position: absolute;border-left: 1px solid gray;box-sizing: border-box;top: 2em;bottom: 0;left: 50%;}#sk-2ba5d854-c4a0-4f24-a2ed-2bf39fd96e5f div.sk-parallel-item {display: flex;flex-direction: column;position: relative;background-color: white;}#sk-2ba5d854-c4a0-4f24-a2ed-2bf39fd96e5f div.sk-parallel-item:first-child::after {align-self: flex-end;width: 50%;}#sk-2ba5d854-c4a0-4f24-a2ed-2bf39fd96e5f div.sk-parallel-item:last-child::after {align-self: flex-start;width: 50%;}#sk-2ba5d854-c4a0-4f24-a2ed-2bf39fd96e5f div.sk-parallel-item:only-child::after {width: 0;}#sk-2ba5d854-c4a0-4f24-a2ed-2bf39fd96e5f div.sk-dashed-wrapped {border: 1px dashed gray;margin: 0 0.4em 0.5em 0.4em;box-sizing: border-box;padding-bottom: 0.4em;background-color: white;position: relative;}#sk-2ba5d854-c4a0-4f24-a2ed-2bf39fd96e5f div.sk-label label {font-family: monospace;font-weight: bold;background-color: white;display: inline-block;line-height: 1.2em;}#sk-2ba5d854-c4a0-4f24-a2ed-2bf39fd96e5f div.sk-label-container {position: relative;z-index: 2;text-align: center;}#sk-2ba5d854-c4a0-4f24-a2ed-2bf39fd96e5f div.sk-container {/* jupyter's `normalize.less` sets `[hidden] { display: none; }` but bootstrap.min.css set `[hidden] { display: none !important; }` so we also need the `!important` here to be able to override the default hidden behavior on the sphinx rendered scikit-learn.org. See: https://github.com/scikit-learn/scikit-learn/issues/21755 */display: inline-block !important;position: relative;}#sk-2ba5d854-c4a0-4f24-a2ed-2bf39fd96e5f div.sk-text-repr-fallback {display: none;}</style><div id=\"sk-2ba5d854-c4a0-4f24-a2ed-2bf39fd96e5f\" class=\"sk-top-container\"><div class=\"sk-text-repr-fallback\"><pre>GridSearchCV(cv=10,\n",
              "             estimator=Pipeline(steps=[(&#x27;preprocessor&#x27;,\n",
              "                                        ColumnTransformer(transformers=[(&#x27;num_transformer&#x27;,\n",
              "                                                                         Pipeline(steps=[(&#x27;scaler&#x27;,\n",
              "                                                                                          StandardScaler())]),\n",
              "                                                                         [&#x27;visited_successbookdemo&#x27;,\n",
              "                                                                          &#x27;demo_page_top&#x27;,\n",
              "                                                                          &#x27;newUser&#x27;,\n",
              "                                                                          &#x27;goal4Completions&#x27;,\n",
              "                                                                          &#x27;fired_DemoReqPg_CallClicks_evt&#x27;,\n",
              "                                                                          &#x27;sessionDuration&#x27;,\n",
              "                                                                          &#x27;pageviews&#x27;,\n",
              "                                                                          &#x27;DemoReqPg_CallClicks_evt_count&#x27;,\n",
              "                                                                          &#x27;paid&#x27;,\n",
              "                                                                          &#x27;successbookdemo_top&#x27;,\n",
              "                                                                          &#x27;sessions&#x27;,\n",
              "                                                                          &#x27;visited_demo_page&#x27;,\n",
              "                                                                          &#x27;bounces&#x27;]),\n",
              "                                                                        (&#x27;cat_transformer&#x27;,\n",
              "                                                                         Pipeline(steps=[(&#x27;target&#x27;,\n",
              "                                                                                          TargetEncoder())]),\n",
              "                                                                         [&#x27;region&#x27;,\n",
              "                                                                          &#x27;sourceMedium&#x27;])])),\n",
              "                                       (&#x27;knn&#x27;, KNeighborsClassifier())]),\n",
              "             param_grid={&#x27;knn__metric&#x27;: [&#x27;minkowski&#x27;, &#x27;euclidean&#x27;],\n",
              "                         &#x27;knn__n_neighbors&#x27;: [5, 10, 15, 20, 25],\n",
              "                         &#x27;knn__weights&#x27;: [&#x27;uniform&#x27;, &#x27;distance&#x27;]},\n",
              "             scoring=&#x27;precision&#x27;)</pre><b>Please rerun this cell to show the HTML repr or trust the notebook.</b></div><div class=\"sk-container\" hidden><div class=\"sk-item sk-dashed-wrapped\"><div class=\"sk-label-container\"><div class=\"sk-label sk-toggleable\"><input class=\"sk-toggleable__control sk-hidden--visually\" id=\"ede26af9-8bb5-4394-b0ce-da6ba46a50e3\" type=\"checkbox\" ><label for=\"ede26af9-8bb5-4394-b0ce-da6ba46a50e3\" class=\"sk-toggleable__label sk-toggleable__label-arrow\">GridSearchCV</label><div class=\"sk-toggleable__content\"><pre>GridSearchCV(cv=10,\n",
              "             estimator=Pipeline(steps=[(&#x27;preprocessor&#x27;,\n",
              "                                        ColumnTransformer(transformers=[(&#x27;num_transformer&#x27;,\n",
              "                                                                         Pipeline(steps=[(&#x27;scaler&#x27;,\n",
              "                                                                                          StandardScaler())]),\n",
              "                                                                         [&#x27;visited_successbookdemo&#x27;,\n",
              "                                                                          &#x27;demo_page_top&#x27;,\n",
              "                                                                          &#x27;newUser&#x27;,\n",
              "                                                                          &#x27;goal4Completions&#x27;,\n",
              "                                                                          &#x27;fired_DemoReqPg_CallClicks_evt&#x27;,\n",
              "                                                                          &#x27;sessionDuration&#x27;,\n",
              "                                                                          &#x27;pageviews&#x27;,\n",
              "                                                                          &#x27;DemoReqPg_CallClicks_evt_count&#x27;,\n",
              "                                                                          &#x27;paid&#x27;,\n",
              "                                                                          &#x27;successbookdemo_top&#x27;,\n",
              "                                                                          &#x27;sessions&#x27;,\n",
              "                                                                          &#x27;visited_demo_page&#x27;,\n",
              "                                                                          &#x27;bounces&#x27;]),\n",
              "                                                                        (&#x27;cat_transformer&#x27;,\n",
              "                                                                         Pipeline(steps=[(&#x27;target&#x27;,\n",
              "                                                                                          TargetEncoder())]),\n",
              "                                                                         [&#x27;region&#x27;,\n",
              "                                                                          &#x27;sourceMedium&#x27;])])),\n",
              "                                       (&#x27;knn&#x27;, KNeighborsClassifier())]),\n",
              "             param_grid={&#x27;knn__metric&#x27;: [&#x27;minkowski&#x27;, &#x27;euclidean&#x27;],\n",
              "                         &#x27;knn__n_neighbors&#x27;: [5, 10, 15, 20, 25],\n",
              "                         &#x27;knn__weights&#x27;: [&#x27;uniform&#x27;, &#x27;distance&#x27;]},\n",
              "             scoring=&#x27;precision&#x27;)</pre></div></div></div><div class=\"sk-parallel\"><div class=\"sk-parallel-item\"><div class=\"sk-item\"><div class=\"sk-serial\"><div class=\"sk-item\"><div class=\"sk-serial\"><div class=\"sk-item sk-dashed-wrapped\"><div class=\"sk-label-container\"><div class=\"sk-label sk-toggleable\"><input class=\"sk-toggleable__control sk-hidden--visually\" id=\"9db772c2-ee7a-4375-b2be-74c7be188c37\" type=\"checkbox\" ><label for=\"9db772c2-ee7a-4375-b2be-74c7be188c37\" class=\"sk-toggleable__label sk-toggleable__label-arrow\">preprocessor: ColumnTransformer</label><div class=\"sk-toggleable__content\"><pre>ColumnTransformer(transformers=[(&#x27;num_transformer&#x27;,\n",
              "                                 Pipeline(steps=[(&#x27;scaler&#x27;, StandardScaler())]),\n",
              "                                 [&#x27;visited_successbookdemo&#x27;, &#x27;demo_page_top&#x27;,\n",
              "                                  &#x27;newUser&#x27;, &#x27;goal4Completions&#x27;,\n",
              "                                  &#x27;fired_DemoReqPg_CallClicks_evt&#x27;,\n",
              "                                  &#x27;sessionDuration&#x27;, &#x27;pageviews&#x27;,\n",
              "                                  &#x27;DemoReqPg_CallClicks_evt_count&#x27;, &#x27;paid&#x27;,\n",
              "                                  &#x27;successbookdemo_top&#x27;, &#x27;sessions&#x27;,\n",
              "                                  &#x27;visited_demo_page&#x27;, &#x27;bounces&#x27;]),\n",
              "                                (&#x27;cat_transformer&#x27;,\n",
              "                                 Pipeline(steps=[(&#x27;target&#x27;, TargetEncoder())]),\n",
              "                                 [&#x27;region&#x27;, &#x27;sourceMedium&#x27;])])</pre></div></div></div><div class=\"sk-parallel\"><div class=\"sk-parallel-item\"><div class=\"sk-item\"><div class=\"sk-label-container\"><div class=\"sk-label sk-toggleable\"><input class=\"sk-toggleable__control sk-hidden--visually\" id=\"77ab28e6-8fd2-461c-ab88-380cc7e141c8\" type=\"checkbox\" ><label for=\"77ab28e6-8fd2-461c-ab88-380cc7e141c8\" class=\"sk-toggleable__label sk-toggleable__label-arrow\">num_transformer</label><div class=\"sk-toggleable__content\"><pre>[&#x27;visited_successbookdemo&#x27;, &#x27;demo_page_top&#x27;, &#x27;newUser&#x27;, &#x27;goal4Completions&#x27;, &#x27;fired_DemoReqPg_CallClicks_evt&#x27;, &#x27;sessionDuration&#x27;, &#x27;pageviews&#x27;, &#x27;DemoReqPg_CallClicks_evt_count&#x27;, &#x27;paid&#x27;, &#x27;successbookdemo_top&#x27;, &#x27;sessions&#x27;, &#x27;visited_demo_page&#x27;, &#x27;bounces&#x27;]</pre></div></div></div><div class=\"sk-serial\"><div class=\"sk-item\"><div class=\"sk-serial\"><div class=\"sk-item\"><div class=\"sk-estimator sk-toggleable\"><input class=\"sk-toggleable__control sk-hidden--visually\" id=\"2160576d-2f4c-42b9-bbbb-d40825fc5d43\" type=\"checkbox\" ><label for=\"2160576d-2f4c-42b9-bbbb-d40825fc5d43\" class=\"sk-toggleable__label sk-toggleable__label-arrow\">StandardScaler</label><div class=\"sk-toggleable__content\"><pre>StandardScaler()</pre></div></div></div></div></div></div></div></div><div class=\"sk-parallel-item\"><div class=\"sk-item\"><div class=\"sk-label-container\"><div class=\"sk-label sk-toggleable\"><input class=\"sk-toggleable__control sk-hidden--visually\" id=\"196b62b9-eba3-4f72-8395-f24eabe76218\" type=\"checkbox\" ><label for=\"196b62b9-eba3-4f72-8395-f24eabe76218\" class=\"sk-toggleable__label sk-toggleable__label-arrow\">cat_transformer</label><div class=\"sk-toggleable__content\"><pre>[&#x27;region&#x27;, &#x27;sourceMedium&#x27;]</pre></div></div></div><div class=\"sk-serial\"><div class=\"sk-item\"><div class=\"sk-serial\"><div class=\"sk-item\"><div class=\"sk-estimator sk-toggleable\"><input class=\"sk-toggleable__control sk-hidden--visually\" id=\"9df91c6f-b5fc-4e39-942b-3e85e2ccd7a2\" type=\"checkbox\" ><label for=\"9df91c6f-b5fc-4e39-942b-3e85e2ccd7a2\" class=\"sk-toggleable__label sk-toggleable__label-arrow\">TargetEncoder</label><div class=\"sk-toggleable__content\"><pre>TargetEncoder()</pre></div></div></div></div></div></div></div></div></div></div><div class=\"sk-item\"><div class=\"sk-estimator sk-toggleable\"><input class=\"sk-toggleable__control sk-hidden--visually\" id=\"c51117a1-4a25-4820-88b0-6b8133e25622\" type=\"checkbox\" ><label for=\"c51117a1-4a25-4820-88b0-6b8133e25622\" class=\"sk-toggleable__label sk-toggleable__label-arrow\">KNeighborsClassifier</label><div class=\"sk-toggleable__content\"><pre>KNeighborsClassifier()</pre></div></div></div></div></div></div></div></div></div></div></div></div>"
            ]
          },
          "metadata": {},
          "execution_count": 182
        }
      ],
      "source": [
        "knn_grid_smote.fit(X_train_smotenc[feature_selected],Y_train_smotenc)"
      ]
    },
    {
      "cell_type": "code",
      "execution_count": 185,
      "metadata": {
        "colab": {
          "base_uri": "https://localhost:8080/"
        },
        "id": "hQHu2XtEK0J9",
        "outputId": "b3ae6234-fa04-4863-cdde-da603f04bfd9"
      },
      "outputs": [
        {
          "output_type": "execute_result",
          "data": {
            "text/plain": [
              "0.778405331693629"
            ]
          },
          "metadata": {},
          "execution_count": 185
        }
      ],
      "source": [
        "knn_grid_smote.best_score_"
      ]
    },
    {
      "cell_type": "code",
      "execution_count": 186,
      "metadata": {
        "colab": {
          "base_uri": "https://localhost:8080/"
        },
        "id": "JzpWbJxxKvTK",
        "outputId": "40032762-e40d-4a34-d240-121b1857622b"
      },
      "outputs": [
        {
          "output_type": "execute_result",
          "data": {
            "text/plain": [
              "{'knn__metric': 'minkowski', 'knn__n_neighbors': 5, 'knn__weights': 'distance'}"
            ]
          },
          "metadata": {},
          "execution_count": 186
        }
      ],
      "source": [
        "knn_grid_smote.best_params_"
      ]
    },
    {
      "cell_type": "code",
      "source": [
        "knn_predict_smote=knn_grid_smote.predict(X_test[feature_selected])"
      ],
      "metadata": {
        "id": "gMAT77PkHK-8"
      },
      "execution_count": 187,
      "outputs": []
    },
    {
      "cell_type": "code",
      "source": [
        "print(classification_report(knn_predict_smote,Y_test))"
      ],
      "metadata": {
        "colab": {
          "base_uri": "https://localhost:8080/"
        },
        "id": "zcZSnS8EHgin",
        "outputId": "fac5db98-682d-4557-a9f0-fbbd49db2d33"
      },
      "execution_count": 188,
      "outputs": [
        {
          "output_type": "stream",
          "name": "stdout",
          "text": [
            "              precision    recall  f1-score   support\n",
            "\n",
            "           0       0.77      0.95      0.85      8058\n",
            "           1       0.34      0.08      0.12      2508\n",
            "\n",
            "    accuracy                           0.75     10566\n",
            "   macro avg       0.55      0.52      0.49     10566\n",
            "weighted avg       0.67      0.75      0.68     10566\n",
            "\n"
          ]
        }
      ]
    },
    {
      "cell_type": "markdown",
      "source": [
        "Experiment 3:\n",
        "\n",
        "KNN with OverSampling and UnderSampling\n",
        "\n",
        "Attributes of Experiments: \n",
        "1. OverSampling and UnderSampling\n",
        "2. Scaler Transformation\n",
        "3. Weight of Evidence Encoding"
      ],
      "metadata": {
        "id": "HKc3lJUIjkN4"
      }
    },
    {
      "cell_type": "code",
      "execution_count": 190,
      "metadata": {
        "id": "1OKs_XzcLWCu"
      },
      "outputs": [],
      "source": [
        "knn_v2 = Pipeline(steps=[ \n",
        "                         ('preprocessor', preprocessor2),\n",
        "                          ('knn', knn)])"
      ]
    },
    {
      "cell_type": "code",
      "execution_count": 191,
      "metadata": {
        "id": "98S9pm36LZ6v"
      },
      "outputs": [],
      "source": [
        "knn_grid_v2 = GridSearchCV(knn_v2,\n",
        "                           param_grid=knn_params,\n",
        "                           cv = 10,\n",
        "                           scoring = 'precision')"
      ]
    },
    {
      "cell_type": "code",
      "source": [
        "knn_grid_v2.fit(X_train_sampled_1[feature_selected],X_train_sampled_1['converted'])"
      ],
      "metadata": {
        "colab": {
          "base_uri": "https://localhost:8080/",
          "height": 193
        },
        "id": "Kb_Niw8Bjb6-",
        "outputId": "23af8741-db34-4b36-f367-fe2a71f0b874"
      },
      "execution_count": 192,
      "outputs": [
        {
          "output_type": "execute_result",
          "data": {
            "text/plain": [
              "GridSearchCV(cv=10,\n",
              "             estimator=Pipeline(steps=[('preprocessor',\n",
              "                                        ColumnTransformer(transformers=[('num_transformer',\n",
              "                                                                         Pipeline(steps=[('scaler',\n",
              "                                                                                          StandardScaler())]),\n",
              "                                                                         ['visited_successbookdemo',\n",
              "                                                                          'demo_page_top',\n",
              "                                                                          'newUser',\n",
              "                                                                          'goal4Completions',\n",
              "                                                                          'fired_DemoReqPg_CallClicks_evt',\n",
              "                                                                          'sessionDuration',\n",
              "                                                                          'pageviews',\n",
              "                                                                          'DemoReqPg_CallClicks_evt_count',\n",
              "                                                                          'paid',\n",
              "                                                                          'successbookdemo_top',\n",
              "                                                                          'sessions',\n",
              "                                                                          'visited_demo_page',\n",
              "                                                                          'bounces']),\n",
              "                                                                        ('woe_transformer',\n",
              "                                                                         Pipeline(steps=[('woe',\n",
              "                                                                                          WOEEncoder())]),\n",
              "                                                                         ['region',\n",
              "                                                                          'sourceMedium'])])),\n",
              "                                       ('knn', KNeighborsClassifier())]),\n",
              "             param_grid={'knn__metric': ['minkowski', 'euclidean'],\n",
              "                         'knn__n_neighbors': [5, 10, 15, 20, 25],\n",
              "                         'knn__weights': ['uniform', 'distance']},\n",
              "             scoring='precision')"
            ],
            "text/html": [
              "<style>#sk-ddd50aca-6f27-4642-8c2e-f71a703204cb {color: black;background-color: white;}#sk-ddd50aca-6f27-4642-8c2e-f71a703204cb pre{padding: 0;}#sk-ddd50aca-6f27-4642-8c2e-f71a703204cb div.sk-toggleable {background-color: white;}#sk-ddd50aca-6f27-4642-8c2e-f71a703204cb label.sk-toggleable__label {cursor: pointer;display: block;width: 100%;margin-bottom: 0;padding: 0.3em;box-sizing: border-box;text-align: center;}#sk-ddd50aca-6f27-4642-8c2e-f71a703204cb label.sk-toggleable__label-arrow:before {content: \"▸\";float: left;margin-right: 0.25em;color: #696969;}#sk-ddd50aca-6f27-4642-8c2e-f71a703204cb label.sk-toggleable__label-arrow:hover:before {color: black;}#sk-ddd50aca-6f27-4642-8c2e-f71a703204cb div.sk-estimator:hover label.sk-toggleable__label-arrow:before {color: black;}#sk-ddd50aca-6f27-4642-8c2e-f71a703204cb div.sk-toggleable__content {max-height: 0;max-width: 0;overflow: hidden;text-align: left;background-color: #f0f8ff;}#sk-ddd50aca-6f27-4642-8c2e-f71a703204cb div.sk-toggleable__content pre {margin: 0.2em;color: black;border-radius: 0.25em;background-color: #f0f8ff;}#sk-ddd50aca-6f27-4642-8c2e-f71a703204cb input.sk-toggleable__control:checked~div.sk-toggleable__content {max-height: 200px;max-width: 100%;overflow: auto;}#sk-ddd50aca-6f27-4642-8c2e-f71a703204cb input.sk-toggleable__control:checked~label.sk-toggleable__label-arrow:before {content: \"▾\";}#sk-ddd50aca-6f27-4642-8c2e-f71a703204cb div.sk-estimator input.sk-toggleable__control:checked~label.sk-toggleable__label {background-color: #d4ebff;}#sk-ddd50aca-6f27-4642-8c2e-f71a703204cb div.sk-label input.sk-toggleable__control:checked~label.sk-toggleable__label {background-color: #d4ebff;}#sk-ddd50aca-6f27-4642-8c2e-f71a703204cb input.sk-hidden--visually {border: 0;clip: rect(1px 1px 1px 1px);clip: rect(1px, 1px, 1px, 1px);height: 1px;margin: -1px;overflow: hidden;padding: 0;position: absolute;width: 1px;}#sk-ddd50aca-6f27-4642-8c2e-f71a703204cb div.sk-estimator {font-family: monospace;background-color: #f0f8ff;border: 1px dotted black;border-radius: 0.25em;box-sizing: border-box;margin-bottom: 0.5em;}#sk-ddd50aca-6f27-4642-8c2e-f71a703204cb div.sk-estimator:hover {background-color: #d4ebff;}#sk-ddd50aca-6f27-4642-8c2e-f71a703204cb div.sk-parallel-item::after {content: \"\";width: 100%;border-bottom: 1px solid gray;flex-grow: 1;}#sk-ddd50aca-6f27-4642-8c2e-f71a703204cb div.sk-label:hover label.sk-toggleable__label {background-color: #d4ebff;}#sk-ddd50aca-6f27-4642-8c2e-f71a703204cb div.sk-serial::before {content: \"\";position: absolute;border-left: 1px solid gray;box-sizing: border-box;top: 2em;bottom: 0;left: 50%;}#sk-ddd50aca-6f27-4642-8c2e-f71a703204cb div.sk-serial {display: flex;flex-direction: column;align-items: center;background-color: white;padding-right: 0.2em;padding-left: 0.2em;}#sk-ddd50aca-6f27-4642-8c2e-f71a703204cb div.sk-item {z-index: 1;}#sk-ddd50aca-6f27-4642-8c2e-f71a703204cb div.sk-parallel {display: flex;align-items: stretch;justify-content: center;background-color: white;}#sk-ddd50aca-6f27-4642-8c2e-f71a703204cb div.sk-parallel::before {content: \"\";position: absolute;border-left: 1px solid gray;box-sizing: border-box;top: 2em;bottom: 0;left: 50%;}#sk-ddd50aca-6f27-4642-8c2e-f71a703204cb div.sk-parallel-item {display: flex;flex-direction: column;position: relative;background-color: white;}#sk-ddd50aca-6f27-4642-8c2e-f71a703204cb div.sk-parallel-item:first-child::after {align-self: flex-end;width: 50%;}#sk-ddd50aca-6f27-4642-8c2e-f71a703204cb div.sk-parallel-item:last-child::after {align-self: flex-start;width: 50%;}#sk-ddd50aca-6f27-4642-8c2e-f71a703204cb div.sk-parallel-item:only-child::after {width: 0;}#sk-ddd50aca-6f27-4642-8c2e-f71a703204cb div.sk-dashed-wrapped {border: 1px dashed gray;margin: 0 0.4em 0.5em 0.4em;box-sizing: border-box;padding-bottom: 0.4em;background-color: white;position: relative;}#sk-ddd50aca-6f27-4642-8c2e-f71a703204cb div.sk-label label {font-family: monospace;font-weight: bold;background-color: white;display: inline-block;line-height: 1.2em;}#sk-ddd50aca-6f27-4642-8c2e-f71a703204cb div.sk-label-container {position: relative;z-index: 2;text-align: center;}#sk-ddd50aca-6f27-4642-8c2e-f71a703204cb div.sk-container {/* jupyter's `normalize.less` sets `[hidden] { display: none; }` but bootstrap.min.css set `[hidden] { display: none !important; }` so we also need the `!important` here to be able to override the default hidden behavior on the sphinx rendered scikit-learn.org. See: https://github.com/scikit-learn/scikit-learn/issues/21755 */display: inline-block !important;position: relative;}#sk-ddd50aca-6f27-4642-8c2e-f71a703204cb div.sk-text-repr-fallback {display: none;}</style><div id=\"sk-ddd50aca-6f27-4642-8c2e-f71a703204cb\" class=\"sk-top-container\"><div class=\"sk-text-repr-fallback\"><pre>GridSearchCV(cv=10,\n",
              "             estimator=Pipeline(steps=[(&#x27;preprocessor&#x27;,\n",
              "                                        ColumnTransformer(transformers=[(&#x27;num_transformer&#x27;,\n",
              "                                                                         Pipeline(steps=[(&#x27;scaler&#x27;,\n",
              "                                                                                          StandardScaler())]),\n",
              "                                                                         [&#x27;visited_successbookdemo&#x27;,\n",
              "                                                                          &#x27;demo_page_top&#x27;,\n",
              "                                                                          &#x27;newUser&#x27;,\n",
              "                                                                          &#x27;goal4Completions&#x27;,\n",
              "                                                                          &#x27;fired_DemoReqPg_CallClicks_evt&#x27;,\n",
              "                                                                          &#x27;sessionDuration&#x27;,\n",
              "                                                                          &#x27;pageviews&#x27;,\n",
              "                                                                          &#x27;DemoReqPg_CallClicks_evt_count&#x27;,\n",
              "                                                                          &#x27;paid&#x27;,\n",
              "                                                                          &#x27;successbookdemo_top&#x27;,\n",
              "                                                                          &#x27;sessions&#x27;,\n",
              "                                                                          &#x27;visited_demo_page&#x27;,\n",
              "                                                                          &#x27;bounces&#x27;]),\n",
              "                                                                        (&#x27;woe_transformer&#x27;,\n",
              "                                                                         Pipeline(steps=[(&#x27;woe&#x27;,\n",
              "                                                                                          WOEEncoder())]),\n",
              "                                                                         [&#x27;region&#x27;,\n",
              "                                                                          &#x27;sourceMedium&#x27;])])),\n",
              "                                       (&#x27;knn&#x27;, KNeighborsClassifier())]),\n",
              "             param_grid={&#x27;knn__metric&#x27;: [&#x27;minkowski&#x27;, &#x27;euclidean&#x27;],\n",
              "                         &#x27;knn__n_neighbors&#x27;: [5, 10, 15, 20, 25],\n",
              "                         &#x27;knn__weights&#x27;: [&#x27;uniform&#x27;, &#x27;distance&#x27;]},\n",
              "             scoring=&#x27;precision&#x27;)</pre><b>Please rerun this cell to show the HTML repr or trust the notebook.</b></div><div class=\"sk-container\" hidden><div class=\"sk-item sk-dashed-wrapped\"><div class=\"sk-label-container\"><div class=\"sk-label sk-toggleable\"><input class=\"sk-toggleable__control sk-hidden--visually\" id=\"c8c9c39a-b90f-41eb-b43e-2294ea0733ec\" type=\"checkbox\" ><label for=\"c8c9c39a-b90f-41eb-b43e-2294ea0733ec\" class=\"sk-toggleable__label sk-toggleable__label-arrow\">GridSearchCV</label><div class=\"sk-toggleable__content\"><pre>GridSearchCV(cv=10,\n",
              "             estimator=Pipeline(steps=[(&#x27;preprocessor&#x27;,\n",
              "                                        ColumnTransformer(transformers=[(&#x27;num_transformer&#x27;,\n",
              "                                                                         Pipeline(steps=[(&#x27;scaler&#x27;,\n",
              "                                                                                          StandardScaler())]),\n",
              "                                                                         [&#x27;visited_successbookdemo&#x27;,\n",
              "                                                                          &#x27;demo_page_top&#x27;,\n",
              "                                                                          &#x27;newUser&#x27;,\n",
              "                                                                          &#x27;goal4Completions&#x27;,\n",
              "                                                                          &#x27;fired_DemoReqPg_CallClicks_evt&#x27;,\n",
              "                                                                          &#x27;sessionDuration&#x27;,\n",
              "                                                                          &#x27;pageviews&#x27;,\n",
              "                                                                          &#x27;DemoReqPg_CallClicks_evt_count&#x27;,\n",
              "                                                                          &#x27;paid&#x27;,\n",
              "                                                                          &#x27;successbookdemo_top&#x27;,\n",
              "                                                                          &#x27;sessions&#x27;,\n",
              "                                                                          &#x27;visited_demo_page&#x27;,\n",
              "                                                                          &#x27;bounces&#x27;]),\n",
              "                                                                        (&#x27;woe_transformer&#x27;,\n",
              "                                                                         Pipeline(steps=[(&#x27;woe&#x27;,\n",
              "                                                                                          WOEEncoder())]),\n",
              "                                                                         [&#x27;region&#x27;,\n",
              "                                                                          &#x27;sourceMedium&#x27;])])),\n",
              "                                       (&#x27;knn&#x27;, KNeighborsClassifier())]),\n",
              "             param_grid={&#x27;knn__metric&#x27;: [&#x27;minkowski&#x27;, &#x27;euclidean&#x27;],\n",
              "                         &#x27;knn__n_neighbors&#x27;: [5, 10, 15, 20, 25],\n",
              "                         &#x27;knn__weights&#x27;: [&#x27;uniform&#x27;, &#x27;distance&#x27;]},\n",
              "             scoring=&#x27;precision&#x27;)</pre></div></div></div><div class=\"sk-parallel\"><div class=\"sk-parallel-item\"><div class=\"sk-item\"><div class=\"sk-serial\"><div class=\"sk-item\"><div class=\"sk-serial\"><div class=\"sk-item sk-dashed-wrapped\"><div class=\"sk-label-container\"><div class=\"sk-label sk-toggleable\"><input class=\"sk-toggleable__control sk-hidden--visually\" id=\"a7717fc0-d90e-49c4-af0c-eb6f86f81f07\" type=\"checkbox\" ><label for=\"a7717fc0-d90e-49c4-af0c-eb6f86f81f07\" class=\"sk-toggleable__label sk-toggleable__label-arrow\">preprocessor: ColumnTransformer</label><div class=\"sk-toggleable__content\"><pre>ColumnTransformer(transformers=[(&#x27;num_transformer&#x27;,\n",
              "                                 Pipeline(steps=[(&#x27;scaler&#x27;, StandardScaler())]),\n",
              "                                 [&#x27;visited_successbookdemo&#x27;, &#x27;demo_page_top&#x27;,\n",
              "                                  &#x27;newUser&#x27;, &#x27;goal4Completions&#x27;,\n",
              "                                  &#x27;fired_DemoReqPg_CallClicks_evt&#x27;,\n",
              "                                  &#x27;sessionDuration&#x27;, &#x27;pageviews&#x27;,\n",
              "                                  &#x27;DemoReqPg_CallClicks_evt_count&#x27;, &#x27;paid&#x27;,\n",
              "                                  &#x27;successbookdemo_top&#x27;, &#x27;sessions&#x27;,\n",
              "                                  &#x27;visited_demo_page&#x27;, &#x27;bounces&#x27;]),\n",
              "                                (&#x27;woe_transformer&#x27;,\n",
              "                                 Pipeline(steps=[(&#x27;woe&#x27;, WOEEncoder())]),\n",
              "                                 [&#x27;region&#x27;, &#x27;sourceMedium&#x27;])])</pre></div></div></div><div class=\"sk-parallel\"><div class=\"sk-parallel-item\"><div class=\"sk-item\"><div class=\"sk-label-container\"><div class=\"sk-label sk-toggleable\"><input class=\"sk-toggleable__control sk-hidden--visually\" id=\"9f801c2a-3a0e-4bba-9e58-ddefe48d19f9\" type=\"checkbox\" ><label for=\"9f801c2a-3a0e-4bba-9e58-ddefe48d19f9\" class=\"sk-toggleable__label sk-toggleable__label-arrow\">num_transformer</label><div class=\"sk-toggleable__content\"><pre>[&#x27;visited_successbookdemo&#x27;, &#x27;demo_page_top&#x27;, &#x27;newUser&#x27;, &#x27;goal4Completions&#x27;, &#x27;fired_DemoReqPg_CallClicks_evt&#x27;, &#x27;sessionDuration&#x27;, &#x27;pageviews&#x27;, &#x27;DemoReqPg_CallClicks_evt_count&#x27;, &#x27;paid&#x27;, &#x27;successbookdemo_top&#x27;, &#x27;sessions&#x27;, &#x27;visited_demo_page&#x27;, &#x27;bounces&#x27;]</pre></div></div></div><div class=\"sk-serial\"><div class=\"sk-item\"><div class=\"sk-serial\"><div class=\"sk-item\"><div class=\"sk-estimator sk-toggleable\"><input class=\"sk-toggleable__control sk-hidden--visually\" id=\"64c82a18-bdf3-490f-afd1-d6ef1b14e821\" type=\"checkbox\" ><label for=\"64c82a18-bdf3-490f-afd1-d6ef1b14e821\" class=\"sk-toggleable__label sk-toggleable__label-arrow\">StandardScaler</label><div class=\"sk-toggleable__content\"><pre>StandardScaler()</pre></div></div></div></div></div></div></div></div><div class=\"sk-parallel-item\"><div class=\"sk-item\"><div class=\"sk-label-container\"><div class=\"sk-label sk-toggleable\"><input class=\"sk-toggleable__control sk-hidden--visually\" id=\"64320aac-fba8-4dd1-971c-295c5ec7a6ea\" type=\"checkbox\" ><label for=\"64320aac-fba8-4dd1-971c-295c5ec7a6ea\" class=\"sk-toggleable__label sk-toggleable__label-arrow\">woe_transformer</label><div class=\"sk-toggleable__content\"><pre>[&#x27;region&#x27;, &#x27;sourceMedium&#x27;]</pre></div></div></div><div class=\"sk-serial\"><div class=\"sk-item\"><div class=\"sk-serial\"><div class=\"sk-item\"><div class=\"sk-estimator sk-toggleable\"><input class=\"sk-toggleable__control sk-hidden--visually\" id=\"106298e3-8a69-41eb-aacb-18188da7c1f1\" type=\"checkbox\" ><label for=\"106298e3-8a69-41eb-aacb-18188da7c1f1\" class=\"sk-toggleable__label sk-toggleable__label-arrow\">WOEEncoder</label><div class=\"sk-toggleable__content\"><pre>WOEEncoder()</pre></div></div></div></div></div></div></div></div></div></div><div class=\"sk-item\"><div class=\"sk-estimator sk-toggleable\"><input class=\"sk-toggleable__control sk-hidden--visually\" id=\"12be3b3f-ed1e-4301-9e24-65b7e6f7e774\" type=\"checkbox\" ><label for=\"12be3b3f-ed1e-4301-9e24-65b7e6f7e774\" class=\"sk-toggleable__label sk-toggleable__label-arrow\">KNeighborsClassifier</label><div class=\"sk-toggleable__content\"><pre>KNeighborsClassifier()</pre></div></div></div></div></div></div></div></div></div></div></div></div>"
            ]
          },
          "metadata": {},
          "execution_count": 192
        }
      ]
    },
    {
      "cell_type": "code",
      "source": [
        "knn_grid_v2.best_score_"
      ],
      "metadata": {
        "colab": {
          "base_uri": "https://localhost:8080/"
        },
        "id": "v543xenKjcGs",
        "outputId": "296f6727-0dff-4028-a121-cef6f6061a57"
      },
      "execution_count": 193,
      "outputs": [
        {
          "output_type": "execute_result",
          "data": {
            "text/plain": [
              "0.8084489475785992"
            ]
          },
          "metadata": {},
          "execution_count": 193
        }
      ]
    },
    {
      "cell_type": "code",
      "source": [
        "knn_grid_v2.best_params_"
      ],
      "metadata": {
        "colab": {
          "base_uri": "https://localhost:8080/"
        },
        "id": "cq7WsItPjcPl",
        "outputId": "4b311b4e-03b4-48b6-adbe-a1a656e55413"
      },
      "execution_count": 194,
      "outputs": [
        {
          "output_type": "execute_result",
          "data": {
            "text/plain": [
              "{'knn__metric': 'minkowski', 'knn__n_neighbors': 5, 'knn__weights': 'distance'}"
            ]
          },
          "metadata": {},
          "execution_count": 194
        }
      ]
    },
    {
      "cell_type": "code",
      "source": [
        "knn_grid_v2_predict=knn_grid_v2.predict(X_test[feature_selected])"
      ],
      "metadata": {
        "id": "nv2qUstnj-x5"
      },
      "execution_count": 195,
      "outputs": []
    },
    {
      "cell_type": "code",
      "source": [
        "print(classification_report(knn_grid_v2_predict,Y_test))"
      ],
      "metadata": {
        "colab": {
          "base_uri": "https://localhost:8080/"
        },
        "id": "mJF5Fr9gJ5Vd",
        "outputId": "ff577db8-dded-4b9c-a24c-99f085fda76f"
      },
      "execution_count": 196,
      "outputs": [
        {
          "output_type": "stream",
          "name": "stdout",
          "text": [
            "              precision    recall  f1-score   support\n",
            "\n",
            "           0       0.77      0.96      0.86      8054\n",
            "           1       0.42      0.09      0.15      2512\n",
            "\n",
            "    accuracy                           0.75     10566\n",
            "   macro avg       0.59      0.53      0.50     10566\n",
            "weighted avg       0.69      0.75      0.69     10566\n",
            "\n"
          ]
        }
      ]
    },
    {
      "cell_type": "markdown",
      "source": [
        "Experiment 4:\n",
        "\n",
        "LDA with OverSampling and UnderSampling\n",
        "\n",
        "Attributes of Experiments: \n",
        "1. OverSampling and UnderSampling\n",
        "2. Scaler Transformation\n",
        "3. Target Encoding"
      ],
      "metadata": {
        "id": "FZ7oMomAkK1K"
      }
    },
    {
      "cell_type": "code",
      "execution_count": 131,
      "metadata": {
        "id": "Ld46qiaFOiGh"
      },
      "outputs": [],
      "source": [
        "from sklearn.discriminant_analysis import LinearDiscriminantAnalysis\n",
        "lda = LinearDiscriminantAnalysis()"
      ]
    },
    {
      "cell_type": "code",
      "execution_count": 132,
      "metadata": {
        "id": "TLicvwlfOtIb"
      },
      "outputs": [],
      "source": [
        "lda_cl = Pipeline(steps=[ \n",
        "                         ('preprocessor', preprocessor),\n",
        "                          ('lda',lda )])"
      ]
    },
    {
      "cell_type": "code",
      "execution_count": 133,
      "metadata": {
        "id": "0sEOK6MnOyQF"
      },
      "outputs": [],
      "source": [
        "from sklearn.model_selection import GridSearchCV,StratifiedKFold\n",
        "\n",
        "params = {\n",
        " 'lda__solver': ['svd', 'lsqr', 'eigen']\n",
        "}\n",
        "stratified_kfold = StratifiedKFold(n_splits=10,\n",
        "                                       shuffle=True,\n",
        "                                       random_state=11)\n",
        "lda_search = GridSearchCV(lda_cl,\n",
        "                          param_grid=params,\n",
        "                          cv=stratified_kfold,\n",
        "                          scoring='precision')"
      ]
    },
    {
      "cell_type": "code",
      "execution_count": 134,
      "metadata": {
        "colab": {
          "base_uri": "https://localhost:8080/"
        },
        "id": "CdQdu7hMO066",
        "outputId": "b93c55c6-6a9f-4dde-8a59-89a04cdbc14b"
      },
      "outputs": [
        {
          "output_type": "execute_result",
          "data": {
            "text/plain": [
              "GridSearchCV(cv=StratifiedKFold(n_splits=10, random_state=11, shuffle=True),\n",
              "             estimator=Pipeline(steps=[('preprocessor',\n",
              "                                        ColumnTransformer(transformers=[('num_transformer',\n",
              "                                                                         Pipeline(steps=[('scaler',\n",
              "                                                                                          StandardScaler())]),\n",
              "                                                                         ['visited_successbookdemo',\n",
              "                                                                          'demo_page_top',\n",
              "                                                                          'newUser',\n",
              "                                                                          'goal4Completions',\n",
              "                                                                          'fired_DemoReqPg_CallClicks_evt',\n",
              "                                                                          'sessionDuration',\n",
              "                                                                          'pageviews',\n",
              "                                                                          'DemoReqPg_CallClicks_evt_count',\n",
              "                                                                          'paid',\n",
              "                                                                          'successbookdemo_top',\n",
              "                                                                          'sessions',\n",
              "                                                                          'visited_demo_page',\n",
              "                                                                          'bounces']),\n",
              "                                                                        ('cat_transformer',\n",
              "                                                                         Pipeline(steps=[('target',\n",
              "                                                                                          TargetEncoder())]),\n",
              "                                                                         ['region',\n",
              "                                                                          'sourceMedium'])])),\n",
              "                                       ('lda', LinearDiscriminantAnalysis())]),\n",
              "             param_grid={'lda__solver': ['svd', 'lsqr', 'eigen']},\n",
              "             scoring='precision')"
            ]
          },
          "metadata": {},
          "execution_count": 134
        }
      ],
      "source": [
        "lda_search.fit(X_train_sampled_1[feature_selected],X_train_sampled_1['converted'])"
      ]
    },
    {
      "cell_type": "code",
      "execution_count": 135,
      "metadata": {
        "colab": {
          "base_uri": "https://localhost:8080/"
        },
        "id": "pMTHNIR4O8k4",
        "outputId": "4e46f47a-f594-44fa-9c16-a5b060f24b0c"
      },
      "outputs": [
        {
          "output_type": "execute_result",
          "data": {
            "text/plain": [
              "0.6739225333386182"
            ]
          },
          "metadata": {},
          "execution_count": 135
        }
      ],
      "source": [
        "lda_search.best_score_"
      ]
    },
    {
      "cell_type": "code",
      "source": [
        "lda_search.best_params_"
      ],
      "metadata": {
        "colab": {
          "base_uri": "https://localhost:8080/"
        },
        "id": "PiXOyQv5ktmn",
        "outputId": "26da6b70-ac30-4835-ae6f-71a072501155"
      },
      "execution_count": 150,
      "outputs": [
        {
          "output_type": "execute_result",
          "data": {
            "text/plain": [
              "{'lda__solver': 'svd'}"
            ]
          },
          "metadata": {},
          "execution_count": 150
        }
      ]
    },
    {
      "cell_type": "code",
      "source": [
        "lda_predict=lda_search.predict(X_test[feature_selected])"
      ],
      "metadata": {
        "id": "kYrVK_Q4E2lR"
      },
      "execution_count": 154,
      "outputs": []
    },
    {
      "cell_type": "code",
      "source": [
        "from sklearn.metrics import classification_report\n",
        "print(classification_report(lda_predict,Y_test))"
      ],
      "metadata": {
        "colab": {
          "base_uri": "https://localhost:8080/"
        },
        "id": "NCswtiptEdYs",
        "outputId": "9077941e-6673-4105-d09a-118254604b3b"
      },
      "execution_count": 157,
      "outputs": [
        {
          "output_type": "stream",
          "name": "stdout",
          "text": [
            "              precision    recall  f1-score   support\n",
            "\n",
            "           0       0.70      0.97      0.82      7251\n",
            "           1       0.63      0.11      0.18      3315\n",
            "\n",
            "    accuracy                           0.70     10566\n",
            "   macro avg       0.66      0.54      0.50     10566\n",
            "weighted avg       0.68      0.70      0.62     10566\n",
            "\n"
          ]
        }
      ]
    },
    {
      "cell_type": "markdown",
      "source": [
        "Experiment 5:\n",
        "\n",
        "LDA with SMOTE\n",
        "\n",
        "Attributes of Experiments: \n",
        "1. SMOTE\n",
        "2. Scaler Transformation\n",
        "3. Target Encoding"
      ],
      "metadata": {
        "id": "YxMOr8iJlFrs"
      }
    },
    {
      "cell_type": "code",
      "source": [
        "lda_smote = Pipeline(steps=[ \n",
        "                         ('preprocessor', preprocessor),\n",
        "                          ('lda',lda )])"
      ],
      "metadata": {
        "id": "uk8AR72klExH"
      },
      "execution_count": 161,
      "outputs": []
    },
    {
      "cell_type": "code",
      "source": [
        "params = {\n",
        " 'lda__solver': ['svd', 'lsqr', 'eigen']\n",
        "}\n",
        "stratified_kfold = StratifiedKFold(n_splits=10,\n",
        "                                       shuffle=True,\n",
        "                                       random_state=11)\n",
        "lda_search_smote = GridSearchCV(lda_smote,\n",
        "                          param_grid=params,\n",
        "                          cv=stratified_kfold,\n",
        "                          scoring='precision')"
      ],
      "metadata": {
        "id": "SKrQ-RDVlNWs"
      },
      "execution_count": 197,
      "outputs": []
    },
    {
      "cell_type": "code",
      "source": [
        "lda_search_smote.fit(X_train_smotenc[feature_selected],Y_train_smotenc)"
      ],
      "metadata": {
        "colab": {
          "base_uri": "https://localhost:8080/",
          "height": 193
        },
        "id": "_1icgpFbleyB",
        "outputId": "408eadad-6bb0-430e-f7cf-a7f0ccf03bfb"
      },
      "execution_count": 198,
      "outputs": [
        {
          "output_type": "execute_result",
          "data": {
            "text/plain": [
              "GridSearchCV(cv=StratifiedKFold(n_splits=10, random_state=11, shuffle=True),\n",
              "             estimator=Pipeline(steps=[('preprocessor',\n",
              "                                        ColumnTransformer(transformers=[('num_transformer',\n",
              "                                                                         Pipeline(steps=[('scaler',\n",
              "                                                                                          StandardScaler())]),\n",
              "                                                                         ['visited_successbookdemo',\n",
              "                                                                          'demo_page_top',\n",
              "                                                                          'newUser',\n",
              "                                                                          'goal4Completions',\n",
              "                                                                          'fired_DemoReqPg_CallClicks_evt',\n",
              "                                                                          'sessionDuration',\n",
              "                                                                          'pageviews',\n",
              "                                                                          'DemoReqPg_CallClicks_evt_count',\n",
              "                                                                          'paid',\n",
              "                                                                          'successbookdemo_top',\n",
              "                                                                          'sessions',\n",
              "                                                                          'visited_demo_page',\n",
              "                                                                          'bounces']),\n",
              "                                                                        ('cat_transformer',\n",
              "                                                                         Pipeline(steps=[('target',\n",
              "                                                                                          TargetEncoder())]),\n",
              "                                                                         ['region',\n",
              "                                                                          'sourceMedium'])])),\n",
              "                                       ('lda', LinearDiscriminantAnalysis())]),\n",
              "             param_grid={'lda__solver': ['svd', 'lsqr', 'eigen']},\n",
              "             scoring='precision')"
            ],
            "text/html": [
              "<style>#sk-9f294af7-35e2-4990-8478-d132c6f0c3b2 {color: black;background-color: white;}#sk-9f294af7-35e2-4990-8478-d132c6f0c3b2 pre{padding: 0;}#sk-9f294af7-35e2-4990-8478-d132c6f0c3b2 div.sk-toggleable {background-color: white;}#sk-9f294af7-35e2-4990-8478-d132c6f0c3b2 label.sk-toggleable__label {cursor: pointer;display: block;width: 100%;margin-bottom: 0;padding: 0.3em;box-sizing: border-box;text-align: center;}#sk-9f294af7-35e2-4990-8478-d132c6f0c3b2 label.sk-toggleable__label-arrow:before {content: \"▸\";float: left;margin-right: 0.25em;color: #696969;}#sk-9f294af7-35e2-4990-8478-d132c6f0c3b2 label.sk-toggleable__label-arrow:hover:before {color: black;}#sk-9f294af7-35e2-4990-8478-d132c6f0c3b2 div.sk-estimator:hover label.sk-toggleable__label-arrow:before {color: black;}#sk-9f294af7-35e2-4990-8478-d132c6f0c3b2 div.sk-toggleable__content {max-height: 0;max-width: 0;overflow: hidden;text-align: left;background-color: #f0f8ff;}#sk-9f294af7-35e2-4990-8478-d132c6f0c3b2 div.sk-toggleable__content pre {margin: 0.2em;color: black;border-radius: 0.25em;background-color: #f0f8ff;}#sk-9f294af7-35e2-4990-8478-d132c6f0c3b2 input.sk-toggleable__control:checked~div.sk-toggleable__content {max-height: 200px;max-width: 100%;overflow: auto;}#sk-9f294af7-35e2-4990-8478-d132c6f0c3b2 input.sk-toggleable__control:checked~label.sk-toggleable__label-arrow:before {content: \"▾\";}#sk-9f294af7-35e2-4990-8478-d132c6f0c3b2 div.sk-estimator input.sk-toggleable__control:checked~label.sk-toggleable__label {background-color: #d4ebff;}#sk-9f294af7-35e2-4990-8478-d132c6f0c3b2 div.sk-label input.sk-toggleable__control:checked~label.sk-toggleable__label {background-color: #d4ebff;}#sk-9f294af7-35e2-4990-8478-d132c6f0c3b2 input.sk-hidden--visually {border: 0;clip: rect(1px 1px 1px 1px);clip: rect(1px, 1px, 1px, 1px);height: 1px;margin: -1px;overflow: hidden;padding: 0;position: absolute;width: 1px;}#sk-9f294af7-35e2-4990-8478-d132c6f0c3b2 div.sk-estimator {font-family: monospace;background-color: #f0f8ff;border: 1px dotted black;border-radius: 0.25em;box-sizing: border-box;margin-bottom: 0.5em;}#sk-9f294af7-35e2-4990-8478-d132c6f0c3b2 div.sk-estimator:hover {background-color: #d4ebff;}#sk-9f294af7-35e2-4990-8478-d132c6f0c3b2 div.sk-parallel-item::after {content: \"\";width: 100%;border-bottom: 1px solid gray;flex-grow: 1;}#sk-9f294af7-35e2-4990-8478-d132c6f0c3b2 div.sk-label:hover label.sk-toggleable__label {background-color: #d4ebff;}#sk-9f294af7-35e2-4990-8478-d132c6f0c3b2 div.sk-serial::before {content: \"\";position: absolute;border-left: 1px solid gray;box-sizing: border-box;top: 2em;bottom: 0;left: 50%;}#sk-9f294af7-35e2-4990-8478-d132c6f0c3b2 div.sk-serial {display: flex;flex-direction: column;align-items: center;background-color: white;padding-right: 0.2em;padding-left: 0.2em;}#sk-9f294af7-35e2-4990-8478-d132c6f0c3b2 div.sk-item {z-index: 1;}#sk-9f294af7-35e2-4990-8478-d132c6f0c3b2 div.sk-parallel {display: flex;align-items: stretch;justify-content: center;background-color: white;}#sk-9f294af7-35e2-4990-8478-d132c6f0c3b2 div.sk-parallel::before {content: \"\";position: absolute;border-left: 1px solid gray;box-sizing: border-box;top: 2em;bottom: 0;left: 50%;}#sk-9f294af7-35e2-4990-8478-d132c6f0c3b2 div.sk-parallel-item {display: flex;flex-direction: column;position: relative;background-color: white;}#sk-9f294af7-35e2-4990-8478-d132c6f0c3b2 div.sk-parallel-item:first-child::after {align-self: flex-end;width: 50%;}#sk-9f294af7-35e2-4990-8478-d132c6f0c3b2 div.sk-parallel-item:last-child::after {align-self: flex-start;width: 50%;}#sk-9f294af7-35e2-4990-8478-d132c6f0c3b2 div.sk-parallel-item:only-child::after {width: 0;}#sk-9f294af7-35e2-4990-8478-d132c6f0c3b2 div.sk-dashed-wrapped {border: 1px dashed gray;margin: 0 0.4em 0.5em 0.4em;box-sizing: border-box;padding-bottom: 0.4em;background-color: white;position: relative;}#sk-9f294af7-35e2-4990-8478-d132c6f0c3b2 div.sk-label label {font-family: monospace;font-weight: bold;background-color: white;display: inline-block;line-height: 1.2em;}#sk-9f294af7-35e2-4990-8478-d132c6f0c3b2 div.sk-label-container {position: relative;z-index: 2;text-align: center;}#sk-9f294af7-35e2-4990-8478-d132c6f0c3b2 div.sk-container {/* jupyter's `normalize.less` sets `[hidden] { display: none; }` but bootstrap.min.css set `[hidden] { display: none !important; }` so we also need the `!important` here to be able to override the default hidden behavior on the sphinx rendered scikit-learn.org. See: https://github.com/scikit-learn/scikit-learn/issues/21755 */display: inline-block !important;position: relative;}#sk-9f294af7-35e2-4990-8478-d132c6f0c3b2 div.sk-text-repr-fallback {display: none;}</style><div id=\"sk-9f294af7-35e2-4990-8478-d132c6f0c3b2\" class=\"sk-top-container\"><div class=\"sk-text-repr-fallback\"><pre>GridSearchCV(cv=StratifiedKFold(n_splits=10, random_state=11, shuffle=True),\n",
              "             estimator=Pipeline(steps=[(&#x27;preprocessor&#x27;,\n",
              "                                        ColumnTransformer(transformers=[(&#x27;num_transformer&#x27;,\n",
              "                                                                         Pipeline(steps=[(&#x27;scaler&#x27;,\n",
              "                                                                                          StandardScaler())]),\n",
              "                                                                         [&#x27;visited_successbookdemo&#x27;,\n",
              "                                                                          &#x27;demo_page_top&#x27;,\n",
              "                                                                          &#x27;newUser&#x27;,\n",
              "                                                                          &#x27;goal4Completions&#x27;,\n",
              "                                                                          &#x27;fired_DemoReqPg_CallClicks_evt&#x27;,\n",
              "                                                                          &#x27;sessionDuration&#x27;,\n",
              "                                                                          &#x27;pageviews&#x27;,\n",
              "                                                                          &#x27;DemoReqPg_CallClicks_evt_count&#x27;,\n",
              "                                                                          &#x27;paid&#x27;,\n",
              "                                                                          &#x27;successbookdemo_top&#x27;,\n",
              "                                                                          &#x27;sessions&#x27;,\n",
              "                                                                          &#x27;visited_demo_page&#x27;,\n",
              "                                                                          &#x27;bounces&#x27;]),\n",
              "                                                                        (&#x27;cat_transformer&#x27;,\n",
              "                                                                         Pipeline(steps=[(&#x27;target&#x27;,\n",
              "                                                                                          TargetEncoder())]),\n",
              "                                                                         [&#x27;region&#x27;,\n",
              "                                                                          &#x27;sourceMedium&#x27;])])),\n",
              "                                       (&#x27;lda&#x27;, LinearDiscriminantAnalysis())]),\n",
              "             param_grid={&#x27;lda__solver&#x27;: [&#x27;svd&#x27;, &#x27;lsqr&#x27;, &#x27;eigen&#x27;]},\n",
              "             scoring=&#x27;precision&#x27;)</pre><b>Please rerun this cell to show the HTML repr or trust the notebook.</b></div><div class=\"sk-container\" hidden><div class=\"sk-item sk-dashed-wrapped\"><div class=\"sk-label-container\"><div class=\"sk-label sk-toggleable\"><input class=\"sk-toggleable__control sk-hidden--visually\" id=\"b2e8889c-ce6b-4bfc-91b5-2c98b35d99c6\" type=\"checkbox\" ><label for=\"b2e8889c-ce6b-4bfc-91b5-2c98b35d99c6\" class=\"sk-toggleable__label sk-toggleable__label-arrow\">GridSearchCV</label><div class=\"sk-toggleable__content\"><pre>GridSearchCV(cv=StratifiedKFold(n_splits=10, random_state=11, shuffle=True),\n",
              "             estimator=Pipeline(steps=[(&#x27;preprocessor&#x27;,\n",
              "                                        ColumnTransformer(transformers=[(&#x27;num_transformer&#x27;,\n",
              "                                                                         Pipeline(steps=[(&#x27;scaler&#x27;,\n",
              "                                                                                          StandardScaler())]),\n",
              "                                                                         [&#x27;visited_successbookdemo&#x27;,\n",
              "                                                                          &#x27;demo_page_top&#x27;,\n",
              "                                                                          &#x27;newUser&#x27;,\n",
              "                                                                          &#x27;goal4Completions&#x27;,\n",
              "                                                                          &#x27;fired_DemoReqPg_CallClicks_evt&#x27;,\n",
              "                                                                          &#x27;sessionDuration&#x27;,\n",
              "                                                                          &#x27;pageviews&#x27;,\n",
              "                                                                          &#x27;DemoReqPg_CallClicks_evt_count&#x27;,\n",
              "                                                                          &#x27;paid&#x27;,\n",
              "                                                                          &#x27;successbookdemo_top&#x27;,\n",
              "                                                                          &#x27;sessions&#x27;,\n",
              "                                                                          &#x27;visited_demo_page&#x27;,\n",
              "                                                                          &#x27;bounces&#x27;]),\n",
              "                                                                        (&#x27;cat_transformer&#x27;,\n",
              "                                                                         Pipeline(steps=[(&#x27;target&#x27;,\n",
              "                                                                                          TargetEncoder())]),\n",
              "                                                                         [&#x27;region&#x27;,\n",
              "                                                                          &#x27;sourceMedium&#x27;])])),\n",
              "                                       (&#x27;lda&#x27;, LinearDiscriminantAnalysis())]),\n",
              "             param_grid={&#x27;lda__solver&#x27;: [&#x27;svd&#x27;, &#x27;lsqr&#x27;, &#x27;eigen&#x27;]},\n",
              "             scoring=&#x27;precision&#x27;)</pre></div></div></div><div class=\"sk-parallel\"><div class=\"sk-parallel-item\"><div class=\"sk-item\"><div class=\"sk-serial\"><div class=\"sk-item\"><div class=\"sk-serial\"><div class=\"sk-item sk-dashed-wrapped\"><div class=\"sk-label-container\"><div class=\"sk-label sk-toggleable\"><input class=\"sk-toggleable__control sk-hidden--visually\" id=\"063e45e7-668c-435c-8375-c2ac47178bee\" type=\"checkbox\" ><label for=\"063e45e7-668c-435c-8375-c2ac47178bee\" class=\"sk-toggleable__label sk-toggleable__label-arrow\">preprocessor: ColumnTransformer</label><div class=\"sk-toggleable__content\"><pre>ColumnTransformer(transformers=[(&#x27;num_transformer&#x27;,\n",
              "                                 Pipeline(steps=[(&#x27;scaler&#x27;, StandardScaler())]),\n",
              "                                 [&#x27;visited_successbookdemo&#x27;, &#x27;demo_page_top&#x27;,\n",
              "                                  &#x27;newUser&#x27;, &#x27;goal4Completions&#x27;,\n",
              "                                  &#x27;fired_DemoReqPg_CallClicks_evt&#x27;,\n",
              "                                  &#x27;sessionDuration&#x27;, &#x27;pageviews&#x27;,\n",
              "                                  &#x27;DemoReqPg_CallClicks_evt_count&#x27;, &#x27;paid&#x27;,\n",
              "                                  &#x27;successbookdemo_top&#x27;, &#x27;sessions&#x27;,\n",
              "                                  &#x27;visited_demo_page&#x27;, &#x27;bounces&#x27;]),\n",
              "                                (&#x27;cat_transformer&#x27;,\n",
              "                                 Pipeline(steps=[(&#x27;target&#x27;, TargetEncoder())]),\n",
              "                                 [&#x27;region&#x27;, &#x27;sourceMedium&#x27;])])</pre></div></div></div><div class=\"sk-parallel\"><div class=\"sk-parallel-item\"><div class=\"sk-item\"><div class=\"sk-label-container\"><div class=\"sk-label sk-toggleable\"><input class=\"sk-toggleable__control sk-hidden--visually\" id=\"ec1ccb15-819c-4b39-adf0-08255dfc76f2\" type=\"checkbox\" ><label for=\"ec1ccb15-819c-4b39-adf0-08255dfc76f2\" class=\"sk-toggleable__label sk-toggleable__label-arrow\">num_transformer</label><div class=\"sk-toggleable__content\"><pre>[&#x27;visited_successbookdemo&#x27;, &#x27;demo_page_top&#x27;, &#x27;newUser&#x27;, &#x27;goal4Completions&#x27;, &#x27;fired_DemoReqPg_CallClicks_evt&#x27;, &#x27;sessionDuration&#x27;, &#x27;pageviews&#x27;, &#x27;DemoReqPg_CallClicks_evt_count&#x27;, &#x27;paid&#x27;, &#x27;successbookdemo_top&#x27;, &#x27;sessions&#x27;, &#x27;visited_demo_page&#x27;, &#x27;bounces&#x27;]</pre></div></div></div><div class=\"sk-serial\"><div class=\"sk-item\"><div class=\"sk-serial\"><div class=\"sk-item\"><div class=\"sk-estimator sk-toggleable\"><input class=\"sk-toggleable__control sk-hidden--visually\" id=\"02fdbf85-b38d-45a9-8cd7-6ea2e982e5c7\" type=\"checkbox\" ><label for=\"02fdbf85-b38d-45a9-8cd7-6ea2e982e5c7\" class=\"sk-toggleable__label sk-toggleable__label-arrow\">StandardScaler</label><div class=\"sk-toggleable__content\"><pre>StandardScaler()</pre></div></div></div></div></div></div></div></div><div class=\"sk-parallel-item\"><div class=\"sk-item\"><div class=\"sk-label-container\"><div class=\"sk-label sk-toggleable\"><input class=\"sk-toggleable__control sk-hidden--visually\" id=\"86515b92-fac4-4dd3-8cd9-63e48263ef02\" type=\"checkbox\" ><label for=\"86515b92-fac4-4dd3-8cd9-63e48263ef02\" class=\"sk-toggleable__label sk-toggleable__label-arrow\">cat_transformer</label><div class=\"sk-toggleable__content\"><pre>[&#x27;region&#x27;, &#x27;sourceMedium&#x27;]</pre></div></div></div><div class=\"sk-serial\"><div class=\"sk-item\"><div class=\"sk-serial\"><div class=\"sk-item\"><div class=\"sk-estimator sk-toggleable\"><input class=\"sk-toggleable__control sk-hidden--visually\" id=\"081e7f34-9596-4aad-b87d-15c0302cecee\" type=\"checkbox\" ><label for=\"081e7f34-9596-4aad-b87d-15c0302cecee\" class=\"sk-toggleable__label sk-toggleable__label-arrow\">TargetEncoder</label><div class=\"sk-toggleable__content\"><pre>TargetEncoder()</pre></div></div></div></div></div></div></div></div></div></div><div class=\"sk-item\"><div class=\"sk-estimator sk-toggleable\"><input class=\"sk-toggleable__control sk-hidden--visually\" id=\"843f52cb-7e8c-4230-b410-ec1f31e2cc81\" type=\"checkbox\" ><label for=\"843f52cb-7e8c-4230-b410-ec1f31e2cc81\" class=\"sk-toggleable__label sk-toggleable__label-arrow\">LinearDiscriminantAnalysis</label><div class=\"sk-toggleable__content\"><pre>LinearDiscriminantAnalysis()</pre></div></div></div></div></div></div></div></div></div></div></div></div>"
            ]
          },
          "metadata": {},
          "execution_count": 198
        }
      ]
    },
    {
      "cell_type": "code",
      "source": [
        "lda_search_smote.best_score_"
      ],
      "metadata": {
        "colab": {
          "base_uri": "https://localhost:8080/"
        },
        "id": "wR4HUr6plmPu",
        "outputId": "bf19c485-c692-4b0d-8dce-5f8e7c503dd1"
      },
      "execution_count": 199,
      "outputs": [
        {
          "output_type": "execute_result",
          "data": {
            "text/plain": [
              "0.6377811653941821"
            ]
          },
          "metadata": {},
          "execution_count": 199
        }
      ]
    },
    {
      "cell_type": "code",
      "source": [
        "lda_search_smote.best_params_"
      ],
      "metadata": {
        "colab": {
          "base_uri": "https://localhost:8080/"
        },
        "id": "Mk82sXUUlmgd",
        "outputId": "c56cf14e-662c-4d80-9445-5e482c73ae81"
      },
      "execution_count": 200,
      "outputs": [
        {
          "output_type": "execute_result",
          "data": {
            "text/plain": [
              "{'lda__solver': 'svd'}"
            ]
          },
          "metadata": {},
          "execution_count": 200
        }
      ]
    },
    {
      "cell_type": "code",
      "source": [
        "lda_predict_smote=lda_search_smote.predict(X_test[feature_selected])"
      ],
      "metadata": {
        "id": "_a-Oej6iGGBm"
      },
      "execution_count": 201,
      "outputs": []
    },
    {
      "cell_type": "code",
      "source": [
        "print(classification_report(lda_predict_smote,Y_test))"
      ],
      "metadata": {
        "colab": {
          "base_uri": "https://localhost:8080/"
        },
        "id": "Fz0TZfdQGGMv",
        "outputId": "17d834ec-6746-46f4-8dc7-a1d8d6b49705"
      },
      "execution_count": 202,
      "outputs": [
        {
          "output_type": "stream",
          "name": "stdout",
          "text": [
            "              precision    recall  f1-score   support\n",
            "\n",
            "           0       0.61      0.97      0.75      6253\n",
            "           1       0.66      0.09      0.15      4313\n",
            "\n",
            "    accuracy                           0.61     10566\n",
            "   macro avg       0.63      0.53      0.45     10566\n",
            "weighted avg       0.63      0.61      0.50     10566\n",
            "\n"
          ]
        }
      ]
    },
    {
      "cell_type": "markdown",
      "source": [
        "Experiment 6:\n",
        "\n",
        "Random Forest with Over Sampling and Under Sampling\n",
        "\n",
        "Attributes of Experiments: \n",
        "1. Over Sampling and Under Sampling\n",
        "2. Scaler Transformation\n",
        "3. Target Encoding"
      ],
      "metadata": {
        "id": "DFoGu38ImPNA"
      }
    },
    {
      "cell_type": "code",
      "execution_count": 92,
      "metadata": {
        "id": "1SIXisNfPigt"
      },
      "outputs": [],
      "source": [
        "from sklearn.ensemble import RandomForestClassifier"
      ]
    },
    {
      "cell_type": "code",
      "execution_count": 98,
      "metadata": {
        "id": "OuARiso9PgYt"
      },
      "outputs": [],
      "source": [
        "param_grid = { \n",
        "    'rfc__n_estimators': [100,200],\n",
        "    'rfc__max_features': ['auto', 'sqrt', 'log2'],\n",
        "    'rfc__max_depth' : [40,50],\n",
        "    'rfc__criterion' :['gini', 'entropy']\n",
        "}"
      ]
    },
    {
      "cell_type": "code",
      "execution_count": 99,
      "metadata": {
        "id": "muUOoRgiPlL8"
      },
      "outputs": [],
      "source": [
        "rfc_c=RandomForestClassifier(random_state=42,class_weight='balanced')"
      ]
    },
    {
      "cell_type": "code",
      "execution_count": 100,
      "metadata": {
        "id": "MrYyjzw-PnA_"
      },
      "outputs": [],
      "source": [
        "rfc_cl = Pipeline(steps=[ \n",
        "                         ('preprocessor', preprocessor),\n",
        "                          ('rfc',rfc_c )])"
      ]
    },
    {
      "cell_type": "code",
      "execution_count": 101,
      "metadata": {
        "colab": {
          "base_uri": "https://localhost:8080/"
        },
        "id": "XOkHWBtdPrud",
        "outputId": "4410bf65-3aa3-446b-e154-85e00767b013"
      },
      "outputs": [
        {
          "output_type": "execute_result",
          "data": {
            "text/plain": [
              "GridSearchCV(cv=10,\n",
              "             estimator=Pipeline(steps=[('preprocessor',\n",
              "                                        ColumnTransformer(transformers=[('num_transformer',\n",
              "                                                                         Pipeline(steps=[('scaler',\n",
              "                                                                                          StandardScaler())]),\n",
              "                                                                         ['visited_successbookdemo',\n",
              "                                                                          'demo_page_top',\n",
              "                                                                          'newUser',\n",
              "                                                                          'goal4Completions',\n",
              "                                                                          'fired_DemoReqPg_CallClicks_evt',\n",
              "                                                                          'sessionDuration',\n",
              "                                                                          'pageviews',\n",
              "                                                                          'DemoReqPg_CallClicks_evt_count',\n",
              "                                                                          'paid',\n",
              "                                                                          'successbookdemo_...\n",
              "                                                                          'visited_demo_page',\n",
              "                                                                          'bounces']),\n",
              "                                                                        ('cat_transformer',\n",
              "                                                                         Pipeline(steps=[('target',\n",
              "                                                                                          TargetEncoder())]),\n",
              "                                                                         ['region',\n",
              "                                                                          'sourceMedium'])])),\n",
              "                                       ('rfc',\n",
              "                                        RandomForestClassifier(class_weight='balanced',\n",
              "                                                               random_state=42))]),\n",
              "             param_grid={'rfc__criterion': ['gini', 'entropy'],\n",
              "                         'rfc__max_depth': [40, 50],\n",
              "                         'rfc__max_features': ['auto', 'sqrt', 'log2'],\n",
              "                         'rfc__n_estimators': [100, 200]},\n",
              "             scoring='precision')"
            ]
          },
          "metadata": {},
          "execution_count": 101
        }
      ],
      "source": [
        "CV_rfc = GridSearchCV(estimator=rfc_cl, param_grid=param_grid, cv= 10,scoring='precision')\n",
        "CV_rfc.fit(X_train_sampled_1[feature_selected],X_train_sampled_1['converted'])"
      ]
    },
    {
      "cell_type": "code",
      "source": [
        "CV_rfc.best_score_"
      ],
      "metadata": {
        "colab": {
          "base_uri": "https://localhost:8080/"
        },
        "id": "pPrZBVIHnFdj",
        "outputId": "c3ec95fb-5833-4bda-b90f-98e651ad83ee"
      },
      "execution_count": 203,
      "outputs": [
        {
          "output_type": "execute_result",
          "data": {
            "text/plain": [
              "0.918131034808367"
            ]
          },
          "metadata": {},
          "execution_count": 203
        }
      ]
    },
    {
      "cell_type": "code",
      "source": [
        "CV_rfc.best_params_"
      ],
      "metadata": {
        "colab": {
          "base_uri": "https://localhost:8080/"
        },
        "id": "WPB916bpnFpF",
        "outputId": "10726255-967e-4ad7-8f77-5022477804da"
      },
      "execution_count": 204,
      "outputs": [
        {
          "output_type": "execute_result",
          "data": {
            "text/plain": [
              "{'rfc__criterion': 'gini',\n",
              " 'rfc__max_depth': 50,\n",
              " 'rfc__max_features': 'auto',\n",
              " 'rfc__n_estimators': 200}"
            ]
          },
          "metadata": {},
          "execution_count": 204
        }
      ]
    },
    {
      "cell_type": "code",
      "source": [
        "CV_rfc_predict=CV_rfc.predict(X_test[feature_selected])"
      ],
      "metadata": {
        "id": "tORE-q5QnF0C"
      },
      "execution_count": 206,
      "outputs": []
    },
    {
      "cell_type": "code",
      "source": [
        "print(classification_report(CV_rfc_predict,Y_test))"
      ],
      "metadata": {
        "colab": {
          "base_uri": "https://localhost:8080/"
        },
        "id": "O0f62xvmK_Pj",
        "outputId": "d6826374-f9c3-4baa-9353-1f1f8f94e431"
      },
      "execution_count": 207,
      "outputs": [
        {
          "output_type": "stream",
          "name": "stdout",
          "text": [
            "              precision    recall  f1-score   support\n",
            "\n",
            "           0       0.92      0.95      0.94      9639\n",
            "           1       0.19      0.12      0.14       927\n",
            "\n",
            "    accuracy                           0.88     10566\n",
            "   macro avg       0.55      0.53      0.54     10566\n",
            "weighted avg       0.85      0.88      0.87     10566\n",
            "\n"
          ]
        }
      ]
    },
    {
      "cell_type": "markdown",
      "source": [
        "Experiment 7:\n",
        "\n",
        "Random Forest with SMOTE\n",
        "\n",
        "Attributes of Experiments: \n",
        "1. SMOTE\n",
        "2. Scaler Transformation\n",
        "3. Weight of Evidence"
      ],
      "metadata": {
        "id": "tz2HlIm1nTtL"
      }
    },
    {
      "cell_type": "code",
      "source": [
        "rfc_smote = Pipeline(steps=[ \n",
        "                         ('preprocessor', preprocessor2),\n",
        "                          ('rfc',rfc_c )])"
      ],
      "metadata": {
        "id": "J5dopOEUnfi2"
      },
      "execution_count": 208,
      "outputs": []
    },
    {
      "cell_type": "code",
      "source": [
        "CV_rfc_smote = GridSearchCV(estimator=rfc_smote, param_grid=param_grid, cv= 10,scoring='precision')\n",
        "CV_rfc_smote.fit(X_train_smotenc[feature_selected],Y_train_smotenc)"
      ],
      "metadata": {
        "colab": {
          "base_uri": "https://localhost:8080/",
          "height": 193
        },
        "id": "cvD7r1Q8nfr2",
        "outputId": "2bbbbbb7-8ef7-42e2-8662-18c9d237580e"
      },
      "execution_count": 209,
      "outputs": [
        {
          "output_type": "execute_result",
          "data": {
            "text/plain": [
              "GridSearchCV(cv=10,\n",
              "             estimator=Pipeline(steps=[('preprocessor',\n",
              "                                        ColumnTransformer(transformers=[('num_transformer',\n",
              "                                                                         Pipeline(steps=[('scaler',\n",
              "                                                                                          StandardScaler())]),\n",
              "                                                                         ['visited_successbookdemo',\n",
              "                                                                          'demo_page_top',\n",
              "                                                                          'newUser',\n",
              "                                                                          'goal4Completions',\n",
              "                                                                          'fired_DemoReqPg_CallClicks_evt',\n",
              "                                                                          'sessionDuration',\n",
              "                                                                          'pageviews',\n",
              "                                                                          'DemoReqPg_CallClicks_evt_count',\n",
              "                                                                          'paid',\n",
              "                                                                          'successbookdemo_...\n",
              "                                                                          'visited_demo_page',\n",
              "                                                                          'bounces']),\n",
              "                                                                        ('woe_transformer',\n",
              "                                                                         Pipeline(steps=[('woe',\n",
              "                                                                                          WOEEncoder())]),\n",
              "                                                                         ['region',\n",
              "                                                                          'sourceMedium'])])),\n",
              "                                       ('rfc',\n",
              "                                        RandomForestClassifier(class_weight='balanced',\n",
              "                                                               random_state=42))]),\n",
              "             param_grid={'rfc__criterion': ['gini', 'entropy'],\n",
              "                         'rfc__max_depth': [40, 50],\n",
              "                         'rfc__max_features': ['auto', 'sqrt', 'log2'],\n",
              "                         'rfc__n_estimators': [100, 200]},\n",
              "             scoring='precision')"
            ],
            "text/html": [
              "<style>#sk-a3ae59fc-d0db-434a-ab9c-bcfdfbcc2a79 {color: black;background-color: white;}#sk-a3ae59fc-d0db-434a-ab9c-bcfdfbcc2a79 pre{padding: 0;}#sk-a3ae59fc-d0db-434a-ab9c-bcfdfbcc2a79 div.sk-toggleable {background-color: white;}#sk-a3ae59fc-d0db-434a-ab9c-bcfdfbcc2a79 label.sk-toggleable__label {cursor: pointer;display: block;width: 100%;margin-bottom: 0;padding: 0.3em;box-sizing: border-box;text-align: center;}#sk-a3ae59fc-d0db-434a-ab9c-bcfdfbcc2a79 label.sk-toggleable__label-arrow:before {content: \"▸\";float: left;margin-right: 0.25em;color: #696969;}#sk-a3ae59fc-d0db-434a-ab9c-bcfdfbcc2a79 label.sk-toggleable__label-arrow:hover:before {color: black;}#sk-a3ae59fc-d0db-434a-ab9c-bcfdfbcc2a79 div.sk-estimator:hover label.sk-toggleable__label-arrow:before {color: black;}#sk-a3ae59fc-d0db-434a-ab9c-bcfdfbcc2a79 div.sk-toggleable__content {max-height: 0;max-width: 0;overflow: hidden;text-align: left;background-color: #f0f8ff;}#sk-a3ae59fc-d0db-434a-ab9c-bcfdfbcc2a79 div.sk-toggleable__content pre {margin: 0.2em;color: black;border-radius: 0.25em;background-color: #f0f8ff;}#sk-a3ae59fc-d0db-434a-ab9c-bcfdfbcc2a79 input.sk-toggleable__control:checked~div.sk-toggleable__content {max-height: 200px;max-width: 100%;overflow: auto;}#sk-a3ae59fc-d0db-434a-ab9c-bcfdfbcc2a79 input.sk-toggleable__control:checked~label.sk-toggleable__label-arrow:before {content: \"▾\";}#sk-a3ae59fc-d0db-434a-ab9c-bcfdfbcc2a79 div.sk-estimator input.sk-toggleable__control:checked~label.sk-toggleable__label {background-color: #d4ebff;}#sk-a3ae59fc-d0db-434a-ab9c-bcfdfbcc2a79 div.sk-label input.sk-toggleable__control:checked~label.sk-toggleable__label {background-color: #d4ebff;}#sk-a3ae59fc-d0db-434a-ab9c-bcfdfbcc2a79 input.sk-hidden--visually {border: 0;clip: rect(1px 1px 1px 1px);clip: rect(1px, 1px, 1px, 1px);height: 1px;margin: -1px;overflow: hidden;padding: 0;position: absolute;width: 1px;}#sk-a3ae59fc-d0db-434a-ab9c-bcfdfbcc2a79 div.sk-estimator {font-family: monospace;background-color: #f0f8ff;border: 1px dotted black;border-radius: 0.25em;box-sizing: border-box;margin-bottom: 0.5em;}#sk-a3ae59fc-d0db-434a-ab9c-bcfdfbcc2a79 div.sk-estimator:hover {background-color: #d4ebff;}#sk-a3ae59fc-d0db-434a-ab9c-bcfdfbcc2a79 div.sk-parallel-item::after {content: \"\";width: 100%;border-bottom: 1px solid gray;flex-grow: 1;}#sk-a3ae59fc-d0db-434a-ab9c-bcfdfbcc2a79 div.sk-label:hover label.sk-toggleable__label {background-color: #d4ebff;}#sk-a3ae59fc-d0db-434a-ab9c-bcfdfbcc2a79 div.sk-serial::before {content: \"\";position: absolute;border-left: 1px solid gray;box-sizing: border-box;top: 2em;bottom: 0;left: 50%;}#sk-a3ae59fc-d0db-434a-ab9c-bcfdfbcc2a79 div.sk-serial {display: flex;flex-direction: column;align-items: center;background-color: white;padding-right: 0.2em;padding-left: 0.2em;}#sk-a3ae59fc-d0db-434a-ab9c-bcfdfbcc2a79 div.sk-item {z-index: 1;}#sk-a3ae59fc-d0db-434a-ab9c-bcfdfbcc2a79 div.sk-parallel {display: flex;align-items: stretch;justify-content: center;background-color: white;}#sk-a3ae59fc-d0db-434a-ab9c-bcfdfbcc2a79 div.sk-parallel::before {content: \"\";position: absolute;border-left: 1px solid gray;box-sizing: border-box;top: 2em;bottom: 0;left: 50%;}#sk-a3ae59fc-d0db-434a-ab9c-bcfdfbcc2a79 div.sk-parallel-item {display: flex;flex-direction: column;position: relative;background-color: white;}#sk-a3ae59fc-d0db-434a-ab9c-bcfdfbcc2a79 div.sk-parallel-item:first-child::after {align-self: flex-end;width: 50%;}#sk-a3ae59fc-d0db-434a-ab9c-bcfdfbcc2a79 div.sk-parallel-item:last-child::after {align-self: flex-start;width: 50%;}#sk-a3ae59fc-d0db-434a-ab9c-bcfdfbcc2a79 div.sk-parallel-item:only-child::after {width: 0;}#sk-a3ae59fc-d0db-434a-ab9c-bcfdfbcc2a79 div.sk-dashed-wrapped {border: 1px dashed gray;margin: 0 0.4em 0.5em 0.4em;box-sizing: border-box;padding-bottom: 0.4em;background-color: white;position: relative;}#sk-a3ae59fc-d0db-434a-ab9c-bcfdfbcc2a79 div.sk-label label {font-family: monospace;font-weight: bold;background-color: white;display: inline-block;line-height: 1.2em;}#sk-a3ae59fc-d0db-434a-ab9c-bcfdfbcc2a79 div.sk-label-container {position: relative;z-index: 2;text-align: center;}#sk-a3ae59fc-d0db-434a-ab9c-bcfdfbcc2a79 div.sk-container {/* jupyter's `normalize.less` sets `[hidden] { display: none; }` but bootstrap.min.css set `[hidden] { display: none !important; }` so we also need the `!important` here to be able to override the default hidden behavior on the sphinx rendered scikit-learn.org. See: https://github.com/scikit-learn/scikit-learn/issues/21755 */display: inline-block !important;position: relative;}#sk-a3ae59fc-d0db-434a-ab9c-bcfdfbcc2a79 div.sk-text-repr-fallback {display: none;}</style><div id=\"sk-a3ae59fc-d0db-434a-ab9c-bcfdfbcc2a79\" class=\"sk-top-container\"><div class=\"sk-text-repr-fallback\"><pre>GridSearchCV(cv=10,\n",
              "             estimator=Pipeline(steps=[(&#x27;preprocessor&#x27;,\n",
              "                                        ColumnTransformer(transformers=[(&#x27;num_transformer&#x27;,\n",
              "                                                                         Pipeline(steps=[(&#x27;scaler&#x27;,\n",
              "                                                                                          StandardScaler())]),\n",
              "                                                                         [&#x27;visited_successbookdemo&#x27;,\n",
              "                                                                          &#x27;demo_page_top&#x27;,\n",
              "                                                                          &#x27;newUser&#x27;,\n",
              "                                                                          &#x27;goal4Completions&#x27;,\n",
              "                                                                          &#x27;fired_DemoReqPg_CallClicks_evt&#x27;,\n",
              "                                                                          &#x27;sessionDuration&#x27;,\n",
              "                                                                          &#x27;pageviews&#x27;,\n",
              "                                                                          &#x27;DemoReqPg_CallClicks_evt_count&#x27;,\n",
              "                                                                          &#x27;paid&#x27;,\n",
              "                                                                          &#x27;successbookdemo_...\n",
              "                                                                          &#x27;visited_demo_page&#x27;,\n",
              "                                                                          &#x27;bounces&#x27;]),\n",
              "                                                                        (&#x27;woe_transformer&#x27;,\n",
              "                                                                         Pipeline(steps=[(&#x27;woe&#x27;,\n",
              "                                                                                          WOEEncoder())]),\n",
              "                                                                         [&#x27;region&#x27;,\n",
              "                                                                          &#x27;sourceMedium&#x27;])])),\n",
              "                                       (&#x27;rfc&#x27;,\n",
              "                                        RandomForestClassifier(class_weight=&#x27;balanced&#x27;,\n",
              "                                                               random_state=42))]),\n",
              "             param_grid={&#x27;rfc__criterion&#x27;: [&#x27;gini&#x27;, &#x27;entropy&#x27;],\n",
              "                         &#x27;rfc__max_depth&#x27;: [40, 50],\n",
              "                         &#x27;rfc__max_features&#x27;: [&#x27;auto&#x27;, &#x27;sqrt&#x27;, &#x27;log2&#x27;],\n",
              "                         &#x27;rfc__n_estimators&#x27;: [100, 200]},\n",
              "             scoring=&#x27;precision&#x27;)</pre><b>Please rerun this cell to show the HTML repr or trust the notebook.</b></div><div class=\"sk-container\" hidden><div class=\"sk-item sk-dashed-wrapped\"><div class=\"sk-label-container\"><div class=\"sk-label sk-toggleable\"><input class=\"sk-toggleable__control sk-hidden--visually\" id=\"f682d239-b20b-4e0e-a78a-43b5ba2e4e64\" type=\"checkbox\" ><label for=\"f682d239-b20b-4e0e-a78a-43b5ba2e4e64\" class=\"sk-toggleable__label sk-toggleable__label-arrow\">GridSearchCV</label><div class=\"sk-toggleable__content\"><pre>GridSearchCV(cv=10,\n",
              "             estimator=Pipeline(steps=[(&#x27;preprocessor&#x27;,\n",
              "                                        ColumnTransformer(transformers=[(&#x27;num_transformer&#x27;,\n",
              "                                                                         Pipeline(steps=[(&#x27;scaler&#x27;,\n",
              "                                                                                          StandardScaler())]),\n",
              "                                                                         [&#x27;visited_successbookdemo&#x27;,\n",
              "                                                                          &#x27;demo_page_top&#x27;,\n",
              "                                                                          &#x27;newUser&#x27;,\n",
              "                                                                          &#x27;goal4Completions&#x27;,\n",
              "                                                                          &#x27;fired_DemoReqPg_CallClicks_evt&#x27;,\n",
              "                                                                          &#x27;sessionDuration&#x27;,\n",
              "                                                                          &#x27;pageviews&#x27;,\n",
              "                                                                          &#x27;DemoReqPg_CallClicks_evt_count&#x27;,\n",
              "                                                                          &#x27;paid&#x27;,\n",
              "                                                                          &#x27;successbookdemo_...\n",
              "                                                                          &#x27;visited_demo_page&#x27;,\n",
              "                                                                          &#x27;bounces&#x27;]),\n",
              "                                                                        (&#x27;woe_transformer&#x27;,\n",
              "                                                                         Pipeline(steps=[(&#x27;woe&#x27;,\n",
              "                                                                                          WOEEncoder())]),\n",
              "                                                                         [&#x27;region&#x27;,\n",
              "                                                                          &#x27;sourceMedium&#x27;])])),\n",
              "                                       (&#x27;rfc&#x27;,\n",
              "                                        RandomForestClassifier(class_weight=&#x27;balanced&#x27;,\n",
              "                                                               random_state=42))]),\n",
              "             param_grid={&#x27;rfc__criterion&#x27;: [&#x27;gini&#x27;, &#x27;entropy&#x27;],\n",
              "                         &#x27;rfc__max_depth&#x27;: [40, 50],\n",
              "                         &#x27;rfc__max_features&#x27;: [&#x27;auto&#x27;, &#x27;sqrt&#x27;, &#x27;log2&#x27;],\n",
              "                         &#x27;rfc__n_estimators&#x27;: [100, 200]},\n",
              "             scoring=&#x27;precision&#x27;)</pre></div></div></div><div class=\"sk-parallel\"><div class=\"sk-parallel-item\"><div class=\"sk-item\"><div class=\"sk-serial\"><div class=\"sk-item\"><div class=\"sk-serial\"><div class=\"sk-item sk-dashed-wrapped\"><div class=\"sk-label-container\"><div class=\"sk-label sk-toggleable\"><input class=\"sk-toggleable__control sk-hidden--visually\" id=\"99c936cd-6da7-4cbf-b373-97f22afba185\" type=\"checkbox\" ><label for=\"99c936cd-6da7-4cbf-b373-97f22afba185\" class=\"sk-toggleable__label sk-toggleable__label-arrow\">preprocessor: ColumnTransformer</label><div class=\"sk-toggleable__content\"><pre>ColumnTransformer(transformers=[(&#x27;num_transformer&#x27;,\n",
              "                                 Pipeline(steps=[(&#x27;scaler&#x27;, StandardScaler())]),\n",
              "                                 [&#x27;visited_successbookdemo&#x27;, &#x27;demo_page_top&#x27;,\n",
              "                                  &#x27;newUser&#x27;, &#x27;goal4Completions&#x27;,\n",
              "                                  &#x27;fired_DemoReqPg_CallClicks_evt&#x27;,\n",
              "                                  &#x27;sessionDuration&#x27;, &#x27;pageviews&#x27;,\n",
              "                                  &#x27;DemoReqPg_CallClicks_evt_count&#x27;, &#x27;paid&#x27;,\n",
              "                                  &#x27;successbookdemo_top&#x27;, &#x27;sessions&#x27;,\n",
              "                                  &#x27;visited_demo_page&#x27;, &#x27;bounces&#x27;]),\n",
              "                                (&#x27;woe_transformer&#x27;,\n",
              "                                 Pipeline(steps=[(&#x27;woe&#x27;, WOEEncoder())]),\n",
              "                                 [&#x27;region&#x27;, &#x27;sourceMedium&#x27;])])</pre></div></div></div><div class=\"sk-parallel\"><div class=\"sk-parallel-item\"><div class=\"sk-item\"><div class=\"sk-label-container\"><div class=\"sk-label sk-toggleable\"><input class=\"sk-toggleable__control sk-hidden--visually\" id=\"5946da61-c83c-46af-93ab-38a839a5efd4\" type=\"checkbox\" ><label for=\"5946da61-c83c-46af-93ab-38a839a5efd4\" class=\"sk-toggleable__label sk-toggleable__label-arrow\">num_transformer</label><div class=\"sk-toggleable__content\"><pre>[&#x27;visited_successbookdemo&#x27;, &#x27;demo_page_top&#x27;, &#x27;newUser&#x27;, &#x27;goal4Completions&#x27;, &#x27;fired_DemoReqPg_CallClicks_evt&#x27;, &#x27;sessionDuration&#x27;, &#x27;pageviews&#x27;, &#x27;DemoReqPg_CallClicks_evt_count&#x27;, &#x27;paid&#x27;, &#x27;successbookdemo_top&#x27;, &#x27;sessions&#x27;, &#x27;visited_demo_page&#x27;, &#x27;bounces&#x27;]</pre></div></div></div><div class=\"sk-serial\"><div class=\"sk-item\"><div class=\"sk-serial\"><div class=\"sk-item\"><div class=\"sk-estimator sk-toggleable\"><input class=\"sk-toggleable__control sk-hidden--visually\" id=\"78898bf5-af4c-4369-ab41-45a73711aece\" type=\"checkbox\" ><label for=\"78898bf5-af4c-4369-ab41-45a73711aece\" class=\"sk-toggleable__label sk-toggleable__label-arrow\">StandardScaler</label><div class=\"sk-toggleable__content\"><pre>StandardScaler()</pre></div></div></div></div></div></div></div></div><div class=\"sk-parallel-item\"><div class=\"sk-item\"><div class=\"sk-label-container\"><div class=\"sk-label sk-toggleable\"><input class=\"sk-toggleable__control sk-hidden--visually\" id=\"78b10df4-4826-42dc-a0fa-209eb5533e97\" type=\"checkbox\" ><label for=\"78b10df4-4826-42dc-a0fa-209eb5533e97\" class=\"sk-toggleable__label sk-toggleable__label-arrow\">woe_transformer</label><div class=\"sk-toggleable__content\"><pre>[&#x27;region&#x27;, &#x27;sourceMedium&#x27;]</pre></div></div></div><div class=\"sk-serial\"><div class=\"sk-item\"><div class=\"sk-serial\"><div class=\"sk-item\"><div class=\"sk-estimator sk-toggleable\"><input class=\"sk-toggleable__control sk-hidden--visually\" id=\"c19a3a1a-6570-4bf9-b264-18959b441d89\" type=\"checkbox\" ><label for=\"c19a3a1a-6570-4bf9-b264-18959b441d89\" class=\"sk-toggleable__label sk-toggleable__label-arrow\">WOEEncoder</label><div class=\"sk-toggleable__content\"><pre>WOEEncoder()</pre></div></div></div></div></div></div></div></div></div></div><div class=\"sk-item\"><div class=\"sk-estimator sk-toggleable\"><input class=\"sk-toggleable__control sk-hidden--visually\" id=\"6e0c4c38-9162-46c8-993c-6b47f0a403e1\" type=\"checkbox\" ><label for=\"6e0c4c38-9162-46c8-993c-6b47f0a403e1\" class=\"sk-toggleable__label sk-toggleable__label-arrow\">RandomForestClassifier</label><div class=\"sk-toggleable__content\"><pre>RandomForestClassifier(class_weight=&#x27;balanced&#x27;, random_state=42)</pre></div></div></div></div></div></div></div></div></div></div></div></div>"
            ]
          },
          "metadata": {},
          "execution_count": 209
        }
      ]
    },
    {
      "cell_type": "code",
      "source": [
        "CV_rfc_smote.best_score_"
      ],
      "metadata": {
        "colab": {
          "base_uri": "https://localhost:8080/"
        },
        "id": "dk8dSh4YnfxA",
        "outputId": "7590f5e3-d35e-48c8-9399-c19bf043c03e"
      },
      "execution_count": 210,
      "outputs": [
        {
          "output_type": "execute_result",
          "data": {
            "text/plain": [
              "0.8531631238333481"
            ]
          },
          "metadata": {},
          "execution_count": 210
        }
      ]
    },
    {
      "cell_type": "code",
      "source": [
        "CV_rfc_smote.best_params_"
      ],
      "metadata": {
        "colab": {
          "base_uri": "https://localhost:8080/"
        },
        "id": "ihKu1iDSnf2e",
        "outputId": "7cf2980d-f9a3-4da3-ad57-4ed397e3aaba"
      },
      "execution_count": 211,
      "outputs": [
        {
          "output_type": "execute_result",
          "data": {
            "text/plain": [
              "{'rfc__criterion': 'gini',\n",
              " 'rfc__max_depth': 40,\n",
              " 'rfc__max_features': 'auto',\n",
              " 'rfc__n_estimators': 200}"
            ]
          },
          "metadata": {},
          "execution_count": 211
        }
      ]
    },
    {
      "cell_type": "code",
      "source": [
        "CV_rfc_smote_predict=CV_rfc_smote.predict(X_test[feature_selected])"
      ],
      "metadata": {
        "id": "LGX86VQMnf8v"
      },
      "execution_count": 212,
      "outputs": []
    },
    {
      "cell_type": "code",
      "source": [
        "print(classification_report(CV_rfc_smote_predict,Y_test))"
      ],
      "metadata": {
        "colab": {
          "base_uri": "https://localhost:8080/"
        },
        "id": "nXShdQFaVHtN",
        "outputId": "651d79f4-8341-430d-a911-f29ce1788dfd"
      },
      "execution_count": 213,
      "outputs": [
        {
          "output_type": "stream",
          "name": "stdout",
          "text": [
            "              precision    recall  f1-score   support\n",
            "\n",
            "           0       0.86      0.95      0.90      9024\n",
            "           1       0.22      0.08      0.12      1542\n",
            "\n",
            "    accuracy                           0.82     10566\n",
            "   macro avg       0.54      0.52      0.51     10566\n",
            "weighted avg       0.76      0.82      0.79     10566\n",
            "\n"
          ]
        }
      ]
    },
    {
      "cell_type": "markdown",
      "source": [
        "Experiment 8:\n",
        "\n",
        "Logistic Regression with Over Sampling and Under Sampling\n",
        "\n",
        "Attributes of Experiments: \n",
        "1. Over Sampling and Under Sampling\n",
        "2. Scaler Transformation\n",
        "3. Target Encoding"
      ],
      "metadata": {
        "id": "SUOz4qoJt2fT"
      }
    },
    {
      "cell_type": "code",
      "execution_count": 214,
      "metadata": {
        "id": "wyOkHz15j7wE"
      },
      "outputs": [],
      "source": [
        "from sklearn.linear_model import LogisticRegression\n",
        "grid = {'logreg__penalty' : ['l2','none'],\n",
        "        'logreg__C' : [10, 1.0, 0.1],\n",
        "        'logreg__solver' : ['newton-cg', 'lbfgs','sag']}"
      ]
    },
    {
      "cell_type": "code",
      "execution_count": 215,
      "metadata": {
        "id": "CCzk5LQPj77W"
      },
      "outputs": [],
      "source": [
        "logreg=LogisticRegression(max_iter=10000)\n",
        "logreg_cl = Pipeline(steps=[ \n",
        "                         ('preprocessor', preprocessor),\n",
        "                          ('logreg',logreg )])\n",
        "logreg_cv=GridSearchCV(estimator=logreg_cl,param_grid=grid,cv=10,scoring='precision')"
      ]
    },
    {
      "cell_type": "code",
      "execution_count": 216,
      "metadata": {
        "colab": {
          "base_uri": "https://localhost:8080/",
          "height": 1000
        },
        "id": "7-9J_eXbkhpa",
        "outputId": "b70d4f30-a277-468f-ae50-8dc8178611e7"
      },
      "outputs": [
        {
          "output_type": "stream",
          "name": "stderr",
          "text": [
            "/usr/local/lib/python3.7/dist-packages/sklearn/linear_model/_logistic.py:1484: UserWarning: Setting penalty='none' will ignore the C and l1_ratio parameters\n",
            "  \"Setting penalty='none' will ignore the C and l1_ratio parameters\"\n",
            "/usr/local/lib/python3.7/dist-packages/sklearn/linear_model/_logistic.py:1484: UserWarning: Setting penalty='none' will ignore the C and l1_ratio parameters\n",
            "  \"Setting penalty='none' will ignore the C and l1_ratio parameters\"\n",
            "/usr/local/lib/python3.7/dist-packages/sklearn/linear_model/_logistic.py:1484: UserWarning: Setting penalty='none' will ignore the C and l1_ratio parameters\n",
            "  \"Setting penalty='none' will ignore the C and l1_ratio parameters\"\n",
            "/usr/local/lib/python3.7/dist-packages/sklearn/linear_model/_logistic.py:1484: UserWarning: Setting penalty='none' will ignore the C and l1_ratio parameters\n",
            "  \"Setting penalty='none' will ignore the C and l1_ratio parameters\"\n",
            "/usr/local/lib/python3.7/dist-packages/sklearn/linear_model/_logistic.py:1484: UserWarning: Setting penalty='none' will ignore the C and l1_ratio parameters\n",
            "  \"Setting penalty='none' will ignore the C and l1_ratio parameters\"\n",
            "/usr/local/lib/python3.7/dist-packages/sklearn/linear_model/_logistic.py:1484: UserWarning: Setting penalty='none' will ignore the C and l1_ratio parameters\n",
            "  \"Setting penalty='none' will ignore the C and l1_ratio parameters\"\n",
            "/usr/local/lib/python3.7/dist-packages/sklearn/linear_model/_logistic.py:1484: UserWarning: Setting penalty='none' will ignore the C and l1_ratio parameters\n",
            "  \"Setting penalty='none' will ignore the C and l1_ratio parameters\"\n",
            "/usr/local/lib/python3.7/dist-packages/sklearn/linear_model/_logistic.py:1484: UserWarning: Setting penalty='none' will ignore the C and l1_ratio parameters\n",
            "  \"Setting penalty='none' will ignore the C and l1_ratio parameters\"\n",
            "/usr/local/lib/python3.7/dist-packages/sklearn/linear_model/_logistic.py:1484: UserWarning: Setting penalty='none' will ignore the C and l1_ratio parameters\n",
            "  \"Setting penalty='none' will ignore the C and l1_ratio parameters\"\n",
            "/usr/local/lib/python3.7/dist-packages/sklearn/linear_model/_logistic.py:1484: UserWarning: Setting penalty='none' will ignore the C and l1_ratio parameters\n",
            "  \"Setting penalty='none' will ignore the C and l1_ratio parameters\"\n",
            "/usr/local/lib/python3.7/dist-packages/sklearn/linear_model/_logistic.py:1484: UserWarning: Setting penalty='none' will ignore the C and l1_ratio parameters\n",
            "  \"Setting penalty='none' will ignore the C and l1_ratio parameters\"\n",
            "/usr/local/lib/python3.7/dist-packages/sklearn/linear_model/_logistic.py:1484: UserWarning: Setting penalty='none' will ignore the C and l1_ratio parameters\n",
            "  \"Setting penalty='none' will ignore the C and l1_ratio parameters\"\n",
            "/usr/local/lib/python3.7/dist-packages/sklearn/linear_model/_logistic.py:1484: UserWarning: Setting penalty='none' will ignore the C and l1_ratio parameters\n",
            "  \"Setting penalty='none' will ignore the C and l1_ratio parameters\"\n",
            "/usr/local/lib/python3.7/dist-packages/sklearn/linear_model/_logistic.py:1484: UserWarning: Setting penalty='none' will ignore the C and l1_ratio parameters\n",
            "  \"Setting penalty='none' will ignore the C and l1_ratio parameters\"\n",
            "/usr/local/lib/python3.7/dist-packages/sklearn/linear_model/_logistic.py:1484: UserWarning: Setting penalty='none' will ignore the C and l1_ratio parameters\n",
            "  \"Setting penalty='none' will ignore the C and l1_ratio parameters\"\n",
            "/usr/local/lib/python3.7/dist-packages/sklearn/linear_model/_logistic.py:1484: UserWarning: Setting penalty='none' will ignore the C and l1_ratio parameters\n",
            "  \"Setting penalty='none' will ignore the C and l1_ratio parameters\"\n",
            "/usr/local/lib/python3.7/dist-packages/sklearn/linear_model/_logistic.py:1484: UserWarning: Setting penalty='none' will ignore the C and l1_ratio parameters\n",
            "  \"Setting penalty='none' will ignore the C and l1_ratio parameters\"\n",
            "/usr/local/lib/python3.7/dist-packages/sklearn/linear_model/_logistic.py:1484: UserWarning: Setting penalty='none' will ignore the C and l1_ratio parameters\n",
            "  \"Setting penalty='none' will ignore the C and l1_ratio parameters\"\n",
            "/usr/local/lib/python3.7/dist-packages/sklearn/linear_model/_logistic.py:1484: UserWarning: Setting penalty='none' will ignore the C and l1_ratio parameters\n",
            "  \"Setting penalty='none' will ignore the C and l1_ratio parameters\"\n",
            "/usr/local/lib/python3.7/dist-packages/sklearn/linear_model/_logistic.py:1484: UserWarning: Setting penalty='none' will ignore the C and l1_ratio parameters\n",
            "  \"Setting penalty='none' will ignore the C and l1_ratio parameters\"\n",
            "/usr/local/lib/python3.7/dist-packages/sklearn/linear_model/_logistic.py:1484: UserWarning: Setting penalty='none' will ignore the C and l1_ratio parameters\n",
            "  \"Setting penalty='none' will ignore the C and l1_ratio parameters\"\n",
            "/usr/local/lib/python3.7/dist-packages/sklearn/linear_model/_logistic.py:1484: UserWarning: Setting penalty='none' will ignore the C and l1_ratio parameters\n",
            "  \"Setting penalty='none' will ignore the C and l1_ratio parameters\"\n",
            "/usr/local/lib/python3.7/dist-packages/sklearn/linear_model/_logistic.py:1484: UserWarning: Setting penalty='none' will ignore the C and l1_ratio parameters\n",
            "  \"Setting penalty='none' will ignore the C and l1_ratio parameters\"\n",
            "/usr/local/lib/python3.7/dist-packages/sklearn/linear_model/_logistic.py:1484: UserWarning: Setting penalty='none' will ignore the C and l1_ratio parameters\n",
            "  \"Setting penalty='none' will ignore the C and l1_ratio parameters\"\n",
            "/usr/local/lib/python3.7/dist-packages/sklearn/linear_model/_logistic.py:1484: UserWarning: Setting penalty='none' will ignore the C and l1_ratio parameters\n",
            "  \"Setting penalty='none' will ignore the C and l1_ratio parameters\"\n",
            "/usr/local/lib/python3.7/dist-packages/sklearn/linear_model/_logistic.py:1484: UserWarning: Setting penalty='none' will ignore the C and l1_ratio parameters\n",
            "  \"Setting penalty='none' will ignore the C and l1_ratio parameters\"\n",
            "/usr/local/lib/python3.7/dist-packages/sklearn/linear_model/_logistic.py:1484: UserWarning: Setting penalty='none' will ignore the C and l1_ratio parameters\n",
            "  \"Setting penalty='none' will ignore the C and l1_ratio parameters\"\n",
            "/usr/local/lib/python3.7/dist-packages/sklearn/linear_model/_logistic.py:1484: UserWarning: Setting penalty='none' will ignore the C and l1_ratio parameters\n",
            "  \"Setting penalty='none' will ignore the C and l1_ratio parameters\"\n",
            "/usr/local/lib/python3.7/dist-packages/sklearn/linear_model/_logistic.py:1484: UserWarning: Setting penalty='none' will ignore the C and l1_ratio parameters\n",
            "  \"Setting penalty='none' will ignore the C and l1_ratio parameters\"\n",
            "/usr/local/lib/python3.7/dist-packages/sklearn/linear_model/_logistic.py:1484: UserWarning: Setting penalty='none' will ignore the C and l1_ratio parameters\n",
            "  \"Setting penalty='none' will ignore the C and l1_ratio parameters\"\n",
            "/usr/local/lib/python3.7/dist-packages/sklearn/linear_model/_logistic.py:1484: UserWarning: Setting penalty='none' will ignore the C and l1_ratio parameters\n",
            "  \"Setting penalty='none' will ignore the C and l1_ratio parameters\"\n",
            "/usr/local/lib/python3.7/dist-packages/sklearn/linear_model/_logistic.py:1484: UserWarning: Setting penalty='none' will ignore the C and l1_ratio parameters\n",
            "  \"Setting penalty='none' will ignore the C and l1_ratio parameters\"\n",
            "/usr/local/lib/python3.7/dist-packages/sklearn/linear_model/_logistic.py:1484: UserWarning: Setting penalty='none' will ignore the C and l1_ratio parameters\n",
            "  \"Setting penalty='none' will ignore the C and l1_ratio parameters\"\n",
            "/usr/local/lib/python3.7/dist-packages/sklearn/linear_model/_logistic.py:1484: UserWarning: Setting penalty='none' will ignore the C and l1_ratio parameters\n",
            "  \"Setting penalty='none' will ignore the C and l1_ratio parameters\"\n",
            "/usr/local/lib/python3.7/dist-packages/sklearn/linear_model/_logistic.py:1484: UserWarning: Setting penalty='none' will ignore the C and l1_ratio parameters\n",
            "  \"Setting penalty='none' will ignore the C and l1_ratio parameters\"\n",
            "/usr/local/lib/python3.7/dist-packages/sklearn/linear_model/_logistic.py:1484: UserWarning: Setting penalty='none' will ignore the C and l1_ratio parameters\n",
            "  \"Setting penalty='none' will ignore the C and l1_ratio parameters\"\n",
            "/usr/local/lib/python3.7/dist-packages/sklearn/linear_model/_logistic.py:1484: UserWarning: Setting penalty='none' will ignore the C and l1_ratio parameters\n",
            "  \"Setting penalty='none' will ignore the C and l1_ratio parameters\"\n",
            "/usr/local/lib/python3.7/dist-packages/sklearn/linear_model/_logistic.py:1484: UserWarning: Setting penalty='none' will ignore the C and l1_ratio parameters\n",
            "  \"Setting penalty='none' will ignore the C and l1_ratio parameters\"\n",
            "/usr/local/lib/python3.7/dist-packages/sklearn/linear_model/_logistic.py:1484: UserWarning: Setting penalty='none' will ignore the C and l1_ratio parameters\n",
            "  \"Setting penalty='none' will ignore the C and l1_ratio parameters\"\n",
            "/usr/local/lib/python3.7/dist-packages/sklearn/linear_model/_logistic.py:1484: UserWarning: Setting penalty='none' will ignore the C and l1_ratio parameters\n",
            "  \"Setting penalty='none' will ignore the C and l1_ratio parameters\"\n",
            "/usr/local/lib/python3.7/dist-packages/sklearn/linear_model/_logistic.py:1484: UserWarning: Setting penalty='none' will ignore the C and l1_ratio parameters\n",
            "  \"Setting penalty='none' will ignore the C and l1_ratio parameters\"\n",
            "/usr/local/lib/python3.7/dist-packages/sklearn/linear_model/_logistic.py:1484: UserWarning: Setting penalty='none' will ignore the C and l1_ratio parameters\n",
            "  \"Setting penalty='none' will ignore the C and l1_ratio parameters\"\n",
            "/usr/local/lib/python3.7/dist-packages/sklearn/linear_model/_logistic.py:1484: UserWarning: Setting penalty='none' will ignore the C and l1_ratio parameters\n",
            "  \"Setting penalty='none' will ignore the C and l1_ratio parameters\"\n",
            "/usr/local/lib/python3.7/dist-packages/sklearn/linear_model/_logistic.py:1484: UserWarning: Setting penalty='none' will ignore the C and l1_ratio parameters\n",
            "  \"Setting penalty='none' will ignore the C and l1_ratio parameters\"\n",
            "/usr/local/lib/python3.7/dist-packages/sklearn/linear_model/_logistic.py:1484: UserWarning: Setting penalty='none' will ignore the C and l1_ratio parameters\n",
            "  \"Setting penalty='none' will ignore the C and l1_ratio parameters\"\n",
            "/usr/local/lib/python3.7/dist-packages/sklearn/linear_model/_logistic.py:1484: UserWarning: Setting penalty='none' will ignore the C and l1_ratio parameters\n",
            "  \"Setting penalty='none' will ignore the C and l1_ratio parameters\"\n",
            "/usr/local/lib/python3.7/dist-packages/sklearn/linear_model/_logistic.py:1484: UserWarning: Setting penalty='none' will ignore the C and l1_ratio parameters\n",
            "  \"Setting penalty='none' will ignore the C and l1_ratio parameters\"\n",
            "/usr/local/lib/python3.7/dist-packages/sklearn/linear_model/_logistic.py:1484: UserWarning: Setting penalty='none' will ignore the C and l1_ratio parameters\n",
            "  \"Setting penalty='none' will ignore the C and l1_ratio parameters\"\n",
            "/usr/local/lib/python3.7/dist-packages/sklearn/linear_model/_logistic.py:1484: UserWarning: Setting penalty='none' will ignore the C and l1_ratio parameters\n",
            "  \"Setting penalty='none' will ignore the C and l1_ratio parameters\"\n",
            "/usr/local/lib/python3.7/dist-packages/sklearn/linear_model/_logistic.py:1484: UserWarning: Setting penalty='none' will ignore the C and l1_ratio parameters\n",
            "  \"Setting penalty='none' will ignore the C and l1_ratio parameters\"\n",
            "/usr/local/lib/python3.7/dist-packages/sklearn/linear_model/_logistic.py:1484: UserWarning: Setting penalty='none' will ignore the C and l1_ratio parameters\n",
            "  \"Setting penalty='none' will ignore the C and l1_ratio parameters\"\n",
            "/usr/local/lib/python3.7/dist-packages/sklearn/linear_model/_logistic.py:1484: UserWarning: Setting penalty='none' will ignore the C and l1_ratio parameters\n",
            "  \"Setting penalty='none' will ignore the C and l1_ratio parameters\"\n",
            "/usr/local/lib/python3.7/dist-packages/sklearn/linear_model/_logistic.py:1484: UserWarning: Setting penalty='none' will ignore the C and l1_ratio parameters\n",
            "  \"Setting penalty='none' will ignore the C and l1_ratio parameters\"\n",
            "/usr/local/lib/python3.7/dist-packages/sklearn/linear_model/_logistic.py:1484: UserWarning: Setting penalty='none' will ignore the C and l1_ratio parameters\n",
            "  \"Setting penalty='none' will ignore the C and l1_ratio parameters\"\n",
            "/usr/local/lib/python3.7/dist-packages/sklearn/linear_model/_logistic.py:1484: UserWarning: Setting penalty='none' will ignore the C and l1_ratio parameters\n",
            "  \"Setting penalty='none' will ignore the C and l1_ratio parameters\"\n",
            "/usr/local/lib/python3.7/dist-packages/sklearn/linear_model/_logistic.py:1484: UserWarning: Setting penalty='none' will ignore the C and l1_ratio parameters\n",
            "  \"Setting penalty='none' will ignore the C and l1_ratio parameters\"\n",
            "/usr/local/lib/python3.7/dist-packages/sklearn/linear_model/_logistic.py:1484: UserWarning: Setting penalty='none' will ignore the C and l1_ratio parameters\n",
            "  \"Setting penalty='none' will ignore the C and l1_ratio parameters\"\n",
            "/usr/local/lib/python3.7/dist-packages/sklearn/linear_model/_logistic.py:1484: UserWarning: Setting penalty='none' will ignore the C and l1_ratio parameters\n",
            "  \"Setting penalty='none' will ignore the C and l1_ratio parameters\"\n",
            "/usr/local/lib/python3.7/dist-packages/sklearn/linear_model/_logistic.py:1484: UserWarning: Setting penalty='none' will ignore the C and l1_ratio parameters\n",
            "  \"Setting penalty='none' will ignore the C and l1_ratio parameters\"\n",
            "/usr/local/lib/python3.7/dist-packages/sklearn/linear_model/_logistic.py:1484: UserWarning: Setting penalty='none' will ignore the C and l1_ratio parameters\n",
            "  \"Setting penalty='none' will ignore the C and l1_ratio parameters\"\n"
          ]
        },
        {
          "output_type": "execute_result",
          "data": {
            "text/plain": [
              "GridSearchCV(cv=10,\n",
              "             estimator=Pipeline(steps=[('preprocessor',\n",
              "                                        ColumnTransformer(transformers=[('num_transformer',\n",
              "                                                                         Pipeline(steps=[('scaler',\n",
              "                                                                                          StandardScaler())]),\n",
              "                                                                         ['visited_successbookdemo',\n",
              "                                                                          'demo_page_top',\n",
              "                                                                          'newUser',\n",
              "                                                                          'goal4Completions',\n",
              "                                                                          'fired_DemoReqPg_CallClicks_evt',\n",
              "                                                                          'sessionDuration',\n",
              "                                                                          'pageviews',\n",
              "                                                                          'DemoReqPg_CallClicks_evt_count',\n",
              "                                                                          'paid',\n",
              "                                                                          'successbookdemo_top',\n",
              "                                                                          'sessions',\n",
              "                                                                          'visited_demo_page',\n",
              "                                                                          'bounces']),\n",
              "                                                                        ('cat_transformer',\n",
              "                                                                         Pipeline(steps=[('target',\n",
              "                                                                                          TargetEncoder())]),\n",
              "                                                                         ['region',\n",
              "                                                                          'sourceMedium'])])),\n",
              "                                       ('logreg',\n",
              "                                        LogisticRegression(max_iter=10000))]),\n",
              "             param_grid={'logreg__C': [10, 1.0, 0.1],\n",
              "                         'logreg__penalty': ['l2', 'none'],\n",
              "                         'logreg__solver': ['newton-cg', 'lbfgs', 'sag']},\n",
              "             scoring='precision')"
            ],
            "text/html": [
              "<style>#sk-04e1c380-7aea-4bec-9397-1735c72ba7da {color: black;background-color: white;}#sk-04e1c380-7aea-4bec-9397-1735c72ba7da pre{padding: 0;}#sk-04e1c380-7aea-4bec-9397-1735c72ba7da div.sk-toggleable {background-color: white;}#sk-04e1c380-7aea-4bec-9397-1735c72ba7da label.sk-toggleable__label {cursor: pointer;display: block;width: 100%;margin-bottom: 0;padding: 0.3em;box-sizing: border-box;text-align: center;}#sk-04e1c380-7aea-4bec-9397-1735c72ba7da label.sk-toggleable__label-arrow:before {content: \"▸\";float: left;margin-right: 0.25em;color: #696969;}#sk-04e1c380-7aea-4bec-9397-1735c72ba7da label.sk-toggleable__label-arrow:hover:before {color: black;}#sk-04e1c380-7aea-4bec-9397-1735c72ba7da div.sk-estimator:hover label.sk-toggleable__label-arrow:before {color: black;}#sk-04e1c380-7aea-4bec-9397-1735c72ba7da div.sk-toggleable__content {max-height: 0;max-width: 0;overflow: hidden;text-align: left;background-color: #f0f8ff;}#sk-04e1c380-7aea-4bec-9397-1735c72ba7da div.sk-toggleable__content pre {margin: 0.2em;color: black;border-radius: 0.25em;background-color: #f0f8ff;}#sk-04e1c380-7aea-4bec-9397-1735c72ba7da input.sk-toggleable__control:checked~div.sk-toggleable__content {max-height: 200px;max-width: 100%;overflow: auto;}#sk-04e1c380-7aea-4bec-9397-1735c72ba7da input.sk-toggleable__control:checked~label.sk-toggleable__label-arrow:before {content: \"▾\";}#sk-04e1c380-7aea-4bec-9397-1735c72ba7da div.sk-estimator input.sk-toggleable__control:checked~label.sk-toggleable__label {background-color: #d4ebff;}#sk-04e1c380-7aea-4bec-9397-1735c72ba7da div.sk-label input.sk-toggleable__control:checked~label.sk-toggleable__label {background-color: #d4ebff;}#sk-04e1c380-7aea-4bec-9397-1735c72ba7da input.sk-hidden--visually {border: 0;clip: rect(1px 1px 1px 1px);clip: rect(1px, 1px, 1px, 1px);height: 1px;margin: -1px;overflow: hidden;padding: 0;position: absolute;width: 1px;}#sk-04e1c380-7aea-4bec-9397-1735c72ba7da div.sk-estimator {font-family: monospace;background-color: #f0f8ff;border: 1px dotted black;border-radius: 0.25em;box-sizing: border-box;margin-bottom: 0.5em;}#sk-04e1c380-7aea-4bec-9397-1735c72ba7da div.sk-estimator:hover {background-color: #d4ebff;}#sk-04e1c380-7aea-4bec-9397-1735c72ba7da div.sk-parallel-item::after {content: \"\";width: 100%;border-bottom: 1px solid gray;flex-grow: 1;}#sk-04e1c380-7aea-4bec-9397-1735c72ba7da div.sk-label:hover label.sk-toggleable__label {background-color: #d4ebff;}#sk-04e1c380-7aea-4bec-9397-1735c72ba7da div.sk-serial::before {content: \"\";position: absolute;border-left: 1px solid gray;box-sizing: border-box;top: 2em;bottom: 0;left: 50%;}#sk-04e1c380-7aea-4bec-9397-1735c72ba7da div.sk-serial {display: flex;flex-direction: column;align-items: center;background-color: white;padding-right: 0.2em;padding-left: 0.2em;}#sk-04e1c380-7aea-4bec-9397-1735c72ba7da div.sk-item {z-index: 1;}#sk-04e1c380-7aea-4bec-9397-1735c72ba7da div.sk-parallel {display: flex;align-items: stretch;justify-content: center;background-color: white;}#sk-04e1c380-7aea-4bec-9397-1735c72ba7da div.sk-parallel::before {content: \"\";position: absolute;border-left: 1px solid gray;box-sizing: border-box;top: 2em;bottom: 0;left: 50%;}#sk-04e1c380-7aea-4bec-9397-1735c72ba7da div.sk-parallel-item {display: flex;flex-direction: column;position: relative;background-color: white;}#sk-04e1c380-7aea-4bec-9397-1735c72ba7da div.sk-parallel-item:first-child::after {align-self: flex-end;width: 50%;}#sk-04e1c380-7aea-4bec-9397-1735c72ba7da div.sk-parallel-item:last-child::after {align-self: flex-start;width: 50%;}#sk-04e1c380-7aea-4bec-9397-1735c72ba7da div.sk-parallel-item:only-child::after {width: 0;}#sk-04e1c380-7aea-4bec-9397-1735c72ba7da div.sk-dashed-wrapped {border: 1px dashed gray;margin: 0 0.4em 0.5em 0.4em;box-sizing: border-box;padding-bottom: 0.4em;background-color: white;position: relative;}#sk-04e1c380-7aea-4bec-9397-1735c72ba7da div.sk-label label {font-family: monospace;font-weight: bold;background-color: white;display: inline-block;line-height: 1.2em;}#sk-04e1c380-7aea-4bec-9397-1735c72ba7da div.sk-label-container {position: relative;z-index: 2;text-align: center;}#sk-04e1c380-7aea-4bec-9397-1735c72ba7da div.sk-container {/* jupyter's `normalize.less` sets `[hidden] { display: none; }` but bootstrap.min.css set `[hidden] { display: none !important; }` so we also need the `!important` here to be able to override the default hidden behavior on the sphinx rendered scikit-learn.org. See: https://github.com/scikit-learn/scikit-learn/issues/21755 */display: inline-block !important;position: relative;}#sk-04e1c380-7aea-4bec-9397-1735c72ba7da div.sk-text-repr-fallback {display: none;}</style><div id=\"sk-04e1c380-7aea-4bec-9397-1735c72ba7da\" class=\"sk-top-container\"><div class=\"sk-text-repr-fallback\"><pre>GridSearchCV(cv=10,\n",
              "             estimator=Pipeline(steps=[(&#x27;preprocessor&#x27;,\n",
              "                                        ColumnTransformer(transformers=[(&#x27;num_transformer&#x27;,\n",
              "                                                                         Pipeline(steps=[(&#x27;scaler&#x27;,\n",
              "                                                                                          StandardScaler())]),\n",
              "                                                                         [&#x27;visited_successbookdemo&#x27;,\n",
              "                                                                          &#x27;demo_page_top&#x27;,\n",
              "                                                                          &#x27;newUser&#x27;,\n",
              "                                                                          &#x27;goal4Completions&#x27;,\n",
              "                                                                          &#x27;fired_DemoReqPg_CallClicks_evt&#x27;,\n",
              "                                                                          &#x27;sessionDuration&#x27;,\n",
              "                                                                          &#x27;pageviews&#x27;,\n",
              "                                                                          &#x27;DemoReqPg_CallClicks_evt_count&#x27;,\n",
              "                                                                          &#x27;paid&#x27;,\n",
              "                                                                          &#x27;successbookdemo_top&#x27;,\n",
              "                                                                          &#x27;sessions&#x27;,\n",
              "                                                                          &#x27;visited_demo_page&#x27;,\n",
              "                                                                          &#x27;bounces&#x27;]),\n",
              "                                                                        (&#x27;cat_transformer&#x27;,\n",
              "                                                                         Pipeline(steps=[(&#x27;target&#x27;,\n",
              "                                                                                          TargetEncoder())]),\n",
              "                                                                         [&#x27;region&#x27;,\n",
              "                                                                          &#x27;sourceMedium&#x27;])])),\n",
              "                                       (&#x27;logreg&#x27;,\n",
              "                                        LogisticRegression(max_iter=10000))]),\n",
              "             param_grid={&#x27;logreg__C&#x27;: [10, 1.0, 0.1],\n",
              "                         &#x27;logreg__penalty&#x27;: [&#x27;l2&#x27;, &#x27;none&#x27;],\n",
              "                         &#x27;logreg__solver&#x27;: [&#x27;newton-cg&#x27;, &#x27;lbfgs&#x27;, &#x27;sag&#x27;]},\n",
              "             scoring=&#x27;precision&#x27;)</pre><b>Please rerun this cell to show the HTML repr or trust the notebook.</b></div><div class=\"sk-container\" hidden><div class=\"sk-item sk-dashed-wrapped\"><div class=\"sk-label-container\"><div class=\"sk-label sk-toggleable\"><input class=\"sk-toggleable__control sk-hidden--visually\" id=\"fbb2cb69-a7be-44c6-8843-44494edef9fe\" type=\"checkbox\" ><label for=\"fbb2cb69-a7be-44c6-8843-44494edef9fe\" class=\"sk-toggleable__label sk-toggleable__label-arrow\">GridSearchCV</label><div class=\"sk-toggleable__content\"><pre>GridSearchCV(cv=10,\n",
              "             estimator=Pipeline(steps=[(&#x27;preprocessor&#x27;,\n",
              "                                        ColumnTransformer(transformers=[(&#x27;num_transformer&#x27;,\n",
              "                                                                         Pipeline(steps=[(&#x27;scaler&#x27;,\n",
              "                                                                                          StandardScaler())]),\n",
              "                                                                         [&#x27;visited_successbookdemo&#x27;,\n",
              "                                                                          &#x27;demo_page_top&#x27;,\n",
              "                                                                          &#x27;newUser&#x27;,\n",
              "                                                                          &#x27;goal4Completions&#x27;,\n",
              "                                                                          &#x27;fired_DemoReqPg_CallClicks_evt&#x27;,\n",
              "                                                                          &#x27;sessionDuration&#x27;,\n",
              "                                                                          &#x27;pageviews&#x27;,\n",
              "                                                                          &#x27;DemoReqPg_CallClicks_evt_count&#x27;,\n",
              "                                                                          &#x27;paid&#x27;,\n",
              "                                                                          &#x27;successbookdemo_top&#x27;,\n",
              "                                                                          &#x27;sessions&#x27;,\n",
              "                                                                          &#x27;visited_demo_page&#x27;,\n",
              "                                                                          &#x27;bounces&#x27;]),\n",
              "                                                                        (&#x27;cat_transformer&#x27;,\n",
              "                                                                         Pipeline(steps=[(&#x27;target&#x27;,\n",
              "                                                                                          TargetEncoder())]),\n",
              "                                                                         [&#x27;region&#x27;,\n",
              "                                                                          &#x27;sourceMedium&#x27;])])),\n",
              "                                       (&#x27;logreg&#x27;,\n",
              "                                        LogisticRegression(max_iter=10000))]),\n",
              "             param_grid={&#x27;logreg__C&#x27;: [10, 1.0, 0.1],\n",
              "                         &#x27;logreg__penalty&#x27;: [&#x27;l2&#x27;, &#x27;none&#x27;],\n",
              "                         &#x27;logreg__solver&#x27;: [&#x27;newton-cg&#x27;, &#x27;lbfgs&#x27;, &#x27;sag&#x27;]},\n",
              "             scoring=&#x27;precision&#x27;)</pre></div></div></div><div class=\"sk-parallel\"><div class=\"sk-parallel-item\"><div class=\"sk-item\"><div class=\"sk-serial\"><div class=\"sk-item\"><div class=\"sk-serial\"><div class=\"sk-item sk-dashed-wrapped\"><div class=\"sk-label-container\"><div class=\"sk-label sk-toggleable\"><input class=\"sk-toggleable__control sk-hidden--visually\" id=\"f9f6b5db-49b7-45d7-97d1-e361b8de7245\" type=\"checkbox\" ><label for=\"f9f6b5db-49b7-45d7-97d1-e361b8de7245\" class=\"sk-toggleable__label sk-toggleable__label-arrow\">preprocessor: ColumnTransformer</label><div class=\"sk-toggleable__content\"><pre>ColumnTransformer(transformers=[(&#x27;num_transformer&#x27;,\n",
              "                                 Pipeline(steps=[(&#x27;scaler&#x27;, StandardScaler())]),\n",
              "                                 [&#x27;visited_successbookdemo&#x27;, &#x27;demo_page_top&#x27;,\n",
              "                                  &#x27;newUser&#x27;, &#x27;goal4Completions&#x27;,\n",
              "                                  &#x27;fired_DemoReqPg_CallClicks_evt&#x27;,\n",
              "                                  &#x27;sessionDuration&#x27;, &#x27;pageviews&#x27;,\n",
              "                                  &#x27;DemoReqPg_CallClicks_evt_count&#x27;, &#x27;paid&#x27;,\n",
              "                                  &#x27;successbookdemo_top&#x27;, &#x27;sessions&#x27;,\n",
              "                                  &#x27;visited_demo_page&#x27;, &#x27;bounces&#x27;]),\n",
              "                                (&#x27;cat_transformer&#x27;,\n",
              "                                 Pipeline(steps=[(&#x27;target&#x27;, TargetEncoder())]),\n",
              "                                 [&#x27;region&#x27;, &#x27;sourceMedium&#x27;])])</pre></div></div></div><div class=\"sk-parallel\"><div class=\"sk-parallel-item\"><div class=\"sk-item\"><div class=\"sk-label-container\"><div class=\"sk-label sk-toggleable\"><input class=\"sk-toggleable__control sk-hidden--visually\" id=\"95b75668-52dd-468f-8766-0625f83afe20\" type=\"checkbox\" ><label for=\"95b75668-52dd-468f-8766-0625f83afe20\" class=\"sk-toggleable__label sk-toggleable__label-arrow\">num_transformer</label><div class=\"sk-toggleable__content\"><pre>[&#x27;visited_successbookdemo&#x27;, &#x27;demo_page_top&#x27;, &#x27;newUser&#x27;, &#x27;goal4Completions&#x27;, &#x27;fired_DemoReqPg_CallClicks_evt&#x27;, &#x27;sessionDuration&#x27;, &#x27;pageviews&#x27;, &#x27;DemoReqPg_CallClicks_evt_count&#x27;, &#x27;paid&#x27;, &#x27;successbookdemo_top&#x27;, &#x27;sessions&#x27;, &#x27;visited_demo_page&#x27;, &#x27;bounces&#x27;]</pre></div></div></div><div class=\"sk-serial\"><div class=\"sk-item\"><div class=\"sk-serial\"><div class=\"sk-item\"><div class=\"sk-estimator sk-toggleable\"><input class=\"sk-toggleable__control sk-hidden--visually\" id=\"d5921804-62c6-4809-8c52-e8f4fdc717b0\" type=\"checkbox\" ><label for=\"d5921804-62c6-4809-8c52-e8f4fdc717b0\" class=\"sk-toggleable__label sk-toggleable__label-arrow\">StandardScaler</label><div class=\"sk-toggleable__content\"><pre>StandardScaler()</pre></div></div></div></div></div></div></div></div><div class=\"sk-parallel-item\"><div class=\"sk-item\"><div class=\"sk-label-container\"><div class=\"sk-label sk-toggleable\"><input class=\"sk-toggleable__control sk-hidden--visually\" id=\"f715d41c-37f3-4c28-a202-d53c8d28edf4\" type=\"checkbox\" ><label for=\"f715d41c-37f3-4c28-a202-d53c8d28edf4\" class=\"sk-toggleable__label sk-toggleable__label-arrow\">cat_transformer</label><div class=\"sk-toggleable__content\"><pre>[&#x27;region&#x27;, &#x27;sourceMedium&#x27;]</pre></div></div></div><div class=\"sk-serial\"><div class=\"sk-item\"><div class=\"sk-serial\"><div class=\"sk-item\"><div class=\"sk-estimator sk-toggleable\"><input class=\"sk-toggleable__control sk-hidden--visually\" id=\"3af05a32-edd9-47ea-8106-b110a435f579\" type=\"checkbox\" ><label for=\"3af05a32-edd9-47ea-8106-b110a435f579\" class=\"sk-toggleable__label sk-toggleable__label-arrow\">TargetEncoder</label><div class=\"sk-toggleable__content\"><pre>TargetEncoder()</pre></div></div></div></div></div></div></div></div></div></div><div class=\"sk-item\"><div class=\"sk-estimator sk-toggleable\"><input class=\"sk-toggleable__control sk-hidden--visually\" id=\"336c1a0e-7f40-40b6-8df6-eb3d837b5c08\" type=\"checkbox\" ><label for=\"336c1a0e-7f40-40b6-8df6-eb3d837b5c08\" class=\"sk-toggleable__label sk-toggleable__label-arrow\">LogisticRegression</label><div class=\"sk-toggleable__content\"><pre>LogisticRegression(max_iter=10000)</pre></div></div></div></div></div></div></div></div></div></div></div></div>"
            ]
          },
          "metadata": {},
          "execution_count": 216
        }
      ],
      "source": [
        "logreg_cv.fit(X_train_sampled_1[feature_selected],X_train_sampled_1['converted'])"
      ]
    },
    {
      "cell_type": "code",
      "execution_count": 217,
      "metadata": {
        "colab": {
          "base_uri": "https://localhost:8080/"
        },
        "id": "6mbOgd7JnioJ",
        "outputId": "54c12b26-7703-4136-cf12-8f1465430be7"
      },
      "outputs": [
        {
          "output_type": "execute_result",
          "data": {
            "text/plain": [
              "0.6768122372597657"
            ]
          },
          "metadata": {},
          "execution_count": 217
        }
      ],
      "source": [
        "logreg_cv.best_score_"
      ]
    },
    {
      "cell_type": "code",
      "source": [
        "logreg_cv.best_params_"
      ],
      "metadata": {
        "colab": {
          "base_uri": "https://localhost:8080/"
        },
        "id": "N_UzcJTC3IBJ",
        "outputId": "a9e6ac4d-f154-443a-8e9e-d0a28567603f"
      },
      "execution_count": 218,
      "outputs": [
        {
          "output_type": "execute_result",
          "data": {
            "text/plain": [
              "{'logreg__C': 10, 'logreg__penalty': 'l2', 'logreg__solver': 'newton-cg'}"
            ]
          },
          "metadata": {},
          "execution_count": 218
        }
      ]
    },
    {
      "cell_type": "code",
      "execution_count": 219,
      "metadata": {
        "id": "ZktbzujuljPt"
      },
      "outputs": [],
      "source": [
        "logreg_cv_predict=logreg_cv.predict(X_test[feature_selected])"
      ]
    },
    {
      "cell_type": "code",
      "source": [
        "print(classification_report(logreg_cv_predict,Y_test))"
      ],
      "metadata": {
        "colab": {
          "base_uri": "https://localhost:8080/"
        },
        "id": "GG-LA_PsVgyx",
        "outputId": "49559a83-95e1-4f9e-caf1-807e1526c35a"
      },
      "execution_count": 220,
      "outputs": [
        {
          "output_type": "stream",
          "name": "stdout",
          "text": [
            "              precision    recall  f1-score   support\n",
            "\n",
            "           0       0.70      0.97      0.81      7224\n",
            "           1       0.63      0.11      0.18      3342\n",
            "\n",
            "    accuracy                           0.70     10566\n",
            "   macro avg       0.67      0.54      0.50     10566\n",
            "weighted avg       0.68      0.70      0.61     10566\n",
            "\n"
          ]
        }
      ]
    },
    {
      "cell_type": "markdown",
      "source": [
        "Experiment 9:\n",
        "\n",
        "Logistic Regression with SMOTE\n",
        "\n",
        "Attributes of Experiments: \n",
        "1. SMOTE\n",
        "2. Scaler Transformation\n",
        "3. Weights of Evidence Encoding\n",
        "\n"
      ],
      "metadata": {
        "id": "aE6c7xPiuLy7"
      }
    },
    {
      "cell_type": "code",
      "source": [
        "logreg=LogisticRegression(max_iter=10000)\n",
        "logreg_cl_smote = Pipeline(steps=[ \n",
        "                         ('preprocessor', preprocessor2),\n",
        "                          ('logreg',logreg )])\n",
        "logreg_search_smote=GridSearchCV(estimator=logreg_cl_smote,param_grid=grid,cv=10,scoring='precision')"
      ],
      "metadata": {
        "id": "QJZJRT9buKy9"
      },
      "execution_count": 221,
      "outputs": []
    },
    {
      "cell_type": "code",
      "source": [
        "logreg_search_smote.fit(X_train_smotenc[feature_selected],Y_train_smotenc)"
      ],
      "metadata": {
        "colab": {
          "base_uri": "https://localhost:8080/",
          "height": 1000
        },
        "id": "NH6B8nPk3WL2",
        "outputId": "fadcb073-d6c0-4d2e-a724-e5b8f2a5628b"
      },
      "execution_count": 222,
      "outputs": [
        {
          "output_type": "stream",
          "name": "stderr",
          "text": [
            "/usr/local/lib/python3.7/dist-packages/sklearn/linear_model/_logistic.py:1484: UserWarning: Setting penalty='none' will ignore the C and l1_ratio parameters\n",
            "  \"Setting penalty='none' will ignore the C and l1_ratio parameters\"\n",
            "/usr/local/lib/python3.7/dist-packages/sklearn/linear_model/_logistic.py:1484: UserWarning: Setting penalty='none' will ignore the C and l1_ratio parameters\n",
            "  \"Setting penalty='none' will ignore the C and l1_ratio parameters\"\n",
            "/usr/local/lib/python3.7/dist-packages/sklearn/linear_model/_logistic.py:1484: UserWarning: Setting penalty='none' will ignore the C and l1_ratio parameters\n",
            "  \"Setting penalty='none' will ignore the C and l1_ratio parameters\"\n",
            "/usr/local/lib/python3.7/dist-packages/sklearn/linear_model/_logistic.py:1484: UserWarning: Setting penalty='none' will ignore the C and l1_ratio parameters\n",
            "  \"Setting penalty='none' will ignore the C and l1_ratio parameters\"\n",
            "/usr/local/lib/python3.7/dist-packages/sklearn/linear_model/_logistic.py:1484: UserWarning: Setting penalty='none' will ignore the C and l1_ratio parameters\n",
            "  \"Setting penalty='none' will ignore the C and l1_ratio parameters\"\n",
            "/usr/local/lib/python3.7/dist-packages/sklearn/linear_model/_logistic.py:1484: UserWarning: Setting penalty='none' will ignore the C and l1_ratio parameters\n",
            "  \"Setting penalty='none' will ignore the C and l1_ratio parameters\"\n",
            "/usr/local/lib/python3.7/dist-packages/sklearn/linear_model/_logistic.py:1484: UserWarning: Setting penalty='none' will ignore the C and l1_ratio parameters\n",
            "  \"Setting penalty='none' will ignore the C and l1_ratio parameters\"\n",
            "/usr/local/lib/python3.7/dist-packages/sklearn/linear_model/_logistic.py:1484: UserWarning: Setting penalty='none' will ignore the C and l1_ratio parameters\n",
            "  \"Setting penalty='none' will ignore the C and l1_ratio parameters\"\n",
            "/usr/local/lib/python3.7/dist-packages/sklearn/linear_model/_logistic.py:1484: UserWarning: Setting penalty='none' will ignore the C and l1_ratio parameters\n",
            "  \"Setting penalty='none' will ignore the C and l1_ratio parameters\"\n",
            "/usr/local/lib/python3.7/dist-packages/sklearn/linear_model/_logistic.py:1484: UserWarning: Setting penalty='none' will ignore the C and l1_ratio parameters\n",
            "  \"Setting penalty='none' will ignore the C and l1_ratio parameters\"\n",
            "/usr/local/lib/python3.7/dist-packages/sklearn/linear_model/_logistic.py:1484: UserWarning: Setting penalty='none' will ignore the C and l1_ratio parameters\n",
            "  \"Setting penalty='none' will ignore the C and l1_ratio parameters\"\n",
            "/usr/local/lib/python3.7/dist-packages/sklearn/linear_model/_logistic.py:1484: UserWarning: Setting penalty='none' will ignore the C and l1_ratio parameters\n",
            "  \"Setting penalty='none' will ignore the C and l1_ratio parameters\"\n",
            "/usr/local/lib/python3.7/dist-packages/sklearn/linear_model/_logistic.py:1484: UserWarning: Setting penalty='none' will ignore the C and l1_ratio parameters\n",
            "  \"Setting penalty='none' will ignore the C and l1_ratio parameters\"\n",
            "/usr/local/lib/python3.7/dist-packages/sklearn/linear_model/_logistic.py:1484: UserWarning: Setting penalty='none' will ignore the C and l1_ratio parameters\n",
            "  \"Setting penalty='none' will ignore the C and l1_ratio parameters\"\n",
            "/usr/local/lib/python3.7/dist-packages/sklearn/linear_model/_logistic.py:1484: UserWarning: Setting penalty='none' will ignore the C and l1_ratio parameters\n",
            "  \"Setting penalty='none' will ignore the C and l1_ratio parameters\"\n",
            "/usr/local/lib/python3.7/dist-packages/sklearn/linear_model/_logistic.py:1484: UserWarning: Setting penalty='none' will ignore the C and l1_ratio parameters\n",
            "  \"Setting penalty='none' will ignore the C and l1_ratio parameters\"\n",
            "/usr/local/lib/python3.7/dist-packages/sklearn/linear_model/_logistic.py:1484: UserWarning: Setting penalty='none' will ignore the C and l1_ratio parameters\n",
            "  \"Setting penalty='none' will ignore the C and l1_ratio parameters\"\n",
            "/usr/local/lib/python3.7/dist-packages/sklearn/linear_model/_logistic.py:1484: UserWarning: Setting penalty='none' will ignore the C and l1_ratio parameters\n",
            "  \"Setting penalty='none' will ignore the C and l1_ratio parameters\"\n",
            "/usr/local/lib/python3.7/dist-packages/sklearn/linear_model/_logistic.py:1484: UserWarning: Setting penalty='none' will ignore the C and l1_ratio parameters\n",
            "  \"Setting penalty='none' will ignore the C and l1_ratio parameters\"\n",
            "/usr/local/lib/python3.7/dist-packages/sklearn/linear_model/_logistic.py:1484: UserWarning: Setting penalty='none' will ignore the C and l1_ratio parameters\n",
            "  \"Setting penalty='none' will ignore the C and l1_ratio parameters\"\n",
            "/usr/local/lib/python3.7/dist-packages/sklearn/linear_model/_logistic.py:1484: UserWarning: Setting penalty='none' will ignore the C and l1_ratio parameters\n",
            "  \"Setting penalty='none' will ignore the C and l1_ratio parameters\"\n",
            "/usr/local/lib/python3.7/dist-packages/sklearn/linear_model/_logistic.py:1484: UserWarning: Setting penalty='none' will ignore the C and l1_ratio parameters\n",
            "  \"Setting penalty='none' will ignore the C and l1_ratio parameters\"\n",
            "/usr/local/lib/python3.7/dist-packages/sklearn/linear_model/_logistic.py:1484: UserWarning: Setting penalty='none' will ignore the C and l1_ratio parameters\n",
            "  \"Setting penalty='none' will ignore the C and l1_ratio parameters\"\n",
            "/usr/local/lib/python3.7/dist-packages/sklearn/linear_model/_logistic.py:1484: UserWarning: Setting penalty='none' will ignore the C and l1_ratio parameters\n",
            "  \"Setting penalty='none' will ignore the C and l1_ratio parameters\"\n",
            "/usr/local/lib/python3.7/dist-packages/sklearn/linear_model/_logistic.py:1484: UserWarning: Setting penalty='none' will ignore the C and l1_ratio parameters\n",
            "  \"Setting penalty='none' will ignore the C and l1_ratio parameters\"\n",
            "/usr/local/lib/python3.7/dist-packages/sklearn/linear_model/_logistic.py:1484: UserWarning: Setting penalty='none' will ignore the C and l1_ratio parameters\n",
            "  \"Setting penalty='none' will ignore the C and l1_ratio parameters\"\n",
            "/usr/local/lib/python3.7/dist-packages/sklearn/linear_model/_logistic.py:1484: UserWarning: Setting penalty='none' will ignore the C and l1_ratio parameters\n",
            "  \"Setting penalty='none' will ignore the C and l1_ratio parameters\"\n",
            "/usr/local/lib/python3.7/dist-packages/sklearn/linear_model/_logistic.py:1484: UserWarning: Setting penalty='none' will ignore the C and l1_ratio parameters\n",
            "  \"Setting penalty='none' will ignore the C and l1_ratio parameters\"\n",
            "/usr/local/lib/python3.7/dist-packages/sklearn/linear_model/_logistic.py:1484: UserWarning: Setting penalty='none' will ignore the C and l1_ratio parameters\n",
            "  \"Setting penalty='none' will ignore the C and l1_ratio parameters\"\n",
            "/usr/local/lib/python3.7/dist-packages/sklearn/linear_model/_logistic.py:1484: UserWarning: Setting penalty='none' will ignore the C and l1_ratio parameters\n",
            "  \"Setting penalty='none' will ignore the C and l1_ratio parameters\"\n",
            "/usr/local/lib/python3.7/dist-packages/sklearn/linear_model/_logistic.py:1484: UserWarning: Setting penalty='none' will ignore the C and l1_ratio parameters\n",
            "  \"Setting penalty='none' will ignore the C and l1_ratio parameters\"\n",
            "/usr/local/lib/python3.7/dist-packages/sklearn/linear_model/_logistic.py:1484: UserWarning: Setting penalty='none' will ignore the C and l1_ratio parameters\n",
            "  \"Setting penalty='none' will ignore the C and l1_ratio parameters\"\n",
            "/usr/local/lib/python3.7/dist-packages/sklearn/linear_model/_logistic.py:1484: UserWarning: Setting penalty='none' will ignore the C and l1_ratio parameters\n",
            "  \"Setting penalty='none' will ignore the C and l1_ratio parameters\"\n",
            "/usr/local/lib/python3.7/dist-packages/sklearn/linear_model/_logistic.py:1484: UserWarning: Setting penalty='none' will ignore the C and l1_ratio parameters\n",
            "  \"Setting penalty='none' will ignore the C and l1_ratio parameters\"\n",
            "/usr/local/lib/python3.7/dist-packages/sklearn/linear_model/_logistic.py:1484: UserWarning: Setting penalty='none' will ignore the C and l1_ratio parameters\n",
            "  \"Setting penalty='none' will ignore the C and l1_ratio parameters\"\n",
            "/usr/local/lib/python3.7/dist-packages/sklearn/linear_model/_logistic.py:1484: UserWarning: Setting penalty='none' will ignore the C and l1_ratio parameters\n",
            "  \"Setting penalty='none' will ignore the C and l1_ratio parameters\"\n",
            "/usr/local/lib/python3.7/dist-packages/sklearn/linear_model/_logistic.py:1484: UserWarning: Setting penalty='none' will ignore the C and l1_ratio parameters\n",
            "  \"Setting penalty='none' will ignore the C and l1_ratio parameters\"\n",
            "/usr/local/lib/python3.7/dist-packages/sklearn/linear_model/_logistic.py:1484: UserWarning: Setting penalty='none' will ignore the C and l1_ratio parameters\n",
            "  \"Setting penalty='none' will ignore the C and l1_ratio parameters\"\n",
            "/usr/local/lib/python3.7/dist-packages/sklearn/linear_model/_logistic.py:1484: UserWarning: Setting penalty='none' will ignore the C and l1_ratio parameters\n",
            "  \"Setting penalty='none' will ignore the C and l1_ratio parameters\"\n",
            "/usr/local/lib/python3.7/dist-packages/sklearn/linear_model/_logistic.py:1484: UserWarning: Setting penalty='none' will ignore the C and l1_ratio parameters\n",
            "  \"Setting penalty='none' will ignore the C and l1_ratio parameters\"\n",
            "/usr/local/lib/python3.7/dist-packages/sklearn/linear_model/_logistic.py:1484: UserWarning: Setting penalty='none' will ignore the C and l1_ratio parameters\n",
            "  \"Setting penalty='none' will ignore the C and l1_ratio parameters\"\n",
            "/usr/local/lib/python3.7/dist-packages/sklearn/linear_model/_logistic.py:1484: UserWarning: Setting penalty='none' will ignore the C and l1_ratio parameters\n",
            "  \"Setting penalty='none' will ignore the C and l1_ratio parameters\"\n",
            "/usr/local/lib/python3.7/dist-packages/sklearn/linear_model/_logistic.py:1484: UserWarning: Setting penalty='none' will ignore the C and l1_ratio parameters\n",
            "  \"Setting penalty='none' will ignore the C and l1_ratio parameters\"\n",
            "/usr/local/lib/python3.7/dist-packages/sklearn/linear_model/_logistic.py:1484: UserWarning: Setting penalty='none' will ignore the C and l1_ratio parameters\n",
            "  \"Setting penalty='none' will ignore the C and l1_ratio parameters\"\n",
            "/usr/local/lib/python3.7/dist-packages/sklearn/linear_model/_logistic.py:1484: UserWarning: Setting penalty='none' will ignore the C and l1_ratio parameters\n",
            "  \"Setting penalty='none' will ignore the C and l1_ratio parameters\"\n",
            "/usr/local/lib/python3.7/dist-packages/sklearn/linear_model/_logistic.py:1484: UserWarning: Setting penalty='none' will ignore the C and l1_ratio parameters\n",
            "  \"Setting penalty='none' will ignore the C and l1_ratio parameters\"\n",
            "/usr/local/lib/python3.7/dist-packages/sklearn/linear_model/_logistic.py:1484: UserWarning: Setting penalty='none' will ignore the C and l1_ratio parameters\n",
            "  \"Setting penalty='none' will ignore the C and l1_ratio parameters\"\n",
            "/usr/local/lib/python3.7/dist-packages/sklearn/linear_model/_logistic.py:1484: UserWarning: Setting penalty='none' will ignore the C and l1_ratio parameters\n",
            "  \"Setting penalty='none' will ignore the C and l1_ratio parameters\"\n",
            "/usr/local/lib/python3.7/dist-packages/sklearn/linear_model/_logistic.py:1484: UserWarning: Setting penalty='none' will ignore the C and l1_ratio parameters\n",
            "  \"Setting penalty='none' will ignore the C and l1_ratio parameters\"\n",
            "/usr/local/lib/python3.7/dist-packages/sklearn/linear_model/_logistic.py:1484: UserWarning: Setting penalty='none' will ignore the C and l1_ratio parameters\n",
            "  \"Setting penalty='none' will ignore the C and l1_ratio parameters\"\n",
            "/usr/local/lib/python3.7/dist-packages/sklearn/linear_model/_logistic.py:1484: UserWarning: Setting penalty='none' will ignore the C and l1_ratio parameters\n",
            "  \"Setting penalty='none' will ignore the C and l1_ratio parameters\"\n",
            "/usr/local/lib/python3.7/dist-packages/sklearn/linear_model/_logistic.py:1484: UserWarning: Setting penalty='none' will ignore the C and l1_ratio parameters\n",
            "  \"Setting penalty='none' will ignore the C and l1_ratio parameters\"\n",
            "/usr/local/lib/python3.7/dist-packages/sklearn/linear_model/_logistic.py:1484: UserWarning: Setting penalty='none' will ignore the C and l1_ratio parameters\n",
            "  \"Setting penalty='none' will ignore the C and l1_ratio parameters\"\n",
            "/usr/local/lib/python3.7/dist-packages/sklearn/linear_model/_logistic.py:1484: UserWarning: Setting penalty='none' will ignore the C and l1_ratio parameters\n",
            "  \"Setting penalty='none' will ignore the C and l1_ratio parameters\"\n",
            "/usr/local/lib/python3.7/dist-packages/sklearn/linear_model/_logistic.py:1484: UserWarning: Setting penalty='none' will ignore the C and l1_ratio parameters\n",
            "  \"Setting penalty='none' will ignore the C and l1_ratio parameters\"\n",
            "/usr/local/lib/python3.7/dist-packages/sklearn/linear_model/_logistic.py:1484: UserWarning: Setting penalty='none' will ignore the C and l1_ratio parameters\n",
            "  \"Setting penalty='none' will ignore the C and l1_ratio parameters\"\n",
            "/usr/local/lib/python3.7/dist-packages/sklearn/linear_model/_logistic.py:1484: UserWarning: Setting penalty='none' will ignore the C and l1_ratio parameters\n",
            "  \"Setting penalty='none' will ignore the C and l1_ratio parameters\"\n",
            "/usr/local/lib/python3.7/dist-packages/sklearn/linear_model/_logistic.py:1484: UserWarning: Setting penalty='none' will ignore the C and l1_ratio parameters\n",
            "  \"Setting penalty='none' will ignore the C and l1_ratio parameters\"\n",
            "/usr/local/lib/python3.7/dist-packages/sklearn/linear_model/_logistic.py:1484: UserWarning: Setting penalty='none' will ignore the C and l1_ratio parameters\n",
            "  \"Setting penalty='none' will ignore the C and l1_ratio parameters\"\n",
            "/usr/local/lib/python3.7/dist-packages/sklearn/linear_model/_logistic.py:1484: UserWarning: Setting penalty='none' will ignore the C and l1_ratio parameters\n",
            "  \"Setting penalty='none' will ignore the C and l1_ratio parameters\"\n"
          ]
        },
        {
          "output_type": "execute_result",
          "data": {
            "text/plain": [
              "GridSearchCV(cv=10,\n",
              "             estimator=Pipeline(steps=[('preprocessor',\n",
              "                                        ColumnTransformer(transformers=[('num_transformer',\n",
              "                                                                         Pipeline(steps=[('scaler',\n",
              "                                                                                          StandardScaler())]),\n",
              "                                                                         ['visited_successbookdemo',\n",
              "                                                                          'demo_page_top',\n",
              "                                                                          'newUser',\n",
              "                                                                          'goal4Completions',\n",
              "                                                                          'fired_DemoReqPg_CallClicks_evt',\n",
              "                                                                          'sessionDuration',\n",
              "                                                                          'pageviews',\n",
              "                                                                          'DemoReqPg_CallClicks_evt_count',\n",
              "                                                                          'paid',\n",
              "                                                                          'successbookdemo_top',\n",
              "                                                                          'sessions',\n",
              "                                                                          'visited_demo_page',\n",
              "                                                                          'bounces']),\n",
              "                                                                        ('woe_transformer',\n",
              "                                                                         Pipeline(steps=[('woe',\n",
              "                                                                                          WOEEncoder())]),\n",
              "                                                                         ['region',\n",
              "                                                                          'sourceMedium'])])),\n",
              "                                       ('logreg',\n",
              "                                        LogisticRegression(max_iter=10000))]),\n",
              "             param_grid={'logreg__C': [10, 1.0, 0.1],\n",
              "                         'logreg__penalty': ['l2', 'none'],\n",
              "                         'logreg__solver': ['newton-cg', 'lbfgs', 'sag']},\n",
              "             scoring='precision')"
            ],
            "text/html": [
              "<style>#sk-ef99e9a6-cd0a-4058-97d2-14ad011d64e2 {color: black;background-color: white;}#sk-ef99e9a6-cd0a-4058-97d2-14ad011d64e2 pre{padding: 0;}#sk-ef99e9a6-cd0a-4058-97d2-14ad011d64e2 div.sk-toggleable {background-color: white;}#sk-ef99e9a6-cd0a-4058-97d2-14ad011d64e2 label.sk-toggleable__label {cursor: pointer;display: block;width: 100%;margin-bottom: 0;padding: 0.3em;box-sizing: border-box;text-align: center;}#sk-ef99e9a6-cd0a-4058-97d2-14ad011d64e2 label.sk-toggleable__label-arrow:before {content: \"▸\";float: left;margin-right: 0.25em;color: #696969;}#sk-ef99e9a6-cd0a-4058-97d2-14ad011d64e2 label.sk-toggleable__label-arrow:hover:before {color: black;}#sk-ef99e9a6-cd0a-4058-97d2-14ad011d64e2 div.sk-estimator:hover label.sk-toggleable__label-arrow:before {color: black;}#sk-ef99e9a6-cd0a-4058-97d2-14ad011d64e2 div.sk-toggleable__content {max-height: 0;max-width: 0;overflow: hidden;text-align: left;background-color: #f0f8ff;}#sk-ef99e9a6-cd0a-4058-97d2-14ad011d64e2 div.sk-toggleable__content pre {margin: 0.2em;color: black;border-radius: 0.25em;background-color: #f0f8ff;}#sk-ef99e9a6-cd0a-4058-97d2-14ad011d64e2 input.sk-toggleable__control:checked~div.sk-toggleable__content {max-height: 200px;max-width: 100%;overflow: auto;}#sk-ef99e9a6-cd0a-4058-97d2-14ad011d64e2 input.sk-toggleable__control:checked~label.sk-toggleable__label-arrow:before {content: \"▾\";}#sk-ef99e9a6-cd0a-4058-97d2-14ad011d64e2 div.sk-estimator input.sk-toggleable__control:checked~label.sk-toggleable__label {background-color: #d4ebff;}#sk-ef99e9a6-cd0a-4058-97d2-14ad011d64e2 div.sk-label input.sk-toggleable__control:checked~label.sk-toggleable__label {background-color: #d4ebff;}#sk-ef99e9a6-cd0a-4058-97d2-14ad011d64e2 input.sk-hidden--visually {border: 0;clip: rect(1px 1px 1px 1px);clip: rect(1px, 1px, 1px, 1px);height: 1px;margin: -1px;overflow: hidden;padding: 0;position: absolute;width: 1px;}#sk-ef99e9a6-cd0a-4058-97d2-14ad011d64e2 div.sk-estimator {font-family: monospace;background-color: #f0f8ff;border: 1px dotted black;border-radius: 0.25em;box-sizing: border-box;margin-bottom: 0.5em;}#sk-ef99e9a6-cd0a-4058-97d2-14ad011d64e2 div.sk-estimator:hover {background-color: #d4ebff;}#sk-ef99e9a6-cd0a-4058-97d2-14ad011d64e2 div.sk-parallel-item::after {content: \"\";width: 100%;border-bottom: 1px solid gray;flex-grow: 1;}#sk-ef99e9a6-cd0a-4058-97d2-14ad011d64e2 div.sk-label:hover label.sk-toggleable__label {background-color: #d4ebff;}#sk-ef99e9a6-cd0a-4058-97d2-14ad011d64e2 div.sk-serial::before {content: \"\";position: absolute;border-left: 1px solid gray;box-sizing: border-box;top: 2em;bottom: 0;left: 50%;}#sk-ef99e9a6-cd0a-4058-97d2-14ad011d64e2 div.sk-serial {display: flex;flex-direction: column;align-items: center;background-color: white;padding-right: 0.2em;padding-left: 0.2em;}#sk-ef99e9a6-cd0a-4058-97d2-14ad011d64e2 div.sk-item {z-index: 1;}#sk-ef99e9a6-cd0a-4058-97d2-14ad011d64e2 div.sk-parallel {display: flex;align-items: stretch;justify-content: center;background-color: white;}#sk-ef99e9a6-cd0a-4058-97d2-14ad011d64e2 div.sk-parallel::before {content: \"\";position: absolute;border-left: 1px solid gray;box-sizing: border-box;top: 2em;bottom: 0;left: 50%;}#sk-ef99e9a6-cd0a-4058-97d2-14ad011d64e2 div.sk-parallel-item {display: flex;flex-direction: column;position: relative;background-color: white;}#sk-ef99e9a6-cd0a-4058-97d2-14ad011d64e2 div.sk-parallel-item:first-child::after {align-self: flex-end;width: 50%;}#sk-ef99e9a6-cd0a-4058-97d2-14ad011d64e2 div.sk-parallel-item:last-child::after {align-self: flex-start;width: 50%;}#sk-ef99e9a6-cd0a-4058-97d2-14ad011d64e2 div.sk-parallel-item:only-child::after {width: 0;}#sk-ef99e9a6-cd0a-4058-97d2-14ad011d64e2 div.sk-dashed-wrapped {border: 1px dashed gray;margin: 0 0.4em 0.5em 0.4em;box-sizing: border-box;padding-bottom: 0.4em;background-color: white;position: relative;}#sk-ef99e9a6-cd0a-4058-97d2-14ad011d64e2 div.sk-label label {font-family: monospace;font-weight: bold;background-color: white;display: inline-block;line-height: 1.2em;}#sk-ef99e9a6-cd0a-4058-97d2-14ad011d64e2 div.sk-label-container {position: relative;z-index: 2;text-align: center;}#sk-ef99e9a6-cd0a-4058-97d2-14ad011d64e2 div.sk-container {/* jupyter's `normalize.less` sets `[hidden] { display: none; }` but bootstrap.min.css set `[hidden] { display: none !important; }` so we also need the `!important` here to be able to override the default hidden behavior on the sphinx rendered scikit-learn.org. See: https://github.com/scikit-learn/scikit-learn/issues/21755 */display: inline-block !important;position: relative;}#sk-ef99e9a6-cd0a-4058-97d2-14ad011d64e2 div.sk-text-repr-fallback {display: none;}</style><div id=\"sk-ef99e9a6-cd0a-4058-97d2-14ad011d64e2\" class=\"sk-top-container\"><div class=\"sk-text-repr-fallback\"><pre>GridSearchCV(cv=10,\n",
              "             estimator=Pipeline(steps=[(&#x27;preprocessor&#x27;,\n",
              "                                        ColumnTransformer(transformers=[(&#x27;num_transformer&#x27;,\n",
              "                                                                         Pipeline(steps=[(&#x27;scaler&#x27;,\n",
              "                                                                                          StandardScaler())]),\n",
              "                                                                         [&#x27;visited_successbookdemo&#x27;,\n",
              "                                                                          &#x27;demo_page_top&#x27;,\n",
              "                                                                          &#x27;newUser&#x27;,\n",
              "                                                                          &#x27;goal4Completions&#x27;,\n",
              "                                                                          &#x27;fired_DemoReqPg_CallClicks_evt&#x27;,\n",
              "                                                                          &#x27;sessionDuration&#x27;,\n",
              "                                                                          &#x27;pageviews&#x27;,\n",
              "                                                                          &#x27;DemoReqPg_CallClicks_evt_count&#x27;,\n",
              "                                                                          &#x27;paid&#x27;,\n",
              "                                                                          &#x27;successbookdemo_top&#x27;,\n",
              "                                                                          &#x27;sessions&#x27;,\n",
              "                                                                          &#x27;visited_demo_page&#x27;,\n",
              "                                                                          &#x27;bounces&#x27;]),\n",
              "                                                                        (&#x27;woe_transformer&#x27;,\n",
              "                                                                         Pipeline(steps=[(&#x27;woe&#x27;,\n",
              "                                                                                          WOEEncoder())]),\n",
              "                                                                         [&#x27;region&#x27;,\n",
              "                                                                          &#x27;sourceMedium&#x27;])])),\n",
              "                                       (&#x27;logreg&#x27;,\n",
              "                                        LogisticRegression(max_iter=10000))]),\n",
              "             param_grid={&#x27;logreg__C&#x27;: [10, 1.0, 0.1],\n",
              "                         &#x27;logreg__penalty&#x27;: [&#x27;l2&#x27;, &#x27;none&#x27;],\n",
              "                         &#x27;logreg__solver&#x27;: [&#x27;newton-cg&#x27;, &#x27;lbfgs&#x27;, &#x27;sag&#x27;]},\n",
              "             scoring=&#x27;precision&#x27;)</pre><b>Please rerun this cell to show the HTML repr or trust the notebook.</b></div><div class=\"sk-container\" hidden><div class=\"sk-item sk-dashed-wrapped\"><div class=\"sk-label-container\"><div class=\"sk-label sk-toggleable\"><input class=\"sk-toggleable__control sk-hidden--visually\" id=\"307a3095-e8ba-40a7-b713-b07157d01a4a\" type=\"checkbox\" ><label for=\"307a3095-e8ba-40a7-b713-b07157d01a4a\" class=\"sk-toggleable__label sk-toggleable__label-arrow\">GridSearchCV</label><div class=\"sk-toggleable__content\"><pre>GridSearchCV(cv=10,\n",
              "             estimator=Pipeline(steps=[(&#x27;preprocessor&#x27;,\n",
              "                                        ColumnTransformer(transformers=[(&#x27;num_transformer&#x27;,\n",
              "                                                                         Pipeline(steps=[(&#x27;scaler&#x27;,\n",
              "                                                                                          StandardScaler())]),\n",
              "                                                                         [&#x27;visited_successbookdemo&#x27;,\n",
              "                                                                          &#x27;demo_page_top&#x27;,\n",
              "                                                                          &#x27;newUser&#x27;,\n",
              "                                                                          &#x27;goal4Completions&#x27;,\n",
              "                                                                          &#x27;fired_DemoReqPg_CallClicks_evt&#x27;,\n",
              "                                                                          &#x27;sessionDuration&#x27;,\n",
              "                                                                          &#x27;pageviews&#x27;,\n",
              "                                                                          &#x27;DemoReqPg_CallClicks_evt_count&#x27;,\n",
              "                                                                          &#x27;paid&#x27;,\n",
              "                                                                          &#x27;successbookdemo_top&#x27;,\n",
              "                                                                          &#x27;sessions&#x27;,\n",
              "                                                                          &#x27;visited_demo_page&#x27;,\n",
              "                                                                          &#x27;bounces&#x27;]),\n",
              "                                                                        (&#x27;woe_transformer&#x27;,\n",
              "                                                                         Pipeline(steps=[(&#x27;woe&#x27;,\n",
              "                                                                                          WOEEncoder())]),\n",
              "                                                                         [&#x27;region&#x27;,\n",
              "                                                                          &#x27;sourceMedium&#x27;])])),\n",
              "                                       (&#x27;logreg&#x27;,\n",
              "                                        LogisticRegression(max_iter=10000))]),\n",
              "             param_grid={&#x27;logreg__C&#x27;: [10, 1.0, 0.1],\n",
              "                         &#x27;logreg__penalty&#x27;: [&#x27;l2&#x27;, &#x27;none&#x27;],\n",
              "                         &#x27;logreg__solver&#x27;: [&#x27;newton-cg&#x27;, &#x27;lbfgs&#x27;, &#x27;sag&#x27;]},\n",
              "             scoring=&#x27;precision&#x27;)</pre></div></div></div><div class=\"sk-parallel\"><div class=\"sk-parallel-item\"><div class=\"sk-item\"><div class=\"sk-serial\"><div class=\"sk-item\"><div class=\"sk-serial\"><div class=\"sk-item sk-dashed-wrapped\"><div class=\"sk-label-container\"><div class=\"sk-label sk-toggleable\"><input class=\"sk-toggleable__control sk-hidden--visually\" id=\"e81da8e8-231b-49ec-8293-a061204093ee\" type=\"checkbox\" ><label for=\"e81da8e8-231b-49ec-8293-a061204093ee\" class=\"sk-toggleable__label sk-toggleable__label-arrow\">preprocessor: ColumnTransformer</label><div class=\"sk-toggleable__content\"><pre>ColumnTransformer(transformers=[(&#x27;num_transformer&#x27;,\n",
              "                                 Pipeline(steps=[(&#x27;scaler&#x27;, StandardScaler())]),\n",
              "                                 [&#x27;visited_successbookdemo&#x27;, &#x27;demo_page_top&#x27;,\n",
              "                                  &#x27;newUser&#x27;, &#x27;goal4Completions&#x27;,\n",
              "                                  &#x27;fired_DemoReqPg_CallClicks_evt&#x27;,\n",
              "                                  &#x27;sessionDuration&#x27;, &#x27;pageviews&#x27;,\n",
              "                                  &#x27;DemoReqPg_CallClicks_evt_count&#x27;, &#x27;paid&#x27;,\n",
              "                                  &#x27;successbookdemo_top&#x27;, &#x27;sessions&#x27;,\n",
              "                                  &#x27;visited_demo_page&#x27;, &#x27;bounces&#x27;]),\n",
              "                                (&#x27;woe_transformer&#x27;,\n",
              "                                 Pipeline(steps=[(&#x27;woe&#x27;, WOEEncoder())]),\n",
              "                                 [&#x27;region&#x27;, &#x27;sourceMedium&#x27;])])</pre></div></div></div><div class=\"sk-parallel\"><div class=\"sk-parallel-item\"><div class=\"sk-item\"><div class=\"sk-label-container\"><div class=\"sk-label sk-toggleable\"><input class=\"sk-toggleable__control sk-hidden--visually\" id=\"6c46c92e-6908-4334-9606-161b0c31b167\" type=\"checkbox\" ><label for=\"6c46c92e-6908-4334-9606-161b0c31b167\" class=\"sk-toggleable__label sk-toggleable__label-arrow\">num_transformer</label><div class=\"sk-toggleable__content\"><pre>[&#x27;visited_successbookdemo&#x27;, &#x27;demo_page_top&#x27;, &#x27;newUser&#x27;, &#x27;goal4Completions&#x27;, &#x27;fired_DemoReqPg_CallClicks_evt&#x27;, &#x27;sessionDuration&#x27;, &#x27;pageviews&#x27;, &#x27;DemoReqPg_CallClicks_evt_count&#x27;, &#x27;paid&#x27;, &#x27;successbookdemo_top&#x27;, &#x27;sessions&#x27;, &#x27;visited_demo_page&#x27;, &#x27;bounces&#x27;]</pre></div></div></div><div class=\"sk-serial\"><div class=\"sk-item\"><div class=\"sk-serial\"><div class=\"sk-item\"><div class=\"sk-estimator sk-toggleable\"><input class=\"sk-toggleable__control sk-hidden--visually\" id=\"494c0092-6d57-4850-a409-2c2c60961c65\" type=\"checkbox\" ><label for=\"494c0092-6d57-4850-a409-2c2c60961c65\" class=\"sk-toggleable__label sk-toggleable__label-arrow\">StandardScaler</label><div class=\"sk-toggleable__content\"><pre>StandardScaler()</pre></div></div></div></div></div></div></div></div><div class=\"sk-parallel-item\"><div class=\"sk-item\"><div class=\"sk-label-container\"><div class=\"sk-label sk-toggleable\"><input class=\"sk-toggleable__control sk-hidden--visually\" id=\"a202ee7b-ecf0-4973-8ac0-cfacc918d7fd\" type=\"checkbox\" ><label for=\"a202ee7b-ecf0-4973-8ac0-cfacc918d7fd\" class=\"sk-toggleable__label sk-toggleable__label-arrow\">woe_transformer</label><div class=\"sk-toggleable__content\"><pre>[&#x27;region&#x27;, &#x27;sourceMedium&#x27;]</pre></div></div></div><div class=\"sk-serial\"><div class=\"sk-item\"><div class=\"sk-serial\"><div class=\"sk-item\"><div class=\"sk-estimator sk-toggleable\"><input class=\"sk-toggleable__control sk-hidden--visually\" id=\"6f893699-69c1-485a-9d9d-4895eb0b85a3\" type=\"checkbox\" ><label for=\"6f893699-69c1-485a-9d9d-4895eb0b85a3\" class=\"sk-toggleable__label sk-toggleable__label-arrow\">WOEEncoder</label><div class=\"sk-toggleable__content\"><pre>WOEEncoder()</pre></div></div></div></div></div></div></div></div></div></div><div class=\"sk-item\"><div class=\"sk-estimator sk-toggleable\"><input class=\"sk-toggleable__control sk-hidden--visually\" id=\"0c99f510-cc0c-4737-b367-d1e0521c5169\" type=\"checkbox\" ><label for=\"0c99f510-cc0c-4737-b367-d1e0521c5169\" class=\"sk-toggleable__label sk-toggleable__label-arrow\">LogisticRegression</label><div class=\"sk-toggleable__content\"><pre>LogisticRegression(max_iter=10000)</pre></div></div></div></div></div></div></div></div></div></div></div></div>"
            ]
          },
          "metadata": {},
          "execution_count": 222
        }
      ]
    },
    {
      "cell_type": "code",
      "source": [
        "logreg_search_smote.best_score_"
      ],
      "metadata": {
        "colab": {
          "base_uri": "https://localhost:8080/"
        },
        "id": "nDWp9qKyubo-",
        "outputId": "1271080c-276e-4701-b251-a3ca31e8286a"
      },
      "execution_count": 223,
      "outputs": [
        {
          "output_type": "execute_result",
          "data": {
            "text/plain": [
              "0.6410866849678041"
            ]
          },
          "metadata": {},
          "execution_count": 223
        }
      ]
    },
    {
      "cell_type": "code",
      "source": [
        "logreg_search_smote.best_params_"
      ],
      "metadata": {
        "colab": {
          "base_uri": "https://localhost:8080/"
        },
        "id": "Tkxccwhhubzm",
        "outputId": "83fa82ef-8572-4eac-b066-76ae198e1d7e"
      },
      "execution_count": 224,
      "outputs": [
        {
          "output_type": "execute_result",
          "data": {
            "text/plain": [
              "{'logreg__C': 0.1, 'logreg__penalty': 'l2', 'logreg__solver': 'newton-cg'}"
            ]
          },
          "metadata": {},
          "execution_count": 224
        }
      ]
    },
    {
      "cell_type": "code",
      "source": [
        "logreg_search_smote_predict=logreg_search_smote.predict(X_test[feature_selected])"
      ],
      "metadata": {
        "id": "nXOUVXpeub-E"
      },
      "execution_count": 225,
      "outputs": []
    },
    {
      "cell_type": "code",
      "source": [
        "print(classification_report(logreg_search_smote_predict,Y_test))"
      ],
      "metadata": {
        "colab": {
          "base_uri": "https://localhost:8080/"
        },
        "id": "GPHUspaPWOdF",
        "outputId": "30d5a083-020b-4a8b-a16b-a9258c7b515c"
      },
      "execution_count": 226,
      "outputs": [
        {
          "output_type": "stream",
          "name": "stdout",
          "text": [
            "              precision    recall  f1-score   support\n",
            "\n",
            "           0       0.61      0.97      0.75      6346\n",
            "           1       0.65      0.09      0.15      4220\n",
            "\n",
            "    accuracy                           0.62     10566\n",
            "   macro avg       0.63      0.53      0.45     10566\n",
            "weighted avg       0.63      0.62      0.51     10566\n",
            "\n"
          ]
        }
      ]
    },
    {
      "cell_type": "markdown",
      "source": [
        "Experiment 10:\n",
        "\n",
        "XGBoost with Over Sampling and UnderSampling\n",
        "\n",
        "Attributes of Experiments: \n",
        "1. Over Sampling and UnderSampling\n",
        "2. Scaler Transformation\n",
        "3. Target Encoding\n"
      ],
      "metadata": {
        "id": "wX7aTjoR5Msg"
      }
    },
    {
      "cell_type": "code",
      "source": [
        "from xgboost import XGBClassifier\n",
        "estimator = XGBClassifier(\n",
        "    objective= 'binary:logistic',\n",
        "    nthread=4,\n",
        "    seed=42\n",
        ")"
      ],
      "metadata": {
        "id": "1zhJX1wVPdl6"
      },
      "execution_count": 233,
      "outputs": []
    },
    {
      "cell_type": "code",
      "source": [
        "parameters = {\n",
        "    'xgb__max_depth': range (2, 10, 2),\n",
        "    'xgb__n_estimators': [100],\n",
        "    'xgb__learning_rate': [0.1, 0.01, 0.05],\n",
        "    'xgb__gamma':[0,0.25,1]\n",
        "}"
      ],
      "metadata": {
        "id": "E1AuWm6BPdwi"
      },
      "execution_count": 234,
      "outputs": []
    },
    {
      "cell_type": "code",
      "source": [
        "xgb_cl = Pipeline(steps=[ \n",
        "                         ('preprocessor', preprocessor),\n",
        "                          ('xgb',estimator )])"
      ],
      "metadata": {
        "id": "gh0JNRTFPd77"
      },
      "execution_count": 235,
      "outputs": []
    },
    {
      "cell_type": "code",
      "source": [
        "grid_search_xgb = GridSearchCV(\n",
        "    estimator=xgb_cl,\n",
        "    param_grid=parameters,\n",
        "    scoring = 'precision',\n",
        "    n_jobs = 10,\n",
        "    cv = 10,\n",
        "    verbose=True\n",
        ")"
      ],
      "metadata": {
        "id": "W_C7qqSvREP8"
      },
      "execution_count": 236,
      "outputs": []
    },
    {
      "cell_type": "code",
      "source": [
        "grid_search_xgb.fit(X_train_sampled_1[feature_selected],X_train_sampled_1['converted'])"
      ],
      "metadata": {
        "colab": {
          "base_uri": "https://localhost:8080/",
          "height": 211
        },
        "id": "0FWf59fuRLK2",
        "outputId": "f643027f-dba3-4d0f-a900-73e3d686094c"
      },
      "execution_count": 237,
      "outputs": [
        {
          "output_type": "stream",
          "name": "stdout",
          "text": [
            "Fitting 10 folds for each of 36 candidates, totalling 360 fits\n"
          ]
        },
        {
          "output_type": "execute_result",
          "data": {
            "text/plain": [
              "GridSearchCV(cv=10,\n",
              "             estimator=Pipeline(steps=[('preprocessor',\n",
              "                                        ColumnTransformer(transformers=[('num_transformer',\n",
              "                                                                         Pipeline(steps=[('scaler',\n",
              "                                                                                          StandardScaler())]),\n",
              "                                                                         ['visited_successbookdemo',\n",
              "                                                                          'demo_page_top',\n",
              "                                                                          'newUser',\n",
              "                                                                          'goal4Completions',\n",
              "                                                                          'fired_DemoReqPg_CallClicks_evt',\n",
              "                                                                          'sessionDuration',\n",
              "                                                                          'pageviews',\n",
              "                                                                          'DemoReqPg_CallClicks_evt_count',\n",
              "                                                                          'paid',\n",
              "                                                                          'successbookdemo_...\n",
              "                                                                          'sessions',\n",
              "                                                                          'visited_demo_page',\n",
              "                                                                          'bounces']),\n",
              "                                                                        ('cat_transformer',\n",
              "                                                                         Pipeline(steps=[('target',\n",
              "                                                                                          TargetEncoder())]),\n",
              "                                                                         ['region',\n",
              "                                                                          'sourceMedium'])])),\n",
              "                                       ('xgb',\n",
              "                                        XGBClassifier(nthread=4, seed=42))]),\n",
              "             n_jobs=10,\n",
              "             param_grid={'xgb__gamma': [0, 0.25, 1],\n",
              "                         'xgb__learning_rate': [0.1, 0.01, 0.05],\n",
              "                         'xgb__max_depth': range(2, 10, 2),\n",
              "                         'xgb__n_estimators': [100]},\n",
              "             scoring='precision', verbose=True)"
            ],
            "text/html": [
              "<style>#sk-d10b9c76-d7fc-45da-83ef-3de2abdf23bd {color: black;background-color: white;}#sk-d10b9c76-d7fc-45da-83ef-3de2abdf23bd pre{padding: 0;}#sk-d10b9c76-d7fc-45da-83ef-3de2abdf23bd div.sk-toggleable {background-color: white;}#sk-d10b9c76-d7fc-45da-83ef-3de2abdf23bd label.sk-toggleable__label {cursor: pointer;display: block;width: 100%;margin-bottom: 0;padding: 0.3em;box-sizing: border-box;text-align: center;}#sk-d10b9c76-d7fc-45da-83ef-3de2abdf23bd label.sk-toggleable__label-arrow:before {content: \"▸\";float: left;margin-right: 0.25em;color: #696969;}#sk-d10b9c76-d7fc-45da-83ef-3de2abdf23bd label.sk-toggleable__label-arrow:hover:before {color: black;}#sk-d10b9c76-d7fc-45da-83ef-3de2abdf23bd div.sk-estimator:hover label.sk-toggleable__label-arrow:before {color: black;}#sk-d10b9c76-d7fc-45da-83ef-3de2abdf23bd div.sk-toggleable__content {max-height: 0;max-width: 0;overflow: hidden;text-align: left;background-color: #f0f8ff;}#sk-d10b9c76-d7fc-45da-83ef-3de2abdf23bd div.sk-toggleable__content pre {margin: 0.2em;color: black;border-radius: 0.25em;background-color: #f0f8ff;}#sk-d10b9c76-d7fc-45da-83ef-3de2abdf23bd input.sk-toggleable__control:checked~div.sk-toggleable__content {max-height: 200px;max-width: 100%;overflow: auto;}#sk-d10b9c76-d7fc-45da-83ef-3de2abdf23bd input.sk-toggleable__control:checked~label.sk-toggleable__label-arrow:before {content: \"▾\";}#sk-d10b9c76-d7fc-45da-83ef-3de2abdf23bd div.sk-estimator input.sk-toggleable__control:checked~label.sk-toggleable__label {background-color: #d4ebff;}#sk-d10b9c76-d7fc-45da-83ef-3de2abdf23bd div.sk-label input.sk-toggleable__control:checked~label.sk-toggleable__label {background-color: #d4ebff;}#sk-d10b9c76-d7fc-45da-83ef-3de2abdf23bd input.sk-hidden--visually {border: 0;clip: rect(1px 1px 1px 1px);clip: rect(1px, 1px, 1px, 1px);height: 1px;margin: -1px;overflow: hidden;padding: 0;position: absolute;width: 1px;}#sk-d10b9c76-d7fc-45da-83ef-3de2abdf23bd div.sk-estimator {font-family: monospace;background-color: #f0f8ff;border: 1px dotted black;border-radius: 0.25em;box-sizing: border-box;margin-bottom: 0.5em;}#sk-d10b9c76-d7fc-45da-83ef-3de2abdf23bd div.sk-estimator:hover {background-color: #d4ebff;}#sk-d10b9c76-d7fc-45da-83ef-3de2abdf23bd div.sk-parallel-item::after {content: \"\";width: 100%;border-bottom: 1px solid gray;flex-grow: 1;}#sk-d10b9c76-d7fc-45da-83ef-3de2abdf23bd div.sk-label:hover label.sk-toggleable__label {background-color: #d4ebff;}#sk-d10b9c76-d7fc-45da-83ef-3de2abdf23bd div.sk-serial::before {content: \"\";position: absolute;border-left: 1px solid gray;box-sizing: border-box;top: 2em;bottom: 0;left: 50%;}#sk-d10b9c76-d7fc-45da-83ef-3de2abdf23bd div.sk-serial {display: flex;flex-direction: column;align-items: center;background-color: white;padding-right: 0.2em;padding-left: 0.2em;}#sk-d10b9c76-d7fc-45da-83ef-3de2abdf23bd div.sk-item {z-index: 1;}#sk-d10b9c76-d7fc-45da-83ef-3de2abdf23bd div.sk-parallel {display: flex;align-items: stretch;justify-content: center;background-color: white;}#sk-d10b9c76-d7fc-45da-83ef-3de2abdf23bd div.sk-parallel::before {content: \"\";position: absolute;border-left: 1px solid gray;box-sizing: border-box;top: 2em;bottom: 0;left: 50%;}#sk-d10b9c76-d7fc-45da-83ef-3de2abdf23bd div.sk-parallel-item {display: flex;flex-direction: column;position: relative;background-color: white;}#sk-d10b9c76-d7fc-45da-83ef-3de2abdf23bd div.sk-parallel-item:first-child::after {align-self: flex-end;width: 50%;}#sk-d10b9c76-d7fc-45da-83ef-3de2abdf23bd div.sk-parallel-item:last-child::after {align-self: flex-start;width: 50%;}#sk-d10b9c76-d7fc-45da-83ef-3de2abdf23bd div.sk-parallel-item:only-child::after {width: 0;}#sk-d10b9c76-d7fc-45da-83ef-3de2abdf23bd div.sk-dashed-wrapped {border: 1px dashed gray;margin: 0 0.4em 0.5em 0.4em;box-sizing: border-box;padding-bottom: 0.4em;background-color: white;position: relative;}#sk-d10b9c76-d7fc-45da-83ef-3de2abdf23bd div.sk-label label {font-family: monospace;font-weight: bold;background-color: white;display: inline-block;line-height: 1.2em;}#sk-d10b9c76-d7fc-45da-83ef-3de2abdf23bd div.sk-label-container {position: relative;z-index: 2;text-align: center;}#sk-d10b9c76-d7fc-45da-83ef-3de2abdf23bd div.sk-container {/* jupyter's `normalize.less` sets `[hidden] { display: none; }` but bootstrap.min.css set `[hidden] { display: none !important; }` so we also need the `!important` here to be able to override the default hidden behavior on the sphinx rendered scikit-learn.org. See: https://github.com/scikit-learn/scikit-learn/issues/21755 */display: inline-block !important;position: relative;}#sk-d10b9c76-d7fc-45da-83ef-3de2abdf23bd div.sk-text-repr-fallback {display: none;}</style><div id=\"sk-d10b9c76-d7fc-45da-83ef-3de2abdf23bd\" class=\"sk-top-container\"><div class=\"sk-text-repr-fallback\"><pre>GridSearchCV(cv=10,\n",
              "             estimator=Pipeline(steps=[(&#x27;preprocessor&#x27;,\n",
              "                                        ColumnTransformer(transformers=[(&#x27;num_transformer&#x27;,\n",
              "                                                                         Pipeline(steps=[(&#x27;scaler&#x27;,\n",
              "                                                                                          StandardScaler())]),\n",
              "                                                                         [&#x27;visited_successbookdemo&#x27;,\n",
              "                                                                          &#x27;demo_page_top&#x27;,\n",
              "                                                                          &#x27;newUser&#x27;,\n",
              "                                                                          &#x27;goal4Completions&#x27;,\n",
              "                                                                          &#x27;fired_DemoReqPg_CallClicks_evt&#x27;,\n",
              "                                                                          &#x27;sessionDuration&#x27;,\n",
              "                                                                          &#x27;pageviews&#x27;,\n",
              "                                                                          &#x27;DemoReqPg_CallClicks_evt_count&#x27;,\n",
              "                                                                          &#x27;paid&#x27;,\n",
              "                                                                          &#x27;successbookdemo_...\n",
              "                                                                          &#x27;sessions&#x27;,\n",
              "                                                                          &#x27;visited_demo_page&#x27;,\n",
              "                                                                          &#x27;bounces&#x27;]),\n",
              "                                                                        (&#x27;cat_transformer&#x27;,\n",
              "                                                                         Pipeline(steps=[(&#x27;target&#x27;,\n",
              "                                                                                          TargetEncoder())]),\n",
              "                                                                         [&#x27;region&#x27;,\n",
              "                                                                          &#x27;sourceMedium&#x27;])])),\n",
              "                                       (&#x27;xgb&#x27;,\n",
              "                                        XGBClassifier(nthread=4, seed=42))]),\n",
              "             n_jobs=10,\n",
              "             param_grid={&#x27;xgb__gamma&#x27;: [0, 0.25, 1],\n",
              "                         &#x27;xgb__learning_rate&#x27;: [0.1, 0.01, 0.05],\n",
              "                         &#x27;xgb__max_depth&#x27;: range(2, 10, 2),\n",
              "                         &#x27;xgb__n_estimators&#x27;: [100]},\n",
              "             scoring=&#x27;precision&#x27;, verbose=True)</pre><b>Please rerun this cell to show the HTML repr or trust the notebook.</b></div><div class=\"sk-container\" hidden><div class=\"sk-item sk-dashed-wrapped\"><div class=\"sk-label-container\"><div class=\"sk-label sk-toggleable\"><input class=\"sk-toggleable__control sk-hidden--visually\" id=\"fe942752-6b86-423f-bc65-7961c78e08ab\" type=\"checkbox\" ><label for=\"fe942752-6b86-423f-bc65-7961c78e08ab\" class=\"sk-toggleable__label sk-toggleable__label-arrow\">GridSearchCV</label><div class=\"sk-toggleable__content\"><pre>GridSearchCV(cv=10,\n",
              "             estimator=Pipeline(steps=[(&#x27;preprocessor&#x27;,\n",
              "                                        ColumnTransformer(transformers=[(&#x27;num_transformer&#x27;,\n",
              "                                                                         Pipeline(steps=[(&#x27;scaler&#x27;,\n",
              "                                                                                          StandardScaler())]),\n",
              "                                                                         [&#x27;visited_successbookdemo&#x27;,\n",
              "                                                                          &#x27;demo_page_top&#x27;,\n",
              "                                                                          &#x27;newUser&#x27;,\n",
              "                                                                          &#x27;goal4Completions&#x27;,\n",
              "                                                                          &#x27;fired_DemoReqPg_CallClicks_evt&#x27;,\n",
              "                                                                          &#x27;sessionDuration&#x27;,\n",
              "                                                                          &#x27;pageviews&#x27;,\n",
              "                                                                          &#x27;DemoReqPg_CallClicks_evt_count&#x27;,\n",
              "                                                                          &#x27;paid&#x27;,\n",
              "                                                                          &#x27;successbookdemo_...\n",
              "                                                                          &#x27;sessions&#x27;,\n",
              "                                                                          &#x27;visited_demo_page&#x27;,\n",
              "                                                                          &#x27;bounces&#x27;]),\n",
              "                                                                        (&#x27;cat_transformer&#x27;,\n",
              "                                                                         Pipeline(steps=[(&#x27;target&#x27;,\n",
              "                                                                                          TargetEncoder())]),\n",
              "                                                                         [&#x27;region&#x27;,\n",
              "                                                                          &#x27;sourceMedium&#x27;])])),\n",
              "                                       (&#x27;xgb&#x27;,\n",
              "                                        XGBClassifier(nthread=4, seed=42))]),\n",
              "             n_jobs=10,\n",
              "             param_grid={&#x27;xgb__gamma&#x27;: [0, 0.25, 1],\n",
              "                         &#x27;xgb__learning_rate&#x27;: [0.1, 0.01, 0.05],\n",
              "                         &#x27;xgb__max_depth&#x27;: range(2, 10, 2),\n",
              "                         &#x27;xgb__n_estimators&#x27;: [100]},\n",
              "             scoring=&#x27;precision&#x27;, verbose=True)</pre></div></div></div><div class=\"sk-parallel\"><div class=\"sk-parallel-item\"><div class=\"sk-item\"><div class=\"sk-serial\"><div class=\"sk-item\"><div class=\"sk-serial\"><div class=\"sk-item sk-dashed-wrapped\"><div class=\"sk-label-container\"><div class=\"sk-label sk-toggleable\"><input class=\"sk-toggleable__control sk-hidden--visually\" id=\"7752b8a4-91fd-4455-9ad9-8a890f99b7e9\" type=\"checkbox\" ><label for=\"7752b8a4-91fd-4455-9ad9-8a890f99b7e9\" class=\"sk-toggleable__label sk-toggleable__label-arrow\">preprocessor: ColumnTransformer</label><div class=\"sk-toggleable__content\"><pre>ColumnTransformer(transformers=[(&#x27;num_transformer&#x27;,\n",
              "                                 Pipeline(steps=[(&#x27;scaler&#x27;, StandardScaler())]),\n",
              "                                 [&#x27;visited_successbookdemo&#x27;, &#x27;demo_page_top&#x27;,\n",
              "                                  &#x27;newUser&#x27;, &#x27;goal4Completions&#x27;,\n",
              "                                  &#x27;fired_DemoReqPg_CallClicks_evt&#x27;,\n",
              "                                  &#x27;sessionDuration&#x27;, &#x27;pageviews&#x27;,\n",
              "                                  &#x27;DemoReqPg_CallClicks_evt_count&#x27;, &#x27;paid&#x27;,\n",
              "                                  &#x27;successbookdemo_top&#x27;, &#x27;sessions&#x27;,\n",
              "                                  &#x27;visited_demo_page&#x27;, &#x27;bounces&#x27;]),\n",
              "                                (&#x27;cat_transformer&#x27;,\n",
              "                                 Pipeline(steps=[(&#x27;target&#x27;, TargetEncoder())]),\n",
              "                                 [&#x27;region&#x27;, &#x27;sourceMedium&#x27;])])</pre></div></div></div><div class=\"sk-parallel\"><div class=\"sk-parallel-item\"><div class=\"sk-item\"><div class=\"sk-label-container\"><div class=\"sk-label sk-toggleable\"><input class=\"sk-toggleable__control sk-hidden--visually\" id=\"bdc6b9bb-556f-4d34-ad15-29a955000c85\" type=\"checkbox\" ><label for=\"bdc6b9bb-556f-4d34-ad15-29a955000c85\" class=\"sk-toggleable__label sk-toggleable__label-arrow\">num_transformer</label><div class=\"sk-toggleable__content\"><pre>[&#x27;visited_successbookdemo&#x27;, &#x27;demo_page_top&#x27;, &#x27;newUser&#x27;, &#x27;goal4Completions&#x27;, &#x27;fired_DemoReqPg_CallClicks_evt&#x27;, &#x27;sessionDuration&#x27;, &#x27;pageviews&#x27;, &#x27;DemoReqPg_CallClicks_evt_count&#x27;, &#x27;paid&#x27;, &#x27;successbookdemo_top&#x27;, &#x27;sessions&#x27;, &#x27;visited_demo_page&#x27;, &#x27;bounces&#x27;]</pre></div></div></div><div class=\"sk-serial\"><div class=\"sk-item\"><div class=\"sk-serial\"><div class=\"sk-item\"><div class=\"sk-estimator sk-toggleable\"><input class=\"sk-toggleable__control sk-hidden--visually\" id=\"3059f96b-5237-4789-9920-1cdfd4c208f7\" type=\"checkbox\" ><label for=\"3059f96b-5237-4789-9920-1cdfd4c208f7\" class=\"sk-toggleable__label sk-toggleable__label-arrow\">StandardScaler</label><div class=\"sk-toggleable__content\"><pre>StandardScaler()</pre></div></div></div></div></div></div></div></div><div class=\"sk-parallel-item\"><div class=\"sk-item\"><div class=\"sk-label-container\"><div class=\"sk-label sk-toggleable\"><input class=\"sk-toggleable__control sk-hidden--visually\" id=\"f5cd4644-fd12-4851-bd51-0edb0e1cddd9\" type=\"checkbox\" ><label for=\"f5cd4644-fd12-4851-bd51-0edb0e1cddd9\" class=\"sk-toggleable__label sk-toggleable__label-arrow\">cat_transformer</label><div class=\"sk-toggleable__content\"><pre>[&#x27;region&#x27;, &#x27;sourceMedium&#x27;]</pre></div></div></div><div class=\"sk-serial\"><div class=\"sk-item\"><div class=\"sk-serial\"><div class=\"sk-item\"><div class=\"sk-estimator sk-toggleable\"><input class=\"sk-toggleable__control sk-hidden--visually\" id=\"a5b4d402-206f-478e-b41f-0657cfe7615a\" type=\"checkbox\" ><label for=\"a5b4d402-206f-478e-b41f-0657cfe7615a\" class=\"sk-toggleable__label sk-toggleable__label-arrow\">TargetEncoder</label><div class=\"sk-toggleable__content\"><pre>TargetEncoder()</pre></div></div></div></div></div></div></div></div></div></div><div class=\"sk-item\"><div class=\"sk-estimator sk-toggleable\"><input class=\"sk-toggleable__control sk-hidden--visually\" id=\"3ebebd86-5f78-4b47-bd5e-987c0f4dbbb7\" type=\"checkbox\" ><label for=\"3ebebd86-5f78-4b47-bd5e-987c0f4dbbb7\" class=\"sk-toggleable__label sk-toggleable__label-arrow\">XGBClassifier</label><div class=\"sk-toggleable__content\"><pre>XGBClassifier(nthread=4, seed=42)</pre></div></div></div></div></div></div></div></div></div></div></div></div>"
            ]
          },
          "metadata": {},
          "execution_count": 237
        }
      ]
    },
    {
      "cell_type": "code",
      "source": [
        "grid_search_xgb.best_score_"
      ],
      "metadata": {
        "colab": {
          "base_uri": "https://localhost:8080/"
        },
        "id": "upG9K0rC8w3f",
        "outputId": "45993934-db0e-4d5a-cce6-581eca7a2605"
      },
      "execution_count": 238,
      "outputs": [
        {
          "output_type": "execute_result",
          "data": {
            "text/plain": [
              "0.7840516170594727"
            ]
          },
          "metadata": {},
          "execution_count": 238
        }
      ]
    },
    {
      "cell_type": "code",
      "source": [
        "grid_search_xgb.best_params_"
      ],
      "metadata": {
        "colab": {
          "base_uri": "https://localhost:8080/"
        },
        "id": "-dKGWsBC8xFJ",
        "outputId": "66a04b4c-e453-41d1-ae9f-f51f34ed3250"
      },
      "execution_count": 239,
      "outputs": [
        {
          "output_type": "execute_result",
          "data": {
            "text/plain": [
              "{'xgb__gamma': 0.25,\n",
              " 'xgb__learning_rate': 0.1,\n",
              " 'xgb__max_depth': 8,\n",
              " 'xgb__n_estimators': 100}"
            ]
          },
          "metadata": {},
          "execution_count": 239
        }
      ]
    },
    {
      "cell_type": "code",
      "source": [
        "grid_search_xgb_predict=grid_search_xgb.predict(X_test[feature_selected])"
      ],
      "metadata": {
        "id": "zSMpZ-sF83og"
      },
      "execution_count": 240,
      "outputs": []
    },
    {
      "cell_type": "code",
      "source": [
        "print(classification_report(grid_search_xgb_predict,Y_test))"
      ],
      "metadata": {
        "colab": {
          "base_uri": "https://localhost:8080/"
        },
        "id": "bgKfBsr4aUIQ",
        "outputId": "366f85f0-e979-4970-e3d9-5e7444002dd9"
      },
      "execution_count": 241,
      "outputs": [
        {
          "output_type": "stream",
          "name": "stdout",
          "text": [
            "              precision    recall  f1-score   support\n",
            "\n",
            "           0       0.77      0.96      0.86      8016\n",
            "           1       0.48      0.11      0.17      2550\n",
            "\n",
            "    accuracy                           0.76     10566\n",
            "   macro avg       0.63      0.54      0.52     10566\n",
            "weighted avg       0.70      0.76      0.69     10566\n",
            "\n"
          ]
        }
      ]
    },
    {
      "cell_type": "markdown",
      "source": [
        "Experiment 11:\n",
        "\n",
        "XGBoost with SMOTE\n",
        "\n",
        "Attributes of Experiments: \n",
        "1. SMOTE\n",
        "2. Scaler Transformation\n",
        "3. Target Encoding\n"
      ],
      "metadata": {
        "id": "y4zYOnXI9QKF"
      }
    },
    {
      "cell_type": "code",
      "source": [
        "grid_search_xgb_smote = GridSearchCV(\n",
        "    estimator=xgb_cl,\n",
        "    param_grid=parameters,\n",
        "    scoring = 'precision',\n",
        "    n_jobs = 10,\n",
        "    cv = 10,\n",
        "    verbose=True\n",
        ")\n",
        "grid_search_xgb_smote.fit(X_train_smotenc[feature_selected],Y_train_smotenc)"
      ],
      "metadata": {
        "colab": {
          "base_uri": "https://localhost:8080/",
          "height": 211
        },
        "id": "rYAEPFKG9ZC4",
        "outputId": "f30b090f-b93e-4bc8-d2b5-74f0502a8ea4"
      },
      "execution_count": 242,
      "outputs": [
        {
          "output_type": "stream",
          "name": "stdout",
          "text": [
            "Fitting 10 folds for each of 36 candidates, totalling 360 fits\n"
          ]
        },
        {
          "output_type": "execute_result",
          "data": {
            "text/plain": [
              "GridSearchCV(cv=10,\n",
              "             estimator=Pipeline(steps=[('preprocessor',\n",
              "                                        ColumnTransformer(transformers=[('num_transformer',\n",
              "                                                                         Pipeline(steps=[('scaler',\n",
              "                                                                                          StandardScaler())]),\n",
              "                                                                         ['visited_successbookdemo',\n",
              "                                                                          'demo_page_top',\n",
              "                                                                          'newUser',\n",
              "                                                                          'goal4Completions',\n",
              "                                                                          'fired_DemoReqPg_CallClicks_evt',\n",
              "                                                                          'sessionDuration',\n",
              "                                                                          'pageviews',\n",
              "                                                                          'DemoReqPg_CallClicks_evt_count',\n",
              "                                                                          'paid',\n",
              "                                                                          'successbookdemo_...\n",
              "                                                                          'sessions',\n",
              "                                                                          'visited_demo_page',\n",
              "                                                                          'bounces']),\n",
              "                                                                        ('cat_transformer',\n",
              "                                                                         Pipeline(steps=[('target',\n",
              "                                                                                          TargetEncoder())]),\n",
              "                                                                         ['region',\n",
              "                                                                          'sourceMedium'])])),\n",
              "                                       ('xgb',\n",
              "                                        XGBClassifier(nthread=4, seed=42))]),\n",
              "             n_jobs=10,\n",
              "             param_grid={'xgb__gamma': [0, 0.25, 1],\n",
              "                         'xgb__learning_rate': [0.1, 0.01, 0.05],\n",
              "                         'xgb__max_depth': range(2, 10, 2),\n",
              "                         'xgb__n_estimators': [100]},\n",
              "             scoring='precision', verbose=True)"
            ],
            "text/html": [
              "<style>#sk-3bf9da4f-ab8b-461b-b2ed-100284361cc6 {color: black;background-color: white;}#sk-3bf9da4f-ab8b-461b-b2ed-100284361cc6 pre{padding: 0;}#sk-3bf9da4f-ab8b-461b-b2ed-100284361cc6 div.sk-toggleable {background-color: white;}#sk-3bf9da4f-ab8b-461b-b2ed-100284361cc6 label.sk-toggleable__label {cursor: pointer;display: block;width: 100%;margin-bottom: 0;padding: 0.3em;box-sizing: border-box;text-align: center;}#sk-3bf9da4f-ab8b-461b-b2ed-100284361cc6 label.sk-toggleable__label-arrow:before {content: \"▸\";float: left;margin-right: 0.25em;color: #696969;}#sk-3bf9da4f-ab8b-461b-b2ed-100284361cc6 label.sk-toggleable__label-arrow:hover:before {color: black;}#sk-3bf9da4f-ab8b-461b-b2ed-100284361cc6 div.sk-estimator:hover label.sk-toggleable__label-arrow:before {color: black;}#sk-3bf9da4f-ab8b-461b-b2ed-100284361cc6 div.sk-toggleable__content {max-height: 0;max-width: 0;overflow: hidden;text-align: left;background-color: #f0f8ff;}#sk-3bf9da4f-ab8b-461b-b2ed-100284361cc6 div.sk-toggleable__content pre {margin: 0.2em;color: black;border-radius: 0.25em;background-color: #f0f8ff;}#sk-3bf9da4f-ab8b-461b-b2ed-100284361cc6 input.sk-toggleable__control:checked~div.sk-toggleable__content {max-height: 200px;max-width: 100%;overflow: auto;}#sk-3bf9da4f-ab8b-461b-b2ed-100284361cc6 input.sk-toggleable__control:checked~label.sk-toggleable__label-arrow:before {content: \"▾\";}#sk-3bf9da4f-ab8b-461b-b2ed-100284361cc6 div.sk-estimator input.sk-toggleable__control:checked~label.sk-toggleable__label {background-color: #d4ebff;}#sk-3bf9da4f-ab8b-461b-b2ed-100284361cc6 div.sk-label input.sk-toggleable__control:checked~label.sk-toggleable__label {background-color: #d4ebff;}#sk-3bf9da4f-ab8b-461b-b2ed-100284361cc6 input.sk-hidden--visually {border: 0;clip: rect(1px 1px 1px 1px);clip: rect(1px, 1px, 1px, 1px);height: 1px;margin: -1px;overflow: hidden;padding: 0;position: absolute;width: 1px;}#sk-3bf9da4f-ab8b-461b-b2ed-100284361cc6 div.sk-estimator {font-family: monospace;background-color: #f0f8ff;border: 1px dotted black;border-radius: 0.25em;box-sizing: border-box;margin-bottom: 0.5em;}#sk-3bf9da4f-ab8b-461b-b2ed-100284361cc6 div.sk-estimator:hover {background-color: #d4ebff;}#sk-3bf9da4f-ab8b-461b-b2ed-100284361cc6 div.sk-parallel-item::after {content: \"\";width: 100%;border-bottom: 1px solid gray;flex-grow: 1;}#sk-3bf9da4f-ab8b-461b-b2ed-100284361cc6 div.sk-label:hover label.sk-toggleable__label {background-color: #d4ebff;}#sk-3bf9da4f-ab8b-461b-b2ed-100284361cc6 div.sk-serial::before {content: \"\";position: absolute;border-left: 1px solid gray;box-sizing: border-box;top: 2em;bottom: 0;left: 50%;}#sk-3bf9da4f-ab8b-461b-b2ed-100284361cc6 div.sk-serial {display: flex;flex-direction: column;align-items: center;background-color: white;padding-right: 0.2em;padding-left: 0.2em;}#sk-3bf9da4f-ab8b-461b-b2ed-100284361cc6 div.sk-item {z-index: 1;}#sk-3bf9da4f-ab8b-461b-b2ed-100284361cc6 div.sk-parallel {display: flex;align-items: stretch;justify-content: center;background-color: white;}#sk-3bf9da4f-ab8b-461b-b2ed-100284361cc6 div.sk-parallel::before {content: \"\";position: absolute;border-left: 1px solid gray;box-sizing: border-box;top: 2em;bottom: 0;left: 50%;}#sk-3bf9da4f-ab8b-461b-b2ed-100284361cc6 div.sk-parallel-item {display: flex;flex-direction: column;position: relative;background-color: white;}#sk-3bf9da4f-ab8b-461b-b2ed-100284361cc6 div.sk-parallel-item:first-child::after {align-self: flex-end;width: 50%;}#sk-3bf9da4f-ab8b-461b-b2ed-100284361cc6 div.sk-parallel-item:last-child::after {align-self: flex-start;width: 50%;}#sk-3bf9da4f-ab8b-461b-b2ed-100284361cc6 div.sk-parallel-item:only-child::after {width: 0;}#sk-3bf9da4f-ab8b-461b-b2ed-100284361cc6 div.sk-dashed-wrapped {border: 1px dashed gray;margin: 0 0.4em 0.5em 0.4em;box-sizing: border-box;padding-bottom: 0.4em;background-color: white;position: relative;}#sk-3bf9da4f-ab8b-461b-b2ed-100284361cc6 div.sk-label label {font-family: monospace;font-weight: bold;background-color: white;display: inline-block;line-height: 1.2em;}#sk-3bf9da4f-ab8b-461b-b2ed-100284361cc6 div.sk-label-container {position: relative;z-index: 2;text-align: center;}#sk-3bf9da4f-ab8b-461b-b2ed-100284361cc6 div.sk-container {/* jupyter's `normalize.less` sets `[hidden] { display: none; }` but bootstrap.min.css set `[hidden] { display: none !important; }` so we also need the `!important` here to be able to override the default hidden behavior on the sphinx rendered scikit-learn.org. See: https://github.com/scikit-learn/scikit-learn/issues/21755 */display: inline-block !important;position: relative;}#sk-3bf9da4f-ab8b-461b-b2ed-100284361cc6 div.sk-text-repr-fallback {display: none;}</style><div id=\"sk-3bf9da4f-ab8b-461b-b2ed-100284361cc6\" class=\"sk-top-container\"><div class=\"sk-text-repr-fallback\"><pre>GridSearchCV(cv=10,\n",
              "             estimator=Pipeline(steps=[(&#x27;preprocessor&#x27;,\n",
              "                                        ColumnTransformer(transformers=[(&#x27;num_transformer&#x27;,\n",
              "                                                                         Pipeline(steps=[(&#x27;scaler&#x27;,\n",
              "                                                                                          StandardScaler())]),\n",
              "                                                                         [&#x27;visited_successbookdemo&#x27;,\n",
              "                                                                          &#x27;demo_page_top&#x27;,\n",
              "                                                                          &#x27;newUser&#x27;,\n",
              "                                                                          &#x27;goal4Completions&#x27;,\n",
              "                                                                          &#x27;fired_DemoReqPg_CallClicks_evt&#x27;,\n",
              "                                                                          &#x27;sessionDuration&#x27;,\n",
              "                                                                          &#x27;pageviews&#x27;,\n",
              "                                                                          &#x27;DemoReqPg_CallClicks_evt_count&#x27;,\n",
              "                                                                          &#x27;paid&#x27;,\n",
              "                                                                          &#x27;successbookdemo_...\n",
              "                                                                          &#x27;sessions&#x27;,\n",
              "                                                                          &#x27;visited_demo_page&#x27;,\n",
              "                                                                          &#x27;bounces&#x27;]),\n",
              "                                                                        (&#x27;cat_transformer&#x27;,\n",
              "                                                                         Pipeline(steps=[(&#x27;target&#x27;,\n",
              "                                                                                          TargetEncoder())]),\n",
              "                                                                         [&#x27;region&#x27;,\n",
              "                                                                          &#x27;sourceMedium&#x27;])])),\n",
              "                                       (&#x27;xgb&#x27;,\n",
              "                                        XGBClassifier(nthread=4, seed=42))]),\n",
              "             n_jobs=10,\n",
              "             param_grid={&#x27;xgb__gamma&#x27;: [0, 0.25, 1],\n",
              "                         &#x27;xgb__learning_rate&#x27;: [0.1, 0.01, 0.05],\n",
              "                         &#x27;xgb__max_depth&#x27;: range(2, 10, 2),\n",
              "                         &#x27;xgb__n_estimators&#x27;: [100]},\n",
              "             scoring=&#x27;precision&#x27;, verbose=True)</pre><b>Please rerun this cell to show the HTML repr or trust the notebook.</b></div><div class=\"sk-container\" hidden><div class=\"sk-item sk-dashed-wrapped\"><div class=\"sk-label-container\"><div class=\"sk-label sk-toggleable\"><input class=\"sk-toggleable__control sk-hidden--visually\" id=\"53d52823-1413-4a23-a7ba-509aed4db7fa\" type=\"checkbox\" ><label for=\"53d52823-1413-4a23-a7ba-509aed4db7fa\" class=\"sk-toggleable__label sk-toggleable__label-arrow\">GridSearchCV</label><div class=\"sk-toggleable__content\"><pre>GridSearchCV(cv=10,\n",
              "             estimator=Pipeline(steps=[(&#x27;preprocessor&#x27;,\n",
              "                                        ColumnTransformer(transformers=[(&#x27;num_transformer&#x27;,\n",
              "                                                                         Pipeline(steps=[(&#x27;scaler&#x27;,\n",
              "                                                                                          StandardScaler())]),\n",
              "                                                                         [&#x27;visited_successbookdemo&#x27;,\n",
              "                                                                          &#x27;demo_page_top&#x27;,\n",
              "                                                                          &#x27;newUser&#x27;,\n",
              "                                                                          &#x27;goal4Completions&#x27;,\n",
              "                                                                          &#x27;fired_DemoReqPg_CallClicks_evt&#x27;,\n",
              "                                                                          &#x27;sessionDuration&#x27;,\n",
              "                                                                          &#x27;pageviews&#x27;,\n",
              "                                                                          &#x27;DemoReqPg_CallClicks_evt_count&#x27;,\n",
              "                                                                          &#x27;paid&#x27;,\n",
              "                                                                          &#x27;successbookdemo_...\n",
              "                                                                          &#x27;sessions&#x27;,\n",
              "                                                                          &#x27;visited_demo_page&#x27;,\n",
              "                                                                          &#x27;bounces&#x27;]),\n",
              "                                                                        (&#x27;cat_transformer&#x27;,\n",
              "                                                                         Pipeline(steps=[(&#x27;target&#x27;,\n",
              "                                                                                          TargetEncoder())]),\n",
              "                                                                         [&#x27;region&#x27;,\n",
              "                                                                          &#x27;sourceMedium&#x27;])])),\n",
              "                                       (&#x27;xgb&#x27;,\n",
              "                                        XGBClassifier(nthread=4, seed=42))]),\n",
              "             n_jobs=10,\n",
              "             param_grid={&#x27;xgb__gamma&#x27;: [0, 0.25, 1],\n",
              "                         &#x27;xgb__learning_rate&#x27;: [0.1, 0.01, 0.05],\n",
              "                         &#x27;xgb__max_depth&#x27;: range(2, 10, 2),\n",
              "                         &#x27;xgb__n_estimators&#x27;: [100]},\n",
              "             scoring=&#x27;precision&#x27;, verbose=True)</pre></div></div></div><div class=\"sk-parallel\"><div class=\"sk-parallel-item\"><div class=\"sk-item\"><div class=\"sk-serial\"><div class=\"sk-item\"><div class=\"sk-serial\"><div class=\"sk-item sk-dashed-wrapped\"><div class=\"sk-label-container\"><div class=\"sk-label sk-toggleable\"><input class=\"sk-toggleable__control sk-hidden--visually\" id=\"460037f4-a006-4b24-9f9a-e2a8b16ff58b\" type=\"checkbox\" ><label for=\"460037f4-a006-4b24-9f9a-e2a8b16ff58b\" class=\"sk-toggleable__label sk-toggleable__label-arrow\">preprocessor: ColumnTransformer</label><div class=\"sk-toggleable__content\"><pre>ColumnTransformer(transformers=[(&#x27;num_transformer&#x27;,\n",
              "                                 Pipeline(steps=[(&#x27;scaler&#x27;, StandardScaler())]),\n",
              "                                 [&#x27;visited_successbookdemo&#x27;, &#x27;demo_page_top&#x27;,\n",
              "                                  &#x27;newUser&#x27;, &#x27;goal4Completions&#x27;,\n",
              "                                  &#x27;fired_DemoReqPg_CallClicks_evt&#x27;,\n",
              "                                  &#x27;sessionDuration&#x27;, &#x27;pageviews&#x27;,\n",
              "                                  &#x27;DemoReqPg_CallClicks_evt_count&#x27;, &#x27;paid&#x27;,\n",
              "                                  &#x27;successbookdemo_top&#x27;, &#x27;sessions&#x27;,\n",
              "                                  &#x27;visited_demo_page&#x27;, &#x27;bounces&#x27;]),\n",
              "                                (&#x27;cat_transformer&#x27;,\n",
              "                                 Pipeline(steps=[(&#x27;target&#x27;, TargetEncoder())]),\n",
              "                                 [&#x27;region&#x27;, &#x27;sourceMedium&#x27;])])</pre></div></div></div><div class=\"sk-parallel\"><div class=\"sk-parallel-item\"><div class=\"sk-item\"><div class=\"sk-label-container\"><div class=\"sk-label sk-toggleable\"><input class=\"sk-toggleable__control sk-hidden--visually\" id=\"6370136e-9142-41d0-a484-b8e0cbbbc8eb\" type=\"checkbox\" ><label for=\"6370136e-9142-41d0-a484-b8e0cbbbc8eb\" class=\"sk-toggleable__label sk-toggleable__label-arrow\">num_transformer</label><div class=\"sk-toggleable__content\"><pre>[&#x27;visited_successbookdemo&#x27;, &#x27;demo_page_top&#x27;, &#x27;newUser&#x27;, &#x27;goal4Completions&#x27;, &#x27;fired_DemoReqPg_CallClicks_evt&#x27;, &#x27;sessionDuration&#x27;, &#x27;pageviews&#x27;, &#x27;DemoReqPg_CallClicks_evt_count&#x27;, &#x27;paid&#x27;, &#x27;successbookdemo_top&#x27;, &#x27;sessions&#x27;, &#x27;visited_demo_page&#x27;, &#x27;bounces&#x27;]</pre></div></div></div><div class=\"sk-serial\"><div class=\"sk-item\"><div class=\"sk-serial\"><div class=\"sk-item\"><div class=\"sk-estimator sk-toggleable\"><input class=\"sk-toggleable__control sk-hidden--visually\" id=\"07e5da1f-a379-46e8-888b-8cd0463276c1\" type=\"checkbox\" ><label for=\"07e5da1f-a379-46e8-888b-8cd0463276c1\" class=\"sk-toggleable__label sk-toggleable__label-arrow\">StandardScaler</label><div class=\"sk-toggleable__content\"><pre>StandardScaler()</pre></div></div></div></div></div></div></div></div><div class=\"sk-parallel-item\"><div class=\"sk-item\"><div class=\"sk-label-container\"><div class=\"sk-label sk-toggleable\"><input class=\"sk-toggleable__control sk-hidden--visually\" id=\"475e180a-91d4-4939-a48b-e8263bcc4635\" type=\"checkbox\" ><label for=\"475e180a-91d4-4939-a48b-e8263bcc4635\" class=\"sk-toggleable__label sk-toggleable__label-arrow\">cat_transformer</label><div class=\"sk-toggleable__content\"><pre>[&#x27;region&#x27;, &#x27;sourceMedium&#x27;]</pre></div></div></div><div class=\"sk-serial\"><div class=\"sk-item\"><div class=\"sk-serial\"><div class=\"sk-item\"><div class=\"sk-estimator sk-toggleable\"><input class=\"sk-toggleable__control sk-hidden--visually\" id=\"3c028ab1-a601-4a49-baf0-1dc872e70720\" type=\"checkbox\" ><label for=\"3c028ab1-a601-4a49-baf0-1dc872e70720\" class=\"sk-toggleable__label sk-toggleable__label-arrow\">TargetEncoder</label><div class=\"sk-toggleable__content\"><pre>TargetEncoder()</pre></div></div></div></div></div></div></div></div></div></div><div class=\"sk-item\"><div class=\"sk-estimator sk-toggleable\"><input class=\"sk-toggleable__control sk-hidden--visually\" id=\"ae94c81e-922c-4f33-8333-084d58170327\" type=\"checkbox\" ><label for=\"ae94c81e-922c-4f33-8333-084d58170327\" class=\"sk-toggleable__label sk-toggleable__label-arrow\">XGBClassifier</label><div class=\"sk-toggleable__content\"><pre>XGBClassifier(nthread=4, seed=42)</pre></div></div></div></div></div></div></div></div></div></div></div></div>"
            ]
          },
          "metadata": {},
          "execution_count": 242
        }
      ]
    },
    {
      "cell_type": "code",
      "source": [
        "grid_search_xgb_smote.best_score_"
      ],
      "metadata": {
        "colab": {
          "base_uri": "https://localhost:8080/"
        },
        "id": "GGH_vQ1AEAqY",
        "outputId": "006b8e6f-6f2c-4617-98f8-c0f6f17e99bf"
      },
      "execution_count": 243,
      "outputs": [
        {
          "output_type": "execute_result",
          "data": {
            "text/plain": [
              "0.7716529597032812"
            ]
          },
          "metadata": {},
          "execution_count": 243
        }
      ]
    },
    {
      "cell_type": "code",
      "source": [
        "grid_search_xgb_smote.best_params_"
      ],
      "metadata": {
        "colab": {
          "base_uri": "https://localhost:8080/"
        },
        "id": "t0KAszjyEA1o",
        "outputId": "ecf22462-f93f-4d5c-b3b4-1a9aa0dd229a"
      },
      "execution_count": 244,
      "outputs": [
        {
          "output_type": "execute_result",
          "data": {
            "text/plain": [
              "{'xgb__gamma': 0.25,\n",
              " 'xgb__learning_rate': 0.1,\n",
              " 'xgb__max_depth': 8,\n",
              " 'xgb__n_estimators': 100}"
            ]
          },
          "metadata": {},
          "execution_count": 244
        }
      ]
    },
    {
      "cell_type": "code",
      "source": [
        "grid_search_xgb_smote_predict=grid_search_xgb_smote.predict(X_test[feature_selected])"
      ],
      "metadata": {
        "id": "4qvnxuBDEA93"
      },
      "execution_count": 245,
      "outputs": []
    },
    {
      "cell_type": "code",
      "source": [
        "print(classification_report(grid_search_xgb_smote_predict,Y_test))"
      ],
      "metadata": {
        "colab": {
          "base_uri": "https://localhost:8080/"
        },
        "id": "xXRoN3fghhv8",
        "outputId": "d00ee872-2391-42fa-8ff0-2df30c8ba3d1"
      },
      "execution_count": 246,
      "outputs": [
        {
          "output_type": "stream",
          "name": "stdout",
          "text": [
            "              precision    recall  f1-score   support\n",
            "\n",
            "           0       0.78      0.96      0.86      8102\n",
            "           1       0.42      0.10      0.16      2464\n",
            "\n",
            "    accuracy                           0.76     10566\n",
            "   macro avg       0.60      0.53      0.51     10566\n",
            "weighted avg       0.69      0.76      0.69     10566\n",
            "\n"
          ]
        }
      ]
    },
    {
      "cell_type": "markdown",
      "source": [
        "Experiment 12:\n",
        "\n",
        "SVM with Over Sampling and Under Sampling\n",
        "\n",
        "Attributes of Experiments: \n",
        "1. Over Sampling and Under Sampling\n",
        "2. Scaler Transformation\n",
        "3. Target Encoding\n"
      ],
      "metadata": {
        "id": "e7gWc9vFE9D0"
      }
    },
    {
      "cell_type": "code",
      "source": [
        "from sklearn.svm import SVC\n",
        "svm_func=SVC()\n",
        "param_grid = { 'svm__C':[0.1,1,100],\n",
        "              'svm__kernel':['rbf','linear'],\n",
        "              #'svm__degree':[1,2,3,4,5,6],\n",
        "              'svm__gamma': [1, 0.1, 0.01]}\n",
        "svm_cl = Pipeline(steps=[ \n",
        "                         ('preprocessor', preprocessor),\n",
        "                          ('svm',svm_func )])\n",
        "svm_grid = GridSearchCV(svm_cl,param_grid,cv=3,scoring='precision')\n",
        "svm_grid.fit(X_train_sampled_1[feature_selected],X_train_sampled_1['converted'])"
      ],
      "metadata": {
        "id": "TqMia1_wE9qP",
        "colab": {
          "base_uri": "https://localhost:8080/"
        },
        "outputId": "28c82601-3306-443e-f059-7d3c1453e0aa"
      },
      "execution_count": 52,
      "outputs": [
        {
          "output_type": "execute_result",
          "data": {
            "text/plain": [
              "GridSearchCV(cv=3,\n",
              "             estimator=Pipeline(steps=[('preprocessor',\n",
              "                                        ColumnTransformer(transformers=[('num_transformer',\n",
              "                                                                         Pipeline(steps=[('scaler',\n",
              "                                                                                          StandardScaler())]),\n",
              "                                                                         ['visited_successbookdemo',\n",
              "                                                                          'demo_page_top',\n",
              "                                                                          'newUser',\n",
              "                                                                          'goal4Completions',\n",
              "                                                                          'fired_DemoReqPg_CallClicks_evt',\n",
              "                                                                          'pageviews',\n",
              "                                                                          'sessionDuration',\n",
              "                                                                          'DemoReqPg_CallClicks_evt_count',\n",
              "                                                                          'paid',\n",
              "                                                                          'successbookdemo_top',\n",
              "                                                                          'sessions',\n",
              "                                                                          'visited_demo_page',\n",
              "                                                                          'bounces']),\n",
              "                                                                        ('cat_transformer',\n",
              "                                                                         Pipeline(steps=[('target',\n",
              "                                                                                          TargetEncoder())]),\n",
              "                                                                         ['region',\n",
              "                                                                          'sourceMedium'])])),\n",
              "                                       ('svm', SVC())]),\n",
              "             param_grid={'svm__C': [0.1, 1, 100], 'svm__gamma': [1, 0.1, 0.01],\n",
              "                         'svm__kernel': ['rbf', 'linear']},\n",
              "             scoring='precision')"
            ]
          },
          "metadata": {},
          "execution_count": 52
        }
      ]
    },
    {
      "cell_type": "code",
      "source": [
        "svm_grid.best_score_"
      ],
      "metadata": {
        "id": "U7h6amxbLcK8",
        "colab": {
          "base_uri": "https://localhost:8080/"
        },
        "outputId": "849a9a25-5f47-41e2-d9a1-373f7be7ac02"
      },
      "execution_count": 53,
      "outputs": [
        {
          "output_type": "execute_result",
          "data": {
            "text/plain": [
              "0.7439733889330139"
            ]
          },
          "metadata": {},
          "execution_count": 53
        }
      ]
    },
    {
      "cell_type": "code",
      "source": [
        "svm_grid.best_params_"
      ],
      "metadata": {
        "id": "R3JAThnQLcq7",
        "colab": {
          "base_uri": "https://localhost:8080/"
        },
        "outputId": "a7ca50a8-f8ed-46a1-8d8f-7a707a1b75b9"
      },
      "execution_count": 54,
      "outputs": [
        {
          "output_type": "execute_result",
          "data": {
            "text/plain": [
              "{'svm__C': 100, 'svm__gamma': 1, 'svm__kernel': 'rbf'}"
            ]
          },
          "metadata": {},
          "execution_count": 54
        }
      ]
    },
    {
      "cell_type": "code",
      "source": [
        "svm_grid_predict=svm_grid.predict(X_test[feature_selected])"
      ],
      "metadata": {
        "id": "bzhnKqkZJG13"
      },
      "execution_count": 183,
      "outputs": []
    },
    {
      "cell_type": "code",
      "source": [
        "print(classification_report(svm_grid_predict,Y_test))"
      ],
      "metadata": {
        "colab": {
          "base_uri": "https://localhost:8080/"
        },
        "id": "nB7EOn2sJG-t",
        "outputId": "acf5c9cf-4242-4386-8ab0-9e5ef260c8b3"
      },
      "execution_count": 184,
      "outputs": [
        {
          "output_type": "stream",
          "name": "stdout",
          "text": [
            "              precision    recall  f1-score   support\n",
            "\n",
            "           0       0.75      0.96      0.84      7859\n",
            "           1       0.40      0.08      0.14      2707\n",
            "\n",
            "    accuracy                           0.73     10566\n",
            "   macro avg       0.58      0.52      0.49     10566\n",
            "weighted avg       0.66      0.73      0.66     10566\n",
            "\n"
          ]
        }
      ]
    },
    {
      "cell_type": "markdown",
      "source": [
        "Experiment 13:\n",
        "\n",
        "Gaussain Naive Bayes with Over Sampling and Under Sampling\n",
        "\n",
        "Attributes of Experiments: \n",
        "1. Over Sampling and Under Sampling\n",
        "2. Scaler Transformation\n",
        "3. Target Encoding"
      ],
      "metadata": {
        "id": "leo566UiWsAT"
      }
    },
    {
      "cell_type": "code",
      "source": [
        "from sklearn.naive_bayes import GaussianNB\n",
        "from sklearn.model_selection import GridSearchCV\n",
        "\n",
        "gnb = GaussianNB()\n",
        "\n",
        "param_grid_nb = {\n",
        "'gnb__var_smoothing': np.logspace(0,-9, num=100)\n",
        "}\n",
        "\n",
        "nb = Pipeline(steps=[\n",
        "('preprocessor', preprocessor),\n",
        "('gnb',gnb )])\n",
        "\n",
        "nbModel_grid = GridSearchCV(estimator=nb, param_grid=param_grid_nb, verbose=1, cv=10, n_jobs=-1,scoring='precision')\n",
        "nbModel_grid.fit(X_train_sampled_1[feature_selected],X_train_sampled_1['converted'])"
      ],
      "metadata": {
        "colab": {
          "base_uri": "https://localhost:8080/",
          "height": 211
        },
        "id": "4NbyJ8FIJHCX",
        "outputId": "fc10e78b-4099-4217-d804-08bf94c6283a"
      },
      "execution_count": 227,
      "outputs": [
        {
          "output_type": "stream",
          "name": "stdout",
          "text": [
            "Fitting 10 folds for each of 100 candidates, totalling 1000 fits\n"
          ]
        },
        {
          "output_type": "execute_result",
          "data": {
            "text/plain": [
              "GridSearchCV(cv=10,\n",
              "             estimator=Pipeline(steps=[('preprocessor',\n",
              "                                        ColumnTransformer(transformers=[('num_transformer',\n",
              "                                                                         Pipeline(steps=[('scaler',\n",
              "                                                                                          StandardScaler())]),\n",
              "                                                                         ['visited_successbookdemo',\n",
              "                                                                          'demo_page_top',\n",
              "                                                                          'newUser',\n",
              "                                                                          'goal4Completions',\n",
              "                                                                          'fired_DemoReqPg_CallClicks_evt',\n",
              "                                                                          'sessionDuration',\n",
              "                                                                          'pageviews',\n",
              "                                                                          'DemoReqPg_CallClicks_evt_count',\n",
              "                                                                          'paid',\n",
              "                                                                          'successbookdemo_...\n",
              "       1.23284674e-07, 1.00000000e-07, 8.11130831e-08, 6.57933225e-08,\n",
              "       5.33669923e-08, 4.32876128e-08, 3.51119173e-08, 2.84803587e-08,\n",
              "       2.31012970e-08, 1.87381742e-08, 1.51991108e-08, 1.23284674e-08,\n",
              "       1.00000000e-08, 8.11130831e-09, 6.57933225e-09, 5.33669923e-09,\n",
              "       4.32876128e-09, 3.51119173e-09, 2.84803587e-09, 2.31012970e-09,\n",
              "       1.87381742e-09, 1.51991108e-09, 1.23284674e-09, 1.00000000e-09])},\n",
              "             scoring='precision', verbose=1)"
            ],
            "text/html": [
              "<style>#sk-412ad9be-44c4-4443-9067-34f687a6a40c {color: black;background-color: white;}#sk-412ad9be-44c4-4443-9067-34f687a6a40c pre{padding: 0;}#sk-412ad9be-44c4-4443-9067-34f687a6a40c div.sk-toggleable {background-color: white;}#sk-412ad9be-44c4-4443-9067-34f687a6a40c label.sk-toggleable__label {cursor: pointer;display: block;width: 100%;margin-bottom: 0;padding: 0.3em;box-sizing: border-box;text-align: center;}#sk-412ad9be-44c4-4443-9067-34f687a6a40c label.sk-toggleable__label-arrow:before {content: \"▸\";float: left;margin-right: 0.25em;color: #696969;}#sk-412ad9be-44c4-4443-9067-34f687a6a40c label.sk-toggleable__label-arrow:hover:before {color: black;}#sk-412ad9be-44c4-4443-9067-34f687a6a40c div.sk-estimator:hover label.sk-toggleable__label-arrow:before {color: black;}#sk-412ad9be-44c4-4443-9067-34f687a6a40c div.sk-toggleable__content {max-height: 0;max-width: 0;overflow: hidden;text-align: left;background-color: #f0f8ff;}#sk-412ad9be-44c4-4443-9067-34f687a6a40c div.sk-toggleable__content pre {margin: 0.2em;color: black;border-radius: 0.25em;background-color: #f0f8ff;}#sk-412ad9be-44c4-4443-9067-34f687a6a40c input.sk-toggleable__control:checked~div.sk-toggleable__content {max-height: 200px;max-width: 100%;overflow: auto;}#sk-412ad9be-44c4-4443-9067-34f687a6a40c input.sk-toggleable__control:checked~label.sk-toggleable__label-arrow:before {content: \"▾\";}#sk-412ad9be-44c4-4443-9067-34f687a6a40c div.sk-estimator input.sk-toggleable__control:checked~label.sk-toggleable__label {background-color: #d4ebff;}#sk-412ad9be-44c4-4443-9067-34f687a6a40c div.sk-label input.sk-toggleable__control:checked~label.sk-toggleable__label {background-color: #d4ebff;}#sk-412ad9be-44c4-4443-9067-34f687a6a40c input.sk-hidden--visually {border: 0;clip: rect(1px 1px 1px 1px);clip: rect(1px, 1px, 1px, 1px);height: 1px;margin: -1px;overflow: hidden;padding: 0;position: absolute;width: 1px;}#sk-412ad9be-44c4-4443-9067-34f687a6a40c div.sk-estimator {font-family: monospace;background-color: #f0f8ff;border: 1px dotted black;border-radius: 0.25em;box-sizing: border-box;margin-bottom: 0.5em;}#sk-412ad9be-44c4-4443-9067-34f687a6a40c div.sk-estimator:hover {background-color: #d4ebff;}#sk-412ad9be-44c4-4443-9067-34f687a6a40c div.sk-parallel-item::after {content: \"\";width: 100%;border-bottom: 1px solid gray;flex-grow: 1;}#sk-412ad9be-44c4-4443-9067-34f687a6a40c div.sk-label:hover label.sk-toggleable__label {background-color: #d4ebff;}#sk-412ad9be-44c4-4443-9067-34f687a6a40c div.sk-serial::before {content: \"\";position: absolute;border-left: 1px solid gray;box-sizing: border-box;top: 2em;bottom: 0;left: 50%;}#sk-412ad9be-44c4-4443-9067-34f687a6a40c div.sk-serial {display: flex;flex-direction: column;align-items: center;background-color: white;padding-right: 0.2em;padding-left: 0.2em;}#sk-412ad9be-44c4-4443-9067-34f687a6a40c div.sk-item {z-index: 1;}#sk-412ad9be-44c4-4443-9067-34f687a6a40c div.sk-parallel {display: flex;align-items: stretch;justify-content: center;background-color: white;}#sk-412ad9be-44c4-4443-9067-34f687a6a40c div.sk-parallel::before {content: \"\";position: absolute;border-left: 1px solid gray;box-sizing: border-box;top: 2em;bottom: 0;left: 50%;}#sk-412ad9be-44c4-4443-9067-34f687a6a40c div.sk-parallel-item {display: flex;flex-direction: column;position: relative;background-color: white;}#sk-412ad9be-44c4-4443-9067-34f687a6a40c div.sk-parallel-item:first-child::after {align-self: flex-end;width: 50%;}#sk-412ad9be-44c4-4443-9067-34f687a6a40c div.sk-parallel-item:last-child::after {align-self: flex-start;width: 50%;}#sk-412ad9be-44c4-4443-9067-34f687a6a40c div.sk-parallel-item:only-child::after {width: 0;}#sk-412ad9be-44c4-4443-9067-34f687a6a40c div.sk-dashed-wrapped {border: 1px dashed gray;margin: 0 0.4em 0.5em 0.4em;box-sizing: border-box;padding-bottom: 0.4em;background-color: white;position: relative;}#sk-412ad9be-44c4-4443-9067-34f687a6a40c div.sk-label label {font-family: monospace;font-weight: bold;background-color: white;display: inline-block;line-height: 1.2em;}#sk-412ad9be-44c4-4443-9067-34f687a6a40c div.sk-label-container {position: relative;z-index: 2;text-align: center;}#sk-412ad9be-44c4-4443-9067-34f687a6a40c div.sk-container {/* jupyter's `normalize.less` sets `[hidden] { display: none; }` but bootstrap.min.css set `[hidden] { display: none !important; }` so we also need the `!important` here to be able to override the default hidden behavior on the sphinx rendered scikit-learn.org. See: https://github.com/scikit-learn/scikit-learn/issues/21755 */display: inline-block !important;position: relative;}#sk-412ad9be-44c4-4443-9067-34f687a6a40c div.sk-text-repr-fallback {display: none;}</style><div id=\"sk-412ad9be-44c4-4443-9067-34f687a6a40c\" class=\"sk-top-container\"><div class=\"sk-text-repr-fallback\"><pre>GridSearchCV(cv=10,\n",
              "             estimator=Pipeline(steps=[(&#x27;preprocessor&#x27;,\n",
              "                                        ColumnTransformer(transformers=[(&#x27;num_transformer&#x27;,\n",
              "                                                                         Pipeline(steps=[(&#x27;scaler&#x27;,\n",
              "                                                                                          StandardScaler())]),\n",
              "                                                                         [&#x27;visited_successbookdemo&#x27;,\n",
              "                                                                          &#x27;demo_page_top&#x27;,\n",
              "                                                                          &#x27;newUser&#x27;,\n",
              "                                                                          &#x27;goal4Completions&#x27;,\n",
              "                                                                          &#x27;fired_DemoReqPg_CallClicks_evt&#x27;,\n",
              "                                                                          &#x27;sessionDuration&#x27;,\n",
              "                                                                          &#x27;pageviews&#x27;,\n",
              "                                                                          &#x27;DemoReqPg_CallClicks_evt_count&#x27;,\n",
              "                                                                          &#x27;paid&#x27;,\n",
              "                                                                          &#x27;successbookdemo_...\n",
              "       1.23284674e-07, 1.00000000e-07, 8.11130831e-08, 6.57933225e-08,\n",
              "       5.33669923e-08, 4.32876128e-08, 3.51119173e-08, 2.84803587e-08,\n",
              "       2.31012970e-08, 1.87381742e-08, 1.51991108e-08, 1.23284674e-08,\n",
              "       1.00000000e-08, 8.11130831e-09, 6.57933225e-09, 5.33669923e-09,\n",
              "       4.32876128e-09, 3.51119173e-09, 2.84803587e-09, 2.31012970e-09,\n",
              "       1.87381742e-09, 1.51991108e-09, 1.23284674e-09, 1.00000000e-09])},\n",
              "             scoring=&#x27;precision&#x27;, verbose=1)</pre><b>Please rerun this cell to show the HTML repr or trust the notebook.</b></div><div class=\"sk-container\" hidden><div class=\"sk-item sk-dashed-wrapped\"><div class=\"sk-label-container\"><div class=\"sk-label sk-toggleable\"><input class=\"sk-toggleable__control sk-hidden--visually\" id=\"e0c59716-3331-45e8-83a0-fcf469330594\" type=\"checkbox\" ><label for=\"e0c59716-3331-45e8-83a0-fcf469330594\" class=\"sk-toggleable__label sk-toggleable__label-arrow\">GridSearchCV</label><div class=\"sk-toggleable__content\"><pre>GridSearchCV(cv=10,\n",
              "             estimator=Pipeline(steps=[(&#x27;preprocessor&#x27;,\n",
              "                                        ColumnTransformer(transformers=[(&#x27;num_transformer&#x27;,\n",
              "                                                                         Pipeline(steps=[(&#x27;scaler&#x27;,\n",
              "                                                                                          StandardScaler())]),\n",
              "                                                                         [&#x27;visited_successbookdemo&#x27;,\n",
              "                                                                          &#x27;demo_page_top&#x27;,\n",
              "                                                                          &#x27;newUser&#x27;,\n",
              "                                                                          &#x27;goal4Completions&#x27;,\n",
              "                                                                          &#x27;fired_DemoReqPg_CallClicks_evt&#x27;,\n",
              "                                                                          &#x27;sessionDuration&#x27;,\n",
              "                                                                          &#x27;pageviews&#x27;,\n",
              "                                                                          &#x27;DemoReqPg_CallClicks_evt_count&#x27;,\n",
              "                                                                          &#x27;paid&#x27;,\n",
              "                                                                          &#x27;successbookdemo_...\n",
              "       1.23284674e-07, 1.00000000e-07, 8.11130831e-08, 6.57933225e-08,\n",
              "       5.33669923e-08, 4.32876128e-08, 3.51119173e-08, 2.84803587e-08,\n",
              "       2.31012970e-08, 1.87381742e-08, 1.51991108e-08, 1.23284674e-08,\n",
              "       1.00000000e-08, 8.11130831e-09, 6.57933225e-09, 5.33669923e-09,\n",
              "       4.32876128e-09, 3.51119173e-09, 2.84803587e-09, 2.31012970e-09,\n",
              "       1.87381742e-09, 1.51991108e-09, 1.23284674e-09, 1.00000000e-09])},\n",
              "             scoring=&#x27;precision&#x27;, verbose=1)</pre></div></div></div><div class=\"sk-parallel\"><div class=\"sk-parallel-item\"><div class=\"sk-item\"><div class=\"sk-serial\"><div class=\"sk-item\"><div class=\"sk-serial\"><div class=\"sk-item sk-dashed-wrapped\"><div class=\"sk-label-container\"><div class=\"sk-label sk-toggleable\"><input class=\"sk-toggleable__control sk-hidden--visually\" id=\"f6f79a4a-0fa5-498a-bff6-596ad8614eb4\" type=\"checkbox\" ><label for=\"f6f79a4a-0fa5-498a-bff6-596ad8614eb4\" class=\"sk-toggleable__label sk-toggleable__label-arrow\">preprocessor: ColumnTransformer</label><div class=\"sk-toggleable__content\"><pre>ColumnTransformer(transformers=[(&#x27;num_transformer&#x27;,\n",
              "                                 Pipeline(steps=[(&#x27;scaler&#x27;, StandardScaler())]),\n",
              "                                 [&#x27;visited_successbookdemo&#x27;, &#x27;demo_page_top&#x27;,\n",
              "                                  &#x27;newUser&#x27;, &#x27;goal4Completions&#x27;,\n",
              "                                  &#x27;fired_DemoReqPg_CallClicks_evt&#x27;,\n",
              "                                  &#x27;sessionDuration&#x27;, &#x27;pageviews&#x27;,\n",
              "                                  &#x27;DemoReqPg_CallClicks_evt_count&#x27;, &#x27;paid&#x27;,\n",
              "                                  &#x27;successbookdemo_top&#x27;, &#x27;sessions&#x27;,\n",
              "                                  &#x27;visited_demo_page&#x27;, &#x27;bounces&#x27;]),\n",
              "                                (&#x27;cat_transformer&#x27;,\n",
              "                                 Pipeline(steps=[(&#x27;target&#x27;, TargetEncoder())]),\n",
              "                                 [&#x27;region&#x27;, &#x27;sourceMedium&#x27;])])</pre></div></div></div><div class=\"sk-parallel\"><div class=\"sk-parallel-item\"><div class=\"sk-item\"><div class=\"sk-label-container\"><div class=\"sk-label sk-toggleable\"><input class=\"sk-toggleable__control sk-hidden--visually\" id=\"b7c1e8bf-f1a3-4303-b3ea-213f07503fe4\" type=\"checkbox\" ><label for=\"b7c1e8bf-f1a3-4303-b3ea-213f07503fe4\" class=\"sk-toggleable__label sk-toggleable__label-arrow\">num_transformer</label><div class=\"sk-toggleable__content\"><pre>[&#x27;visited_successbookdemo&#x27;, &#x27;demo_page_top&#x27;, &#x27;newUser&#x27;, &#x27;goal4Completions&#x27;, &#x27;fired_DemoReqPg_CallClicks_evt&#x27;, &#x27;sessionDuration&#x27;, &#x27;pageviews&#x27;, &#x27;DemoReqPg_CallClicks_evt_count&#x27;, &#x27;paid&#x27;, &#x27;successbookdemo_top&#x27;, &#x27;sessions&#x27;, &#x27;visited_demo_page&#x27;, &#x27;bounces&#x27;]</pre></div></div></div><div class=\"sk-serial\"><div class=\"sk-item\"><div class=\"sk-serial\"><div class=\"sk-item\"><div class=\"sk-estimator sk-toggleable\"><input class=\"sk-toggleable__control sk-hidden--visually\" id=\"9f987d3e-19cf-483c-84d0-acc6e7e39716\" type=\"checkbox\" ><label for=\"9f987d3e-19cf-483c-84d0-acc6e7e39716\" class=\"sk-toggleable__label sk-toggleable__label-arrow\">StandardScaler</label><div class=\"sk-toggleable__content\"><pre>StandardScaler()</pre></div></div></div></div></div></div></div></div><div class=\"sk-parallel-item\"><div class=\"sk-item\"><div class=\"sk-label-container\"><div class=\"sk-label sk-toggleable\"><input class=\"sk-toggleable__control sk-hidden--visually\" id=\"658d2b98-21f7-478b-b1c6-168003a974e3\" type=\"checkbox\" ><label for=\"658d2b98-21f7-478b-b1c6-168003a974e3\" class=\"sk-toggleable__label sk-toggleable__label-arrow\">cat_transformer</label><div class=\"sk-toggleable__content\"><pre>[&#x27;region&#x27;, &#x27;sourceMedium&#x27;]</pre></div></div></div><div class=\"sk-serial\"><div class=\"sk-item\"><div class=\"sk-serial\"><div class=\"sk-item\"><div class=\"sk-estimator sk-toggleable\"><input class=\"sk-toggleable__control sk-hidden--visually\" id=\"805b2a99-5a1c-480d-a1f4-cecd345b69ac\" type=\"checkbox\" ><label for=\"805b2a99-5a1c-480d-a1f4-cecd345b69ac\" class=\"sk-toggleable__label sk-toggleable__label-arrow\">TargetEncoder</label><div class=\"sk-toggleable__content\"><pre>TargetEncoder()</pre></div></div></div></div></div></div></div></div></div></div><div class=\"sk-item\"><div class=\"sk-estimator sk-toggleable\"><input class=\"sk-toggleable__control sk-hidden--visually\" id=\"42907594-3dad-4eb0-a83d-466b9139a891\" type=\"checkbox\" ><label for=\"42907594-3dad-4eb0-a83d-466b9139a891\" class=\"sk-toggleable__label sk-toggleable__label-arrow\">GaussianNB</label><div class=\"sk-toggleable__content\"><pre>GaussianNB()</pre></div></div></div></div></div></div></div></div></div></div></div></div>"
            ]
          },
          "metadata": {},
          "execution_count": 227
        }
      ]
    },
    {
      "cell_type": "code",
      "source": [
        "nbModel_grid.best_score_"
      ],
      "metadata": {
        "colab": {
          "base_uri": "https://localhost:8080/"
        },
        "id": "UQEEAuHZW0ed",
        "outputId": "c7943beb-2a18-4ad2-b11c-1f54183b2497"
      },
      "execution_count": 228,
      "outputs": [
        {
          "output_type": "execute_result",
          "data": {
            "text/plain": [
              "0.787003536513155"
            ]
          },
          "metadata": {},
          "execution_count": 228
        }
      ]
    },
    {
      "cell_type": "code",
      "source": [
        "nbModel_grid.best_params_"
      ],
      "metadata": {
        "colab": {
          "base_uri": "https://localhost:8080/"
        },
        "id": "RjvXZF1mW1It",
        "outputId": "9537dd7e-e8a9-4981-86cf-4b4b2b24be49"
      },
      "execution_count": 229,
      "outputs": [
        {
          "output_type": "execute_result",
          "data": {
            "text/plain": [
              "{'gnb__var_smoothing': 1.0}"
            ]
          },
          "metadata": {},
          "execution_count": 229
        }
      ]
    },
    {
      "cell_type": "code",
      "source": [
        "nbModel_grid_predict=nbModel_grid.predict(X_test[feature_selected])"
      ],
      "metadata": {
        "id": "tjhYeptnW1Uc"
      },
      "execution_count": 230,
      "outputs": []
    },
    {
      "cell_type": "code",
      "source": [
        "print(classification_report(nbModel_grid_predict,Y_test))"
      ],
      "metadata": {
        "colab": {
          "base_uri": "https://localhost:8080/"
        },
        "id": "dCyjQycRW1iR",
        "outputId": "7986e756-dc15-446f-ef42-4442ab24e4d3"
      },
      "execution_count": 231,
      "outputs": [
        {
          "output_type": "stream",
          "name": "stdout",
          "text": [
            "              precision    recall  f1-score   support\n",
            "\n",
            "           0       0.93      0.96      0.94      9704\n",
            "           1       0.26      0.17      0.20       862\n",
            "\n",
            "    accuracy                           0.89     10566\n",
            "   macro avg       0.59      0.56      0.57     10566\n",
            "weighted avg       0.87      0.89      0.88     10566\n",
            "\n"
          ]
        }
      ]
    },
    {
      "cell_type": "markdown",
      "source": [
        "***Conclusion of Experiments:***\n",
        "\n",
        "\n",
        "\n",
        "1. We first split the data in train and test, and did encoding so that we could do feature selection.\n",
        "2. We then did feature selection using Random Forest to identify attributes having higher importance. We selected top 15 attributes.\n",
        "3. We first split the data in train and test, and did encoding so that we could do feature selection.We then did feature selection using Random Forest to identify attributes having higher importance. We selected top 15 attributes.\n",
        "4. Here we have used two data balancing techniques namely Over Sampling/Under Sampling and SMOTE as data was highly imbalanced.\n",
        "5. We then tried multiple classifiers basis the combinations of different encoding techniques and data balancing techniques.(All the experiments are defined along with the parameters used before implementation)\n",
        "6. After running multiple experiments we found that Logistic Regression with Over/Under Sampling and Target Encoding was giving the best Precision Score on test data.\n",
        "Although we were getting somewhat better results when we balanced data using Smote but in that case the test score was a bit higher than the average train score.\n",
        "We thus choose the Logistic Regression with Over/Under Sampling as our final model, which was giving a average train precision score of 67% and test precision score of 63%\n",
        "7. While we performed 13 experiments and did this complete exercise we understood the objective of different encoding techniques.In attributes having many categories we used Target encoding instead of One hot encoding as One hot encoding would have created a lot of new variables.\n",
        "8. While doing the data exploration, we found that data was highly skewed. We then looked at multiple data balancing techniques and observed that in case of our data set Over/Under Sampling was giving better results as compared to SMOTE.\n",
        "9. While we have created several experiments, we observed huge diffrences in the precision score of train and test, implying that our models are overfit."
      ],
      "metadata": {
        "id": "5iSfLb5WdVof"
      }
    },
    {
      "cell_type": "markdown",
      "source": [
        "**Check for Precision Variance**"
      ],
      "metadata": {
        "id": "ajcfvXcqtuYI"
      }
    },
    {
      "cell_type": "markdown",
      "source": [
        "Removal of features from feature_selected list to check that the change in precision score is not reduced by more than 2%.\n",
        "\n",
        "Since from our experiments, we found that logistic regression gives the best precision, we create a new model with best params that we got from grid search and test the precision by taking only top 10 features that we got.\n",
        "\n",
        "Steps:\n",
        "1. Taking the feature_selected column defined above(this list contains top 15 features based on descending order of importance)\n",
        "2. Creating new list of top 10 features from above\n",
        "3. Create a new model with best param(logistic)\n",
        "4. Run the model on train data\n",
        "5. Predict on test data\n",
        "6. Check Precision Score"
      ],
      "metadata": {
        "id": "jV_96g4UoEO_"
      }
    },
    {
      "cell_type": "code",
      "source": [
        "feature_selected"
      ],
      "metadata": {
        "colab": {
          "base_uri": "https://localhost:8080/"
        },
        "id": "YT-U1gcCoANy",
        "outputId": "075a223c-6bdb-485f-d885-511a568db293"
      },
      "execution_count": 282,
      "outputs": [
        {
          "output_type": "execute_result",
          "data": {
            "text/plain": [
              "['DemoReqPg_CallClicks_evt_count',\n",
              " 'fired_DemoReqPg_CallClicks_evt',\n",
              " 'goal4Completions',\n",
              " 'demo_page_top',\n",
              " 'successbookdemo_top',\n",
              " 'sourceMedium',\n",
              " 'newUser',\n",
              " 'visited_successbookdemo',\n",
              " 'visited_demo_page',\n",
              " 'sessions',\n",
              " 'sessionDuration',\n",
              " 'region',\n",
              " 'pageviews',\n",
              " 'bounces',\n",
              " 'paid']"
            ]
          },
          "metadata": {},
          "execution_count": 282
        }
      ]
    },
    {
      "cell_type": "code",
      "source": [
        "#Selecting top 10 features from the top 15 already selected features\n",
        "reduced_features=feature_selected[0:10]\n",
        "reduced_features"
      ],
      "metadata": {
        "colab": {
          "base_uri": "https://localhost:8080/"
        },
        "id": "B119jqIgoAnC",
        "outputId": "36c78db8-d2e1-42ad-d376-f7c010093f69"
      },
      "execution_count": 288,
      "outputs": [
        {
          "output_type": "execute_result",
          "data": {
            "text/plain": [
              "['DemoReqPg_CallClicks_evt_count',\n",
              " 'fired_DemoReqPg_CallClicks_evt',\n",
              " 'goal4Completions',\n",
              " 'demo_page_top',\n",
              " 'successbookdemo_top',\n",
              " 'sourceMedium',\n",
              " 'newUser',\n",
              " 'visited_successbookdemo',\n",
              " 'visited_demo_page',\n",
              " 'sessions']"
            ]
          },
          "metadata": {},
          "execution_count": 288
        }
      ]
    },
    {
      "cell_type": "code",
      "source": [
        "reduced_cat=['sourceMedium']\n",
        "reduced_num=list(set(reduced_features) - set(reduced_cat))"
      ],
      "metadata": {
        "id": "kW8oh3NBryq7"
      },
      "execution_count": 295,
      "outputs": []
    },
    {
      "cell_type": "code",
      "source": [
        "logreg_precision_test=LogisticRegression(max_iter=10000,\n",
        "                          C= logreg_cv.best_params_['logreg__C'],\n",
        "                          penalty=logreg_cv.best_params_['logreg__penalty'],\n",
        "                          solver=logreg_cv.best_params_['logreg__solver'])\n",
        "#Scaler + Target\n",
        "preprocessor3 = ColumnTransformer(\n",
        "    transformers=[          \n",
        "        ('num_transformer', numerical_transformer, reduced_num),\n",
        "        ('cat_transformer', categorical_transformer, reduced_cat)])\n",
        "logistic_precision_test = Pipeline(steps=[('preprocessor', preprocessor3),\n",
        "                          ('logreg', logreg_precision_test)])"
      ],
      "metadata": {
        "id": "_sBTzZYcqYBs"
      },
      "execution_count": 296,
      "outputs": []
    },
    {
      "cell_type": "code",
      "source": [
        "logistic_precision_test.fit(X_train_sampled_1[reduced_features],X_train_sampled_1['converted'])"
      ],
      "metadata": {
        "colab": {
          "base_uri": "https://localhost:8080/",
          "height": 192
        },
        "id": "xMtZjhidoAw1",
        "outputId": "e1e05511-23ad-4e49-90bb-b5829fedd202"
      },
      "execution_count": 297,
      "outputs": [
        {
          "output_type": "execute_result",
          "data": {
            "text/plain": [
              "Pipeline(steps=[('preprocessor',\n",
              "                 ColumnTransformer(transformers=[('num_transformer',\n",
              "                                                  Pipeline(steps=[('scaler',\n",
              "                                                                   StandardScaler())]),\n",
              "                                                  ['visited_successbookdemo',\n",
              "                                                   'demo_page_top', 'newUser',\n",
              "                                                   'goal4Completions',\n",
              "                                                   'fired_DemoReqPg_CallClicks_evt',\n",
              "                                                   'DemoReqPg_CallClicks_evt_count',\n",
              "                                                   'successbookdemo_top',\n",
              "                                                   'sessions',\n",
              "                                                   'visited_demo_page']),\n",
              "                                                 ('cat_transformer',\n",
              "                                                  Pipeline(steps=[('target',\n",
              "                                                                   TargetEncoder())]),\n",
              "                                                  ['sourceMedium'])])),\n",
              "                ('logreg',\n",
              "                 LogisticRegression(C=10, max_iter=10000, solver='newton-cg'))])"
            ],
            "text/html": [
              "<style>#sk-34dfba08-7fbf-4b72-ac7e-2c069b8c5e45 {color: black;background-color: white;}#sk-34dfba08-7fbf-4b72-ac7e-2c069b8c5e45 pre{padding: 0;}#sk-34dfba08-7fbf-4b72-ac7e-2c069b8c5e45 div.sk-toggleable {background-color: white;}#sk-34dfba08-7fbf-4b72-ac7e-2c069b8c5e45 label.sk-toggleable__label {cursor: pointer;display: block;width: 100%;margin-bottom: 0;padding: 0.3em;box-sizing: border-box;text-align: center;}#sk-34dfba08-7fbf-4b72-ac7e-2c069b8c5e45 label.sk-toggleable__label-arrow:before {content: \"▸\";float: left;margin-right: 0.25em;color: #696969;}#sk-34dfba08-7fbf-4b72-ac7e-2c069b8c5e45 label.sk-toggleable__label-arrow:hover:before {color: black;}#sk-34dfba08-7fbf-4b72-ac7e-2c069b8c5e45 div.sk-estimator:hover label.sk-toggleable__label-arrow:before {color: black;}#sk-34dfba08-7fbf-4b72-ac7e-2c069b8c5e45 div.sk-toggleable__content {max-height: 0;max-width: 0;overflow: hidden;text-align: left;background-color: #f0f8ff;}#sk-34dfba08-7fbf-4b72-ac7e-2c069b8c5e45 div.sk-toggleable__content pre {margin: 0.2em;color: black;border-radius: 0.25em;background-color: #f0f8ff;}#sk-34dfba08-7fbf-4b72-ac7e-2c069b8c5e45 input.sk-toggleable__control:checked~div.sk-toggleable__content {max-height: 200px;max-width: 100%;overflow: auto;}#sk-34dfba08-7fbf-4b72-ac7e-2c069b8c5e45 input.sk-toggleable__control:checked~label.sk-toggleable__label-arrow:before {content: \"▾\";}#sk-34dfba08-7fbf-4b72-ac7e-2c069b8c5e45 div.sk-estimator input.sk-toggleable__control:checked~label.sk-toggleable__label {background-color: #d4ebff;}#sk-34dfba08-7fbf-4b72-ac7e-2c069b8c5e45 div.sk-label input.sk-toggleable__control:checked~label.sk-toggleable__label {background-color: #d4ebff;}#sk-34dfba08-7fbf-4b72-ac7e-2c069b8c5e45 input.sk-hidden--visually {border: 0;clip: rect(1px 1px 1px 1px);clip: rect(1px, 1px, 1px, 1px);height: 1px;margin: -1px;overflow: hidden;padding: 0;position: absolute;width: 1px;}#sk-34dfba08-7fbf-4b72-ac7e-2c069b8c5e45 div.sk-estimator {font-family: monospace;background-color: #f0f8ff;border: 1px dotted black;border-radius: 0.25em;box-sizing: border-box;margin-bottom: 0.5em;}#sk-34dfba08-7fbf-4b72-ac7e-2c069b8c5e45 div.sk-estimator:hover {background-color: #d4ebff;}#sk-34dfba08-7fbf-4b72-ac7e-2c069b8c5e45 div.sk-parallel-item::after {content: \"\";width: 100%;border-bottom: 1px solid gray;flex-grow: 1;}#sk-34dfba08-7fbf-4b72-ac7e-2c069b8c5e45 div.sk-label:hover label.sk-toggleable__label {background-color: #d4ebff;}#sk-34dfba08-7fbf-4b72-ac7e-2c069b8c5e45 div.sk-serial::before {content: \"\";position: absolute;border-left: 1px solid gray;box-sizing: border-box;top: 2em;bottom: 0;left: 50%;}#sk-34dfba08-7fbf-4b72-ac7e-2c069b8c5e45 div.sk-serial {display: flex;flex-direction: column;align-items: center;background-color: white;padding-right: 0.2em;padding-left: 0.2em;}#sk-34dfba08-7fbf-4b72-ac7e-2c069b8c5e45 div.sk-item {z-index: 1;}#sk-34dfba08-7fbf-4b72-ac7e-2c069b8c5e45 div.sk-parallel {display: flex;align-items: stretch;justify-content: center;background-color: white;}#sk-34dfba08-7fbf-4b72-ac7e-2c069b8c5e45 div.sk-parallel::before {content: \"\";position: absolute;border-left: 1px solid gray;box-sizing: border-box;top: 2em;bottom: 0;left: 50%;}#sk-34dfba08-7fbf-4b72-ac7e-2c069b8c5e45 div.sk-parallel-item {display: flex;flex-direction: column;position: relative;background-color: white;}#sk-34dfba08-7fbf-4b72-ac7e-2c069b8c5e45 div.sk-parallel-item:first-child::after {align-self: flex-end;width: 50%;}#sk-34dfba08-7fbf-4b72-ac7e-2c069b8c5e45 div.sk-parallel-item:last-child::after {align-self: flex-start;width: 50%;}#sk-34dfba08-7fbf-4b72-ac7e-2c069b8c5e45 div.sk-parallel-item:only-child::after {width: 0;}#sk-34dfba08-7fbf-4b72-ac7e-2c069b8c5e45 div.sk-dashed-wrapped {border: 1px dashed gray;margin: 0 0.4em 0.5em 0.4em;box-sizing: border-box;padding-bottom: 0.4em;background-color: white;position: relative;}#sk-34dfba08-7fbf-4b72-ac7e-2c069b8c5e45 div.sk-label label {font-family: monospace;font-weight: bold;background-color: white;display: inline-block;line-height: 1.2em;}#sk-34dfba08-7fbf-4b72-ac7e-2c069b8c5e45 div.sk-label-container {position: relative;z-index: 2;text-align: center;}#sk-34dfba08-7fbf-4b72-ac7e-2c069b8c5e45 div.sk-container {/* jupyter's `normalize.less` sets `[hidden] { display: none; }` but bootstrap.min.css set `[hidden] { display: none !important; }` so we also need the `!important` here to be able to override the default hidden behavior on the sphinx rendered scikit-learn.org. See: https://github.com/scikit-learn/scikit-learn/issues/21755 */display: inline-block !important;position: relative;}#sk-34dfba08-7fbf-4b72-ac7e-2c069b8c5e45 div.sk-text-repr-fallback {display: none;}</style><div id=\"sk-34dfba08-7fbf-4b72-ac7e-2c069b8c5e45\" class=\"sk-top-container\"><div class=\"sk-text-repr-fallback\"><pre>Pipeline(steps=[(&#x27;preprocessor&#x27;,\n",
              "                 ColumnTransformer(transformers=[(&#x27;num_transformer&#x27;,\n",
              "                                                  Pipeline(steps=[(&#x27;scaler&#x27;,\n",
              "                                                                   StandardScaler())]),\n",
              "                                                  [&#x27;visited_successbookdemo&#x27;,\n",
              "                                                   &#x27;demo_page_top&#x27;, &#x27;newUser&#x27;,\n",
              "                                                   &#x27;goal4Completions&#x27;,\n",
              "                                                   &#x27;fired_DemoReqPg_CallClicks_evt&#x27;,\n",
              "                                                   &#x27;DemoReqPg_CallClicks_evt_count&#x27;,\n",
              "                                                   &#x27;successbookdemo_top&#x27;,\n",
              "                                                   &#x27;sessions&#x27;,\n",
              "                                                   &#x27;visited_demo_page&#x27;]),\n",
              "                                                 (&#x27;cat_transformer&#x27;,\n",
              "                                                  Pipeline(steps=[(&#x27;target&#x27;,\n",
              "                                                                   TargetEncoder())]),\n",
              "                                                  [&#x27;sourceMedium&#x27;])])),\n",
              "                (&#x27;logreg&#x27;,\n",
              "                 LogisticRegression(C=10, max_iter=10000, solver=&#x27;newton-cg&#x27;))])</pre><b>Please rerun this cell to show the HTML repr or trust the notebook.</b></div><div class=\"sk-container\" hidden><div class=\"sk-item sk-dashed-wrapped\"><div class=\"sk-label-container\"><div class=\"sk-label sk-toggleable\"><input class=\"sk-toggleable__control sk-hidden--visually\" id=\"b6a21402-8a13-4e38-b5ca-4b464007a974\" type=\"checkbox\" ><label for=\"b6a21402-8a13-4e38-b5ca-4b464007a974\" class=\"sk-toggleable__label sk-toggleable__label-arrow\">Pipeline</label><div class=\"sk-toggleable__content\"><pre>Pipeline(steps=[(&#x27;preprocessor&#x27;,\n",
              "                 ColumnTransformer(transformers=[(&#x27;num_transformer&#x27;,\n",
              "                                                  Pipeline(steps=[(&#x27;scaler&#x27;,\n",
              "                                                                   StandardScaler())]),\n",
              "                                                  [&#x27;visited_successbookdemo&#x27;,\n",
              "                                                   &#x27;demo_page_top&#x27;, &#x27;newUser&#x27;,\n",
              "                                                   &#x27;goal4Completions&#x27;,\n",
              "                                                   &#x27;fired_DemoReqPg_CallClicks_evt&#x27;,\n",
              "                                                   &#x27;DemoReqPg_CallClicks_evt_count&#x27;,\n",
              "                                                   &#x27;successbookdemo_top&#x27;,\n",
              "                                                   &#x27;sessions&#x27;,\n",
              "                                                   &#x27;visited_demo_page&#x27;]),\n",
              "                                                 (&#x27;cat_transformer&#x27;,\n",
              "                                                  Pipeline(steps=[(&#x27;target&#x27;,\n",
              "                                                                   TargetEncoder())]),\n",
              "                                                  [&#x27;sourceMedium&#x27;])])),\n",
              "                (&#x27;logreg&#x27;,\n",
              "                 LogisticRegression(C=10, max_iter=10000, solver=&#x27;newton-cg&#x27;))])</pre></div></div></div><div class=\"sk-serial\"><div class=\"sk-item sk-dashed-wrapped\"><div class=\"sk-label-container\"><div class=\"sk-label sk-toggleable\"><input class=\"sk-toggleable__control sk-hidden--visually\" id=\"f0d5f846-9c43-406f-9660-a50fbc471bf6\" type=\"checkbox\" ><label for=\"f0d5f846-9c43-406f-9660-a50fbc471bf6\" class=\"sk-toggleable__label sk-toggleable__label-arrow\">preprocessor: ColumnTransformer</label><div class=\"sk-toggleable__content\"><pre>ColumnTransformer(transformers=[(&#x27;num_transformer&#x27;,\n",
              "                                 Pipeline(steps=[(&#x27;scaler&#x27;, StandardScaler())]),\n",
              "                                 [&#x27;visited_successbookdemo&#x27;, &#x27;demo_page_top&#x27;,\n",
              "                                  &#x27;newUser&#x27;, &#x27;goal4Completions&#x27;,\n",
              "                                  &#x27;fired_DemoReqPg_CallClicks_evt&#x27;,\n",
              "                                  &#x27;DemoReqPg_CallClicks_evt_count&#x27;,\n",
              "                                  &#x27;successbookdemo_top&#x27;, &#x27;sessions&#x27;,\n",
              "                                  &#x27;visited_demo_page&#x27;]),\n",
              "                                (&#x27;cat_transformer&#x27;,\n",
              "                                 Pipeline(steps=[(&#x27;target&#x27;, TargetEncoder())]),\n",
              "                                 [&#x27;sourceMedium&#x27;])])</pre></div></div></div><div class=\"sk-parallel\"><div class=\"sk-parallel-item\"><div class=\"sk-item\"><div class=\"sk-label-container\"><div class=\"sk-label sk-toggleable\"><input class=\"sk-toggleable__control sk-hidden--visually\" id=\"6ed0298c-e844-4f3c-9d2a-c1ce146199f7\" type=\"checkbox\" ><label for=\"6ed0298c-e844-4f3c-9d2a-c1ce146199f7\" class=\"sk-toggleable__label sk-toggleable__label-arrow\">num_transformer</label><div class=\"sk-toggleable__content\"><pre>[&#x27;visited_successbookdemo&#x27;, &#x27;demo_page_top&#x27;, &#x27;newUser&#x27;, &#x27;goal4Completions&#x27;, &#x27;fired_DemoReqPg_CallClicks_evt&#x27;, &#x27;DemoReqPg_CallClicks_evt_count&#x27;, &#x27;successbookdemo_top&#x27;, &#x27;sessions&#x27;, &#x27;visited_demo_page&#x27;]</pre></div></div></div><div class=\"sk-serial\"><div class=\"sk-item\"><div class=\"sk-serial\"><div class=\"sk-item\"><div class=\"sk-estimator sk-toggleable\"><input class=\"sk-toggleable__control sk-hidden--visually\" id=\"fa8da8e2-b5b4-4ff9-be55-eb8afa58c2eb\" type=\"checkbox\" ><label for=\"fa8da8e2-b5b4-4ff9-be55-eb8afa58c2eb\" class=\"sk-toggleable__label sk-toggleable__label-arrow\">StandardScaler</label><div class=\"sk-toggleable__content\"><pre>StandardScaler()</pre></div></div></div></div></div></div></div></div><div class=\"sk-parallel-item\"><div class=\"sk-item\"><div class=\"sk-label-container\"><div class=\"sk-label sk-toggleable\"><input class=\"sk-toggleable__control sk-hidden--visually\" id=\"2d939379-2696-4a4a-b974-a52637adb70a\" type=\"checkbox\" ><label for=\"2d939379-2696-4a4a-b974-a52637adb70a\" class=\"sk-toggleable__label sk-toggleable__label-arrow\">cat_transformer</label><div class=\"sk-toggleable__content\"><pre>[&#x27;sourceMedium&#x27;]</pre></div></div></div><div class=\"sk-serial\"><div class=\"sk-item\"><div class=\"sk-serial\"><div class=\"sk-item\"><div class=\"sk-estimator sk-toggleable\"><input class=\"sk-toggleable__control sk-hidden--visually\" id=\"081dfbb4-6353-45d8-bda4-958461848d77\" type=\"checkbox\" ><label for=\"081dfbb4-6353-45d8-bda4-958461848d77\" class=\"sk-toggleable__label sk-toggleable__label-arrow\">TargetEncoder</label><div class=\"sk-toggleable__content\"><pre>TargetEncoder()</pre></div></div></div></div></div></div></div></div></div></div><div class=\"sk-item\"><div class=\"sk-estimator sk-toggleable\"><input class=\"sk-toggleable__control sk-hidden--visually\" id=\"f54ebfa7-f8a1-4375-8bcd-f56bbc58a377\" type=\"checkbox\" ><label for=\"f54ebfa7-f8a1-4375-8bcd-f56bbc58a377\" class=\"sk-toggleable__label sk-toggleable__label-arrow\">LogisticRegression</label><div class=\"sk-toggleable__content\"><pre>LogisticRegression(C=10, max_iter=10000, solver=&#x27;newton-cg&#x27;)</pre></div></div></div></div></div></div></div>"
            ]
          },
          "metadata": {},
          "execution_count": 297
        }
      ]
    },
    {
      "cell_type": "code",
      "source": [
        "logistic_precision_test_predict=logistic_precision_test.predict(X_test[reduced_features])"
      ],
      "metadata": {
        "id": "yi4Hv7jwssnf"
      },
      "execution_count": 298,
      "outputs": []
    },
    {
      "cell_type": "code",
      "source": [
        "print(classification_report(logistic_precision_test_predict,Y_test))"
      ],
      "metadata": {
        "colab": {
          "base_uri": "https://localhost:8080/"
        },
        "id": "S7PkFmbEss-u",
        "outputId": "cccbef1a-3662-4697-c38e-293eba78bd25"
      },
      "execution_count": 299,
      "outputs": [
        {
          "output_type": "stream",
          "name": "stdout",
          "text": [
            "              precision    recall  f1-score   support\n",
            "\n",
            "           0       0.70      0.97      0.81      7204\n",
            "           1       0.64      0.11      0.18      3362\n",
            "\n",
            "    accuracy                           0.70     10566\n",
            "   macro avg       0.67      0.54      0.50     10566\n",
            "weighted avg       0.68      0.70      0.61     10566\n",
            "\n"
          ]
        }
      ]
    },
    {
      "cell_type": "markdown",
      "source": [
        "We Observe that after reducing the features from top 15 to top 10, there is not much change in test precision score. Thus even if we take only Top 10 Features, the precision score remains in +/-2 % variance."
      ],
      "metadata": {
        "id": "ENPxSgHEtE_P"
      }
    },
    {
      "cell_type": "markdown",
      "source": [
        "**Final Model for PKL**\n",
        "\n",
        "Model Selected: Logistic Regression\n",
        "\n",
        "Model Param: \n",
        " C= logreg_cv.best_params_['logreg__C'],\n",
        "                          penalty=logreg_cv.best_params_['logreg__penalty'],\n",
        "                          solver=logreg_cv.best_params_['logreg__solver'])\n",
        "\n",
        "Model Encoding:Target Encoding\n",
        "\n",
        "Model Transformer:Scaler Transformer"
      ],
      "metadata": {
        "id": "cMjgb65x4eZ5"
      }
    },
    {
      "cell_type": "markdown",
      "source": [
        "Choosing the best model and its parameters from the above experiments that we got from Grid Search and Creation of pickle file"
      ],
      "metadata": {
        "id": "V7q3yI8fhq2M"
      }
    },
    {
      "cell_type": "code",
      "source": [
        "logreg_final=LogisticRegression(max_iter=10000,\n",
        "                          C= logreg_cv.best_params_['logreg__C'],\n",
        "                          penalty=logreg_cv.best_params_['logreg__penalty'],\n",
        "                          solver=logreg_cv.best_params_['logreg__solver'])\n",
        "logistic_final = Pipeline(steps=[('preprocessor', preprocessor),\n",
        "                          ('logreg', logreg_final)])"
      ],
      "metadata": {
        "id": "bRgZiHslhqG0"
      },
      "execution_count": 247,
      "outputs": []
    },
    {
      "cell_type": "code",
      "source": [
        "logistic_final.fit(X_train_sampled_1[feature_selected],X_train_sampled_1['converted'])"
      ],
      "metadata": {
        "colab": {
          "base_uri": "https://localhost:8080/",
          "height": 192
        },
        "id": "oaBOwGJNh_YQ",
        "outputId": "05f71cdc-932e-4b37-8dbc-6b5021a2b76d"
      },
      "execution_count": 260,
      "outputs": [
        {
          "output_type": "execute_result",
          "data": {
            "text/plain": [
              "Pipeline(steps=[('preprocessor',\n",
              "                 ColumnTransformer(transformers=[('num_transformer',\n",
              "                                                  Pipeline(steps=[('scaler',\n",
              "                                                                   StandardScaler())]),\n",
              "                                                  ['visited_successbookdemo',\n",
              "                                                   'demo_page_top', 'newUser',\n",
              "                                                   'goal4Completions',\n",
              "                                                   'fired_DemoReqPg_CallClicks_evt',\n",
              "                                                   'sessionDuration',\n",
              "                                                   'pageviews',\n",
              "                                                   'DemoReqPg_CallClicks_evt_count',\n",
              "                                                   'paid',\n",
              "                                                   'successbookdemo_top',\n",
              "                                                   'sessions',\n",
              "                                                   'visited_demo_page',\n",
              "                                                   'bounces']),\n",
              "                                                 ('cat_transformer',\n",
              "                                                  Pipeline(steps=[('target',\n",
              "                                                                   TargetEncoder())]),\n",
              "                                                  ['region',\n",
              "                                                   'sourceMedium'])])),\n",
              "                ('logreg',\n",
              "                 LogisticRegression(C=10, max_iter=10000, solver='newton-cg'))])"
            ],
            "text/html": [
              "<style>#sk-76602859-e52c-41cc-80b6-3c544de44e86 {color: black;background-color: white;}#sk-76602859-e52c-41cc-80b6-3c544de44e86 pre{padding: 0;}#sk-76602859-e52c-41cc-80b6-3c544de44e86 div.sk-toggleable {background-color: white;}#sk-76602859-e52c-41cc-80b6-3c544de44e86 label.sk-toggleable__label {cursor: pointer;display: block;width: 100%;margin-bottom: 0;padding: 0.3em;box-sizing: border-box;text-align: center;}#sk-76602859-e52c-41cc-80b6-3c544de44e86 label.sk-toggleable__label-arrow:before {content: \"▸\";float: left;margin-right: 0.25em;color: #696969;}#sk-76602859-e52c-41cc-80b6-3c544de44e86 label.sk-toggleable__label-arrow:hover:before {color: black;}#sk-76602859-e52c-41cc-80b6-3c544de44e86 div.sk-estimator:hover label.sk-toggleable__label-arrow:before {color: black;}#sk-76602859-e52c-41cc-80b6-3c544de44e86 div.sk-toggleable__content {max-height: 0;max-width: 0;overflow: hidden;text-align: left;background-color: #f0f8ff;}#sk-76602859-e52c-41cc-80b6-3c544de44e86 div.sk-toggleable__content pre {margin: 0.2em;color: black;border-radius: 0.25em;background-color: #f0f8ff;}#sk-76602859-e52c-41cc-80b6-3c544de44e86 input.sk-toggleable__control:checked~div.sk-toggleable__content {max-height: 200px;max-width: 100%;overflow: auto;}#sk-76602859-e52c-41cc-80b6-3c544de44e86 input.sk-toggleable__control:checked~label.sk-toggleable__label-arrow:before {content: \"▾\";}#sk-76602859-e52c-41cc-80b6-3c544de44e86 div.sk-estimator input.sk-toggleable__control:checked~label.sk-toggleable__label {background-color: #d4ebff;}#sk-76602859-e52c-41cc-80b6-3c544de44e86 div.sk-label input.sk-toggleable__control:checked~label.sk-toggleable__label {background-color: #d4ebff;}#sk-76602859-e52c-41cc-80b6-3c544de44e86 input.sk-hidden--visually {border: 0;clip: rect(1px 1px 1px 1px);clip: rect(1px, 1px, 1px, 1px);height: 1px;margin: -1px;overflow: hidden;padding: 0;position: absolute;width: 1px;}#sk-76602859-e52c-41cc-80b6-3c544de44e86 div.sk-estimator {font-family: monospace;background-color: #f0f8ff;border: 1px dotted black;border-radius: 0.25em;box-sizing: border-box;margin-bottom: 0.5em;}#sk-76602859-e52c-41cc-80b6-3c544de44e86 div.sk-estimator:hover {background-color: #d4ebff;}#sk-76602859-e52c-41cc-80b6-3c544de44e86 div.sk-parallel-item::after {content: \"\";width: 100%;border-bottom: 1px solid gray;flex-grow: 1;}#sk-76602859-e52c-41cc-80b6-3c544de44e86 div.sk-label:hover label.sk-toggleable__label {background-color: #d4ebff;}#sk-76602859-e52c-41cc-80b6-3c544de44e86 div.sk-serial::before {content: \"\";position: absolute;border-left: 1px solid gray;box-sizing: border-box;top: 2em;bottom: 0;left: 50%;}#sk-76602859-e52c-41cc-80b6-3c544de44e86 div.sk-serial {display: flex;flex-direction: column;align-items: center;background-color: white;padding-right: 0.2em;padding-left: 0.2em;}#sk-76602859-e52c-41cc-80b6-3c544de44e86 div.sk-item {z-index: 1;}#sk-76602859-e52c-41cc-80b6-3c544de44e86 div.sk-parallel {display: flex;align-items: stretch;justify-content: center;background-color: white;}#sk-76602859-e52c-41cc-80b6-3c544de44e86 div.sk-parallel::before {content: \"\";position: absolute;border-left: 1px solid gray;box-sizing: border-box;top: 2em;bottom: 0;left: 50%;}#sk-76602859-e52c-41cc-80b6-3c544de44e86 div.sk-parallel-item {display: flex;flex-direction: column;position: relative;background-color: white;}#sk-76602859-e52c-41cc-80b6-3c544de44e86 div.sk-parallel-item:first-child::after {align-self: flex-end;width: 50%;}#sk-76602859-e52c-41cc-80b6-3c544de44e86 div.sk-parallel-item:last-child::after {align-self: flex-start;width: 50%;}#sk-76602859-e52c-41cc-80b6-3c544de44e86 div.sk-parallel-item:only-child::after {width: 0;}#sk-76602859-e52c-41cc-80b6-3c544de44e86 div.sk-dashed-wrapped {border: 1px dashed gray;margin: 0 0.4em 0.5em 0.4em;box-sizing: border-box;padding-bottom: 0.4em;background-color: white;position: relative;}#sk-76602859-e52c-41cc-80b6-3c544de44e86 div.sk-label label {font-family: monospace;font-weight: bold;background-color: white;display: inline-block;line-height: 1.2em;}#sk-76602859-e52c-41cc-80b6-3c544de44e86 div.sk-label-container {position: relative;z-index: 2;text-align: center;}#sk-76602859-e52c-41cc-80b6-3c544de44e86 div.sk-container {/* jupyter's `normalize.less` sets `[hidden] { display: none; }` but bootstrap.min.css set `[hidden] { display: none !important; }` so we also need the `!important` here to be able to override the default hidden behavior on the sphinx rendered scikit-learn.org. See: https://github.com/scikit-learn/scikit-learn/issues/21755 */display: inline-block !important;position: relative;}#sk-76602859-e52c-41cc-80b6-3c544de44e86 div.sk-text-repr-fallback {display: none;}</style><div id=\"sk-76602859-e52c-41cc-80b6-3c544de44e86\" class=\"sk-top-container\"><div class=\"sk-text-repr-fallback\"><pre>Pipeline(steps=[(&#x27;preprocessor&#x27;,\n",
              "                 ColumnTransformer(transformers=[(&#x27;num_transformer&#x27;,\n",
              "                                                  Pipeline(steps=[(&#x27;scaler&#x27;,\n",
              "                                                                   StandardScaler())]),\n",
              "                                                  [&#x27;visited_successbookdemo&#x27;,\n",
              "                                                   &#x27;demo_page_top&#x27;, &#x27;newUser&#x27;,\n",
              "                                                   &#x27;goal4Completions&#x27;,\n",
              "                                                   &#x27;fired_DemoReqPg_CallClicks_evt&#x27;,\n",
              "                                                   &#x27;sessionDuration&#x27;,\n",
              "                                                   &#x27;pageviews&#x27;,\n",
              "                                                   &#x27;DemoReqPg_CallClicks_evt_count&#x27;,\n",
              "                                                   &#x27;paid&#x27;,\n",
              "                                                   &#x27;successbookdemo_top&#x27;,\n",
              "                                                   &#x27;sessions&#x27;,\n",
              "                                                   &#x27;visited_demo_page&#x27;,\n",
              "                                                   &#x27;bounces&#x27;]),\n",
              "                                                 (&#x27;cat_transformer&#x27;,\n",
              "                                                  Pipeline(steps=[(&#x27;target&#x27;,\n",
              "                                                                   TargetEncoder())]),\n",
              "                                                  [&#x27;region&#x27;,\n",
              "                                                   &#x27;sourceMedium&#x27;])])),\n",
              "                (&#x27;logreg&#x27;,\n",
              "                 LogisticRegression(C=10, max_iter=10000, solver=&#x27;newton-cg&#x27;))])</pre><b>Please rerun this cell to show the HTML repr or trust the notebook.</b></div><div class=\"sk-container\" hidden><div class=\"sk-item sk-dashed-wrapped\"><div class=\"sk-label-container\"><div class=\"sk-label sk-toggleable\"><input class=\"sk-toggleable__control sk-hidden--visually\" id=\"d0c423b8-9e46-4777-80ba-ed466e508ab1\" type=\"checkbox\" ><label for=\"d0c423b8-9e46-4777-80ba-ed466e508ab1\" class=\"sk-toggleable__label sk-toggleable__label-arrow\">Pipeline</label><div class=\"sk-toggleable__content\"><pre>Pipeline(steps=[(&#x27;preprocessor&#x27;,\n",
              "                 ColumnTransformer(transformers=[(&#x27;num_transformer&#x27;,\n",
              "                                                  Pipeline(steps=[(&#x27;scaler&#x27;,\n",
              "                                                                   StandardScaler())]),\n",
              "                                                  [&#x27;visited_successbookdemo&#x27;,\n",
              "                                                   &#x27;demo_page_top&#x27;, &#x27;newUser&#x27;,\n",
              "                                                   &#x27;goal4Completions&#x27;,\n",
              "                                                   &#x27;fired_DemoReqPg_CallClicks_evt&#x27;,\n",
              "                                                   &#x27;sessionDuration&#x27;,\n",
              "                                                   &#x27;pageviews&#x27;,\n",
              "                                                   &#x27;DemoReqPg_CallClicks_evt_count&#x27;,\n",
              "                                                   &#x27;paid&#x27;,\n",
              "                                                   &#x27;successbookdemo_top&#x27;,\n",
              "                                                   &#x27;sessions&#x27;,\n",
              "                                                   &#x27;visited_demo_page&#x27;,\n",
              "                                                   &#x27;bounces&#x27;]),\n",
              "                                                 (&#x27;cat_transformer&#x27;,\n",
              "                                                  Pipeline(steps=[(&#x27;target&#x27;,\n",
              "                                                                   TargetEncoder())]),\n",
              "                                                  [&#x27;region&#x27;,\n",
              "                                                   &#x27;sourceMedium&#x27;])])),\n",
              "                (&#x27;logreg&#x27;,\n",
              "                 LogisticRegression(C=10, max_iter=10000, solver=&#x27;newton-cg&#x27;))])</pre></div></div></div><div class=\"sk-serial\"><div class=\"sk-item sk-dashed-wrapped\"><div class=\"sk-label-container\"><div class=\"sk-label sk-toggleable\"><input class=\"sk-toggleable__control sk-hidden--visually\" id=\"f1308421-733f-4065-85eb-a9ea62644b52\" type=\"checkbox\" ><label for=\"f1308421-733f-4065-85eb-a9ea62644b52\" class=\"sk-toggleable__label sk-toggleable__label-arrow\">preprocessor: ColumnTransformer</label><div class=\"sk-toggleable__content\"><pre>ColumnTransformer(transformers=[(&#x27;num_transformer&#x27;,\n",
              "                                 Pipeline(steps=[(&#x27;scaler&#x27;, StandardScaler())]),\n",
              "                                 [&#x27;visited_successbookdemo&#x27;, &#x27;demo_page_top&#x27;,\n",
              "                                  &#x27;newUser&#x27;, &#x27;goal4Completions&#x27;,\n",
              "                                  &#x27;fired_DemoReqPg_CallClicks_evt&#x27;,\n",
              "                                  &#x27;sessionDuration&#x27;, &#x27;pageviews&#x27;,\n",
              "                                  &#x27;DemoReqPg_CallClicks_evt_count&#x27;, &#x27;paid&#x27;,\n",
              "                                  &#x27;successbookdemo_top&#x27;, &#x27;sessions&#x27;,\n",
              "                                  &#x27;visited_demo_page&#x27;, &#x27;bounces&#x27;]),\n",
              "                                (&#x27;cat_transformer&#x27;,\n",
              "                                 Pipeline(steps=[(&#x27;target&#x27;, TargetEncoder())]),\n",
              "                                 [&#x27;region&#x27;, &#x27;sourceMedium&#x27;])])</pre></div></div></div><div class=\"sk-parallel\"><div class=\"sk-parallel-item\"><div class=\"sk-item\"><div class=\"sk-label-container\"><div class=\"sk-label sk-toggleable\"><input class=\"sk-toggleable__control sk-hidden--visually\" id=\"47fb09c4-256e-4ebe-b604-733462bd5a51\" type=\"checkbox\" ><label for=\"47fb09c4-256e-4ebe-b604-733462bd5a51\" class=\"sk-toggleable__label sk-toggleable__label-arrow\">num_transformer</label><div class=\"sk-toggleable__content\"><pre>[&#x27;visited_successbookdemo&#x27;, &#x27;demo_page_top&#x27;, &#x27;newUser&#x27;, &#x27;goal4Completions&#x27;, &#x27;fired_DemoReqPg_CallClicks_evt&#x27;, &#x27;sessionDuration&#x27;, &#x27;pageviews&#x27;, &#x27;DemoReqPg_CallClicks_evt_count&#x27;, &#x27;paid&#x27;, &#x27;successbookdemo_top&#x27;, &#x27;sessions&#x27;, &#x27;visited_demo_page&#x27;, &#x27;bounces&#x27;]</pre></div></div></div><div class=\"sk-serial\"><div class=\"sk-item\"><div class=\"sk-serial\"><div class=\"sk-item\"><div class=\"sk-estimator sk-toggleable\"><input class=\"sk-toggleable__control sk-hidden--visually\" id=\"ec433994-cbd7-4247-b530-235b01c8181e\" type=\"checkbox\" ><label for=\"ec433994-cbd7-4247-b530-235b01c8181e\" class=\"sk-toggleable__label sk-toggleable__label-arrow\">StandardScaler</label><div class=\"sk-toggleable__content\"><pre>StandardScaler()</pre></div></div></div></div></div></div></div></div><div class=\"sk-parallel-item\"><div class=\"sk-item\"><div class=\"sk-label-container\"><div class=\"sk-label sk-toggleable\"><input class=\"sk-toggleable__control sk-hidden--visually\" id=\"4382f836-1d5b-4fc3-b5d2-ae7767aae822\" type=\"checkbox\" ><label for=\"4382f836-1d5b-4fc3-b5d2-ae7767aae822\" class=\"sk-toggleable__label sk-toggleable__label-arrow\">cat_transformer</label><div class=\"sk-toggleable__content\"><pre>[&#x27;region&#x27;, &#x27;sourceMedium&#x27;]</pre></div></div></div><div class=\"sk-serial\"><div class=\"sk-item\"><div class=\"sk-serial\"><div class=\"sk-item\"><div class=\"sk-estimator sk-toggleable\"><input class=\"sk-toggleable__control sk-hidden--visually\" id=\"4ad72212-e85d-4b7f-9c2e-8682926d278e\" type=\"checkbox\" ><label for=\"4ad72212-e85d-4b7f-9c2e-8682926d278e\" class=\"sk-toggleable__label sk-toggleable__label-arrow\">TargetEncoder</label><div class=\"sk-toggleable__content\"><pre>TargetEncoder()</pre></div></div></div></div></div></div></div></div></div></div><div class=\"sk-item\"><div class=\"sk-estimator sk-toggleable\"><input class=\"sk-toggleable__control sk-hidden--visually\" id=\"acf294b1-5b31-43a0-b085-0d39dcdca91c\" type=\"checkbox\" ><label for=\"acf294b1-5b31-43a0-b085-0d39dcdca91c\" class=\"sk-toggleable__label sk-toggleable__label-arrow\">LogisticRegression</label><div class=\"sk-toggleable__content\"><pre>LogisticRegression(C=10, max_iter=10000, solver=&#x27;newton-cg&#x27;)</pre></div></div></div></div></div></div></div>"
            ]
          },
          "metadata": {},
          "execution_count": 260
        }
      ]
    },
    {
      "cell_type": "code",
      "source": [
        "final_predict=logistic_final.predict(X_test[feature_selected])"
      ],
      "metadata": {
        "id": "O4MTtBO-j08q"
      },
      "execution_count": 261,
      "outputs": []
    },
    {
      "cell_type": "code",
      "source": [
        "print(classification_report(final_predict,Y_test))"
      ],
      "metadata": {
        "colab": {
          "base_uri": "https://localhost:8080/"
        },
        "id": "tgLMlxtLj_Mv",
        "outputId": "b5b64d72-6256-4bc8-b9b0-a9390cb0ac21"
      },
      "execution_count": 262,
      "outputs": [
        {
          "output_type": "stream",
          "name": "stdout",
          "text": [
            "              precision    recall  f1-score   support\n",
            "\n",
            "           0       0.70      0.97      0.81      7224\n",
            "           1       0.63      0.11      0.18      3342\n",
            "\n",
            "    accuracy                           0.70     10566\n",
            "   macro avg       0.67      0.54      0.50     10566\n",
            "weighted avg       0.68      0.70      0.61     10566\n",
            "\n"
          ]
        }
      ]
    },
    {
      "cell_type": "code",
      "source": [
        "acc_metric=classification_report(final_predict,Y_test,output_dict=True)\n",
        "precision=acc_metric['1']['precision']\n",
        "precision"
      ],
      "metadata": {
        "colab": {
          "base_uri": "https://localhost:8080/"
        },
        "id": "IjCN7gHNk3ix",
        "outputId": "947d259e-387f-4858-9448-2b43b27d1e16"
      },
      "execution_count": 270,
      "outputs": [
        {
          "output_type": "execute_result",
          "data": {
            "text/plain": [
              "0.6329787234042553"
            ]
          },
          "metadata": {},
          "execution_count": 270
        }
      ]
    },
    {
      "cell_type": "code",
      "source": [
        "class EurekaPredictionModel():\n",
        "    \n",
        "    def __init__(self, model, features, precision):\n",
        "        self.model = model\n",
        "        self.features = features\n",
        "        self.precision = precision"
      ],
      "metadata": {
        "id": "9MmL6NoDl491"
      },
      "execution_count": 269,
      "outputs": []
    },
    {
      "cell_type": "code",
      "source": [
        "my_model = EurekaPredictionModel(logistic_final, feature_selected, precision)"
      ],
      "metadata": {
        "id": "k5VKiV-Dl8jR"
      },
      "execution_count": 271,
      "outputs": []
    },
    {
      "cell_type": "code",
      "source": [
        "from joblib import dump"
      ],
      "metadata": {
        "id": "c5lQinvCmVKu"
      },
      "execution_count": 272,
      "outputs": []
    },
    {
      "cell_type": "code",
      "source": [
        "dump(my_model, './eureka_v1.pkl')"
      ],
      "metadata": {
        "colab": {
          "base_uri": "https://localhost:8080/"
        },
        "id": "v84hHdkzmYm5",
        "outputId": "f8eba072-7f09-4317-c5c2-a2644d2300ff"
      },
      "execution_count": 273,
      "outputs": [
        {
          "output_type": "execute_result",
          "data": {
            "text/plain": [
              "['./eureka_v1.pkl']"
            ]
          },
          "metadata": {},
          "execution_count": 273
        }
      ]
    },
    {
      "cell_type": "markdown",
      "source": [
        "Validating the PKL file"
      ],
      "metadata": {
        "id": "FShZ3izZuZFc"
      }
    },
    {
      "cell_type": "code",
      "source": [
        "from joblib import load\n",
        "import warnings \n",
        "warnings.filterwarnings(\"ignore\")\n",
        "#from sklearn.externals import joblib for older apis\n",
        "#from sklearn.externals import joblib\n",
        "import sklearn\n",
        "print(sklearn.__version__)"
      ],
      "metadata": {
        "colab": {
          "base_uri": "https://localhost:8080/"
        },
        "id": "EtWZ6VVtmu5T",
        "outputId": "5a2fd8d2-2d73-47d4-9c87-25729d9129a5"
      },
      "execution_count": 274,
      "outputs": [
        {
          "output_type": "stream",
          "name": "stdout",
          "text": [
            "1.0.2\n"
          ]
        }
      ]
    },
    {
      "cell_type": "code",
      "source": [
        "model_v1 = load(\"eureka_v1.pkl\")"
      ],
      "metadata": {
        "id": "8Pww9PDfmms8"
      },
      "execution_count": 275,
      "outputs": []
    },
    {
      "cell_type": "code",
      "source": [
        "model_v1.model"
      ],
      "metadata": {
        "colab": {
          "base_uri": "https://localhost:8080/",
          "height": 215
        },
        "id": "01ROf0fwm09T",
        "outputId": "4d86365f-40e3-4f7e-f3b9-da41e7e0345c"
      },
      "execution_count": 276,
      "outputs": [
        {
          "output_type": "execute_result",
          "data": {
            "text/plain": [
              "Pipeline(steps=[('preprocessor',\n",
              "                 ColumnTransformer(transformers=[('num_transformer',\n",
              "                                                  Pipeline(steps=[('scaler',\n",
              "                                                                   StandardScaler())]),\n",
              "                                                  ['visited_successbookdemo',\n",
              "                                                   'demo_page_top', 'newUser',\n",
              "                                                   'goal4Completions',\n",
              "                                                   'fired_DemoReqPg_CallClicks_evt',\n",
              "                                                   'sessionDuration',\n",
              "                                                   'pageviews',\n",
              "                                                   'DemoReqPg_CallClicks_evt_count',\n",
              "                                                   'paid',\n",
              "                                                   'successbookdemo_top',\n",
              "                                                   'sessions',\n",
              "                                                   'visited_demo_page',\n",
              "                                                   'bounces']),\n",
              "                                                 ('cat_transformer',\n",
              "                                                  Pipeline(steps=[('target',\n",
              "                                                                   TargetEncoder())]),\n",
              "                                                  ['region',\n",
              "                                                   'sourceMedium'])])),\n",
              "                ('logreg',\n",
              "                 LogisticRegression(C=10, max_iter=10000, solver='newton-cg'))])"
            ],
            "text/html": [
              "<style>#sk-012ddb1d-45e3-4ec3-843f-5c41bf807871 {color: black;background-color: white;}#sk-012ddb1d-45e3-4ec3-843f-5c41bf807871 pre{padding: 0;}#sk-012ddb1d-45e3-4ec3-843f-5c41bf807871 div.sk-toggleable {background-color: white;}#sk-012ddb1d-45e3-4ec3-843f-5c41bf807871 label.sk-toggleable__label {cursor: pointer;display: block;width: 100%;margin-bottom: 0;padding: 0.3em;box-sizing: border-box;text-align: center;}#sk-012ddb1d-45e3-4ec3-843f-5c41bf807871 label.sk-toggleable__label-arrow:before {content: \"▸\";float: left;margin-right: 0.25em;color: #696969;}#sk-012ddb1d-45e3-4ec3-843f-5c41bf807871 label.sk-toggleable__label-arrow:hover:before {color: black;}#sk-012ddb1d-45e3-4ec3-843f-5c41bf807871 div.sk-estimator:hover label.sk-toggleable__label-arrow:before {color: black;}#sk-012ddb1d-45e3-4ec3-843f-5c41bf807871 div.sk-toggleable__content {max-height: 0;max-width: 0;overflow: hidden;text-align: left;background-color: #f0f8ff;}#sk-012ddb1d-45e3-4ec3-843f-5c41bf807871 div.sk-toggleable__content pre {margin: 0.2em;color: black;border-radius: 0.25em;background-color: #f0f8ff;}#sk-012ddb1d-45e3-4ec3-843f-5c41bf807871 input.sk-toggleable__control:checked~div.sk-toggleable__content {max-height: 200px;max-width: 100%;overflow: auto;}#sk-012ddb1d-45e3-4ec3-843f-5c41bf807871 input.sk-toggleable__control:checked~label.sk-toggleable__label-arrow:before {content: \"▾\";}#sk-012ddb1d-45e3-4ec3-843f-5c41bf807871 div.sk-estimator input.sk-toggleable__control:checked~label.sk-toggleable__label {background-color: #d4ebff;}#sk-012ddb1d-45e3-4ec3-843f-5c41bf807871 div.sk-label input.sk-toggleable__control:checked~label.sk-toggleable__label {background-color: #d4ebff;}#sk-012ddb1d-45e3-4ec3-843f-5c41bf807871 input.sk-hidden--visually {border: 0;clip: rect(1px 1px 1px 1px);clip: rect(1px, 1px, 1px, 1px);height: 1px;margin: -1px;overflow: hidden;padding: 0;position: absolute;width: 1px;}#sk-012ddb1d-45e3-4ec3-843f-5c41bf807871 div.sk-estimator {font-family: monospace;background-color: #f0f8ff;border: 1px dotted black;border-radius: 0.25em;box-sizing: border-box;margin-bottom: 0.5em;}#sk-012ddb1d-45e3-4ec3-843f-5c41bf807871 div.sk-estimator:hover {background-color: #d4ebff;}#sk-012ddb1d-45e3-4ec3-843f-5c41bf807871 div.sk-parallel-item::after {content: \"\";width: 100%;border-bottom: 1px solid gray;flex-grow: 1;}#sk-012ddb1d-45e3-4ec3-843f-5c41bf807871 div.sk-label:hover label.sk-toggleable__label {background-color: #d4ebff;}#sk-012ddb1d-45e3-4ec3-843f-5c41bf807871 div.sk-serial::before {content: \"\";position: absolute;border-left: 1px solid gray;box-sizing: border-box;top: 2em;bottom: 0;left: 50%;}#sk-012ddb1d-45e3-4ec3-843f-5c41bf807871 div.sk-serial {display: flex;flex-direction: column;align-items: center;background-color: white;padding-right: 0.2em;padding-left: 0.2em;}#sk-012ddb1d-45e3-4ec3-843f-5c41bf807871 div.sk-item {z-index: 1;}#sk-012ddb1d-45e3-4ec3-843f-5c41bf807871 div.sk-parallel {display: flex;align-items: stretch;justify-content: center;background-color: white;}#sk-012ddb1d-45e3-4ec3-843f-5c41bf807871 div.sk-parallel::before {content: \"\";position: absolute;border-left: 1px solid gray;box-sizing: border-box;top: 2em;bottom: 0;left: 50%;}#sk-012ddb1d-45e3-4ec3-843f-5c41bf807871 div.sk-parallel-item {display: flex;flex-direction: column;position: relative;background-color: white;}#sk-012ddb1d-45e3-4ec3-843f-5c41bf807871 div.sk-parallel-item:first-child::after {align-self: flex-end;width: 50%;}#sk-012ddb1d-45e3-4ec3-843f-5c41bf807871 div.sk-parallel-item:last-child::after {align-self: flex-start;width: 50%;}#sk-012ddb1d-45e3-4ec3-843f-5c41bf807871 div.sk-parallel-item:only-child::after {width: 0;}#sk-012ddb1d-45e3-4ec3-843f-5c41bf807871 div.sk-dashed-wrapped {border: 1px dashed gray;margin: 0 0.4em 0.5em 0.4em;box-sizing: border-box;padding-bottom: 0.4em;background-color: white;position: relative;}#sk-012ddb1d-45e3-4ec3-843f-5c41bf807871 div.sk-label label {font-family: monospace;font-weight: bold;background-color: white;display: inline-block;line-height: 1.2em;}#sk-012ddb1d-45e3-4ec3-843f-5c41bf807871 div.sk-label-container {position: relative;z-index: 2;text-align: center;}#sk-012ddb1d-45e3-4ec3-843f-5c41bf807871 div.sk-container {/* jupyter's `normalize.less` sets `[hidden] { display: none; }` but bootstrap.min.css set `[hidden] { display: none !important; }` so we also need the `!important` here to be able to override the default hidden behavior on the sphinx rendered scikit-learn.org. See: https://github.com/scikit-learn/scikit-learn/issues/21755 */display: inline-block !important;position: relative;}#sk-012ddb1d-45e3-4ec3-843f-5c41bf807871 div.sk-text-repr-fallback {display: none;}</style><div id=\"sk-012ddb1d-45e3-4ec3-843f-5c41bf807871\" class=\"sk-top-container\"><div class=\"sk-text-repr-fallback\"><pre>Pipeline(steps=[(&#x27;preprocessor&#x27;,\n",
              "                 ColumnTransformer(transformers=[(&#x27;num_transformer&#x27;,\n",
              "                                                  Pipeline(steps=[(&#x27;scaler&#x27;,\n",
              "                                                                   StandardScaler())]),\n",
              "                                                  [&#x27;visited_successbookdemo&#x27;,\n",
              "                                                   &#x27;demo_page_top&#x27;, &#x27;newUser&#x27;,\n",
              "                                                   &#x27;goal4Completions&#x27;,\n",
              "                                                   &#x27;fired_DemoReqPg_CallClicks_evt&#x27;,\n",
              "                                                   &#x27;sessionDuration&#x27;,\n",
              "                                                   &#x27;pageviews&#x27;,\n",
              "                                                   &#x27;DemoReqPg_CallClicks_evt_count&#x27;,\n",
              "                                                   &#x27;paid&#x27;,\n",
              "                                                   &#x27;successbookdemo_top&#x27;,\n",
              "                                                   &#x27;sessions&#x27;,\n",
              "                                                   &#x27;visited_demo_page&#x27;,\n",
              "                                                   &#x27;bounces&#x27;]),\n",
              "                                                 (&#x27;cat_transformer&#x27;,\n",
              "                                                  Pipeline(steps=[(&#x27;target&#x27;,\n",
              "                                                                   TargetEncoder())]),\n",
              "                                                  [&#x27;region&#x27;,\n",
              "                                                   &#x27;sourceMedium&#x27;])])),\n",
              "                (&#x27;logreg&#x27;,\n",
              "                 LogisticRegression(C=10, max_iter=10000, solver=&#x27;newton-cg&#x27;))])</pre><b>Please rerun this cell to show the HTML repr or trust the notebook.</b></div><div class=\"sk-container\" hidden><div class=\"sk-item sk-dashed-wrapped\"><div class=\"sk-label-container\"><div class=\"sk-label sk-toggleable\"><input class=\"sk-toggleable__control sk-hidden--visually\" id=\"2f56df7e-b3d9-46cf-869e-7c3ae1a8e0b7\" type=\"checkbox\" ><label for=\"2f56df7e-b3d9-46cf-869e-7c3ae1a8e0b7\" class=\"sk-toggleable__label sk-toggleable__label-arrow\">Pipeline</label><div class=\"sk-toggleable__content\"><pre>Pipeline(steps=[(&#x27;preprocessor&#x27;,\n",
              "                 ColumnTransformer(transformers=[(&#x27;num_transformer&#x27;,\n",
              "                                                  Pipeline(steps=[(&#x27;scaler&#x27;,\n",
              "                                                                   StandardScaler())]),\n",
              "                                                  [&#x27;visited_successbookdemo&#x27;,\n",
              "                                                   &#x27;demo_page_top&#x27;, &#x27;newUser&#x27;,\n",
              "                                                   &#x27;goal4Completions&#x27;,\n",
              "                                                   &#x27;fired_DemoReqPg_CallClicks_evt&#x27;,\n",
              "                                                   &#x27;sessionDuration&#x27;,\n",
              "                                                   &#x27;pageviews&#x27;,\n",
              "                                                   &#x27;DemoReqPg_CallClicks_evt_count&#x27;,\n",
              "                                                   &#x27;paid&#x27;,\n",
              "                                                   &#x27;successbookdemo_top&#x27;,\n",
              "                                                   &#x27;sessions&#x27;,\n",
              "                                                   &#x27;visited_demo_page&#x27;,\n",
              "                                                   &#x27;bounces&#x27;]),\n",
              "                                                 (&#x27;cat_transformer&#x27;,\n",
              "                                                  Pipeline(steps=[(&#x27;target&#x27;,\n",
              "                                                                   TargetEncoder())]),\n",
              "                                                  [&#x27;region&#x27;,\n",
              "                                                   &#x27;sourceMedium&#x27;])])),\n",
              "                (&#x27;logreg&#x27;,\n",
              "                 LogisticRegression(C=10, max_iter=10000, solver=&#x27;newton-cg&#x27;))])</pre></div></div></div><div class=\"sk-serial\"><div class=\"sk-item sk-dashed-wrapped\"><div class=\"sk-label-container\"><div class=\"sk-label sk-toggleable\"><input class=\"sk-toggleable__control sk-hidden--visually\" id=\"88400f42-7c37-4b00-9321-30f09816fb66\" type=\"checkbox\" ><label for=\"88400f42-7c37-4b00-9321-30f09816fb66\" class=\"sk-toggleable__label sk-toggleable__label-arrow\">preprocessor: ColumnTransformer</label><div class=\"sk-toggleable__content\"><pre>ColumnTransformer(transformers=[(&#x27;num_transformer&#x27;,\n",
              "                                 Pipeline(steps=[(&#x27;scaler&#x27;, StandardScaler())]),\n",
              "                                 [&#x27;visited_successbookdemo&#x27;, &#x27;demo_page_top&#x27;,\n",
              "                                  &#x27;newUser&#x27;, &#x27;goal4Completions&#x27;,\n",
              "                                  &#x27;fired_DemoReqPg_CallClicks_evt&#x27;,\n",
              "                                  &#x27;sessionDuration&#x27;, &#x27;pageviews&#x27;,\n",
              "                                  &#x27;DemoReqPg_CallClicks_evt_count&#x27;, &#x27;paid&#x27;,\n",
              "                                  &#x27;successbookdemo_top&#x27;, &#x27;sessions&#x27;,\n",
              "                                  &#x27;visited_demo_page&#x27;, &#x27;bounces&#x27;]),\n",
              "                                (&#x27;cat_transformer&#x27;,\n",
              "                                 Pipeline(steps=[(&#x27;target&#x27;, TargetEncoder())]),\n",
              "                                 [&#x27;region&#x27;, &#x27;sourceMedium&#x27;])])</pre></div></div></div><div class=\"sk-parallel\"><div class=\"sk-parallel-item\"><div class=\"sk-item\"><div class=\"sk-label-container\"><div class=\"sk-label sk-toggleable\"><input class=\"sk-toggleable__control sk-hidden--visually\" id=\"efe6b403-ae93-48b4-81a2-9293f3cbe3aa\" type=\"checkbox\" ><label for=\"efe6b403-ae93-48b4-81a2-9293f3cbe3aa\" class=\"sk-toggleable__label sk-toggleable__label-arrow\">num_transformer</label><div class=\"sk-toggleable__content\"><pre>[&#x27;visited_successbookdemo&#x27;, &#x27;demo_page_top&#x27;, &#x27;newUser&#x27;, &#x27;goal4Completions&#x27;, &#x27;fired_DemoReqPg_CallClicks_evt&#x27;, &#x27;sessionDuration&#x27;, &#x27;pageviews&#x27;, &#x27;DemoReqPg_CallClicks_evt_count&#x27;, &#x27;paid&#x27;, &#x27;successbookdemo_top&#x27;, &#x27;sessions&#x27;, &#x27;visited_demo_page&#x27;, &#x27;bounces&#x27;]</pre></div></div></div><div class=\"sk-serial\"><div class=\"sk-item\"><div class=\"sk-serial\"><div class=\"sk-item\"><div class=\"sk-estimator sk-toggleable\"><input class=\"sk-toggleable__control sk-hidden--visually\" id=\"f1182154-3f1a-497c-b9e5-f381688ed3fe\" type=\"checkbox\" ><label for=\"f1182154-3f1a-497c-b9e5-f381688ed3fe\" class=\"sk-toggleable__label sk-toggleable__label-arrow\">StandardScaler</label><div class=\"sk-toggleable__content\"><pre>StandardScaler()</pre></div></div></div></div></div></div></div></div><div class=\"sk-parallel-item\"><div class=\"sk-item\"><div class=\"sk-label-container\"><div class=\"sk-label sk-toggleable\"><input class=\"sk-toggleable__control sk-hidden--visually\" id=\"89b1a18a-6752-4681-89d2-6b6b428fedc2\" type=\"checkbox\" ><label for=\"89b1a18a-6752-4681-89d2-6b6b428fedc2\" class=\"sk-toggleable__label sk-toggleable__label-arrow\">cat_transformer</label><div class=\"sk-toggleable__content\"><pre>[&#x27;region&#x27;, &#x27;sourceMedium&#x27;]</pre></div></div></div><div class=\"sk-serial\"><div class=\"sk-item\"><div class=\"sk-serial\"><div class=\"sk-item\"><div class=\"sk-estimator sk-toggleable\"><input class=\"sk-toggleable__control sk-hidden--visually\" id=\"52afbbd3-2aa0-4dca-a015-16f446752c73\" type=\"checkbox\" ><label for=\"52afbbd3-2aa0-4dca-a015-16f446752c73\" class=\"sk-toggleable__label sk-toggleable__label-arrow\">TargetEncoder</label><div class=\"sk-toggleable__content\"><pre>TargetEncoder()</pre></div></div></div></div></div></div></div></div></div></div><div class=\"sk-item\"><div class=\"sk-estimator sk-toggleable\"><input class=\"sk-toggleable__control sk-hidden--visually\" id=\"84138218-288a-4ddd-aaff-3ff046a86236\" type=\"checkbox\" ><label for=\"84138218-288a-4ddd-aaff-3ff046a86236\" class=\"sk-toggleable__label sk-toggleable__label-arrow\">LogisticRegression</label><div class=\"sk-toggleable__content\"><pre>LogisticRegression(C=10, max_iter=10000, solver=&#x27;newton-cg&#x27;)</pre></div></div></div></div></div></div></div>"
            ]
          },
          "metadata": {},
          "execution_count": 276
        }
      ]
    },
    {
      "cell_type": "code",
      "source": [
        "model_v1.model.predict(X_test)"
      ],
      "metadata": {
        "colab": {
          "base_uri": "https://localhost:8080/"
        },
        "id": "RMarXBTNm-rL",
        "outputId": "d8f1a2d8-bcef-40df-e140-187f661a0c57"
      },
      "execution_count": 277,
      "outputs": [
        {
          "output_type": "execute_result",
          "data": {
            "text/plain": [
              "array([0, 0, 0, ..., 0, 0, 1])"
            ]
          },
          "metadata": {},
          "execution_count": 277
        }
      ]
    },
    {
      "cell_type": "code",
      "source": [
        "print(classification_report(model_v1.model.predict(X_test),Y_test))"
      ],
      "metadata": {
        "colab": {
          "base_uri": "https://localhost:8080/"
        },
        "id": "deykbPhunYV5",
        "outputId": "ddf2aaf1-5f35-4f4e-91a0-119069d67ad2"
      },
      "execution_count": 278,
      "outputs": [
        {
          "output_type": "stream",
          "name": "stdout",
          "text": [
            "              precision    recall  f1-score   support\n",
            "\n",
            "           0       0.70      0.97      0.81      7224\n",
            "           1       0.63      0.11      0.18      3342\n",
            "\n",
            "    accuracy                           0.70     10566\n",
            "   macro avg       0.67      0.54      0.50     10566\n",
            "weighted avg       0.68      0.70      0.61     10566\n",
            "\n"
          ]
        }
      ]
    }
  ],
  "metadata": {
    "colab": {
      "collapsed_sections": [],
      "name": "MLSL2_Group_Assignment_Group23.ipynb",
      "provenance": []
    },
    "kernelspec": {
      "display_name": "Python 3",
      "name": "python3"
    },
    "language_info": {
      "name": "python"
    }
  },
  "nbformat": 4,
  "nbformat_minor": 0
}